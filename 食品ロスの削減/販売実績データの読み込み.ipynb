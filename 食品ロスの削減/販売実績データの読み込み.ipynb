{
 "cells": [
  {
   "cell_type": "code",
   "execution_count": 1,
   "id": "46af9334",
   "metadata": {},
   "outputs": [],
   "source": [
    "# ライブラリのインポート\n",
    "import pandas as pd\n",
    "import numpy as np\n",
    "from matplotlib import pyplot as plt "
   ]
  },
  {
   "cell_type": "code",
   "execution_count": 6,
   "id": "ffc211c6",
   "metadata": {},
   "outputs": [
    {
     "name": "stdout",
     "output_type": "stream",
     "text": [
      "(207, 12)\n",
      "(40, 11)\n"
     ]
    }
   ],
   "source": [
    "# 販売実績データを読み込む\n",
    "train = pd.read_csv('train.csv')\n",
    "test = pd.read_csv('test.csv')\n",
    "print(train.shape)\n",
    "print(test.shape)"
   ]
  },
  {
   "cell_type": "code",
   "execution_count": 8,
   "id": "d209bdf2",
   "metadata": {},
   "outputs": [
    {
     "name": "stdout",
     "output_type": "stream",
     "text": [
      "<class 'pandas.core.frame.DataFrame'>\n",
      "RangeIndex: 207 entries, 0 to 206\n",
      "Data columns (total 12 columns):\n",
      " #   Column         Non-Null Count  Dtype  \n",
      "---  ------         --------------  -----  \n",
      " 0   datetime       207 non-null    object \n",
      " 1   y              207 non-null    int64  \n",
      " 2   week           207 non-null    object \n",
      " 3   soldout        207 non-null    int64  \n",
      " 4   name           207 non-null    object \n",
      " 5   kcal           166 non-null    float64\n",
      " 6   remarks        21 non-null     object \n",
      " 7   event          14 non-null     object \n",
      " 8   payday         10 non-null     float64\n",
      " 9   weather        207 non-null    object \n",
      " 10  precipitation  207 non-null    object \n",
      " 11  temperature    207 non-null    float64\n",
      "dtypes: float64(3), int64(2), object(7)\n",
      "memory usage: 19.5+ KB\n",
      "None\n",
      "<class 'pandas.core.frame.DataFrame'>\n",
      "RangeIndex: 40 entries, 0 to 39\n",
      "Data columns (total 11 columns):\n",
      " #   Column         Non-Null Count  Dtype  \n",
      "---  ------         --------------  -----  \n",
      " 0   datetime       40 non-null     object \n",
      " 1   week           40 non-null     object \n",
      " 2   soldout        40 non-null     int64  \n",
      " 3   name           40 non-null     object \n",
      " 4   kcal           36 non-null     float64\n",
      " 5   remarks        7 non-null      object \n",
      " 6   event          3 non-null      object \n",
      " 7   payday         2 non-null      float64\n",
      " 8   weather        40 non-null     object \n",
      " 9   precipitation  40 non-null     object \n",
      " 10  temperature    40 non-null     float64\n",
      "dtypes: float64(3), int64(1), object(7)\n",
      "memory usage: 3.6+ KB\n",
      "None\n"
     ]
    }
   ],
   "source": [
    "# データの情報を確認する\n",
    "print(train.info())\n",
    "print(test.info())\n"
   ]
  },
  {
   "cell_type": "code",
   "execution_count": 10,
   "id": "a564fed5",
   "metadata": {},
   "outputs": [
    {
     "name": "stdout",
     "output_type": "stream",
     "text": [
      "     datetime      y   week  soldout   name   kcal  remarks  event  payday  \\\n",
      "0       False  False  False    False  False   True     True   True    True   \n",
      "1       False  False  False    False  False   True     True   True    True   \n",
      "2       False  False  False    False  False   True     True   True    True   \n",
      "3       False  False  False    False  False   True     True   True    True   \n",
      "4       False  False  False    False  False   True     True   True    True   \n",
      "..        ...    ...    ...      ...    ...    ...      ...    ...     ...   \n",
      "202     False  False  False    False  False  False     True   True    True   \n",
      "203     False  False  False    False  False  False     True   True    True   \n",
      "204     False  False  False    False  False   True    False  False    True   \n",
      "205     False  False  False    False  False  False     True   True    True   \n",
      "206     False  False  False    False  False  False     True   True    True   \n",
      "\n",
      "     weather  precipitation  temperature  \n",
      "0      False          False        False  \n",
      "1      False          False        False  \n",
      "2      False          False        False  \n",
      "3      False          False        False  \n",
      "4      False          False        False  \n",
      "..       ...            ...          ...  \n",
      "202    False          False        False  \n",
      "203    False          False        False  \n",
      "204    False          False        False  \n",
      "205    False          False        False  \n",
      "206    False          False        False  \n",
      "\n",
      "[207 rows x 12 columns]\n",
      "    datetime   week  soldout   name   kcal  remarks  event  payday  weather  \\\n",
      "0      False  False    False  False  False     True   True    True    False   \n",
      "1      False  False    False  False  False     True   True    True    False   \n",
      "2      False  False    False  False  False     True   True    True    False   \n",
      "3      False  False    False  False  False     True   True    True    False   \n",
      "4      False  False    False  False  False     True   True    True    False   \n",
      "5      False  False    False  False  False     True   True    True    False   \n",
      "6      False  False    False  False  False     True  False    True    False   \n",
      "7      False  False    False  False   True    False   True   False    False   \n",
      "8      False  False    False  False  False     True   True    True    False   \n",
      "9      False  False    False  False  False    False   True    True    False   \n",
      "10     False  False    False  False  False     True   True    True    False   \n",
      "11     False  False    False  False  False     True  False    True    False   \n",
      "12     False  False    False  False  False     True   True    True    False   \n",
      "13     False  False    False  False  False     True   True    True    False   \n",
      "14     False  False    False  False  False     True   True    True    False   \n",
      "15     False  False    False  False  False     True   True    True    False   \n",
      "16     False  False    False  False   True    False   True    True    False   \n",
      "17     False  False    False  False  False     True   True    True    False   \n",
      "18     False  False    False  False  False     True   True    True    False   \n",
      "19     False  False    False  False  False     True   True    True    False   \n",
      "20     False  False    False  False  False     True   True    True    False   \n",
      "21     False  False    False  False  False     True   True    True    False   \n",
      "22     False  False    False  False  False     True   True    True    False   \n",
      "23     False  False    False  False  False     True   True    True    False   \n",
      "24     False  False    False  False  False     True   True    True    False   \n",
      "25     False  False    False  False   True    False   True    True    False   \n",
      "26     False  False    False  False  False     True   True   False    False   \n",
      "27     False  False    False  False  False     True   True    True    False   \n",
      "28     False  False    False  False  False     True   True    True    False   \n",
      "29     False  False    False  False  False    False  False    True    False   \n",
      "30     False  False    False  False  False     True   True    True    False   \n",
      "31     False  False    False  False  False     True   True    True    False   \n",
      "32     False  False    False  False  False     True   True    True    False   \n",
      "33     False  False    False  False  False    False   True    True    False   \n",
      "34     False  False    False  False  False     True   True    True    False   \n",
      "35     False  False    False  False   True    False   True    True    False   \n",
      "36     False  False    False  False  False     True   True    True    False   \n",
      "37     False  False    False  False  False     True   True    True    False   \n",
      "38     False  False    False  False  False     True   True    True    False   \n",
      "39     False  False    False  False  False     True   True    True    False   \n",
      "\n",
      "    precipitation  temperature  \n",
      "0           False        False  \n",
      "1           False        False  \n",
      "2           False        False  \n",
      "3           False        False  \n",
      "4           False        False  \n",
      "5           False        False  \n",
      "6           False        False  \n",
      "7           False        False  \n",
      "8           False        False  \n",
      "9           False        False  \n",
      "10          False        False  \n",
      "11          False        False  \n",
      "12          False        False  \n",
      "13          False        False  \n",
      "14          False        False  \n",
      "15          False        False  \n",
      "16          False        False  \n",
      "17          False        False  \n",
      "18          False        False  \n",
      "19          False        False  \n",
      "20          False        False  \n",
      "21          False        False  \n",
      "22          False        False  \n",
      "23          False        False  \n",
      "24          False        False  \n",
      "25          False        False  \n",
      "26          False        False  \n",
      "27          False        False  \n",
      "28          False        False  \n",
      "29          False        False  \n",
      "30          False        False  \n",
      "31          False        False  \n",
      "32          False        False  \n",
      "33          False        False  \n",
      "34          False        False  \n",
      "35          False        False  \n",
      "36          False        False  \n",
      "37          False        False  \n",
      "38          False        False  \n",
      "39          False        False  \n"
     ]
    }
   ],
   "source": [
    "# 欠損値の確認\n",
    "print(train.isnull())\n",
    "print(test.isnull())"
   ]
  },
  {
   "cell_type": "code",
   "execution_count": 12,
   "id": "54e040bc",
   "metadata": {},
   "outputs": [
    {
     "name": "stdout",
     "output_type": "stream",
     "text": [
      "datetime           0\n",
      "y                  0\n",
      "week               0\n",
      "soldout            0\n",
      "name               0\n",
      "kcal              41\n",
      "remarks          186\n",
      "event            193\n",
      "payday           197\n",
      "weather            0\n",
      "precipitation      0\n",
      "temperature        0\n",
      "dtype: int64\n",
      "datetime          0\n",
      "week              0\n",
      "soldout           0\n",
      "name              0\n",
      "kcal              4\n",
      "remarks          33\n",
      "event            37\n",
      "payday           38\n",
      "weather           0\n",
      "precipitation     0\n",
      "temperature       0\n",
      "dtype: int64\n"
     ]
    }
   ],
   "source": [
    "# 欠損値の数を確認する\n",
    "print(train.isnull().sum())\n",
    "print(test.isnull().sum())"
   ]
  },
  {
   "cell_type": "code",
   "execution_count": 15,
   "id": "e207f121",
   "metadata": {},
   "outputs": [
    {
     "name": "stdout",
     "output_type": "stream",
     "text": [
      "お楽しみメニュー                    12\n",
      "料理長のこだわりメニュー                 5\n",
      "鶏のレモンペッパー焼（50食）、カレー（42食）     1\n",
      "酢豚（28食）、カレー（85食）             1\n",
      "手作りの味                        1\n",
      "スペシャルメニュー（800円）              1\n",
      "Name: remarks, dtype: int64\n",
      "メンチカツ            6\n",
      "タンドリーチキン         6\n",
      "手作りロースカツ         5\n",
      "鶏の唐揚げおろしソース      4\n",
      "回鍋肉              4\n",
      "                ..\n",
      "白身魚唐揚げ野菜あんかけ     1\n",
      "ポークハヤシ           1\n",
      "酢豚orカレー          1\n",
      "ハンバーグ和風きのこソース    1\n",
      "鶏肉とカシューナッツ炒め     1\n",
      "Name: name, Length: 156, dtype: int64\n",
      "ママの会             9\n",
      "キャリアアップ支援セミナー    5\n",
      "Name: event, dtype: int64\n",
      "1.0    10\n",
      "Name: payday, dtype: int64\n"
     ]
    }
   ],
   "source": [
    "# 欠損値のあるカラムに入っているデータを確認する\n",
    "print(train['remarks'].value_counts())\n",
    "print(train['name'].value_counts())\n",
    "print(train['event'].value_counts())\n",
    "print(train['payday'].value_counts())"
   ]
  },
  {
   "cell_type": "code",
   "execution_count": 19,
   "id": "b630786d",
   "metadata": {},
   "outputs": [
    {
     "ename": "KeyError",
     "evalue": "'[True, True, True, True, True, True, True, True, True, True, True, True, True, True, True, True, True, True, True, True, True, True, True, True, True, True, True, True, True, True, True, True, True, True, True, True, True, True, True, True, False, True, True, True, True, True, True, True, True, True, True, True, True, True, True, True, True, True, True, False, True, True, True, True, True, True, True, True, True, True, True, True, True, True, True, True, True, True, True, True, True, True, True, False, True, True, True, True, True, True, True, True, True, False, True, True, True, True, True, True, True, True, True, False, True, True, True, True, True, True, True, True, True, True, True, False, True, True, True, False, True, True, True, True, True, False, True, True, True, True, True, True, True, True, True, False, True, True, False, True, True, True, True, True, True, False, True, True, True, True, True, True, True, False, True, False, True, True, True, True, True, True, True, True, False, True, True, True, True, True, True, True, True, True, False, True, True, True, True, False, True, False, True, True, True, True, True, True, False, True, True, True, True, True, True, True, False, True, False, True, True, True, True, True, False, True, True] not found in axis'",
     "output_type": "error",
     "traceback": [
      "\u001b[1;31m---------------------------------------------------------------------------\u001b[0m",
      "\u001b[1;31mKeyError\u001b[0m                                  Traceback (most recent call last)",
      "Input \u001b[1;32mIn [19]\u001b[0m, in \u001b[0;36m<cell line: 1>\u001b[1;34m()\u001b[0m\n\u001b[1;32m----> 1\u001b[0m train_name \u001b[38;5;241m=\u001b[39m \u001b[43mtrain\u001b[49m\u001b[38;5;241;43m.\u001b[39;49m\u001b[43mdrop\u001b[49m\u001b[43m(\u001b[49m\u001b[43mtrain\u001b[49m\u001b[43m[\u001b[49m\u001b[38;5;124;43m'\u001b[39;49m\u001b[38;5;124;43mremarks\u001b[39;49m\u001b[38;5;124;43m'\u001b[39;49m\u001b[43m]\u001b[49m\u001b[38;5;241;43m.\u001b[39;49m\u001b[43misnull\u001b[49m\u001b[43m(\u001b[49m\u001b[43m)\u001b[49m\u001b[43m,\u001b[49m\u001b[43maxis\u001b[49m\u001b[38;5;241;43m=\u001b[39;49m\u001b[38;5;241;43m0\u001b[39;49m\u001b[43m)\u001b[49m\n\u001b[0;32m      2\u001b[0m \u001b[38;5;28mprint\u001b[39m(train_name)\n",
      "File \u001b[1;32mC:\\ProgramData\\Anaconda3\\lib\\site-packages\\pandas\\util\\_decorators.py:311\u001b[0m, in \u001b[0;36mdeprecate_nonkeyword_arguments.<locals>.decorate.<locals>.wrapper\u001b[1;34m(*args, **kwargs)\u001b[0m\n\u001b[0;32m    305\u001b[0m \u001b[38;5;28;01mif\u001b[39;00m \u001b[38;5;28mlen\u001b[39m(args) \u001b[38;5;241m>\u001b[39m num_allow_args:\n\u001b[0;32m    306\u001b[0m     warnings\u001b[38;5;241m.\u001b[39mwarn(\n\u001b[0;32m    307\u001b[0m         msg\u001b[38;5;241m.\u001b[39mformat(arguments\u001b[38;5;241m=\u001b[39marguments),\n\u001b[0;32m    308\u001b[0m         \u001b[38;5;167;01mFutureWarning\u001b[39;00m,\n\u001b[0;32m    309\u001b[0m         stacklevel\u001b[38;5;241m=\u001b[39mstacklevel,\n\u001b[0;32m    310\u001b[0m     )\n\u001b[1;32m--> 311\u001b[0m \u001b[38;5;28;01mreturn\u001b[39;00m func(\u001b[38;5;241m*\u001b[39margs, \u001b[38;5;241m*\u001b[39m\u001b[38;5;241m*\u001b[39mkwargs)\n",
      "File \u001b[1;32mC:\\ProgramData\\Anaconda3\\lib\\site-packages\\pandas\\core\\frame.py:4957\u001b[0m, in \u001b[0;36mDataFrame.drop\u001b[1;34m(self, labels, axis, index, columns, level, inplace, errors)\u001b[0m\n\u001b[0;32m   4809\u001b[0m \u001b[38;5;129m@deprecate_nonkeyword_arguments\u001b[39m(version\u001b[38;5;241m=\u001b[39m\u001b[38;5;28;01mNone\u001b[39;00m, allowed_args\u001b[38;5;241m=\u001b[39m[\u001b[38;5;124m\"\u001b[39m\u001b[38;5;124mself\u001b[39m\u001b[38;5;124m\"\u001b[39m, \u001b[38;5;124m\"\u001b[39m\u001b[38;5;124mlabels\u001b[39m\u001b[38;5;124m\"\u001b[39m])\n\u001b[0;32m   4810\u001b[0m \u001b[38;5;28;01mdef\u001b[39;00m \u001b[38;5;21mdrop\u001b[39m(\n\u001b[0;32m   4811\u001b[0m     \u001b[38;5;28mself\u001b[39m,\n\u001b[1;32m   (...)\u001b[0m\n\u001b[0;32m   4818\u001b[0m     errors: \u001b[38;5;28mstr\u001b[39m \u001b[38;5;241m=\u001b[39m \u001b[38;5;124m\"\u001b[39m\u001b[38;5;124mraise\u001b[39m\u001b[38;5;124m\"\u001b[39m,\n\u001b[0;32m   4819\u001b[0m ):\n\u001b[0;32m   4820\u001b[0m     \u001b[38;5;124;03m\"\"\"\u001b[39;00m\n\u001b[0;32m   4821\u001b[0m \u001b[38;5;124;03m    Drop specified labels from rows or columns.\u001b[39;00m\n\u001b[0;32m   4822\u001b[0m \n\u001b[1;32m   (...)\u001b[0m\n\u001b[0;32m   4955\u001b[0m \u001b[38;5;124;03m            weight  1.0     0.8\u001b[39;00m\n\u001b[0;32m   4956\u001b[0m \u001b[38;5;124;03m    \"\"\"\u001b[39;00m\n\u001b[1;32m-> 4957\u001b[0m     \u001b[38;5;28;01mreturn\u001b[39;00m \u001b[38;5;28;43msuper\u001b[39;49m\u001b[43m(\u001b[49m\u001b[43m)\u001b[49m\u001b[38;5;241;43m.\u001b[39;49m\u001b[43mdrop\u001b[49m\u001b[43m(\u001b[49m\n\u001b[0;32m   4958\u001b[0m \u001b[43m        \u001b[49m\u001b[43mlabels\u001b[49m\u001b[38;5;241;43m=\u001b[39;49m\u001b[43mlabels\u001b[49m\u001b[43m,\u001b[49m\n\u001b[0;32m   4959\u001b[0m \u001b[43m        \u001b[49m\u001b[43maxis\u001b[49m\u001b[38;5;241;43m=\u001b[39;49m\u001b[43maxis\u001b[49m\u001b[43m,\u001b[49m\n\u001b[0;32m   4960\u001b[0m \u001b[43m        \u001b[49m\u001b[43mindex\u001b[49m\u001b[38;5;241;43m=\u001b[39;49m\u001b[43mindex\u001b[49m\u001b[43m,\u001b[49m\n\u001b[0;32m   4961\u001b[0m \u001b[43m        \u001b[49m\u001b[43mcolumns\u001b[49m\u001b[38;5;241;43m=\u001b[39;49m\u001b[43mcolumns\u001b[49m\u001b[43m,\u001b[49m\n\u001b[0;32m   4962\u001b[0m \u001b[43m        \u001b[49m\u001b[43mlevel\u001b[49m\u001b[38;5;241;43m=\u001b[39;49m\u001b[43mlevel\u001b[49m\u001b[43m,\u001b[49m\n\u001b[0;32m   4963\u001b[0m \u001b[43m        \u001b[49m\u001b[43minplace\u001b[49m\u001b[38;5;241;43m=\u001b[39;49m\u001b[43minplace\u001b[49m\u001b[43m,\u001b[49m\n\u001b[0;32m   4964\u001b[0m \u001b[43m        \u001b[49m\u001b[43merrors\u001b[49m\u001b[38;5;241;43m=\u001b[39;49m\u001b[43merrors\u001b[49m\u001b[43m,\u001b[49m\n\u001b[0;32m   4965\u001b[0m \u001b[43m    \u001b[49m\u001b[43m)\u001b[49m\n",
      "File \u001b[1;32mC:\\ProgramData\\Anaconda3\\lib\\site-packages\\pandas\\core\\generic.py:4267\u001b[0m, in \u001b[0;36mNDFrame.drop\u001b[1;34m(self, labels, axis, index, columns, level, inplace, errors)\u001b[0m\n\u001b[0;32m   4265\u001b[0m \u001b[38;5;28;01mfor\u001b[39;00m axis, labels \u001b[38;5;129;01min\u001b[39;00m axes\u001b[38;5;241m.\u001b[39mitems():\n\u001b[0;32m   4266\u001b[0m     \u001b[38;5;28;01mif\u001b[39;00m labels \u001b[38;5;129;01mis\u001b[39;00m \u001b[38;5;129;01mnot\u001b[39;00m \u001b[38;5;28;01mNone\u001b[39;00m:\n\u001b[1;32m-> 4267\u001b[0m         obj \u001b[38;5;241m=\u001b[39m \u001b[43mobj\u001b[49m\u001b[38;5;241;43m.\u001b[39;49m\u001b[43m_drop_axis\u001b[49m\u001b[43m(\u001b[49m\u001b[43mlabels\u001b[49m\u001b[43m,\u001b[49m\u001b[43m \u001b[49m\u001b[43maxis\u001b[49m\u001b[43m,\u001b[49m\u001b[43m \u001b[49m\u001b[43mlevel\u001b[49m\u001b[38;5;241;43m=\u001b[39;49m\u001b[43mlevel\u001b[49m\u001b[43m,\u001b[49m\u001b[43m \u001b[49m\u001b[43merrors\u001b[49m\u001b[38;5;241;43m=\u001b[39;49m\u001b[43merrors\u001b[49m\u001b[43m)\u001b[49m\n\u001b[0;32m   4269\u001b[0m \u001b[38;5;28;01mif\u001b[39;00m inplace:\n\u001b[0;32m   4270\u001b[0m     \u001b[38;5;28mself\u001b[39m\u001b[38;5;241m.\u001b[39m_update_inplace(obj)\n",
      "File \u001b[1;32mC:\\ProgramData\\Anaconda3\\lib\\site-packages\\pandas\\core\\generic.py:4311\u001b[0m, in \u001b[0;36mNDFrame._drop_axis\u001b[1;34m(self, labels, axis, level, errors, consolidate, only_slice)\u001b[0m\n\u001b[0;32m   4309\u001b[0m         new_axis \u001b[38;5;241m=\u001b[39m axis\u001b[38;5;241m.\u001b[39mdrop(labels, level\u001b[38;5;241m=\u001b[39mlevel, errors\u001b[38;5;241m=\u001b[39merrors)\n\u001b[0;32m   4310\u001b[0m     \u001b[38;5;28;01melse\u001b[39;00m:\n\u001b[1;32m-> 4311\u001b[0m         new_axis \u001b[38;5;241m=\u001b[39m \u001b[43maxis\u001b[49m\u001b[38;5;241;43m.\u001b[39;49m\u001b[43mdrop\u001b[49m\u001b[43m(\u001b[49m\u001b[43mlabels\u001b[49m\u001b[43m,\u001b[49m\u001b[43m \u001b[49m\u001b[43merrors\u001b[49m\u001b[38;5;241;43m=\u001b[39;49m\u001b[43merrors\u001b[49m\u001b[43m)\u001b[49m\n\u001b[0;32m   4312\u001b[0m     indexer \u001b[38;5;241m=\u001b[39m axis\u001b[38;5;241m.\u001b[39mget_indexer(new_axis)\n\u001b[0;32m   4314\u001b[0m \u001b[38;5;66;03m# Case for non-unique axis\u001b[39;00m\n\u001b[0;32m   4315\u001b[0m \u001b[38;5;28;01melse\u001b[39;00m:\n",
      "File \u001b[1;32mC:\\ProgramData\\Anaconda3\\lib\\site-packages\\pandas\\core\\indexes\\base.py:6661\u001b[0m, in \u001b[0;36mIndex.drop\u001b[1;34m(self, labels, errors)\u001b[0m\n\u001b[0;32m   6659\u001b[0m \u001b[38;5;28;01mif\u001b[39;00m mask\u001b[38;5;241m.\u001b[39many():\n\u001b[0;32m   6660\u001b[0m     \u001b[38;5;28;01mif\u001b[39;00m errors \u001b[38;5;241m!=\u001b[39m \u001b[38;5;124m\"\u001b[39m\u001b[38;5;124mignore\u001b[39m\u001b[38;5;124m\"\u001b[39m:\n\u001b[1;32m-> 6661\u001b[0m         \u001b[38;5;28;01mraise\u001b[39;00m \u001b[38;5;167;01mKeyError\u001b[39;00m(\u001b[38;5;124mf\u001b[39m\u001b[38;5;124m\"\u001b[39m\u001b[38;5;132;01m{\u001b[39;00m\u001b[38;5;28mlist\u001b[39m(labels[mask])\u001b[38;5;132;01m}\u001b[39;00m\u001b[38;5;124m not found in axis\u001b[39m\u001b[38;5;124m\"\u001b[39m)\n\u001b[0;32m   6662\u001b[0m     indexer \u001b[38;5;241m=\u001b[39m indexer[\u001b[38;5;241m~\u001b[39mmask]\n\u001b[0;32m   6663\u001b[0m \u001b[38;5;28;01mreturn\u001b[39;00m \u001b[38;5;28mself\u001b[39m\u001b[38;5;241m.\u001b[39mdelete(indexer)\n",
      "\u001b[1;31mKeyError\u001b[0m: '[True, True, True, True, True, True, True, True, True, True, True, True, True, True, True, True, True, True, True, True, True, True, True, True, True, True, True, True, True, True, True, True, True, True, True, True, True, True, True, True, False, True, True, True, True, True, True, True, True, True, True, True, True, True, True, True, True, True, True, False, True, True, True, True, True, True, True, True, True, True, True, True, True, True, True, True, True, True, True, True, True, True, True, False, True, True, True, True, True, True, True, True, True, False, True, True, True, True, True, True, True, True, True, False, True, True, True, True, True, True, True, True, True, True, True, False, True, True, True, False, True, True, True, True, True, False, True, True, True, True, True, True, True, True, True, False, True, True, False, True, True, True, True, True, True, False, True, True, True, True, True, True, True, False, True, False, True, True, True, True, True, True, True, True, False, True, True, True, True, True, True, True, True, True, False, True, True, True, True, False, True, False, True, True, True, True, True, True, False, True, True, True, True, True, True, True, False, True, False, True, True, True, True, True, False, True, True] not found in axis'"
     ]
    }
   ],
   "source": [
    "train_name = train.drop(train['remarks'].isnull(),axis=0)\n",
    "print(train_name)"
   ]
  },
  {
   "cell_type": "code",
   "execution_count": null,
   "id": "2002ae96",
   "metadata": {},
   "outputs": [],
   "source": []
  }
 ],
 "metadata": {
  "kernelspec": {
   "display_name": "Python 3 (ipykernel)",
   "language": "python",
   "name": "python3"
  },
  "language_info": {
   "codemirror_mode": {
    "name": "ipython",
    "version": 3
   },
   "file_extension": ".py",
   "mimetype": "text/x-python",
   "name": "python",
   "nbconvert_exporter": "python",
   "pygments_lexer": "ipython3",
   "version": "3.9.7"
  }
 },
 "nbformat": 4,
 "nbformat_minor": 5
}

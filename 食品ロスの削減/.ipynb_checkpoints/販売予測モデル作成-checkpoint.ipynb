{
 "cells": [
  {
   "cell_type": "markdown",
   "id": "e99ae461",
   "metadata": {},
   "source": [
    "### 販売予測データの読み込みと前処理"
   ]
  },
  {
   "cell_type": "code",
   "execution_count": 215,
   "id": "3e72ae22",
   "metadata": {},
   "outputs": [],
   "source": [
    "# ライブラリのインポート\n",
    "import pandas as pd\n",
    "import numpy as np\n",
    "from matplotlib import pyplot as plt \n",
    "import seaborn as sns"
   ]
  },
  {
   "cell_type": "code",
   "execution_count": 217,
   "id": "5df4e7ce",
   "metadata": {},
   "outputs": [
    {
     "name": "stdout",
     "output_type": "stream",
     "text": [
      "(107, 12)\n",
      "(40, 11)\n"
     ]
    }
   ],
   "source": [
    "# 販売実績データを読み込む\n",
    "train = pd.read_csv('train.csv')\n",
    "test = pd.read_csv('test.csv')\n",
    "\n",
    "# 100件目以後のデータのみ抽出\n",
    "train = train[100:]\n",
    "# 確認\n",
    "print(train.shape)\n",
    "print(test.shape)\n"
   ]
  },
  {
   "cell_type": "code",
   "execution_count": 219,
   "id": "3932d9a0",
   "metadata": {},
   "outputs": [
    {
     "name": "stdout",
     "output_type": "stream",
     "text": [
      "    datetime     y week  soldout      name   kcal   remarks event  payday  \\\n",
      "0  2014-4-22  78.0    火        1     マーボ豆腐  382.0       NaN   NaN     NaN   \n",
      "1  2014-4-23  63.0    水        0   手作りひれかつ  340.0       NaN   NaN     NaN   \n",
      "2  2014-4-24  56.0    木        1  鶏の照り焼きマヨ  360.0       NaN   NaN     NaN   \n",
      "3  2014-4-25  80.0    金        0       中華丼    NaN  お楽しみメニュー   NaN     NaN   \n",
      "4  2014-4-28  54.0    月        0  タンドリーチキン  342.0       NaN   NaN     NaN   \n",
      "\n",
      "  weather precipitation  temperature  flg  \n",
      "0       曇            --         18.8    1  \n",
      "1      快晴            --         19.4    1  \n",
      "2      晴れ            --         19.9    1  \n",
      "3      晴れ            --         20.8    1  \n",
      "4      晴れ            --         22.7    1  \n",
      "       datetime   y week  soldout          name   kcal   remarks event  \\\n",
      "142  2014-11-21 NaN    金        0         ロコモコ丼    NaN  お楽しみメニュー   NaN   \n",
      "143  2014-11-25 NaN    火        1   なすと挽肉のはさみ揚げ  460.0       NaN   NaN   \n",
      "144  2014-11-26 NaN    水        1       鶏肉の治部煮風  415.0       NaN   NaN   \n",
      "145  2014-11-27 NaN    木        0           牛丼風  420.0       NaN   NaN   \n",
      "146  2014-11-28 NaN    金        0  鶏肉のスイートチリソース  416.0       NaN   NaN   \n",
      "\n",
      "     payday weather precipitation  temperature  flg  \n",
      "142     NaN      快晴            --         14.9    0  \n",
      "143     NaN       雨           1.5         11.4    0  \n",
      "144     NaN       雨             1          9.2    0  \n",
      "145     NaN      快晴            --         15.1    0  \n",
      "146     NaN       曇            --         15.3    0  \n"
     ]
    }
   ],
   "source": [
    "# trainとtestを結合する\n",
    "# trainとtestに項目(flg)追加\n",
    "train['flg'] = 1\n",
    "test['flg'] = 0\n",
    "\n",
    "# trainとtestを結合する\n",
    "data = pd.concat([train,test])\n",
    "\n",
    "# dataのインデックスをリセットする\n",
    "data = data.reset_index(drop=True)\n",
    "\n",
    "# 確認\n",
    "print(data.head())\n",
    "print(data.tail())\n",
    "\n"
   ]
  },
  {
   "cell_type": "code",
   "execution_count": 221,
   "id": "fb01f9be",
   "metadata": {},
   "outputs": [
    {
     "name": "stdout",
     "output_type": "stream",
     "text": [
      "datetime         0\n",
      "y                0\n",
      "week             0\n",
      "soldout          0\n",
      "name             0\n",
      "kcal             0\n",
      "remarks          0\n",
      "event            0\n",
      "payday           0\n",
      "weather          0\n",
      "precipitation    0\n",
      "temperature      0\n",
      "flg              0\n",
      "dtype: int64\n"
     ]
    }
   ],
   "source": [
    "# 欠損値の補正\n",
    "kcal_mean = data['kcal'].mean()\n",
    "data['kcal'].fillna(kcal_mean,inplace=True)\n",
    "data['remarks'].fillna('特記事項なし',inplace=True)\n",
    "data['event'].fillna('イベントなし',inplace=True)\n",
    "data['payday'].fillna(0,inplace=True)\n",
    "data['y'].fillna(0,inplace=True)\n",
    "\n",
    "# 確認\n",
    "print(data.isnull().sum())"
   ]
  },
  {
   "cell_type": "code",
   "execution_count": 222,
   "id": "56e68f45",
   "metadata": {},
   "outputs": [
    {
     "name": "stdout",
     "output_type": "stream",
     "text": [
      "晴れ    61\n",
      "曇     60\n",
      "雨     26\n",
      "Name: weather, dtype: int64\n"
     ]
    }
   ],
   "source": [
    "# 天気のデータを補正する\n",
    "# 「快晴」「晴れ」→「晴れ」\n",
    "data[\"weather\"] = data['weather'].apply(lambda x: \"晴れ\" if x == \"快晴\" or x == \"晴れ\" else x)\n",
    "# 「曇」「薄曇」→「曇」\n",
    "data[\"weather\"] = data['weather'].apply(lambda x: \"曇\" if x == \"曇\" or x == \"薄曇\" else x)\n",
    "# 「雨」「雪」「雷電」→「雨」\n",
    "data[\"weather\"] = data['weather'].apply(lambda x: \"雨\" if x == \"雨\" or x == \"雪\" or x == \"雷電\"  else x)\n",
    "# 確認\n",
    "#print(data['weather'].value_counts())"
   ]
  },
  {
   "cell_type": "code",
   "execution_count": 223,
   "id": "2c4f0179",
   "metadata": {
    "collapsed": true
   },
   "outputs": [
    {
     "name": "stdout",
     "output_type": "stream",
     "text": [
      "特記事項なし    123\n",
      "特別メニュー     24\n",
      "Name: remarks, dtype: int64\n"
     ]
    }
   ],
   "source": [
    "# 特記事項を補正する\n",
    "# 「特記事項なし」以外→「特別メニュー」\n",
    "data[\"remarks\"] = data['remarks'].apply(lambda x: \"特別メニュー\" if x != \"特記事項なし\"  else x)\n",
    "# 確認\n",
    "#print(data['remarks'].value_counts())"
   ]
  },
  {
   "cell_type": "code",
   "execution_count": 224,
   "id": "933174a3",
   "metadata": {
    "collapsed": true
   },
   "outputs": [
    {
     "name": "stdout",
     "output_type": "stream",
     "text": [
      "0    135\n",
      "1     12\n",
      "Name: precipitation, dtype: int64\n"
     ]
    }
   ],
   "source": [
    "# 降水量を補正する\n",
    "# \"--\"→ 0\n",
    "data[\"precipitation\"] = data['precipitation'].apply(lambda x: \"0\" if x == \"--\"  else x)\n",
    "# 0以外→ 1\n",
    "data[\"precipitation\"] = data['precipitation'].apply(lambda x: \"1\" if x != \"0\"  else x)\n",
    "# 確認\n",
    "#print(data['precipitation'].value_counts())"
   ]
  },
  {
   "cell_type": "code",
   "execution_count": 225,
   "id": "5dc5a432",
   "metadata": {},
   "outputs": [],
   "source": [
    "# soldoutを数値→文字列に型変換\n",
    "data[\"soldout\"] = data[\"soldout\"].astype(str)"
   ]
  },
  {
   "cell_type": "code",
   "execution_count": 228,
   "id": "68f278d4",
   "metadata": {},
   "outputs": [],
   "source": [
    "# paydayを小数型から整数型へ変換\n",
    "data['payday'] = data['payday'].astype(int)\n",
    "# paydayを数値→文字列へ型変換\n",
    "data['payday'] = data['payday'].astype(str)"
   ]
  },
  {
   "cell_type": "code",
   "execution_count": 229,
   "id": "6bc39788",
   "metadata": {},
   "outputs": [],
   "source": [
    "# 金曜日以外の曜日を「平日」に変換する\n",
    "data[\"week\"] = data['week'].apply(lambda x: x if x == \"金\"  else \"平日\")"
   ]
  },
  {
   "cell_type": "code",
   "execution_count": 230,
   "id": "e228e1ef",
   "metadata": {},
   "outputs": [
    {
     "name": "stdout",
     "output_type": "stream",
     "text": [
      "7     22\n",
      "10    22\n",
      "6     21\n",
      "5     20\n",
      "9     20\n",
      "8     18\n",
      "11    18\n",
      "4      6\n",
      "Name: month, dtype: int64\n"
     ]
    }
   ],
   "source": [
    "# 月データを追加\n",
    "data[\"month\"] = data['datetime'].apply(lambda x: x.split('-')[1] )\n",
    "# 月データを数値に変換する\n",
    "data['month'] = data['month'].astype(int)\n",
    "\n",
    "# 確認\n",
    "print(data['month'].value_counts())\n",
    "\n"
   ]
  },
  {
   "cell_type": "code",
   "execution_count": 231,
   "id": "6d79b879",
   "metadata": {},
   "outputs": [
    {
     "name": "stdout",
     "output_type": "stream",
     "text": [
      "      y week soldout remarks payday weather precipitation  flg  month\n",
      "0  78.0   平日       1  特記事項なし      0       曇             0    1      4\n",
      "1  63.0   平日       0  特記事項なし      0      晴れ             0    1      4\n",
      "2  56.0   平日       1  特記事項なし      0      晴れ             0    1      4\n",
      "3  80.0    金       0  特別メニュー      0      晴れ             0    1      4\n",
      "4  54.0   平日       0  特記事項なし      0      晴れ             0    1      4\n"
     ]
    }
   ],
   "source": [
    "# 不要なカラムを削除する\n",
    "data_var = data.drop(columns = ['datetime','name','event','kcal','temperature'])\n",
    "# 確認\n",
    "#print( data_var.head() )"
   ]
  },
  {
   "cell_type": "code",
   "execution_count": 232,
   "id": "d0f2cd5a",
   "metadata": {},
   "outputs": [
    {
     "data": {
      "text/html": [
       "<div>\n",
       "<style scoped>\n",
       "    .dataframe tbody tr th:only-of-type {\n",
       "        vertical-align: middle;\n",
       "    }\n",
       "\n",
       "    .dataframe tbody tr th {\n",
       "        vertical-align: top;\n",
       "    }\n",
       "\n",
       "    .dataframe thead th {\n",
       "        text-align: right;\n",
       "    }\n",
       "</style>\n",
       "<table border=\"1\" class=\"dataframe\">\n",
       "  <thead>\n",
       "    <tr style=\"text-align: right;\">\n",
       "      <th></th>\n",
       "      <th>y</th>\n",
       "      <th>flg</th>\n",
       "      <th>month</th>\n",
       "      <th>week_平日</th>\n",
       "      <th>week_金</th>\n",
       "      <th>soldout_0</th>\n",
       "      <th>soldout_1</th>\n",
       "      <th>remarks_特別メニュー</th>\n",
       "      <th>remarks_特記事項なし</th>\n",
       "      <th>payday_0</th>\n",
       "      <th>payday_1</th>\n",
       "      <th>weather_晴れ</th>\n",
       "      <th>weather_曇</th>\n",
       "      <th>weather_雨</th>\n",
       "      <th>precipitation_0</th>\n",
       "      <th>precipitation_1</th>\n",
       "    </tr>\n",
       "  </thead>\n",
       "  <tbody>\n",
       "    <tr>\n",
       "      <th>0</th>\n",
       "      <td>78.0</td>\n",
       "      <td>1</td>\n",
       "      <td>4</td>\n",
       "      <td>1</td>\n",
       "      <td>0</td>\n",
       "      <td>0</td>\n",
       "      <td>1</td>\n",
       "      <td>0</td>\n",
       "      <td>1</td>\n",
       "      <td>1</td>\n",
       "      <td>0</td>\n",
       "      <td>0</td>\n",
       "      <td>1</td>\n",
       "      <td>0</td>\n",
       "      <td>1</td>\n",
       "      <td>0</td>\n",
       "    </tr>\n",
       "    <tr>\n",
       "      <th>1</th>\n",
       "      <td>63.0</td>\n",
       "      <td>1</td>\n",
       "      <td>4</td>\n",
       "      <td>1</td>\n",
       "      <td>0</td>\n",
       "      <td>1</td>\n",
       "      <td>0</td>\n",
       "      <td>0</td>\n",
       "      <td>1</td>\n",
       "      <td>1</td>\n",
       "      <td>0</td>\n",
       "      <td>1</td>\n",
       "      <td>0</td>\n",
       "      <td>0</td>\n",
       "      <td>1</td>\n",
       "      <td>0</td>\n",
       "    </tr>\n",
       "    <tr>\n",
       "      <th>2</th>\n",
       "      <td>56.0</td>\n",
       "      <td>1</td>\n",
       "      <td>4</td>\n",
       "      <td>1</td>\n",
       "      <td>0</td>\n",
       "      <td>0</td>\n",
       "      <td>1</td>\n",
       "      <td>0</td>\n",
       "      <td>1</td>\n",
       "      <td>1</td>\n",
       "      <td>0</td>\n",
       "      <td>1</td>\n",
       "      <td>0</td>\n",
       "      <td>0</td>\n",
       "      <td>1</td>\n",
       "      <td>0</td>\n",
       "    </tr>\n",
       "    <tr>\n",
       "      <th>3</th>\n",
       "      <td>80.0</td>\n",
       "      <td>1</td>\n",
       "      <td>4</td>\n",
       "      <td>0</td>\n",
       "      <td>1</td>\n",
       "      <td>1</td>\n",
       "      <td>0</td>\n",
       "      <td>1</td>\n",
       "      <td>0</td>\n",
       "      <td>1</td>\n",
       "      <td>0</td>\n",
       "      <td>1</td>\n",
       "      <td>0</td>\n",
       "      <td>0</td>\n",
       "      <td>1</td>\n",
       "      <td>0</td>\n",
       "    </tr>\n",
       "    <tr>\n",
       "      <th>4</th>\n",
       "      <td>54.0</td>\n",
       "      <td>1</td>\n",
       "      <td>4</td>\n",
       "      <td>1</td>\n",
       "      <td>0</td>\n",
       "      <td>1</td>\n",
       "      <td>0</td>\n",
       "      <td>0</td>\n",
       "      <td>1</td>\n",
       "      <td>1</td>\n",
       "      <td>0</td>\n",
       "      <td>1</td>\n",
       "      <td>0</td>\n",
       "      <td>0</td>\n",
       "      <td>1</td>\n",
       "      <td>0</td>\n",
       "    </tr>\n",
       "  </tbody>\n",
       "</table>\n",
       "</div>"
      ],
      "text/plain": [
       "      y  flg  month  week_平日  week_金  soldout_0  soldout_1  remarks_特別メニュー  \\\n",
       "0  78.0    1      4        1       0          0          1               0   \n",
       "1  63.0    1      4        1       0          1          0               0   \n",
       "2  56.0    1      4        1       0          0          1               0   \n",
       "3  80.0    1      4        0       1          1          0               1   \n",
       "4  54.0    1      4        1       0          1          0               0   \n",
       "\n",
       "   remarks_特記事項なし  payday_0  payday_1  weather_晴れ  weather_曇  weather_雨  \\\n",
       "0               1         1         0           0          1          0   \n",
       "1               1         1         0           1          0          0   \n",
       "2               1         1         0           1          0          0   \n",
       "3               0         1         0           1          0          0   \n",
       "4               1         1         0           1          0          0   \n",
       "\n",
       "   precipitation_0  precipitation_1  \n",
       "0                1                0  \n",
       "1                1                0  \n",
       "2                1                0  \n",
       "3                1                0  \n",
       "4                1                0  "
      ]
     },
     "execution_count": 232,
     "metadata": {},
     "output_type": "execute_result"
    }
   ],
   "source": [
    "# カテゴリー変数のダミー変数化\n",
    "data_dum = pd.get_dummies(data_var)\n",
    "# 確認\n",
    "data_dum.head()"
   ]
  },
  {
   "cell_type": "markdown",
   "id": "cf13f498",
   "metadata": {},
   "source": [
    "## 販売予測モデル作成"
   ]
  },
  {
   "cell_type": "code",
   "execution_count": 210,
   "id": "ae7a0f34",
   "metadata": {},
   "outputs": [],
   "source": [
    "# ライブラリをインポートする\n",
    "from sklearn.linear_model import LinearRegression\n",
    "from sklearn.metrics import mean_squared_error\n",
    "from sklearn.model_selection import train_test_split\n",
    "import numpy as np"
   ]
  },
  {
   "cell_type": "code",
   "execution_count": 211,
   "id": "01998d3b",
   "metadata": {},
   "outputs": [
    {
     "name": "stdout",
     "output_type": "stream",
     "text": [
      "7.0710678118654755\n"
     ]
    }
   ],
   "source": [
    "# RMSEを算出する関数\n",
    "# 引数：（実績値、予測値)\n",
    "def RMSE(var1,var2):\n",
    "    # MSEを計算する\n",
    "    mse = mean_squared_error(var1,var2)\n",
    "    # MSEの平方根を返す\n",
    "    return np.sqrt(mse)\n",
    "\n",
    "#確認\n",
    "print(RMSE([1,2],[9,8]))"
   ]
  },
  {
   "cell_type": "code",
   "execution_count": 234,
   "id": "cc291214",
   "metadata": {},
   "outputs": [
    {
     "name": "stdout",
     "output_type": "stream",
     "text": [
      "(107, 12)\n",
      "(40, 12)\n",
      "(107,)\n",
      "(40,)\n"
     ]
    }
   ],
   "source": [
    "# 学習データと評価データを準備する\n",
    "#print(train_dum.head())\n",
    "features = ['month','payday_0','payday_1','week_平日','week_金','remarks_特別メニュー','remarks_特記事項なし','weather_晴れ','weather_曇','weather_雨','precipitation_0','precipitation_1']\n",
    "\n",
    "# 学習データと評価データに分割する\n",
    "train = data_dum[data_dum['flg'] == 1]\n",
    "test = data_dum[data_dum['flg'] == 0]\n",
    "\n",
    "# 学習データ\n",
    "X_train = train[features]\n",
    "y_train = train['y']\n",
    "\n",
    "# 評価データ\n",
    "X_test = test[features]\n",
    "y_test = test['y']\n",
    "\n",
    "\n",
    "# 確認\n",
    "print(X_train.shape)\n",
    "print(X_test.shape)\n",
    "print(y_train.shape)\n",
    "print(y_test.shape)\n",
    "\n"
   ]
  },
  {
   "cell_type": "code",
   "execution_count": 235,
   "id": "a548886a",
   "metadata": {},
   "outputs": [
    {
     "name": "stdout",
     "output_type": "stream",
     "text": [
      "                      回帰係数\n",
      "month            -3.938424\n",
      "payday_0         -1.404990\n",
      "payday_1          1.404990\n",
      "week_平日          -2.226814\n",
      "week_金            2.226814\n",
      "remarks_特別メニュー   13.795271\n",
      "remarks_特記事項なし  -13.795271\n",
      "weather_晴れ        1.011468\n",
      "weather_曇         4.489395\n",
      "weather_雨        -5.500863\n",
      "precipitation_0 -12.386774\n",
      "precipitation_1  12.386774\n"
     ]
    }
   ],
   "source": [
    "# モデルの学習\n",
    "# 重回帰モデルの初期設定\n",
    "lm = LinearRegression()\n",
    "# モデルの学習\n",
    "lm.fit(X_train,y_train)\n",
    "\n",
    "# 回帰係数を確認する\n",
    "print( pd.DataFrame(lm.coef_,index=features,columns=[\"回帰係数\"]) )\n",
    "\n",
    "# 予測値を算出\n",
    "pred = lm.predict(X_test)"
   ]
  },
  {
   "cell_type": "code",
   "execution_count": 236,
   "id": "91fa7ab3",
   "metadata": {},
   "outputs": [
    {
     "name": "stdout",
     "output_type": "stream",
     "text": [
      "53.01713967022863\n"
     ]
    },
    {
     "data": {
      "image/png": "[encoded data removed]",
      "text/plain": [
       "<Figure size 640x480 with 1 Axes>"
      ]
     },
     "metadata": {},
     "output_type": "display_data"
    }
   ],
   "source": [
    "# 予測を検証する\n",
    "# RMSEを算出する\n",
    "var = RMSE(y_test,pred)\n",
    "print(var)\n",
    "\n",
    "# 折れ線グラフを描画します。\n",
    "\n",
    "# 評価データの販売数でグラフを描く\n",
    "plt.plot(y_test.values, label=\"actual\")\n",
    "\n",
    "# 予測値でグラフを描く\n",
    "plt.plot(pred, label=\"forecast\")\n",
    "\n",
    "plt.title(\"sales of box lunch\")\n",
    "plt.xlabel(\"time step\")\n",
    "plt.ylabel(\"sales\")\n",
    "plt.legend()\n",
    "plt.show()"
   ]
  },
  {
   "cell_type": "code",
   "execution_count": 239,
   "id": "fcd3e36f",
   "metadata": {},
   "outputs": [
    {
     "name": "stdout",
     "output_type": "stream",
     "text": [
      "[37.78051513 47.77077361 48.74647532 62.55406348 44.29284667 44.29284667\n",
      " 47.77077361 82.62492351 44.29284667 90.14460495 44.29284667 48.74647532\n",
      " 47.77077361 37.78051513 37.78051513 62.55406348 76.33701678 47.77077361\n",
      " 44.29284667 44.29284667 44.29284667 52.22440226 40.35442259 43.83234953\n",
      " 43.83234953 72.3985927  43.16440237 43.83234953 43.83234953 67.94496405\n",
      " 44.80805124 43.83234953 40.35442259 67.94496405 43.83234953 72.3985927\n",
      " 58.6156394  58.6156394  40.35442259 48.28597818]\n"
     ]
    }
   ],
   "source": [
    "print(pred)\n",
    "pred_df = pd.Series(pred)\n",
    "# 予測結果を出力する\n",
    "pred_df.to_csv('result.csv')"
   ]
  },
  {
   "cell_type": "code",
   "execution_count": null,
   "id": "9062ebb9",
   "metadata": {},
   "outputs": [],
   "source": []
  }
 ],
 "metadata": {
  "kernelspec": {
   "display_name": "Python 3 (ipykernel)",
   "language": "python",
   "name": "python3"
  },
  "language_info": {
   "codemirror_mode": {
    "name": "ipython",
    "version": 3
   },
   "file_extension": ".py",
   "mimetype": "text/x-python",
   "name": "python",
   "nbconvert_exporter": "python",
   "pygments_lexer": "ipython3",
   "version": "3.9.7"
  }
 },
 "nbformat": 4,
 "nbformat_minor": 5
}

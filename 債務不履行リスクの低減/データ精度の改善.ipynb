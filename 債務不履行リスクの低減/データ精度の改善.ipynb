{
 "cells": [
  {
   "cell_type": "code",
   "execution_count": 11,
   "id": "e7a26876",
   "metadata": {},
   "outputs": [],
   "source": [
    "# ライブラリのインポート\n",
    "import pandas as pd\n",
    "import numpy as np\n",
    "import seaborn as sns\n",
    "import matplotlib.pyplot as plt\n",
    "from sklearn.model_selection import train_test_split\n",
    "from sklearn.linear_model import LogisticRegression"
   ]
  },
  {
   "cell_type": "markdown",
   "id": "642284d9",
   "metadata": {},
   "source": [
    "### 評価用データと読み込みと前処理"
   ]
  },
  {
   "cell_type": "code",
   "execution_count": 12,
   "id": "b7fe4a21",
   "metadata": {},
   "outputs": [],
   "source": [
    "# データ読み込み\n",
    "# データの読み込み\n",
    "train_data = pd.read_csv('train.csv')\n",
    "\n",
    "# 不要項目を削除する\n",
    "train_data_var = train_data.drop(columns=['id'])\n",
    "\n",
    "# 欠損値を削除する\n",
    "train_data_drop = train_data_var.dropna()\n",
    "\n",
    "# 予測の手助けとなる列を取り出す\n",
    "X = train_data_drop[['interest_rate','credit_score','term','grade','application_type']]\n",
    "\n",
    "# 予測対象の列を取り出す\n",
    "target = train_data_drop['loan_status']\n"
   ]
  },
  {
   "cell_type": "code",
   "execution_count": 13,
   "id": "a55c258f",
   "metadata": {},
   "outputs": [],
   "source": [
    "# 質的データをダミー変数化\n",
    "\n",
    "# 予測する手助け項目\n",
    "X_dum = pd.get_dummies(X)\n",
    "\n",
    "# 予測対象項目をダミー変数化\n",
    "target_dum = pd.get_dummies(target)\n",
    "\n",
    "# target_dumからFullyPaid列を削除する\n",
    "target_dum = target_dum.drop(columns=['FullyPaid'])\n"
   ]
  },
  {
   "cell_type": "markdown",
   "id": "efa2e74d",
   "metadata": {},
   "source": [
    "### モデル作成と評価"
   ]
  },
  {
   "cell_type": "code",
   "execution_count": 14,
   "id": "1812168e",
   "metadata": {},
   "outputs": [
    {
     "name": "stderr",
     "output_type": "stream",
     "text": [
      "C:\\ProgramData\\Anaconda3\\lib\\site-packages\\sklearn\\utils\\validation.py:1111: DataConversionWarning: A column-vector y was passed when a 1d array was expected. Please change the shape of y to (n_samples, ), for example using ravel().\n",
      "  y = column_or_1d(y, warn=True)\n"
     ]
    },
    {
     "name": "stdout",
     "output_type": "stream",
     "text": [
      "[0 0 0 ... 0 0 0]\n"
     ]
    }
   ],
   "source": [
    "# 評価データと学習データに分割する\n",
    "X_train,X_test,y_train,y_test = train_test_split(X_dum,target_dum,random_state=0,stratify=target_dum['ChargedOff'])\n",
    "\n",
    "# モデルを準備する\n",
    "lr = LogisticRegression()\n",
    "\n",
    "# モデルを学習\n",
    "lr.fit(X_train,y_train)\n",
    "\n",
    "# 学習済みモデルで予測する\n",
    "pred = lr.predict(X_test)\n",
    "\n",
    "print(pred)\n"
   ]
  },
  {
   "cell_type": "markdown",
   "id": "63059d76",
   "metadata": {},
   "source": [
    "### 予測精度の改善"
   ]
  },
  {
   "cell_type": "code",
   "execution_count": 15,
   "id": "61af6258",
   "metadata": {},
   "outputs": [
    {
     "name": "stdout",
     "output_type": "stream",
     "text": [
      "11136\n",
      "0.2779228263535598\n"
     ]
    }
   ],
   "source": [
    "# 予測結果の保存\n",
    "pred_proba = lr.predict_proba(X_test)\n",
    "proba_df = pd.DataFrame(pred_proba)\n",
    "\n",
    "# 変数y_testのChargedOffカラムにおける値の合計値を算出\n",
    "chargedoff_val = y_test['ChargedOff'].sum()\n",
    "print(chargedoff_val)\n",
    "\n",
    "# 1である確率値を降順で並び替え\n",
    "proba_desc = proba_df[1].sort_values(ascending = False)\n",
    "\n",
    "# 変数y_testのChargedOffカラムの値が1であるデータ数と同じ行番号のデータを抜き出す\n",
    "threshold = proba_desc.iloc[chargedoff_val]\n",
    "print(threshold)"
   ]
  },
  {
   "cell_type": "code",
   "execution_count": null,
   "id": "966c11cf",
   "metadata": {},
   "outputs": [],
   "source": []
  }
 ],
 "metadata": {
  "kernelspec": {
   "display_name": "Python 3 (ipykernel)",
   "language": "python",
   "name": "python3"
  },
  "language_info": {
   "codemirror_mode": {
    "name": "ipython",
    "version": 3
   },
   "file_extension": ".py",
   "mimetype": "text/x-python",
   "name": "python",
   "nbconvert_exporter": "python",
   "pygments_lexer": "ipython3",
   "version": "3.9.7"
  }
 },
 "nbformat": 4,
 "nbformat_minor": 5
}

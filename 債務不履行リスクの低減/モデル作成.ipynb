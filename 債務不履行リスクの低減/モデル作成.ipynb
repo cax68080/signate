{
 "cells": [
  {
   "cell_type": "markdown",
   "id": "7a1c29d4",
   "metadata": {},
   "source": [
    "## 特徴量の生成とデータ前処理"
   ]
  },
  {
   "cell_type": "code",
   "execution_count": 14,
   "id": "535072cb",
   "metadata": {},
   "outputs": [],
   "source": [
    "# ライブラリのインポート\n",
    "import pandas as pd\n",
    "import numpy as np\n",
    "import seaborn as sns\n",
    "import matplotlib.pyplot as plt"
   ]
  },
  {
   "cell_type": "code",
   "execution_count": 15,
   "id": "a425a157",
   "metadata": {},
   "outputs": [
    {
     "name": "stdout",
     "output_type": "stream",
     "text": [
      "(228971, 5)\n",
      "   interest_rate  credit_score     term grade application_type\n",
      "1          16.29         700.0  5 years    C4       Individual\n",
      "2          21.98         670.0  5 years    E4       Individual\n",
      "3           8.59         710.0  3 years    A5       Individual\n",
      "4          13.99         680.0  3 years    C1       Individual\n",
      "5           7.35         790.0  3 years    A4       Individual\n",
      "(228971,)\n",
      "1    ChargedOff\n",
      "2     FullyPaid\n",
      "3     FullyPaid\n",
      "4     FullyPaid\n",
      "5     FullyPaid\n",
      "Name: loan_status, dtype: object\n"
     ]
    }
   ],
   "source": [
    "# データ読み込み\n",
    "# データの読み込み\n",
    "train_data = pd.read_csv('train.csv')\n",
    "\n",
    "# 不要項目を削除する\n",
    "train_data_var = train_data.drop(columns=['id'])\n",
    "\n",
    "# 欠損値を削除する\n",
    "train_data_drop = train_data_var.dropna()\n",
    "\n",
    "# 予測の手助けとなる列を取り出す\n",
    "X = train_data_drop[['interest_rate','credit_score','term','grade','application_type']]\n",
    "\n",
    "# 予測対象の列を取り出す\n",
    "target = train_data_drop['loan_status']\n",
    "\n",
    "# データの確認\n",
    "print(X.shape)\n",
    "print(X.head())\n",
    "print(target.shape)\n",
    "print(target.head())\n"
   ]
  },
  {
   "cell_type": "markdown",
   "id": "484fcab8",
   "metadata": {},
   "source": [
    "### ダミー変数化"
   ]
  },
  {
   "cell_type": "code",
   "execution_count": 16,
   "id": "02476f31",
   "metadata": {},
   "outputs": [
    {
     "name": "stdout",
     "output_type": "stream",
     "text": [
      "   interest_rate  credit_score  term_3 years  term_5 years  grade_A1  \\\n",
      "1          16.29         700.0             0             1         0   \n",
      "2          21.98         670.0             0             1         0   \n",
      "3           8.59         710.0             1             0         0   \n",
      "4          13.99         680.0             1             0         0   \n",
      "5           7.35         790.0             1             0         0   \n",
      "\n",
      "   grade_A2  grade_A3  grade_A4  grade_A5  grade_B1  ...  grade_F3  grade_F4  \\\n",
      "1         0         0         0         0         0  ...         0         0   \n",
      "2         0         0         0         0         0  ...         0         0   \n",
      "3         0         0         0         1         0  ...         0         0   \n",
      "4         0         0         0         0         0  ...         0         0   \n",
      "5         0         0         1         0         0  ...         0         0   \n",
      "\n",
      "   grade_F5  grade_G1  grade_G2  grade_G3  grade_G4  grade_G5  \\\n",
      "1         0         0         0         0         0         0   \n",
      "2         0         0         0         0         0         0   \n",
      "3         0         0         0         0         0         0   \n",
      "4         0         0         0         0         0         0   \n",
      "5         0         0         0         0         0         0   \n",
      "\n",
      "   application_type_Individual  application_type_Joint App  \n",
      "1                            1                           0  \n",
      "2                            1                           0  \n",
      "3                            1                           0  \n",
      "4                            1                           0  \n",
      "5                            1                           0  \n",
      "\n",
      "[5 rows x 41 columns]\n",
      "   ChargedOff  FullyPaid\n",
      "1           1          0\n",
      "2           0          1\n",
      "3           0          1\n",
      "4           0          1\n",
      "5           0          1\n",
      "   ChargedOff\n",
      "1           1\n",
      "2           0\n",
      "3           0\n",
      "4           0\n",
      "5           0\n"
     ]
    }
   ],
   "source": [
    "# 質的データをダミー変数化\n",
    "\n",
    "# 予測する手助け項目\n",
    "X_dum = pd.get_dummies(X)\n",
    "\n",
    "# 予測対象項目をダミー変数化\n",
    "target_dum = pd.get_dummies(target)\n",
    "\n",
    "#データを確認する\n",
    "print(X_dum.head())\n",
    "print(target_dum.head())\n",
    "\n",
    "# target_dumからFullyPaid列を削除する\n",
    "target_dum = target_dum.drop(columns=['FullyPaid'])\n",
    "\n",
    "# データを確認する\n",
    "print(target_dum.head())\n"
   ]
  },
  {
   "cell_type": "markdown",
   "id": "5f0f18c5",
   "metadata": {},
   "source": [
    "## モデル作成"
   ]
  },
  {
   "cell_type": "code",
   "execution_count": 17,
   "id": "48d5b143",
   "metadata": {},
   "outputs": [],
   "source": [
    "from sklearn.model_selection import train_test_split"
   ]
  },
  {
   "cell_type": "code",
   "execution_count": 18,
   "id": "a1deb712",
   "metadata": {},
   "outputs": [
    {
     "name": "stdout",
     "output_type": "stream",
     "text": [
      "(171728, 41)\n",
      "(57243, 41)\n",
      "(171728, 1)\n",
      "(57243, 1)\n"
     ]
    }
   ],
   "source": [
    "# 評価データと学習データに分割する\n",
    "X_train,X_test,y_train,y_test = train_test_split(X_dum,target_dum,random_state=0,stratify=target_dum['ChargedOff'])\n",
    "\n",
    "print(X_train.shape)\n",
    "print(X_test.shape)\n",
    "print(y_train.shape)\n",
    "print(y_test.shape)"
   ]
  },
  {
   "cell_type": "markdown",
   "id": "ee497f53",
   "metadata": {},
   "source": [
    "### ロジスティック回帰モデルの学習"
   ]
  },
  {
   "cell_type": "code",
   "execution_count": 19,
   "id": "0e9593e0",
   "metadata": {},
   "outputs": [],
   "source": [
    "# ライブラリをインポートする\n",
    "from sklearn.linear_model import LogisticRegression"
   ]
  },
  {
   "cell_type": "code",
   "execution_count": 28,
   "id": "b67f6378",
   "metadata": {},
   "outputs": [
    {
     "name": "stderr",
     "output_type": "stream",
     "text": [
      "C:\\ProgramData\\Anaconda3\\lib\\site-packages\\sklearn\\utils\\validation.py:993: DataConversionWarning: A column-vector y was passed when a 1d array was expected. Please change the shape of y to (n_samples, ), for example using ravel().\n",
      "  y = column_or_1d(y, warn=True)\n"
     ]
    },
    {
     "name": "stdout",
     "output_type": "stream",
     "text": [
      "        ChargedOff\n",
      "122098           0\n",
      "159816           0\n",
      "120362           1\n",
      "235319           0\n",
      "124493           0\n",
      "[0 0 0 ... 0 0 0]\n"
     ]
    }
   ],
   "source": [
    "# モデルを準備する\n",
    "lr = LogisticRegression()\n",
    "\n",
    "# モデルを学習\n",
    "lr.fit(X_train,y_train)\n",
    "print(y_train.head())\n",
    "\n",
    "# 学習済みモデルで予測する\n",
    "pred = lr.predict(X_test)\n",
    "\n",
    "print(pred)\n"
   ]
  },
  {
   "cell_type": "markdown",
   "id": "e528cd53",
   "metadata": {},
   "source": [
    "### f1_scoreの計算"
   ]
  },
  {
   "cell_type": "code",
   "execution_count": 21,
   "id": "30667d39",
   "metadata": {},
   "outputs": [],
   "source": [
    "# f1_scoreのインポート\n",
    "from sklearn.metrics import f1_score"
   ]
  },
  {
   "cell_type": "code",
   "execution_count": 24,
   "id": "bd47ccb5",
   "metadata": {},
   "outputs": [
    {
     "name": "stdout",
     "output_type": "stream",
     "text": [
      "0.027490807214148136\n"
     ]
    }
   ],
   "source": [
    "# 実測値y_test、予測値predを使ってf1_scoreを計算する\n",
    "f_one = f1_score(y_test,pred)\n",
    "\n",
    "# 評価結果の表示\n",
    "print(f_one)"
   ]
  },
  {
   "cell_type": "markdown",
   "id": "dbbecb8a",
   "metadata": {},
   "source": [
    "### 混合行列の表示"
   ]
  },
  {
   "cell_type": "code",
   "execution_count": 29,
   "id": "2ff2fcf9",
   "metadata": {},
   "outputs": [],
   "source": [
    "# ライブラリをインポートする\n",
    "from sklearn.metrics import confusion_matrix"
   ]
  },
  {
   "cell_type": "code",
   "execution_count": 30,
   "id": "2f969a91",
   "metadata": {},
   "outputs": [
    {
     "name": "stdout",
     "output_type": "stream",
     "text": [
      "[[45978   129]\n",
      " [10979   157]]\n"
     ]
    }
   ],
   "source": [
    "# 実測値y_test,予測値predを使って混同行列を作成する\n",
    "cm = confusion_matrix(y_test,pred)\n",
    "print(cm)\n"
   ]
  },
  {
   "cell_type": "markdown",
   "id": "5b6c66d6",
   "metadata": {},
   "source": [
    "### 確率値の取得"
   ]
  },
  {
   "cell_type": "code",
   "execution_count": 31,
   "id": "e75ed8ce",
   "metadata": {},
   "outputs": [
    {
     "name": "stdout",
     "output_type": "stream",
     "text": [
      "          0         1\n",
      "0  0.851500  0.148500\n",
      "1  0.943967  0.056033\n",
      "2  0.867731  0.132269\n",
      "3  0.900587  0.099413\n",
      "4  0.623500  0.376500\n"
     ]
    }
   ],
   "source": [
    "# X_testに対する予測の確率値を算出する\n",
    "pred_proba = lr.predict_proba(X_test)\n",
    "\n",
    "# 算出した確率値をDataFrameに変換する\n",
    "proba_df = pd.DataFrame(pred_proba)\n",
    "print(proba_df.head())"
   ]
  },
  {
   "cell_type": "code",
   "execution_count": null,
   "id": "2b41540e",
   "metadata": {},
   "outputs": [],
   "source": []
  }
 ],
 "metadata": {
  "kernelspec": {
   "display_name": "Python 3 (ipykernel)",
   "language": "python",
   "name": "python3"
  },
  "language_info": {
   "codemirror_mode": {
    "name": "ipython",
    "version": 3
   },
   "file_extension": ".py",
   "mimetype": "text/x-python",
   "name": "python",
   "nbconvert_exporter": "python",
   "pygments_lexer": "ipython3",
   "version": "3.9.7"
  }
 },
 "nbformat": 4,
 "nbformat_minor": 5
}

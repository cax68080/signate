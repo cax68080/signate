{
 "cells": [
  {
   "cell_type": "markdown",
   "id": "7a1c29d4",
   "metadata": {},
   "source": [
    "## 特徴量の生成とデータ前処理"
   ]
  },
  {
   "cell_type": "code",
   "execution_count": 1,
   "id": "535072cb",
   "metadata": {},
   "outputs": [],
   "source": [
    "# ライブラリのインポート\n",
    "import pandas as pd\n",
    "import numpy as np\n",
    "import seaborn as sns\n",
    "import matplotlib.pyplot as plt"
   ]
  },
  {
   "cell_type": "code",
   "execution_count": 2,
   "id": "a425a157",
   "metadata": {},
   "outputs": [
    {
     "name": "stdout",
     "output_type": "stream",
     "text": [
      "(228971, 5)\n",
      "   interest_rate  credit_score     term grade application_type\n",
      "1          16.29         700.0  5 years    C4       Individual\n",
      "2          21.98         670.0  5 years    E4       Individual\n",
      "3           8.59         710.0  3 years    A5       Individual\n",
      "4          13.99         680.0  3 years    C1       Individual\n",
      "5           7.35         790.0  3 years    A4       Individual\n",
      "(228971,)\n",
      "1    ChargedOff\n",
      "2     FullyPaid\n",
      "3     FullyPaid\n",
      "4     FullyPaid\n",
      "5     FullyPaid\n",
      "Name: loan_status, dtype: object\n"
     ]
    }
   ],
   "source": [
    "# データ読み込み\n",
    "# データの読み込み\n",
    "train_data = pd.read_csv('train.csv')\n",
    "\n",
    "# 不要項目を削除する\n",
    "train_data_var = train_data.drop(columns=['id'])\n",
    "\n",
    "# 欠損値を削除する\n",
    "train_data_drop = train_data_var.dropna()\n",
    "\n",
    "# 予測の手助けとなる列を取り出す\n",
    "X = train_data_drop[['interest_rate','credit_score','term','grade','application_type']]\n",
    "\n",
    "# 予測対象の列を取り出す\n",
    "target = train_data_drop['loan_status']\n",
    "\n",
    "# データの確認\n",
    "print(X.shape)\n",
    "print(X.head())\n",
    "print(target.shape)\n",
    "print(target.head())\n"
   ]
  },
  {
   "cell_type": "markdown",
   "id": "484fcab8",
   "metadata": {},
   "source": [
    "### ダミー変数化"
   ]
  },
  {
   "cell_type": "code",
<<<<<<< HEAD
   "execution_count": 3,
=======
   "execution_count": 20,
>>>>>>> b957f352a99a6bb01726a960270ab9a6f264b289
   "id": "02476f31",
   "metadata": {},
   "outputs": [
    {
     "name": "stdout",
     "output_type": "stream",
     "text": [
      "   interest_rate  credit_score  term_3 years  term_5 years  grade_A1  \\\n",
      "1          16.29         700.0             0             1         0   \n",
      "2          21.98         670.0             0             1         0   \n",
      "3           8.59         710.0             1             0         0   \n",
      "4          13.99         680.0             1             0         0   \n",
      "5           7.35         790.0             1             0         0   \n",
      "\n",
      "   grade_A2  grade_A3  grade_A4  grade_A5  grade_B1  ...  grade_F3  grade_F4  \\\n",
      "1         0         0         0         0         0  ...         0         0   \n",
      "2         0         0         0         0         0  ...         0         0   \n",
      "3         0         0         0         1         0  ...         0         0   \n",
      "4         0         0         0         0         0  ...         0         0   \n",
      "5         0         0         1         0         0  ...         0         0   \n",
      "\n",
      "   grade_F5  grade_G1  grade_G2  grade_G3  grade_G4  grade_G5  \\\n",
      "1         0         0         0         0         0         0   \n",
      "2         0         0         0         0         0         0   \n",
      "3         0         0         0         0         0         0   \n",
      "4         0         0         0         0         0         0   \n",
      "5         0         0         0         0         0         0   \n",
      "\n",
      "   application_type_Individual  application_type_Joint App  \n",
      "1                            1                           0  \n",
      "2                            1                           0  \n",
      "3                            1                           0  \n",
      "4                            1                           0  \n",
      "5                            1                           0  \n",
      "\n",
      "[5 rows x 41 columns]\n",
      "   ChargedOff  FullyPaid\n",
      "1           1          0\n",
      "2           0          1\n",
      "3           0          1\n",
      "4           0          1\n",
      "5           0          1\n",
      "(228971, 2)\n",
      "   ChargedOff\n",
      "1           1\n",
      "2           0\n",
      "3           0\n",
      "4           0\n",
      "5           0\n",
      "(228971, 1)\n"
     ]
    }
   ],
   "source": [
    "# 質的データをダミー変数化\n",
    "\n",
    "# 予測する手助け項目\n",
    "X_dum = pd.get_dummies(X)\n",
    "\n",
    "# 予測対象項目をダミー変数化\n",
    "target_dum = pd.get_dummies(target)\n",
    "\n",
    "#データを確認する\n",
    "print(X_dum.head())\n",
    "print(target_dum.head())\n",
    "print(target_dum.shape)\n",
    "\n",
    "# target_dumからFullyPaid列を削除する\n",
    "target_dum = target_dum.drop(columns=['FullyPaid'])\n",
    "\n",
    "# データを確認する\n",
    "print(target_dum.head())\n",
    "print(target_dum.shape)\n"
   ]
  },
  {
   "cell_type": "markdown",
   "id": "0d7ff638",
   "metadata": {},
   "source": [
    "### テストデータを読み込む"
   ]
  },
  {
   "cell_type": "code",
   "execution_count": 22,
   "id": "8f4b3b82",
   "metadata": {},
   "outputs": [
    {
     "name": "stdout",
     "output_type": "stream",
     "text": [
      "loan_amnt            0\n",
      "term                 0\n",
      "interest_rate        0\n",
      "grade                0\n",
      "employment_length    0\n",
      "purpose              0\n",
      "credit_score         0\n",
      "application_type     0\n",
      "dtype: int64\n",
      "(26906, 41)\n",
      "   interest_rate  credit_score  term_3 years  term_5 years  grade_A1  \\\n",
      "0          10.16         725.0             1             0         0   \n",
      "1           8.99         695.0             1             0         0   \n",
      "2          14.65         660.0             1             0         0   \n",
      "3          15.59         695.0             0             1         0   \n",
      "4          12.79         720.0             0             1         0   \n",
      "\n",
      "   grade_A2  grade_A3  grade_A4  grade_A5  grade_B1  ...  grade_F3  grade_F4  \\\n",
      "0         0         0         0         0         1  ...         0         0   \n",
      "1         0         0         0         0         1  ...         0         0   \n",
      "2         0         0         0         0         0  ...         0         0   \n",
      "3         0         0         0         0         0  ...         0         0   \n",
      "4         0         0         0         0         0  ...         0         0   \n",
      "\n",
      "   grade_F5  grade_G1  grade_G2  grade_G3  grade_G4  grade_G5  \\\n",
      "0         0         0         0         0         0         0   \n",
      "1         0         0         0         0         0         0   \n",
      "2         0         0         0         0         0         0   \n",
      "3         0         0         0         0         0         0   \n",
      "4         0         0         0         0         0         0   \n",
      "\n",
      "   application_type_Individual  application_type_Joint App  \n",
      "0                            1                           0  \n",
      "1                            1                           0  \n",
      "2                            1                           0  \n",
      "3                            1                           0  \n",
      "4                            1                           0  \n",
      "\n",
      "[5 rows x 41 columns]\n"
     ]
    }
   ],
   "source": [
    "# test.csvを読み込む\n",
    "test_data = pd.read_csv('test.csv')\n",
    "#print(test_data.shape)\n",
    "\n",
    "# 不要な項目(id)を削除する\n",
    "test_data_var = test_data.drop(columns=['id'])\n",
    "\n",
    "# 欠損値を確認する\n",
    "#print(test_data_var.isnull().sum())\n",
    "\n",
    "# 欠損値を補正する\n",
    "test_data_var = test_data_var.fillna('0 years')\n",
    "\n",
    "# 欠損値を確認する\n",
    "print(test_data_var.isnull().sum())\n",
    "\n",
    "#print(test_data_var.shape)\n",
    "#print(test_data_var.head())\n",
    "\n",
    "# 予測の手助けとなる列を取り出す\n",
    "T = test_data_var[['interest_rate','credit_score','term','grade','application_type']]\n",
    "\n",
    "# ダミー変数化\n",
    "T_dum = pd.get_dummies(T)\n",
    "\n",
    "print(T_dum.shape)\n",
    "print(T_dum.head())\n"
   ]
  },
  {
   "cell_type": "markdown",
   "id": "5f0f18c5",
   "metadata": {},
   "source": [
    "## モデル作成"
   ]
  },
  {
   "cell_type": "code",
<<<<<<< HEAD
   "execution_count": 4,
=======
   "execution_count": 11,
>>>>>>> b957f352a99a6bb01726a960270ab9a6f264b289
   "id": "48d5b143",
   "metadata": {},
   "outputs": [],
   "source": [
    "from sklearn.model_selection import train_test_split"
   ]
  },
  {
   "cell_type": "code",
<<<<<<< HEAD
   "execution_count": 5,
=======
   "execution_count": 12,
>>>>>>> b957f352a99a6bb01726a960270ab9a6f264b289
   "id": "a1deb712",
   "metadata": {},
   "outputs": [
    {
     "name": "stdout",
     "output_type": "stream",
     "text": [
      "(171728, 41)\n",
      "(57243, 41)\n",
      "(171728, 1)\n",
      "(57243, 1)\n"
     ]
    }
   ],
   "source": [
    "# 評価データと学習データに分割する\n",
    "X_train,X_test,y_train,y_test = train_test_split(X_dum,target_dum,random_state=0,stratify=target_dum['ChargedOff'])\n",
    "\n",
    "y_train=np.reshape(y_train,(-1))\n",
    "y_test=np.reshape(y_test,(-1))\n",
    "\n",
    "print(X_train.shape)\n",
    "print(X_test.shape)\n",
    "print(y_train.shape)\n",
    "print(y_test.shape)"
   ]
  },
  {
   "cell_type": "markdown",
   "id": "ee497f53",
   "metadata": {},
   "source": [
    "### ロジスティック回帰モデルの学習"
   ]
  },
  {
   "cell_type": "code",
<<<<<<< HEAD
   "execution_count": 6,
=======
   "execution_count": 13,
>>>>>>> b957f352a99a6bb01726a960270ab9a6f264b289
   "id": "0e9593e0",
   "metadata": {},
   "outputs": [],
   "source": [
    "# ライブラリをインポートする\n",
    "from sklearn.linear_model import LogisticRegression"
   ]
  },
  {
   "cell_type": "code",
<<<<<<< HEAD
   "execution_count": 7,
=======
   "execution_count": 14,
>>>>>>> b957f352a99a6bb01726a960270ab9a6f264b289
   "id": "b67f6378",
   "metadata": {},
   "outputs": [
    {
     "name": "stderr",
     "output_type": "stream",
     "text": [
      "C:\\ProgramData\\Anaconda3\\lib\\site-packages\\sklearn\\utils\\validation.py:1111: DataConversionWarning: A column-vector y was passed when a 1d array was expected. Please change the shape of y to (n_samples, ), for example using ravel().\n",
      "  y = column_or_1d(y, warn=True)\n"
     ]
    },
    {
     "name": "stdout",
     "output_type": "stream",
     "text": [
      "        ChargedOff\n",
      "122098           0\n",
      "159816           0\n",
      "120362           1\n",
      "235319           0\n",
      "124493           0\n",
      "[0 0 0 ... 0 0 0]\n"
     ]
    }
   ],
   "source": [
    "# モデルを準備する\n",
    "lr = LogisticRegression()\n",
    "\n",
    "# モデルを学習\n",
    "lr.fit(X_train,y_train)\n",
    "print(y_train.head())\n",
    "\n",
    "# 学習済みモデルで予測する\n",
    "pred = lr.predict(X_test)\n",
    "\n",
    "print(pred)\n"
   ]
  },
  {
   "cell_type": "code",
   "execution_count": 33,
   "id": "fc4e9cdd",
   "metadata": {},
   "outputs": [
    {
     "name": "stdout",
     "output_type": "stream",
     "text": [
      "[0 0 0 ... 0 0 0]\n"
     ]
    }
   ],
   "source": [
    "# テストデータで予測する\n",
    "pred_T = lr.predict(T_dum)\n",
    "\n",
    "print(pred_T)\n",
    "\n",
    "# 予測データの書き出し\n",
    "T = pd.DataFrame(pred_T)\n",
    "T.to_csv('result.csv')"
   ]
  },
  {
   "cell_type": "markdown",
   "id": "e528cd53",
   "metadata": {},
   "source": [
    "### f1_scoreの計算"
   ]
  },
  {
   "cell_type": "code",
<<<<<<< HEAD
   "execution_count": 26,
=======
   "execution_count": 15,
>>>>>>> b957f352a99a6bb01726a960270ab9a6f264b289
   "id": "30667d39",
   "metadata": {},
   "outputs": [],
   "source": [
    "# f1_scoreのインポート\n",
    "from sklearn.metrics import f1_score"
   ]
  },
  {
   "cell_type": "code",
<<<<<<< HEAD
   "execution_count": 27,
=======
   "execution_count": 16,
>>>>>>> b957f352a99a6bb01726a960270ab9a6f264b289
   "id": "bd47ccb5",
   "metadata": {},
   "outputs": [
    {
     "name": "stdout",
     "output_type": "stream",
     "text": [
      "0.027490807214148136\n"
     ]
    }
   ],
   "source": [
    "# 実測値y_test、予測値predを使ってf1_scoreを計算する\n",
    "f_one = f1_score(y_test,pred)\n",
    "\n",
    "# 評価結果の表示\n",
    "print(f_one)"
   ]
  },
  {
   "cell_type": "code",
   "execution_count": 37,
   "id": "7047f2a3",
   "metadata": {},
   "outputs": [
    {
     "name": "stdout",
     "output_type": "stream",
     "text": [
      "(57243, 1)\n",
      "(26906,)\n",
      "0.013793103448275862\n"
     ]
    }
   ],
   "source": [
    "print(y_test.shape)\n",
    "print(pred_T.shape)\n",
    "\n",
    "f_one_T = f1_score(y_test[0:26906],pred_T)\n",
    "\n",
    "print(f_one_T)"
   ]
  },
  {
   "cell_type": "markdown",
   "id": "dbbecb8a",
   "metadata": {},
   "source": [
    "### 混合行列の表示"
   ]
  },
  {
   "cell_type": "code",
<<<<<<< HEAD
   "execution_count": 10,
=======
   "execution_count": 17,
>>>>>>> b957f352a99a6bb01726a960270ab9a6f264b289
   "id": "2ff2fcf9",
   "metadata": {},
   "outputs": [],
   "source": [
    "# ライブラリをインポートする\n",
    "from sklearn.metrics import confusion_matrix"
   ]
  },
  {
   "cell_type": "code",
<<<<<<< HEAD
   "execution_count": 11,
=======
   "execution_count": 18,
>>>>>>> b957f352a99a6bb01726a960270ab9a6f264b289
   "id": "2f969a91",
   "metadata": {},
   "outputs": [
    {
     "name": "stdout",
     "output_type": "stream",
     "text": [
      "[[45978   129]\n",
      " [10979   157]]\n"
     ]
    }
   ],
   "source": [
    "# 実測値y_test,予測値predを使って混同行列を作成する\n",
    "cm = confusion_matrix(y_test,pred)\n",
    "print(cm)\n"
   ]
  },
  {
   "cell_type": "code",
   "execution_count": 38,
   "id": "6b4f7a00",
   "metadata": {},
   "outputs": [
    {
     "name": "stdout",
     "output_type": "stream",
     "text": [
      "[[21578    98]\n",
      " [ 5193    37]]\n"
     ]
    }
   ],
   "source": [
    "cm_T = confusion_matrix(y_test[0:26906],pred_T)\n",
    "print(cm_T)"
   ]
  },
  {
   "cell_type": "markdown",
   "id": "5b6c66d6",
   "metadata": {},
   "source": [
    "### 確率値の取得"
   ]
  },
  {
   "cell_type": "code",
<<<<<<< HEAD
   "execution_count": 12,
=======
   "execution_count": 19,
>>>>>>> b957f352a99a6bb01726a960270ab9a6f264b289
   "id": "e75ed8ce",
   "metadata": {},
   "outputs": [
    {
     "name": "stdout",
     "output_type": "stream",
     "text": [
      "          0         1\n",
      "0  0.851499  0.148501\n",
      "1  0.943967  0.056033\n",
      "2  0.867731  0.132269\n",
      "3  0.900588  0.099412\n",
      "4  0.623500  0.376500\n"
     ]
    }
   ],
   "source": [
    "# X_testに対する予測の確率値を算出する\n",
    "pred_proba = lr.predict_proba(X_test)\n",
    "\n",
    "# 算出した確率値をDataFrameに変換する\n",
    "proba_df = pd.DataFrame(pred_proba)\n",
    "print(proba_df.head())"
   ]
  },
  {
   "cell_type": "code",
   "execution_count": null,
   "id": "2b41540e",
   "metadata": {},
   "outputs": [],
   "source": []
  }
 ],
 "metadata": {
  "kernelspec": {
   "display_name": "Python 3 (ipykernel)",
   "language": "python",
   "name": "python3"
  },
  "language_info": {
   "codemirror_mode": {
    "name": "ipython",
    "version": 3
   },
   "file_extension": ".py",
   "mimetype": "text/x-python",
   "name": "python",
   "nbconvert_exporter": "python",
   "pygments_lexer": "ipython3",
   "version": "3.9.7"
  }
 },
 "nbformat": 4,
 "nbformat_minor": 5
}

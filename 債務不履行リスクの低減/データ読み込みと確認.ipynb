{
 "cells": [
  {
   "cell_type": "markdown",
   "id": "8ecb780f",
   "metadata": {},
   "source": [
    "## データ読み込み"
   ]
  },
  {
   "cell_type": "code",
   "execution_count": 1,
   "id": "389b64a4",
   "metadata": {},
   "outputs": [],
   "source": [
    "# ライブラリのインポート\n",
    "import pandas as pd\n",
    "import numpy as np\n",
    "import matplotlib.pyplot as plt"
   ]
  },
  {
   "cell_type": "code",
   "execution_count": 3,
   "id": "c1a7e5b8",
   "metadata": {
    "collapsed": true
   },
   "outputs": [
    {
     "name": "stdout",
     "output_type": "stream",
     "text": [
      "         id  loan_amnt     term  interest_rate grade employment_length  \\\n",
      "0   1496754     1912.5  3 years          10.16    B1           5 years   \n",
      "1  84909594     1800.0  3 years           8.99    B1           9 years   \n",
      "2   1165403      550.0  3 years          14.65    C2          10 years   \n",
      "3  91354446     2000.0  5 years          15.59    C5          10 years   \n",
      "4  85636932     1500.0  5 years          12.79    C1           0 years   \n",
      "\n",
      "              purpose  credit_score application_type  \n",
      "0  debt_consolidation         725.0       Individual  \n",
      "1         credit_card         695.0       Individual  \n",
      "2         credit_card         660.0       Individual  \n",
      "3         credit_card         695.0       Individual  \n",
      "4             medical         720.0       Individual  \n",
      "         id  loan_amnt     term  interest_rate grade employment_length  \\\n",
      "0  88194295     1800.0  3 years          14.49    C4               NaN   \n",
      "1   5146039     1200.0  5 years          16.29    C4           2 years   \n",
      "2   3095896     2000.0  5 years          21.98    E4          10 years   \n",
      "3  88625044     1000.0  3 years           8.59    A5           4 years   \n",
      "4   1178189     1500.0  3 years          13.99    C1           4 years   \n",
      "\n",
      "              purpose  credit_score application_type loan_status  \n",
      "0  debt_consolidation         665.0       Individual   FullyPaid  \n",
      "1  debt_consolidation         700.0       Individual  ChargedOff  \n",
      "2    home_improvement         670.0       Individual   FullyPaid  \n",
      "3  debt_consolidation         710.0       Individual   FullyPaid  \n",
      "4  debt_consolidation         680.0       Individual   FullyPaid  \n"
     ]
    }
   ],
   "source": [
    "# データの読み込み\n",
    "test_data = pd.read_csv('test.csv')\n",
    "train_data = pd.read_csv('train.csv')\n",
    "print(test_data.head())\n",
    "print(train_data.head())"
   ]
  },
  {
   "cell_type": "code",
   "execution_count": 6,
   "id": "e41cd466",
   "metadata": {},
   "outputs": [
    {
     "name": "stdout",
     "output_type": "stream",
     "text": [
      "test_data: (26906, 9)\n",
      "train_data: (242156, 10)\n"
     ]
    }
   ],
   "source": [
    "# データの行数と列数を表示する\n",
    "print('test_data:',test_data.shape)\n",
    "print('train_data:',train_data.shape)"
   ]
  },
  {
   "cell_type": "code",
   "execution_count": 12,
   "id": "5afb9231",
   "metadata": {
    "collapsed": true
   },
   "outputs": [
    {
     "name": "stdout",
     "output_type": "stream",
     "text": [
      "<class 'pandas.core.frame.DataFrame'>\n",
      "<class 'pandas.core.frame.DataFrame'>\n",
      "<class 'pandas.core.series.Series'>\n",
      "test_data\n",
      "id                     int64\n",
      "loan_amnt            float64\n",
      "term                  object\n",
      "interest_rate        float64\n",
      "grade                 object\n",
      "employment_length     object\n",
      "purpose               object\n",
      "credit_score         float64\n",
      "application_type      object\n",
      "dtype: object\n",
      "train_data\n",
      "id                     int64\n",
      "loan_amnt            float64\n",
      "term                  object\n",
      "interest_rate        float64\n",
      "grade                 object\n",
      "employment_length     object\n",
      "purpose               object\n",
      "credit_score         float64\n",
      "application_type      object\n",
      "loan_status           object\n",
      "dtype: object\n"
     ]
    }
   ],
   "source": [
    "# データ型を表示する\n",
    "# ファイルのデータ型\n",
    "print(type(train_data))\n",
    "print(type(test_data))\n",
    "grade_var = train_data['grade']\n",
    "print(type(grade_var))\n",
    "\n",
    "# 各項目のデータ型\n",
    "print('test_data')\n",
    "print(test_data.dtypes)\n",
    "print('train_data')\n",
    "print(train_data.dtypes)"
   ]
  },
  {
   "cell_type": "code",
   "execution_count": 23,
   "id": "173f2bf6",
   "metadata": {
    "collapsed": true
   },
   "outputs": [
    {
     "name": "stdout",
     "output_type": "stream",
     "text": [
      "10 years    79095\n",
      "2 years     22098\n",
      "3 years     18772\n",
      "0 years     18511\n",
      "5 years     16995\n",
      "1 year      15883\n",
      "4 years     14895\n",
      "6 years     13127\n",
      "7 years     10678\n",
      "8 years      9938\n",
      "9 years      8979\n",
      "Name: employment_length, dtype: int64\n",
      "debt_consolidation    141059\n",
      "credit_card            48380\n",
      "home_improvement       16072\n",
      "other                  15417\n",
      "major_purchase          5743\n",
      "small_business          3300\n",
      "car                     2888\n",
      "medical                 2830\n",
      "moving                  1788\n",
      "house                   1737\n",
      "vacation                1711\n",
      "wedding                 1023\n",
      "renewable_energy         208\n",
      "Name: purpose, dtype: int64\n",
      "670.0    19926\n",
      "665.0    19168\n",
      "660.0    18833\n",
      "680.0    18721\n",
      "675.0    18551\n",
      "685.0    16908\n",
      "690.0    16519\n",
      "695.0    14953\n",
      "700.0    14051\n",
      "705.0    12561\n",
      "710.0    10814\n",
      "715.0     9520\n",
      "720.0     8230\n",
      "725.0     6464\n",
      "730.0     5549\n",
      "735.0     4402\n",
      "740.0     3906\n",
      "745.0     3157\n",
      "750.0     2922\n",
      "755.0     2516\n",
      "760.0     2048\n",
      "765.0     1890\n",
      "770.0     1638\n",
      "775.0     1490\n",
      "780.0     1347\n",
      "785.0     1097\n",
      "790.0     1078\n",
      "795.0      856\n",
      "800.0      741\n",
      "805.0      655\n",
      "810.0      451\n",
      "815.0      377\n",
      "820.0      271\n",
      "825.0      227\n",
      "830.0      150\n",
      "835.0       84\n",
      "840.0       52\n",
      "845.0       33\n",
      "Name: credit_score, dtype: int64\n",
      "Individual    236086\n",
      "Joint App       6070\n",
      "Name: application_type, dtype: int64\n",
      "3 years    188699\n",
      "5 years     53457\n",
      "Name: term, dtype: int64\n",
      "FullyPaid     193815\n",
      "ChargedOff     48341\n",
      "Name: loan_status, dtype: int64\n"
     ]
    }
   ],
   "source": [
    "# 各項目の値と出現回数を確認する\n",
    "#print(train_data['id'].value_counts())\n",
    "#print(train_data['loan_amnt'].value_counts())\n",
    "#print(train_data['interest_rate'].value_counts())\n",
    "#print(train_data['grade'].value_counts())\n",
    "print(train_data['employment_length'].value_counts())\n",
    "print(train_data['purpose'].value_counts())\n",
    "print(train_data['credit_score'].value_counts())\n",
    "print(train_data['application_type'].value_counts())\n",
    "print(train_data['term'].value_counts())\n",
    "print(train_data['loan_status'].value_counts())"
   ]
  },
  {
   "cell_type": "code",
   "execution_count": 37,
   "id": "aed2edbe",
   "metadata": {},
   "outputs": [
    {
     "name": "stdout",
     "output_type": "stream",
     "text": [
      "   loan_amnt     term  interest_rate grade employment_length  \\\n",
      "0     1800.0  3 years          14.49    C4               NaN   \n",
      "1     1200.0  5 years          16.29    C4           2 years   \n",
      "2     2000.0  5 years          21.98    E4          10 years   \n",
      "3     1000.0  3 years           8.59    A5           4 years   \n",
      "4     1500.0  3 years          13.99    C1           4 years   \n",
      "\n",
      "              purpose  credit_score application_type loan_status  \n",
      "0  debt_consolidation         665.0       Individual   FullyPaid  \n",
      "1  debt_consolidation         700.0       Individual  ChargedOff  \n",
      "2    home_improvement         670.0       Individual   FullyPaid  \n",
      "3  debt_consolidation         710.0       Individual   FullyPaid  \n",
      "4  debt_consolidation         680.0       Individual   FullyPaid  \n",
      "   loan_amnt     term  interest_rate grade employment_length  \\\n",
      "0     1912.5  3 years          10.16    B1           5 years   \n",
      "1     1800.0  3 years           8.99    B1           9 years   \n",
      "2      550.0  3 years          14.65    C2          10 years   \n",
      "3     2000.0  5 years          15.59    C5          10 years   \n",
      "4     1500.0  5 years          12.79    C1           0 years   \n",
      "\n",
      "              purpose  credit_score application_type  \n",
      "0  debt_consolidation         725.0       Individual  \n",
      "1         credit_card         695.0       Individual  \n",
      "2         credit_card         660.0       Individual  \n",
      "3         credit_card         695.0       Individual  \n",
      "4             medical         720.0       Individual  \n",
      "<class 'pandas.core.frame.DataFrame'>\n",
      "<class 'pandas.core.frame.DataFrame'>\n"
     ]
    }
   ],
   "source": [
    "# 不要な項目(id)を削除する\n",
    "train_data_var = train_data.drop(columns=['id'])\n",
    "test_data_var = test_data.drop(columns=['id'])\n",
    "print(train_data_var.head())\n",
    "print(test_data_var.head())\n",
    "print(type(train_data_var))\n",
    "print(type(test_data_var))\n"
   ]
  },
  {
   "cell_type": "code",
   "execution_count": 39,
   "id": "42b7474a",
   "metadata": {
    "collapsed": true
   },
   "outputs": [
    {
     "name": "stdout",
     "output_type": "stream",
     "text": [
      "loan_amnt                0\n",
      "term                     0\n",
      "interest_rate            0\n",
      "grade                    0\n",
      "employment_length    13185\n",
      "purpose                  0\n",
      "credit_score             0\n",
      "application_type         0\n",
      "loan_status              0\n",
      "dtype: int64\n",
      "loan_amnt               0\n",
      "term                    0\n",
      "interest_rate           0\n",
      "grade                   0\n",
      "employment_length    1440\n",
      "purpose                 0\n",
      "credit_score            0\n",
      "application_type        0\n",
      "dtype: int64\n",
      "(242156, 9)\n",
      "(228971, 9)\n",
      "(242156, 9)\n",
      "(242156, 9)\n"
     ]
    }
   ],
   "source": [
    "# 欠損値の確認\n",
    "print(train_data_var.isnull().sum())\n",
    "\n",
    "# 欠損値を削除する\n",
    "print(train_data_var.shape)\n",
    "train_data_var_drop = train_data_var.dropna()\n",
    "print(train_data_var_drop.shape)\n",
    "\n",
    "# 欠損値を'0 years'で補正する\n",
    "print(train_data_var.shape)\n",
    "train_data_var_fill = train_data_var.fillna('0 years')\n",
    "print(train_data_var_fill.shape)\n"
   ]
  },
  {
   "cell_type": "code",
   "execution_count": 40,
   "id": "1332c2b9",
   "metadata": {},
   "outputs": [
    {
     "name": "stdout",
     "output_type": "stream",
     "text": [
      "loan_amnt               0\n",
      "term                    0\n",
      "interest_rate           0\n",
      "grade                   0\n",
      "employment_length    1440\n",
      "purpose                 0\n",
      "credit_score            0\n",
      "application_type        0\n",
      "dtype: int64\n",
      "(26906, 8)\n",
      "(26906, 8)\n"
     ]
    }
   ],
   "source": [
    "# 欠損値の確認\n",
    "print(test_data_var.isnull().sum())\n",
    "\n",
    "# 欠損値を削除する\n",
    "#print(test_data_var.shape)\n",
    "#test_data_var_drop = test_data_var.dropna()\n",
    "#print(test_data_var_drop.shape)\n",
    "\n",
    "# 欠損値を'0 years'で補正する\n",
    "print(test_data_var.shape)\n",
    "test_data_var_fill = test_data_var.fillna('0 years')\n",
    "print(test_data_var_fill.shape)\n"
   ]
  },
  {
   "cell_type": "markdown",
   "id": "1be1a030",
   "metadata": {},
   "source": [
    "## データの調査"
   ]
  },
  {
   "cell_type": "code",
   "execution_count": null,
   "id": "fef9b935",
   "metadata": {},
   "outputs": [],
   "source": [
    "# 基本統計量を確認する\n"
   ]
  }
 ],
 "metadata": {
  "kernelspec": {
   "display_name": "Python 3 (ipykernel)",
   "language": "python",
   "name": "python3"
  },
  "language_info": {
   "codemirror_mode": {
    "name": "ipython",
    "version": 3
   },
   "file_extension": ".py",
   "mimetype": "text/x-python",
   "name": "python",
   "nbconvert_exporter": "python",
   "pygments_lexer": "ipython3",
   "version": "3.9.7"
  }
 },
 "nbformat": 4,
 "nbformat_minor": 5
}

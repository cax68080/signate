{
 "cells": [
  {
   "cell_type": "code",
   "execution_count": 3,
   "id": "9f27dbdd-b2b2-436d-b7f2-c74afee2dcfc",
   "metadata": {},
   "outputs": [],
   "source": [
    "from sklearn.metrics import accuracy_score\n",
    "from sklearn.linear_model import LinearRegression as LR\n",
    "import pandas as pd\n",
    "import seaborn as sns\n",
    "import matplotlib.pyplot as plt\n",
    "from sklearn.model_selection import KFold\n",
    "import lightgbm as lgb\n",
    "import optuna.integration.lightgbm as lgb_op\n",
    "from sklearn.model_selection import train_test_split\n",
    "from sklearn import metrics"
   ]
  },
  {
   "cell_type": "code",
   "execution_count": 5,
   "id": "77729d21-ee47-42e1-975a-89e40ebae0e5",
   "metadata": {
    "scrolled": true
   },
   "outputs": [
    {
     "data": {
      "text/html": [
       "<div>\n",
       "<style scoped>\n",
       "    .dataframe tbody tr th:only-of-type {\n",
       "        vertical-align: middle;\n",
       "    }\n",
       "\n",
       "    .dataframe tbody tr th {\n",
       "        vertical-align: top;\n",
       "    }\n",
       "\n",
       "    .dataframe thead th {\n",
       "        text-align: right;\n",
       "    }\n",
       "</style>\n",
       "<table border=\"1\" class=\"dataframe\">\n",
       "  <thead>\n",
       "    <tr style=\"text-align: right;\">\n",
       "      <th></th>\n",
       "      <th>blueFirstBlood</th>\n",
       "      <th>blueKills</th>\n",
       "      <th>blueDeaths</th>\n",
       "      <th>blueAssists</th>\n",
       "      <th>blueEliteMonsters</th>\n",
       "      <th>blueDragons</th>\n",
       "      <th>blueTotalGold</th>\n",
       "      <th>blueTotalExperience</th>\n",
       "      <th>blueWins</th>\n",
       "    </tr>\n",
       "  </thead>\n",
       "  <tbody>\n",
       "    <tr>\n",
       "      <th>0</th>\n",
       "      <td>0</td>\n",
       "      <td>5</td>\n",
       "      <td>8</td>\n",
       "      <td>6</td>\n",
       "      <td>0</td>\n",
       "      <td>0</td>\n",
       "      <td>14536</td>\n",
       "      <td>17256</td>\n",
       "      <td>0</td>\n",
       "    </tr>\n",
       "    <tr>\n",
       "      <th>1</th>\n",
       "      <td>1</td>\n",
       "      <td>10</td>\n",
       "      <td>1</td>\n",
       "      <td>5</td>\n",
       "      <td>0</td>\n",
       "      <td>0</td>\n",
       "      <td>14536</td>\n",
       "      <td>17863</td>\n",
       "      <td>0</td>\n",
       "    </tr>\n",
       "    <tr>\n",
       "      <th>2</th>\n",
       "      <td>0</td>\n",
       "      <td>3</td>\n",
       "      <td>10</td>\n",
       "      <td>2</td>\n",
       "      <td>0</td>\n",
       "      <td>0</td>\n",
       "      <td>17409</td>\n",
       "      <td>17256</td>\n",
       "      <td>0</td>\n",
       "    </tr>\n",
       "    <tr>\n",
       "      <th>3</th>\n",
       "      <td>1</td>\n",
       "      <td>7</td>\n",
       "      <td>10</td>\n",
       "      <td>8</td>\n",
       "      <td>0</td>\n",
       "      <td>0</td>\n",
       "      <td>19558</td>\n",
       "      <td>18201</td>\n",
       "      <td>0</td>\n",
       "    </tr>\n",
       "    <tr>\n",
       "      <th>4</th>\n",
       "      <td>0</td>\n",
       "      <td>4</td>\n",
       "      <td>9</td>\n",
       "      <td>4</td>\n",
       "      <td>0</td>\n",
       "      <td>0</td>\n",
       "      <td>17409</td>\n",
       "      <td>17256</td>\n",
       "      <td>0</td>\n",
       "    </tr>\n",
       "  </tbody>\n",
       "</table>\n",
       "</div>"
      ],
      "text/plain": [
       "   blueFirstBlood  blueKills  blueDeaths  blueAssists  blueEliteMonsters  \\\n",
       "0               0          5           8            6                  0   \n",
       "1               1         10           1            5                  0   \n",
       "2               0          3          10            2                  0   \n",
       "3               1          7          10            8                  0   \n",
       "4               0          4           9            4                  0   \n",
       "\n",
       "   blueDragons  blueTotalGold  blueTotalExperience  blueWins  \n",
       "0            0          14536                17256         0  \n",
       "1            0          14536                17863         0  \n",
       "2            0          17409                17256         0  \n",
       "3            0          19558                18201         0  \n",
       "4            0          17409                17256         0  "
      ]
     },
     "metadata": {},
     "output_type": "display_data"
    },
    {
     "name": "stdout",
     "output_type": "stream",
     "text": [
      "<class 'pandas.core.frame.DataFrame'>\n",
      "RangeIndex: 8000 entries, 0 to 7999\n",
      "Data columns (total 9 columns):\n",
      " #   Column               Non-Null Count  Dtype\n",
      "---  ------               --------------  -----\n",
      " 0   blueFirstBlood       8000 non-null   int64\n",
      " 1   blueKills            8000 non-null   int64\n",
      " 2   blueDeaths           8000 non-null   int64\n",
      " 3   blueAssists          8000 non-null   int64\n",
      " 4   blueEliteMonsters    8000 non-null   int64\n",
      " 5   blueDragons          8000 non-null   int64\n",
      " 6   blueTotalGold        8000 non-null   int64\n",
      " 7   blueTotalExperience  8000 non-null   int64\n",
      " 8   blueWins             8000 non-null   int64\n",
      "dtypes: int64(9)\n",
      "memory usage: 562.6 KB\n",
      "None\n"
     ]
    }
   ],
   "source": [
    "df_train = pd.read_csv(\"./train.csv\")\n",
    "#df_test = pd.read_csv(\"./test.csv\")\n",
    "#df_sample = pd.read_csv(\"./sample_submit.csv\",header=None)\n",
    "df_train = df_train.drop([\"gameId\"],axis=\"columns\")\n",
    "#df_test = df_test.drop([\"gameId\"],axis=\"columns\")\n",
    "display(df_train.head())\n",
    "#display(df_test.head())\n",
    "#display(df_sample.head())\n",
    "print(df_train.info())\n",
    "#print(df_test.info())"
   ]
  },
  {
   "cell_type": "code",
   "execution_count": 8,
   "id": "68188d86-5f93-4fee-8c29-90a36e301bf9",
   "metadata": {},
   "outputs": [
    {
     "data": {
      "text/plain": [
       "8000"
      ]
     },
     "execution_count": 8,
     "metadata": {},
     "output_type": "execute_result"
    }
   ],
   "source": [
    "len(df_train)"
   ]
  },
  {
   "cell_type": "code",
   "execution_count": 10,
   "id": "b4abcf68-0e5b-473b-9b13-7039b571b745",
   "metadata": {},
   "outputs": [
    {
     "name": "stdout",
     "output_type": "stream",
     "text": [
      "blueFirstBlood             0.513000\n",
      "blueKills                  6.029750\n",
      "blueDeaths                 5.923500\n",
      "blueAssists                5.881875\n",
      "blueEliteMonsters          0.538625\n",
      "blueDragons                0.358125\n",
      "blueTotalGold          17154.067750\n",
      "blueTotalExperience    17983.514000\n",
      "blueWins                   0.491750\n",
      "dtype: float64\n"
     ]
    }
   ],
   "source": [
    "print(df_train.mean())"
   ]
  },
  {
   "cell_type": "code",
   "execution_count": 14,
   "id": "2ab9fa1b-1a6e-4b74-97f0-ad0c68ffcee5",
   "metadata": {},
   "outputs": [
    {
     "name": "stdout",
     "output_type": "stream",
     "text": [
      "blueFirstBlood             1.0\n",
      "blueKills                  6.0\n",
      "blueDeaths                 6.0\n",
      "blueAssists                6.0\n",
      "blueEliteMonsters          0.0\n",
      "blueDragons                0.0\n",
      "blueTotalGold          17409.0\n",
      "blueTotalExperience    18021.0\n",
      "blueWins                   0.0\n",
      "dtype: float64\n"
     ]
    }
   ],
   "source": [
    "print(df_train.median())"
   ]
  },
  {
   "cell_type": "code",
   "execution_count": null,
   "id": "9761e7f8-03af-4554-b137-fb8126e735fd",
   "metadata": {},
   "outputs": [],
   "source": []
  }
 ],
 "metadata": {
  "kernelspec": {
   "display_name": "Python 3 (ipykernel)",
   "language": "python",
   "name": "python3"
  },
  "language_info": {
   "codemirror_mode": {
    "name": "ipython",
    "version": 3
   },
   "file_extension": ".py",
   "mimetype": "text/x-python",
   "name": "python",
   "nbconvert_exporter": "python",
   "pygments_lexer": "ipython3",
   "version": "3.9.19"
  }
 },
 "nbformat": 4,
 "nbformat_minor": 5
}

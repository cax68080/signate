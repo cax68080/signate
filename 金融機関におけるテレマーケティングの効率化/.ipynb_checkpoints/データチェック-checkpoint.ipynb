{
 "cells": [
  {
   "cell_type": "code",
   "execution_count": 1,
   "id": "7fea8ebd",
   "metadata": {},
   "outputs": [],
   "source": [
    "# ライブラリのインポート\n",
    "import pandas as pd"
   ]
  },
  {
   "cell_type": "code",
   "execution_count": 5,
   "id": "bc34e596",
   "metadata": {
    "collapsed": true
   },
   "outputs": [
    {
     "name": "stdout",
     "output_type": "stream",
     "text": [
      "(27128, 17)\n",
      "(18083, 16)\n",
      "(18083, 1)\n",
      "        y\n",
      "id       \n",
      "1   0.236\n",
      "2   0.128\n",
      "3   0.903\n",
      "4   0.782\n",
      "5   0.597\n"
     ]
    }
   ],
   "source": [
    "# CSVデータの読み込み\n",
    "train = pd.read_csv('train.csv',index_col='id')\n",
    "test = pd.read_csv('test.csv',index_col='id')\n",
    "submit = pd.read_csv('submit_sample.csv',header=None,names=['id','y'],index_col='id')\n",
    "\n",
    "#確認\n",
    "print(train.shape)\n",
    "print(test.shape)\n",
    "print(submit.shape)\n",
    "print(submit.head())"
   ]
  },
  {
   "cell_type": "code",
   "execution_count": 6,
   "id": "95412676",
   "metadata": {
    "collapsed": true
   },
   "outputs": [
    {
     "name": "stdout",
     "output_type": "stream",
     "text": [
      "<class 'pandas.core.frame.DataFrame'>\n",
      "Int64Index: 27128 entries, 1 to 27128\n",
      "Data columns (total 17 columns):\n",
      " #   Column     Non-Null Count  Dtype \n",
      "---  ------     --------------  ----- \n",
      " 0   age        27128 non-null  int64 \n",
      " 1   job        27128 non-null  object\n",
      " 2   marital    27128 non-null  object\n",
      " 3   education  27128 non-null  object\n",
      " 4   default    27128 non-null  object\n",
      " 5   balance    27128 non-null  int64 \n",
      " 6   housing    27128 non-null  object\n",
      " 7   loan       27128 non-null  object\n",
      " 8   contact    27128 non-null  object\n",
      " 9   day        27128 non-null  int64 \n",
      " 10  month      27128 non-null  object\n",
      " 11  duration   27128 non-null  int64 \n",
      " 12  campaign   27128 non-null  int64 \n",
      " 13  pdays      27128 non-null  int64 \n",
      " 14  previous   27128 non-null  int64 \n",
      " 15  poutcome   27128 non-null  object\n",
      " 16  y          27128 non-null  int64 \n",
      "dtypes: int64(8), object(9)\n",
      "memory usage: 3.7+ MB\n",
      "None\n",
      "<class 'pandas.core.frame.DataFrame'>\n",
      "Int64Index: 18083 entries, 1 to 18083\n",
      "Data columns (total 16 columns):\n",
      " #   Column     Non-Null Count  Dtype \n",
      "---  ------     --------------  ----- \n",
      " 0   age        18083 non-null  int64 \n",
      " 1   job        18083 non-null  object\n",
      " 2   marital    18083 non-null  object\n",
      " 3   education  18083 non-null  object\n",
      " 4   default    18083 non-null  object\n",
      " 5   balance    18083 non-null  int64 \n",
      " 6   housing    18083 non-null  object\n",
      " 7   loan       18083 non-null  object\n",
      " 8   contact    18083 non-null  object\n",
      " 9   day        18083 non-null  int64 \n",
      " 10  month      18083 non-null  object\n",
      " 11  duration   18083 non-null  int64 \n",
      " 12  campaign   18083 non-null  int64 \n",
      " 13  pdays      18083 non-null  int64 \n",
      " 14  previous   18083 non-null  int64 \n",
      " 15  poutcome   18083 non-null  object\n",
      "dtypes: int64(7), object(9)\n",
      "memory usage: 2.3+ MB\n",
      "None\n"
     ]
    }
   ],
   "source": [
    "#データ情報の確認\n",
    "print(train.info())\n",
    "print(test.info())"
   ]
  },
  {
   "cell_type": "code",
   "execution_count": null,
   "id": "f42e61bd",
   "metadata": {},
   "outputs": [],
   "source": []
  }
 ],
 "metadata": {
  "kernelspec": {
   "display_name": "Python 3 (ipykernel)",
   "language": "python",
   "name": "python3"
  },
  "language_info": {
   "codemirror_mode": {
    "name": "ipython",
    "version": 3
   },
   "file_extension": ".py",
   "mimetype": "text/x-python",
   "name": "python",
   "nbconvert_exporter": "python",
   "pygments_lexer": "ipython3",
   "version": "3.9.7"
  }
 },
 "nbformat": 4,
 "nbformat_minor": 5
}

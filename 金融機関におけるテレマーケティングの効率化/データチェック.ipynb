{
 "cells": [
  {
   "cell_type": "code",
   "execution_count": 2,
   "id": "7fea8ebd",
   "metadata": {},
   "outputs": [],
   "source": [
    "# ライブラリのインポート\n",
    "import pandas as pd"
   ]
  },
  {
   "cell_type": "code",
   "execution_count": 3,
   "id": "bc34e596",
   "metadata": {
    "collapsed": true
   },
   "outputs": [
    {
     "name": "stdout",
     "output_type": "stream",
     "text": [
      "(27128, 17)\n",
      "(18083, 16)\n",
      "(18083, 1)\n",
      "        y\n",
      "id       \n",
      "1   0.236\n",
      "2   0.128\n",
      "3   0.903\n",
      "4   0.782\n",
      "5   0.597\n"
     ]
    }
   ],
   "source": [
    "# CSVデータの読み込み\n",
    "train = pd.read_csv('train.csv',index_col='id')\n",
    "test = pd.read_csv('test.csv',index_col='id')\n",
    "submit = pd.read_csv('submit_sample.csv',header=None,names=['id','y'],index_col='id')\n",
    "\n",
    "#確認\n",
    "print(train.shape)\n",
    "print(test.shape)\n",
    "print(submit.shape)\n",
    "print(submit.head())"
   ]
  },
  {
   "cell_type": "code",
   "execution_count": 6,
   "id": "95412676",
   "metadata": {
    "collapsed": true
   },
   "outputs": [
    {
     "name": "stdout",
     "output_type": "stream",
     "text": [
      "<class 'pandas.core.frame.DataFrame'>\n",
      "Int64Index: 27128 entries, 1 to 27128\n",
      "Data columns (total 17 columns):\n",
      " #   Column     Non-Null Count  Dtype \n",
      "---  ------     --------------  ----- \n",
      " 0   age        27128 non-null  int64 \n",
      " 1   job        27128 non-null  object\n",
      " 2   marital    27128 non-null  object\n",
      " 3   education  27128 non-null  object\n",
      " 4   default    27128 non-null  object\n",
      " 5   balance    27128 non-null  int64 \n",
      " 6   housing    27128 non-null  object\n",
      " 7   loan       27128 non-null  object\n",
      " 8   contact    27128 non-null  object\n",
      " 9   day        27128 non-null  int64 \n",
      " 10  month      27128 non-null  object\n",
      " 11  duration   27128 non-null  int64 \n",
      " 12  campaign   27128 non-null  int64 \n",
      " 13  pdays      27128 non-null  int64 \n",
      " 14  previous   27128 non-null  int64 \n",
      " 15  poutcome   27128 non-null  object\n",
      " 16  y          27128 non-null  int64 \n",
      "dtypes: int64(8), object(9)\n",
      "memory usage: 3.7+ MB\n",
      "None\n",
      "<class 'pandas.core.frame.DataFrame'>\n",
      "Int64Index: 18083 entries, 1 to 18083\n",
      "Data columns (total 16 columns):\n",
      " #   Column     Non-Null Count  Dtype \n",
      "---  ------     --------------  ----- \n",
      " 0   age        18083 non-null  int64 \n",
      " 1   job        18083 non-null  object\n",
      " 2   marital    18083 non-null  object\n",
      " 3   education  18083 non-null  object\n",
      " 4   default    18083 non-null  object\n",
      " 5   balance    18083 non-null  int64 \n",
      " 6   housing    18083 non-null  object\n",
      " 7   loan       18083 non-null  object\n",
      " 8   contact    18083 non-null  object\n",
      " 9   day        18083 non-null  int64 \n",
      " 10  month      18083 non-null  object\n",
      " 11  duration   18083 non-null  int64 \n",
      " 12  campaign   18083 non-null  int64 \n",
      " 13  pdays      18083 non-null  int64 \n",
      " 14  previous   18083 non-null  int64 \n",
      " 15  poutcome   18083 non-null  object\n",
      "dtypes: int64(7), object(9)\n",
      "memory usage: 2.3+ MB\n",
      "None\n"
     ]
    }
   ],
   "source": [
    "#データ情報の確認\n",
    "print(train.info())\n",
    "print(test.info())"
   ]
  },
  {
   "cell_type": "code",
   "execution_count": 5,
   "id": "f42e61bd",
   "metadata": {},
   "outputs": [
    {
     "name": "stdout",
     "output_type": "stream",
     "text": [
      "                age        balance           day      duration      campaign  \\\n",
      "count  27128.000000   27128.000000  27128.000000  27128.000000  27128.000000   \n",
      "mean      40.951010    1355.800870     15.806215    260.711295      2.751769   \n",
      "std       10.608542    3003.305272      8.337904    260.091727      3.126594   \n",
      "min       18.000000   -6847.000000      1.000000      0.000000      1.000000   \n",
      "25%       33.000000      72.000000      8.000000    104.000000      1.000000   \n",
      "50%       39.000000     449.000000     16.000000    182.000000      2.000000   \n",
      "75%       48.000000    1428.000000     21.000000    323.000000      3.000000   \n",
      "max       95.000000  102127.000000     31.000000   4918.000000     63.000000   \n",
      "\n",
      "              pdays      previous             y  \n",
      "count  27128.000000  27128.000000  27128.000000  \n",
      "mean      40.528052      0.579733      0.117001  \n",
      "std      100.382462      2.503653      0.321427  \n",
      "min       -1.000000      0.000000      0.000000  \n",
      "25%       -1.000000      0.000000      0.000000  \n",
      "50%       -1.000000      0.000000      0.000000  \n",
      "75%       -1.000000      0.000000      0.000000  \n",
      "max      871.000000    275.000000      1.000000  \n",
      "                job  marital  education default housing   loan   contact  \\\n",
      "count         27128    27128      27128   27128   27128  27128     27128   \n",
      "unique           12        3          4       2       2      2         3   \n",
      "top     blue-collar  married  secondary      no     yes     no  cellular   \n",
      "freq           5886    16411      13882   26644   15125  22788     17580   \n",
      "\n",
      "        month poutcome  \n",
      "count   27128    27128  \n",
      "unique     12        4  \n",
      "top       may  unknown  \n",
      "freq     8317    22150  \n",
      "                age       balance           day      duration      campaign  \\\n",
      "count  18083.000000  18083.000000  18083.000000  18083.000000  18083.000000   \n",
      "mean      40.914008   1371.980092     15.806725    254.340264      2.781950   \n",
      "std       10.634331   3105.985293      8.299509    253.591981      3.054651   \n",
      "min       18.000000  -8019.000000      1.000000      0.000000      1.000000   \n",
      "25%       33.000000     72.000000      8.000000    102.000000      1.000000   \n",
      "50%       39.000000    447.000000     16.000000    178.000000      2.000000   \n",
      "75%       48.000000   1427.000000     21.000000    314.000000      3.000000   \n",
      "max       95.000000  98417.000000     31.000000   3881.000000     50.000000   \n",
      "\n",
      "              pdays      previous  \n",
      "count  18083.000000  18083.000000  \n",
      "mean      39.702428      0.581209  \n",
      "std       99.747634      1.965265  \n",
      "min       -1.000000      0.000000  \n",
      "25%       -1.000000      0.000000  \n",
      "50%       -1.000000      0.000000  \n",
      "75%       -1.000000      0.000000  \n",
      "max      854.000000     58.000000  \n",
      "                job  marital  education default housing   loan   contact  \\\n",
      "count         18083    18083      18083   18083   18083  18083     18083   \n",
      "unique           12        3          4       2       2      2         3   \n",
      "top     blue-collar  married  secondary      no     yes     no  cellular   \n",
      "freq           3846    10803       9320   17752   10005  15179     11705   \n",
      "\n",
      "        month poutcome  \n",
      "count   18083    18083  \n",
      "unique     12        4  \n",
      "top       may  unknown  \n",
      "freq     5449    14809  \n"
     ]
    }
   ],
   "source": [
    "# 基本統計量の表示\n",
    "print(train.describe())\n",
    "print(train.describe(include=\"O\"))\n",
    "\n",
    "print(test.describe())\n",
    "print(test.describe(include=\"O\"))"
   ]
  },
  {
   "cell_type": "code",
   "execution_count": 15,
   "id": "d06b324c",
   "metadata": {
    "collapsed": true
   },
   "outputs": [
    {
     "name": "stdout",
     "output_type": "stream",
     "text": [
      "blue-collar      5886\n",
      "management       5620\n",
      "technician       4491\n",
      "admin.           3085\n",
      "services         2506\n",
      "retired          1391\n",
      "self-employed     945\n",
      "entrepreneur      914\n",
      "unemployed        790\n",
      "housemaid         765\n",
      "student           557\n",
      "unknown           178\n",
      "Name: job, dtype: int64\n",
      "married     16411\n",
      "single       7662\n",
      "divorced     3055\n",
      "Name: marital, dtype: int64\n",
      "secondary    13882\n",
      "tertiary      7959\n",
      "primary       4150\n",
      "unknown       1137\n",
      "Name: education, dtype: int64\n",
      "no     26644\n",
      "yes      484\n",
      "Name: default, dtype: int64\n",
      "yes    15125\n",
      "no     12003\n",
      "Name: housing, dtype: int64\n",
      "no     22788\n",
      "yes     4340\n",
      "Name: loan, dtype: int64\n",
      "cellular     17580\n",
      "unknown       7861\n",
      "telephone     1687\n",
      "Name: contact, dtype: int64\n",
      "may    8317\n",
      "jul    4136\n",
      "aug    3718\n",
      "jun    3204\n",
      "nov    2342\n",
      "apr    1755\n",
      "feb    1586\n",
      "jan     846\n",
      "oct     439\n",
      "sep     356\n",
      "mar     299\n",
      "dec     130\n",
      "Name: month, dtype: int64\n",
      "unknown    22150\n",
      "failure     2969\n",
      "other       1123\n",
      "success      886\n",
      "Name: poutcome, dtype: int64\n"
     ]
    }
   ],
   "source": [
    "# 質的データの確認\n",
    "print(train['job'].value_counts())\n",
    "print(train['marital'].value_counts())\n",
    "print(train['education'].value_counts())\n",
    "print(train['default'].value_counts())\n",
    "print(train['housing'].value_counts())\n",
    "print(train['loan'].value_counts())\n",
    "print(train['contact'].value_counts())\n",
    "print(train['month'].value_counts())\n",
    "print(train['poutcome'].value_counts())"
   ]
  },
  {
   "cell_type": "code",
   "execution_count": 44,
   "id": "b64105ec",
   "metadata": {},
   "outputs": [
    {
     "name": "stdout",
     "output_type": "stream",
     "text": [
      "0    23954\n",
      "1     3174\n",
      "Name: y, dtype: int64\n"
     ]
    }
   ],
   "source": [
    "print(train['y'].value_counts())\n"
   ]
  },
  {
   "cell_type": "markdown",
   "id": "3a450574",
   "metadata": {},
   "source": [
    "### クロス集計でデータチェック"
   ]
  },
  {
   "cell_type": "code",
   "execution_count": 30,
   "id": "6b5452f0",
   "metadata": {},
   "outputs": [
    {
     "name": "stdout",
     "output_type": "stream",
     "text": [
      "y             0     1    All       cvr\n",
      "poutcome                              \n",
      "failure    2578   391   2969  0.131694\n",
      "other       950   173   1123  0.154052\n",
      "success     312   574    886  0.647856\n",
      "unknown   20114  2036  22150  0.091919\n",
      "All       23954  3174  27128  0.117001\n"
     ]
    }
   ],
   "source": [
    "# 前回キャンペーン成果と定額預金申し込み有無\n",
    "cross = pd.crosstab(train['poutcome'], train['y'], margins=True)\n",
    "rate = cross[1] / cross['All']\n",
    "cross['cvr'] = rate\n",
    "print(cross)\n"
   ]
  },
  {
   "cell_type": "code",
   "execution_count": 31,
   "id": "c8d84914",
   "metadata": {},
   "outputs": [
    {
     "name": "stdout",
     "output_type": "stream",
     "text": [
      "y                  0     1    All       cvr\n",
      "job                                        \n",
      "admin.          2700   385   3085  0.124797\n",
      "blue-collar     5456   430   5886  0.073055\n",
      "entrepreneur     834    80    914  0.087527\n",
      "housemaid        697    68    765  0.088889\n",
      "management      4853   767   5620  0.136477\n",
      "retired         1080   311   1391  0.223580\n",
      "self-employed    828   117    945  0.123810\n",
      "services        2282   224   2506  0.089385\n",
      "student          391   166    557  0.298025\n",
      "technician      4013   478   4491  0.106435\n",
      "unemployed       660   130    790  0.164557\n",
      "unknown          160    18    178  0.101124\n",
      "All            23954  3174  27128  0.117001\n"
     ]
    }
   ],
   "source": [
    "cross = pd.crosstab(train['job'], train['y'], margins=True)\n",
    "rate = cross[1] / cross['All']\n",
    "cross['cvr'] = rate\n",
    "print(cross)\n"
   ]
  },
  {
   "cell_type": "code",
   "execution_count": 45,
   "id": "5533757d",
   "metadata": {},
   "outputs": [
    {
     "name": "stdout",
     "output_type": "stream",
     "text": [
      "y             0     1    All       cvr\n",
      "marital                               \n",
      "divorced   2691   364   3055  0.119149\n",
      "married   14744  1667  16411  0.101578\n",
      "single     6519  1143   7662  0.149178\n",
      "All       23954  3174  27128  0.117001\n"
     ]
    }
   ],
   "source": [
    "cross = pd.crosstab(train['marital'], train['y'], margins=True)\n",
    "rate = cross[1] / cross['All']\n",
    "cross['cvr'] = rate\n",
    "print(cross)\n"
   ]
  },
  {
   "cell_type": "code",
   "execution_count": 32,
   "id": "d09c7a43",
   "metadata": {},
   "outputs": [
    {
     "name": "stdout",
     "output_type": "stream",
     "text": [
      "y              0     1    All       cvr\n",
      "education                              \n",
      "primary     3798   352   4150  0.084819\n",
      "secondary  12382  1500  13882  0.108054\n",
      "tertiary    6790  1169   7959  0.146878\n",
      "unknown      984   153   1137  0.134565\n",
      "All        23954  3174  27128  0.117001\n"
     ]
    }
   ],
   "source": [
    "cross = pd.crosstab(train['education'], train['y'], margins=True)\n",
    "rate = cross[1] / cross['All']\n",
    "cross['cvr'] = rate\n",
    "print(cross)\n"
   ]
  },
  {
   "cell_type": "code",
   "execution_count": 24,
   "id": "0fcf5339",
   "metadata": {},
   "outputs": [
    {
     "name": "stdout",
     "output_type": "stream",
     "text": [
      "y            0     1    All       cvr\n",
      "housing                              \n",
      "no        9991  2012  12003  0.167625\n",
      "yes      13963  1162  15125  0.076826\n",
      "All      23954  3174  27128  0.117001\n"
     ]
    }
   ],
   "source": [
    "cross = pd.crosstab(train['housing'], train['y'], margins=True)\n",
    "rate = cross[1] / cross['All']\n",
    "cross['cvr'] = rate\n",
    "print(cross)\n"
   ]
  },
  {
   "cell_type": "code",
   "execution_count": 29,
   "id": "ebc1c43f",
   "metadata": {},
   "outputs": [
    {
     "name": "stdout",
     "output_type": "stream",
     "text": [
      "y          0     1    All       cvr\n",
      "month                              \n",
      "apr     1418   337   1755  0.192023\n",
      "aug     3293   425   3718  0.114309\n",
      "dec       66    64    130  0.492308\n",
      "feb     1328   258   1586  0.162673\n",
      "jan      762    84    846  0.099291\n",
      "jul     3760   376   4136  0.090909\n",
      "jun     2880   324   3204  0.101124\n",
      "mar      147   152    299  0.508361\n",
      "may     7751   566   8317  0.068053\n",
      "nov     2107   235   2342  0.100342\n",
      "oct      247   192    439  0.437358\n",
      "sep      195   161    356  0.452247\n",
      "All    23954  3174  27128  0.117001\n"
     ]
    }
   ],
   "source": [
    "cross = pd.crosstab(train['month'], train['y'], margins=True)\n",
    "rate = cross[1] / cross['All']\n",
    "cross['cvr'] = rate\n",
    "print(cross)\n"
   ]
  },
  {
   "cell_type": "code",
   "execution_count": 42,
   "id": "98b0806f",
   "metadata": {},
   "outputs": [
    {
     "name": "stdout",
     "output_type": "stream",
     "text": [
      "y        0    1   All       cvr\n",
      "loan                           \n",
      "yes   2462  164  2626  0.062452\n",
      "All   2462  164  2626  0.062452\n",
      "y        0     1    All       cvr\n",
      "loan                             \n",
      "no    8411  1878  10289  0.182525\n",
      "All   8411  1878  10289  0.182525\n"
     ]
    }
   ],
   "source": [
    "loan_yes = train[(train['housing'] == 'yes') &  (train['loan'] == 'yes')]\n",
    "cross_yes = pd.crosstab(loan_yes['loan'], loan_yes['y'], margins=True)\n",
    "loan_no = train[(train['housing'] == 'no') &  (train['loan'] == 'no')]\n",
    "cross_no = pd.crosstab(loan_no['loan'], loan_no['y'], margins=True)\n",
    "rate = cross_yes[1] / cross_yes['All']\n",
    "cross_yes['cvr'] = rate\n",
    "rate = cross_no[1] / cross_no['All']\n",
    "cross_no['cvr'] = rate\n",
    "print(cross_yes)\n",
    "print(cross_no)\n"
   ]
  },
  {
   "cell_type": "code",
   "execution_count": 47,
   "id": "b1c75a54",
   "metadata": {
    "collapsed": true
   },
   "outputs": [
    {
     "name": "stdout",
     "output_type": "stream",
     "text": [
      "               age   balance       day  duration  campaign     pdays  \\\n",
      "age       1.000000  0.095343 -0.008518 -0.005309 -0.001340 -0.025272   \n",
      "balance   0.095343  1.000000  0.002067  0.019923 -0.016295  0.003613   \n",
      "day      -0.008518  0.002067  1.000000 -0.032453  0.164880 -0.096889   \n",
      "duration -0.005309  0.019923 -0.032453  1.000000 -0.087771  0.002030   \n",
      "campaign -0.001340 -0.016295  0.164880 -0.087771  1.000000 -0.086220   \n",
      "pdays    -0.025272  0.003613 -0.096889  0.002030 -0.086220  1.000000   \n",
      "previous  0.002946  0.012483 -0.050009  0.002489 -0.031557  0.421606   \n",
      "y         0.020892  0.045826 -0.031058  0.401390 -0.076118  0.100930   \n",
      "\n",
      "          previous         y  \n",
      "age       0.002946  0.020892  \n",
      "balance   0.012483  0.045826  \n",
      "day      -0.050009 -0.031058  \n",
      "duration  0.002489  0.401390  \n",
      "campaign -0.031557 -0.076118  \n",
      "pdays     0.421606  0.100930  \n",
      "previous  1.000000  0.083825  \n",
      "y         0.083825  1.000000  \n"
     ]
    },
    {
     "data": {
      "image/png": "[encoded data removed]",
      "text/plain": [
       "<Figure size 640x480 with 2 Axes>"
      ]
     },
     "metadata": {},
     "output_type": "display_data"
    }
   ],
   "source": [
    "# 量的データの相関係数\n",
    "corr_matrix = train.corr()\n",
    "print(corr_matrix)\n",
    "\n",
    "# ヒートマップを作成する\n",
    "import matplotlib.pyplot as plt\n",
    "import seaborn as sns\n",
    "\n",
    "sns.heatmap(corr_matrix,cmap=\"Reds\")\n",
    "\n",
    "plt.show()"
   ]
  },
  {
   "cell_type": "code",
   "execution_count": 51,
   "id": "1852e19c",
   "metadata": {},
   "outputs": [
    {
     "name": "stderr",
     "output_type": "stream",
     "text": [
      "C:\\ProgramData\\Anaconda3\\lib\\site-packages\\seaborn\\distributions.py:2619: FutureWarning: `distplot` is a deprecated function and will be removed in a future version. Please adapt your code to use either `displot` (a figure-level function with similar flexibility) or `histplot` (an axes-level function for histograms).\n",
      "  warnings.warn(msg, FutureWarning)\n",
      "C:\\ProgramData\\Anaconda3\\lib\\site-packages\\seaborn\\distributions.py:2619: FutureWarning: `distplot` is a deprecated function and will be removed in a future version. Please adapt your code to use either `displot` (a figure-level function with similar flexibility) or `histplot` (an axes-level function for histograms).\n",
      "  warnings.warn(msg, FutureWarning)\n"
     ]
    },
    {
     "data": {
      "image/png": "[encoded data removed]",
      "text/plain": [
       "<Figure size 640x480 with 1 Axes>"
      ]
     },
     "metadata": {},
     "output_type": "display_data"
    }
   ],
   "source": [
    "# durationのヒストグラム\n",
    "sns.distplot(train[train['y']==0]['duration'],label='y=0')\n",
    "sns.distplot(train[train['y']==1]['duration'],label='y=1')\n",
    "plt.legend()\n",
    "plt.show()"
   ]
  },
  {
   "cell_type": "code",
   "execution_count": null,
   "id": "9e912663",
   "metadata": {},
   "outputs": [],
   "source": []
  }
 ],
 "metadata": {
  "kernelspec": {
   "display_name": "Python 3 (ipykernel)",
   "language": "python",
   "name": "python3"
  },
  "language_info": {
   "codemirror_mode": {
    "name": "ipython",
    "version": 3
   },
   "file_extension": ".py",
   "mimetype": "text/x-python",
   "name": "python",
   "nbconvert_exporter": "python",
   "pygments_lexer": "ipython3",
   "version": "3.9.7"
  }
 },
 "nbformat": 4,
 "nbformat_minor": 5
}

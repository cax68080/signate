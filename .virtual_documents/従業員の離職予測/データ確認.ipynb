import pandas as pd
import numpy as np
from sklearn.linear_model import LogisticRegression
from sklearn.metrics import accuracy_score
import matplotlib.pyplot as plt
import seaborn as sns


df_train = pd.read_csv("./train.csv")
df_train = df_train.drop(columns="id")
display(df_train.head())
df_test = pd.read_csv("./test.csv")
display(df_test.head())
df_result = pd.read_csv("./sample_submit.csv")
display(df_result.head())
df_train_no = df_train[df_train["Attrition"] == 0]
df_train_yes = df_train[df_train["Attrition"] == 1]
display(df_train_no.head())
display(df_train_yes.head())



display(df_train.info())


print(df_train.isnull().sum())


print(df_train["JobRole"].value_counts())


fig = plt.figure()
axes1 = fig.add_subplot(1,1,1)
axes1.hist(data=df_train,x="Age",bins=10)
plt.show()
fig = plt.figure()
axes1 = fig.add_subplot(1,1,1)
axes1.hist(data=df_train_no,x="Age",bins=10)
plt.show()
fig = plt.figure()
axes1 = fig.add_subplot(1,1,1)
axes1.hist(data=df_train_yes,x="Age",bins=10)
plt.show()


fig = plt.figure()
axes1 = fig.add_subplot(1,1,1)
axes1.hist(data=df_train,x="DailyRate",bins=10)
plt.show()
fig = plt.figure()
axes1 = fig.add_subplot(1,1,1)
axes1.hist(data=df_train_no,x="DailyRate",bins=10)
plt.show()
fig = plt.figure()
axes1 = fig.add_subplot(1,1,1)
axes1.hist(data=df_train_yes,x="DailyRate",bins=10)
plt.show()


fig = plt.figure()
axes1 = fig.add_subplot(1,1,1)
axes1.hist(data=df_train,x="DistanceFromHome",bins=10)
plt.show()
fig = plt.figure()
axes1 = fig.add_subplot(1,1,1)
axes1.hist(data=df_train_no,x="DistanceFromHome",bins=10)
plt.show()
fig = plt.figure()
axes1 = fig.add_subplot(1,1,1)
axes1.hist(data=df_train_yes,x="DistanceFromHome",bins=10)
plt.show()


box,ax = plt.subplots()
sns.boxplot(data=df_train,x="DailyRate",ax=ax)
plt.show()




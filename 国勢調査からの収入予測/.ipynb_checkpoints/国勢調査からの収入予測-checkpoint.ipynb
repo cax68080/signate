{
 "cells": [
  {
   "cell_type": "code",
   "execution_count": 1,
   "id": "1bd864f9",
   "metadata": {},
   "outputs": [],
   "source": [
    "import pandas as pd\n",
    "import numpy as np\n",
    "import matplotlib.pyplot as plt\n",
    "import seaborn as sns"
   ]
  },
  {
   "cell_type": "code",
   "execution_count": 2,
   "id": "8c15f386",
   "metadata": {
    "collapsed": true,
    "jupyter": {
     "outputs_hidden": true
    }
   },
   "outputs": [
    {
     "data": {
      "text/html": [
       "<div>\n",
       "<style scoped>\n",
       "    .dataframe tbody tr th:only-of-type {\n",
       "        vertical-align: middle;\n",
       "    }\n",
       "\n",
       "    .dataframe tbody tr th {\n",
       "        vertical-align: top;\n",
       "    }\n",
       "\n",
       "    .dataframe thead th {\n",
       "        text-align: right;\n",
       "    }\n",
       "</style>\n",
       "<table border=\"1\" class=\"dataframe\">\n",
       "  <thead>\n",
       "    <tr style=\"text-align: right;\">\n",
       "      <th></th>\n",
       "      <th>index</th>\n",
       "      <th>age</th>\n",
       "      <th>workclass</th>\n",
       "      <th>fnlwgt</th>\n",
       "      <th>education</th>\n",
       "      <th>education-num</th>\n",
       "      <th>marital-status</th>\n",
       "      <th>occupation</th>\n",
       "      <th>relationship</th>\n",
       "      <th>race</th>\n",
       "      <th>sex</th>\n",
       "      <th>native-country</th>\n",
       "      <th>Y</th>\n",
       "    </tr>\n",
       "  </thead>\n",
       "  <tbody>\n",
       "    <tr>\n",
       "      <th>0</th>\n",
       "      <td>322</td>\n",
       "      <td>21</td>\n",
       "      <td>Private</td>\n",
       "      <td>132652</td>\n",
       "      <td>Some-college</td>\n",
       "      <td>10</td>\n",
       "      <td>Divorced</td>\n",
       "      <td>Adm-clerical</td>\n",
       "      <td>Own-child</td>\n",
       "      <td>White</td>\n",
       "      <td>Female</td>\n",
       "      <td>United-States</td>\n",
       "      <td>0</td>\n",
       "    </tr>\n",
       "    <tr>\n",
       "      <th>1</th>\n",
       "      <td>11968</td>\n",
       "      <td>29</td>\n",
       "      <td>Private</td>\n",
       "      <td>132652</td>\n",
       "      <td>HS-grad</td>\n",
       "      <td>9</td>\n",
       "      <td>Divorced</td>\n",
       "      <td>Adm-clerical</td>\n",
       "      <td>Not-in-family</td>\n",
       "      <td>White</td>\n",
       "      <td>Female</td>\n",
       "      <td>United-States</td>\n",
       "      <td>0</td>\n",
       "    </tr>\n",
       "    <tr>\n",
       "      <th>2</th>\n",
       "      <td>10868</td>\n",
       "      <td>19</td>\n",
       "      <td>Private</td>\n",
       "      <td>132652</td>\n",
       "      <td>Bachelors</td>\n",
       "      <td>13</td>\n",
       "      <td>Never-married</td>\n",
       "      <td>Prof-specialty</td>\n",
       "      <td>Not-in-family</td>\n",
       "      <td>White</td>\n",
       "      <td>Female</td>\n",
       "      <td>United-States</td>\n",
       "      <td>0</td>\n",
       "    </tr>\n",
       "    <tr>\n",
       "      <th>3</th>\n",
       "      <td>3394</td>\n",
       "      <td>17</td>\n",
       "      <td>Private</td>\n",
       "      <td>132652</td>\n",
       "      <td>HS-grad</td>\n",
       "      <td>9</td>\n",
       "      <td>Never-married</td>\n",
       "      <td>Craft-repair</td>\n",
       "      <td>Own-child</td>\n",
       "      <td>White</td>\n",
       "      <td>Male</td>\n",
       "      <td>United-States</td>\n",
       "      <td>0</td>\n",
       "    </tr>\n",
       "    <tr>\n",
       "      <th>4</th>\n",
       "      <td>15993</td>\n",
       "      <td>47</td>\n",
       "      <td>Private</td>\n",
       "      <td>132652</td>\n",
       "      <td>Some-college</td>\n",
       "      <td>10</td>\n",
       "      <td>Married-civ-spouse</td>\n",
       "      <td>Craft-repair</td>\n",
       "      <td>Husband</td>\n",
       "      <td>White</td>\n",
       "      <td>Male</td>\n",
       "      <td>United-States</td>\n",
       "      <td>0</td>\n",
       "    </tr>\n",
       "  </tbody>\n",
       "</table>\n",
       "</div>"
      ],
      "text/plain": [
       "   index  age workclass  fnlwgt     education  education-num  \\\n",
       "0    322   21   Private  132652  Some-college             10   \n",
       "1  11968   29   Private  132652       HS-grad              9   \n",
       "2  10868   19   Private  132652     Bachelors             13   \n",
       "3   3394   17   Private  132652       HS-grad              9   \n",
       "4  15993   47   Private  132652  Some-college             10   \n",
       "\n",
       "       marital-status      occupation   relationship   race     sex  \\\n",
       "0            Divorced    Adm-clerical      Own-child  White  Female   \n",
       "1            Divorced    Adm-clerical  Not-in-family  White  Female   \n",
       "2       Never-married  Prof-specialty  Not-in-family  White  Female   \n",
       "3       Never-married    Craft-repair      Own-child  White    Male   \n",
       "4  Married-civ-spouse    Craft-repair        Husband  White    Male   \n",
       "\n",
       "  native-country  Y  \n",
       "0  United-States  0  \n",
       "1  United-States  0  \n",
       "2  United-States  0  \n",
       "3  United-States  0  \n",
       "4  United-States  0  "
      ]
     },
     "metadata": {},
     "output_type": "display_data"
    },
    {
     "data": {
      "text/html": [
       "<div>\n",
       "<style scoped>\n",
       "    .dataframe tbody tr th:only-of-type {\n",
       "        vertical-align: middle;\n",
       "    }\n",
       "\n",
       "    .dataframe tbody tr th {\n",
       "        vertical-align: top;\n",
       "    }\n",
       "\n",
       "    .dataframe thead th {\n",
       "        text-align: right;\n",
       "    }\n",
       "</style>\n",
       "<table border=\"1\" class=\"dataframe\">\n",
       "  <thead>\n",
       "    <tr style=\"text-align: right;\">\n",
       "      <th></th>\n",
       "      <th>index</th>\n",
       "      <th>age</th>\n",
       "      <th>workclass</th>\n",
       "      <th>fnlwgt</th>\n",
       "      <th>education</th>\n",
       "      <th>education-num</th>\n",
       "      <th>marital-status</th>\n",
       "      <th>occupation</th>\n",
       "      <th>relationship</th>\n",
       "      <th>race</th>\n",
       "      <th>sex</th>\n",
       "      <th>native-country</th>\n",
       "      <th>Y</th>\n",
       "    </tr>\n",
       "  </thead>\n",
       "  <tbody>\n",
       "    <tr>\n",
       "      <th>9</th>\n",
       "      <td>15731</td>\n",
       "      <td>31</td>\n",
       "      <td>Private</td>\n",
       "      <td>132652</td>\n",
       "      <td>Bachelors</td>\n",
       "      <td>13</td>\n",
       "      <td>Married-civ-spouse</td>\n",
       "      <td>Exec-managerial</td>\n",
       "      <td>Husband</td>\n",
       "      <td>White</td>\n",
       "      <td>Male</td>\n",
       "      <td>United-States</td>\n",
       "      <td>1</td>\n",
       "    </tr>\n",
       "    <tr>\n",
       "      <th>11</th>\n",
       "      <td>8554</td>\n",
       "      <td>23</td>\n",
       "      <td>Private</td>\n",
       "      <td>132652</td>\n",
       "      <td>HS-grad</td>\n",
       "      <td>9</td>\n",
       "      <td>Married-civ-spouse</td>\n",
       "      <td>Sales</td>\n",
       "      <td>Husband</td>\n",
       "      <td>Black</td>\n",
       "      <td>Male</td>\n",
       "      <td>United-States</td>\n",
       "      <td>1</td>\n",
       "    </tr>\n",
       "    <tr>\n",
       "      <th>18</th>\n",
       "      <td>3709</td>\n",
       "      <td>47</td>\n",
       "      <td>Private</td>\n",
       "      <td>24694</td>\n",
       "      <td>Bachelors</td>\n",
       "      <td>13</td>\n",
       "      <td>Married-civ-spouse</td>\n",
       "      <td>Exec-managerial</td>\n",
       "      <td>Husband</td>\n",
       "      <td>White</td>\n",
       "      <td>Male</td>\n",
       "      <td>United-States</td>\n",
       "      <td>1</td>\n",
       "    </tr>\n",
       "    <tr>\n",
       "      <th>21</th>\n",
       "      <td>11535</td>\n",
       "      <td>50</td>\n",
       "      <td>Local-gov</td>\n",
       "      <td>132652</td>\n",
       "      <td>Prof-school</td>\n",
       "      <td>15</td>\n",
       "      <td>Married-civ-spouse</td>\n",
       "      <td>Prof-specialty</td>\n",
       "      <td>Husband</td>\n",
       "      <td>White</td>\n",
       "      <td>Male</td>\n",
       "      <td>United-States</td>\n",
       "      <td>1</td>\n",
       "    </tr>\n",
       "    <tr>\n",
       "      <th>22</th>\n",
       "      <td>225</td>\n",
       "      <td>60</td>\n",
       "      <td>Federal-gov</td>\n",
       "      <td>132652</td>\n",
       "      <td>Bachelors</td>\n",
       "      <td>13</td>\n",
       "      <td>Married-civ-spouse</td>\n",
       "      <td>Exec-managerial</td>\n",
       "      <td>Husband</td>\n",
       "      <td>Asian-Pac-Islander</td>\n",
       "      <td>Male</td>\n",
       "      <td>United-States</td>\n",
       "      <td>1</td>\n",
       "    </tr>\n",
       "  </tbody>\n",
       "</table>\n",
       "</div>"
      ],
      "text/plain": [
       "    index  age    workclass  fnlwgt    education  education-num  \\\n",
       "9   15731   31      Private  132652    Bachelors             13   \n",
       "11   8554   23      Private  132652      HS-grad              9   \n",
       "18   3709   47      Private   24694    Bachelors             13   \n",
       "21  11535   50    Local-gov  132652  Prof-school             15   \n",
       "22    225   60  Federal-gov  132652    Bachelors             13   \n",
       "\n",
       "        marital-status       occupation relationship                race  \\\n",
       "9   Married-civ-spouse  Exec-managerial      Husband               White   \n",
       "11  Married-civ-spouse            Sales      Husband               Black   \n",
       "18  Married-civ-spouse  Exec-managerial      Husband               White   \n",
       "21  Married-civ-spouse   Prof-specialty      Husband               White   \n",
       "22  Married-civ-spouse  Exec-managerial      Husband  Asian-Pac-Islander   \n",
       "\n",
       "     sex native-country  Y  \n",
       "9   Male  United-States  1  \n",
       "11  Male  United-States  1  \n",
       "18  Male  United-States  1  \n",
       "21  Male  United-States  1  \n",
       "22  Male  United-States  1  "
      ]
     },
     "metadata": {},
     "output_type": "display_data"
    },
    {
     "data": {
      "text/html": [
       "<div>\n",
       "<style scoped>\n",
       "    .dataframe tbody tr th:only-of-type {\n",
       "        vertical-align: middle;\n",
       "    }\n",
       "\n",
       "    .dataframe tbody tr th {\n",
       "        vertical-align: top;\n",
       "    }\n",
       "\n",
       "    .dataframe thead th {\n",
       "        text-align: right;\n",
       "    }\n",
       "</style>\n",
       "<table border=\"1\" class=\"dataframe\">\n",
       "  <thead>\n",
       "    <tr style=\"text-align: right;\">\n",
       "      <th></th>\n",
       "      <th>index</th>\n",
       "      <th>age</th>\n",
       "      <th>workclass</th>\n",
       "      <th>fnlwgt</th>\n",
       "      <th>education</th>\n",
       "      <th>education-num</th>\n",
       "      <th>marital-status</th>\n",
       "      <th>occupation</th>\n",
       "      <th>relationship</th>\n",
       "      <th>race</th>\n",
       "      <th>sex</th>\n",
       "      <th>native-country</th>\n",
       "      <th>Y</th>\n",
       "    </tr>\n",
       "  </thead>\n",
       "  <tbody>\n",
       "    <tr>\n",
       "      <th>0</th>\n",
       "      <td>322</td>\n",
       "      <td>21</td>\n",
       "      <td>Private</td>\n",
       "      <td>132652</td>\n",
       "      <td>Some-college</td>\n",
       "      <td>10</td>\n",
       "      <td>Divorced</td>\n",
       "      <td>Adm-clerical</td>\n",
       "      <td>Own-child</td>\n",
       "      <td>White</td>\n",
       "      <td>Female</td>\n",
       "      <td>United-States</td>\n",
       "      <td>0</td>\n",
       "    </tr>\n",
       "    <tr>\n",
       "      <th>1</th>\n",
       "      <td>11968</td>\n",
       "      <td>29</td>\n",
       "      <td>Private</td>\n",
       "      <td>132652</td>\n",
       "      <td>HS-grad</td>\n",
       "      <td>9</td>\n",
       "      <td>Divorced</td>\n",
       "      <td>Adm-clerical</td>\n",
       "      <td>Not-in-family</td>\n",
       "      <td>White</td>\n",
       "      <td>Female</td>\n",
       "      <td>United-States</td>\n",
       "      <td>0</td>\n",
       "    </tr>\n",
       "    <tr>\n",
       "      <th>2</th>\n",
       "      <td>10868</td>\n",
       "      <td>19</td>\n",
       "      <td>Private</td>\n",
       "      <td>132652</td>\n",
       "      <td>Bachelors</td>\n",
       "      <td>13</td>\n",
       "      <td>Never-married</td>\n",
       "      <td>Prof-specialty</td>\n",
       "      <td>Not-in-family</td>\n",
       "      <td>White</td>\n",
       "      <td>Female</td>\n",
       "      <td>United-States</td>\n",
       "      <td>0</td>\n",
       "    </tr>\n",
       "    <tr>\n",
       "      <th>3</th>\n",
       "      <td>3394</td>\n",
       "      <td>17</td>\n",
       "      <td>Private</td>\n",
       "      <td>132652</td>\n",
       "      <td>HS-grad</td>\n",
       "      <td>9</td>\n",
       "      <td>Never-married</td>\n",
       "      <td>Craft-repair</td>\n",
       "      <td>Own-child</td>\n",
       "      <td>White</td>\n",
       "      <td>Male</td>\n",
       "      <td>United-States</td>\n",
       "      <td>0</td>\n",
       "    </tr>\n",
       "    <tr>\n",
       "      <th>4</th>\n",
       "      <td>15993</td>\n",
       "      <td>47</td>\n",
       "      <td>Private</td>\n",
       "      <td>132652</td>\n",
       "      <td>Some-college</td>\n",
       "      <td>10</td>\n",
       "      <td>Married-civ-spouse</td>\n",
       "      <td>Craft-repair</td>\n",
       "      <td>Husband</td>\n",
       "      <td>White</td>\n",
       "      <td>Male</td>\n",
       "      <td>United-States</td>\n",
       "      <td>0</td>\n",
       "    </tr>\n",
       "  </tbody>\n",
       "</table>\n",
       "</div>"
      ],
      "text/plain": [
       "   index  age workclass  fnlwgt     education  education-num  \\\n",
       "0    322   21   Private  132652  Some-college             10   \n",
       "1  11968   29   Private  132652       HS-grad              9   \n",
       "2  10868   19   Private  132652     Bachelors             13   \n",
       "3   3394   17   Private  132652       HS-grad              9   \n",
       "4  15993   47   Private  132652  Some-college             10   \n",
       "\n",
       "       marital-status      occupation   relationship   race     sex  \\\n",
       "0            Divorced    Adm-clerical      Own-child  White  Female   \n",
       "1            Divorced    Adm-clerical  Not-in-family  White  Female   \n",
       "2       Never-married  Prof-specialty  Not-in-family  White  Female   \n",
       "3       Never-married    Craft-repair      Own-child  White    Male   \n",
       "4  Married-civ-spouse    Craft-repair        Husband  White    Male   \n",
       "\n",
       "  native-country  Y  \n",
       "0  United-States  0  \n",
       "1  United-States  0  \n",
       "2  United-States  0  \n",
       "3  United-States  0  \n",
       "4  United-States  0  "
      ]
     },
     "metadata": {},
     "output_type": "display_data"
    },
    {
     "name": "stdout",
     "output_type": "stream",
     "text": [
      "(11900, 13)\n"
     ]
    }
   ],
   "source": [
    "df_train = pd.read_csv(\"./train.csv\")\n",
    "display(df_train.head())\n",
    "df_train_over = df_train[df_train[\"Y\"] == 1]\n",
    "display(df_train_over.head())\n",
    "df_train_under = df_train[df_train[\"Y\"] == 0]\n",
    "display(df_train_under.head())\n",
    "print(df_train.shape)"
   ]
  },
  {
   "cell_type": "code",
   "execution_count": 3,
   "id": "270e44c0-0971-42eb-a98e-dd20ef12ae97",
   "metadata": {
    "collapsed": true,
    "jupyter": {
     "outputs_hidden": true
    }
   },
   "outputs": [
    {
     "data": {
      "text/html": [
       "<div>\n",
       "<style scoped>\n",
       "    .dataframe tbody tr th:only-of-type {\n",
       "        vertical-align: middle;\n",
       "    }\n",
       "\n",
       "    .dataframe tbody tr th {\n",
       "        vertical-align: top;\n",
       "    }\n",
       "\n",
       "    .dataframe thead th {\n",
       "        text-align: right;\n",
       "    }\n",
       "</style>\n",
       "<table border=\"1\" class=\"dataframe\">\n",
       "  <thead>\n",
       "    <tr style=\"text-align: right;\">\n",
       "      <th></th>\n",
       "      <th>index</th>\n",
       "      <th>age</th>\n",
       "      <th>workclass</th>\n",
       "      <th>fnlwgt</th>\n",
       "      <th>education</th>\n",
       "      <th>education-num</th>\n",
       "      <th>marital-status</th>\n",
       "      <th>occupation</th>\n",
       "      <th>relationship</th>\n",
       "      <th>race</th>\n",
       "      <th>sex</th>\n",
       "      <th>native-country</th>\n",
       "      <th>Y</th>\n",
       "    </tr>\n",
       "  </thead>\n",
       "  <tbody>\n",
       "    <tr>\n",
       "      <th>9</th>\n",
       "      <td>15731</td>\n",
       "      <td>31</td>\n",
       "      <td>Private</td>\n",
       "      <td>132652</td>\n",
       "      <td>Bachelors</td>\n",
       "      <td>13</td>\n",
       "      <td>Married-civ-spouse</td>\n",
       "      <td>Exec-managerial</td>\n",
       "      <td>Husband</td>\n",
       "      <td>White</td>\n",
       "      <td>Male</td>\n",
       "      <td>United-States</td>\n",
       "      <td>1</td>\n",
       "    </tr>\n",
       "    <tr>\n",
       "      <th>18</th>\n",
       "      <td>3709</td>\n",
       "      <td>47</td>\n",
       "      <td>Private</td>\n",
       "      <td>24694</td>\n",
       "      <td>Bachelors</td>\n",
       "      <td>13</td>\n",
       "      <td>Married-civ-spouse</td>\n",
       "      <td>Exec-managerial</td>\n",
       "      <td>Husband</td>\n",
       "      <td>White</td>\n",
       "      <td>Male</td>\n",
       "      <td>United-States</td>\n",
       "      <td>1</td>\n",
       "    </tr>\n",
       "    <tr>\n",
       "      <th>21</th>\n",
       "      <td>11535</td>\n",
       "      <td>50</td>\n",
       "      <td>Local-gov</td>\n",
       "      <td>132652</td>\n",
       "      <td>Prof-school</td>\n",
       "      <td>15</td>\n",
       "      <td>Married-civ-spouse</td>\n",
       "      <td>Prof-specialty</td>\n",
       "      <td>Husband</td>\n",
       "      <td>White</td>\n",
       "      <td>Male</td>\n",
       "      <td>United-States</td>\n",
       "      <td>1</td>\n",
       "    </tr>\n",
       "    <tr>\n",
       "      <th>35</th>\n",
       "      <td>1662</td>\n",
       "      <td>31</td>\n",
       "      <td>Private</td>\n",
       "      <td>132652</td>\n",
       "      <td>Bachelors</td>\n",
       "      <td>13</td>\n",
       "      <td>Married-civ-spouse</td>\n",
       "      <td>Prof-specialty</td>\n",
       "      <td>Husband</td>\n",
       "      <td>White</td>\n",
       "      <td>Male</td>\n",
       "      <td>United-States</td>\n",
       "      <td>1</td>\n",
       "    </tr>\n",
       "    <tr>\n",
       "      <th>38</th>\n",
       "      <td>15625</td>\n",
       "      <td>26</td>\n",
       "      <td>Self-emp-not-inc</td>\n",
       "      <td>132652</td>\n",
       "      <td>Assoc-acdm</td>\n",
       "      <td>12</td>\n",
       "      <td>Married-civ-spouse</td>\n",
       "      <td>Farming-fishing</td>\n",
       "      <td>Husband</td>\n",
       "      <td>White</td>\n",
       "      <td>Male</td>\n",
       "      <td>United-States</td>\n",
       "      <td>1</td>\n",
       "    </tr>\n",
       "  </tbody>\n",
       "</table>\n",
       "</div>"
      ],
      "text/plain": [
       "    index  age         workclass  fnlwgt    education  education-num  \\\n",
       "9   15731   31           Private  132652    Bachelors             13   \n",
       "18   3709   47           Private   24694    Bachelors             13   \n",
       "21  11535   50         Local-gov  132652  Prof-school             15   \n",
       "35   1662   31           Private  132652    Bachelors             13   \n",
       "38  15625   26  Self-emp-not-inc  132652   Assoc-acdm             12   \n",
       "\n",
       "        marital-status       occupation relationship   race   sex  \\\n",
       "9   Married-civ-spouse  Exec-managerial      Husband  White  Male   \n",
       "18  Married-civ-spouse  Exec-managerial      Husband  White  Male   \n",
       "21  Married-civ-spouse   Prof-specialty      Husband  White  Male   \n",
       "35  Married-civ-spouse   Prof-specialty      Husband  White  Male   \n",
       "38  Married-civ-spouse  Farming-fishing      Husband  White  Male   \n",
       "\n",
       "   native-country  Y  \n",
       "9   United-States  1  \n",
       "18  United-States  1  \n",
       "21  United-States  1  \n",
       "35  United-States  1  \n",
       "38  United-States  1  "
      ]
     },
     "metadata": {},
     "output_type": "display_data"
    },
    {
     "data": {
      "text/html": [
       "<div>\n",
       "<style scoped>\n",
       "    .dataframe tbody tr th:only-of-type {\n",
       "        vertical-align: middle;\n",
       "    }\n",
       "\n",
       "    .dataframe tbody tr th {\n",
       "        vertical-align: top;\n",
       "    }\n",
       "\n",
       "    .dataframe thead th {\n",
       "        text-align: right;\n",
       "    }\n",
       "</style>\n",
       "<table border=\"1\" class=\"dataframe\">\n",
       "  <thead>\n",
       "    <tr style=\"text-align: right;\">\n",
       "      <th></th>\n",
       "      <th>index</th>\n",
       "      <th>age</th>\n",
       "      <th>workclass</th>\n",
       "      <th>fnlwgt</th>\n",
       "      <th>education</th>\n",
       "      <th>education-num</th>\n",
       "      <th>marital-status</th>\n",
       "      <th>occupation</th>\n",
       "      <th>relationship</th>\n",
       "      <th>race</th>\n",
       "      <th>sex</th>\n",
       "      <th>native-country</th>\n",
       "      <th>Y</th>\n",
       "    </tr>\n",
       "  </thead>\n",
       "  <tbody>\n",
       "    <tr>\n",
       "      <th>0</th>\n",
       "      <td>322</td>\n",
       "      <td>21</td>\n",
       "      <td>Private</td>\n",
       "      <td>132652</td>\n",
       "      <td>Some-college</td>\n",
       "      <td>10</td>\n",
       "      <td>Divorced</td>\n",
       "      <td>Adm-clerical</td>\n",
       "      <td>Own-child</td>\n",
       "      <td>White</td>\n",
       "      <td>Female</td>\n",
       "      <td>United-States</td>\n",
       "      <td>0</td>\n",
       "    </tr>\n",
       "    <tr>\n",
       "      <th>1</th>\n",
       "      <td>11968</td>\n",
       "      <td>29</td>\n",
       "      <td>Private</td>\n",
       "      <td>132652</td>\n",
       "      <td>HS-grad</td>\n",
       "      <td>9</td>\n",
       "      <td>Divorced</td>\n",
       "      <td>Adm-clerical</td>\n",
       "      <td>Not-in-family</td>\n",
       "      <td>White</td>\n",
       "      <td>Female</td>\n",
       "      <td>United-States</td>\n",
       "      <td>0</td>\n",
       "    </tr>\n",
       "    <tr>\n",
       "      <th>2</th>\n",
       "      <td>10868</td>\n",
       "      <td>19</td>\n",
       "      <td>Private</td>\n",
       "      <td>132652</td>\n",
       "      <td>Bachelors</td>\n",
       "      <td>13</td>\n",
       "      <td>Never-married</td>\n",
       "      <td>Prof-specialty</td>\n",
       "      <td>Not-in-family</td>\n",
       "      <td>White</td>\n",
       "      <td>Female</td>\n",
       "      <td>United-States</td>\n",
       "      <td>0</td>\n",
       "    </tr>\n",
       "    <tr>\n",
       "      <th>3</th>\n",
       "      <td>3394</td>\n",
       "      <td>17</td>\n",
       "      <td>Private</td>\n",
       "      <td>132652</td>\n",
       "      <td>HS-grad</td>\n",
       "      <td>9</td>\n",
       "      <td>Never-married</td>\n",
       "      <td>Craft-repair</td>\n",
       "      <td>Own-child</td>\n",
       "      <td>White</td>\n",
       "      <td>Male</td>\n",
       "      <td>United-States</td>\n",
       "      <td>0</td>\n",
       "    </tr>\n",
       "    <tr>\n",
       "      <th>4</th>\n",
       "      <td>15993</td>\n",
       "      <td>47</td>\n",
       "      <td>Private</td>\n",
       "      <td>132652</td>\n",
       "      <td>Some-college</td>\n",
       "      <td>10</td>\n",
       "      <td>Married-civ-spouse</td>\n",
       "      <td>Craft-repair</td>\n",
       "      <td>Husband</td>\n",
       "      <td>White</td>\n",
       "      <td>Male</td>\n",
       "      <td>United-States</td>\n",
       "      <td>0</td>\n",
       "    </tr>\n",
       "  </tbody>\n",
       "</table>\n",
       "</div>"
      ],
      "text/plain": [
       "   index  age workclass  fnlwgt     education  education-num  \\\n",
       "0    322   21   Private  132652  Some-college             10   \n",
       "1  11968   29   Private  132652       HS-grad              9   \n",
       "2  10868   19   Private  132652     Bachelors             13   \n",
       "3   3394   17   Private  132652       HS-grad              9   \n",
       "4  15993   47   Private  132652  Some-college             10   \n",
       "\n",
       "       marital-status      occupation   relationship   race     sex  \\\n",
       "0            Divorced    Adm-clerical      Own-child  White  Female   \n",
       "1            Divorced    Adm-clerical  Not-in-family  White  Female   \n",
       "2       Never-married  Prof-specialty  Not-in-family  White  Female   \n",
       "3       Never-married    Craft-repair      Own-child  White    Male   \n",
       "4  Married-civ-spouse    Craft-repair        Husband  White    Male   \n",
       "\n",
       "  native-country  Y  \n",
       "0  United-States  0  \n",
       "1  United-States  0  \n",
       "2  United-States  0  \n",
       "3  United-States  0  \n",
       "4  United-States  0  "
      ]
     },
     "metadata": {},
     "output_type": "display_data"
    }
   ],
   "source": [
    "df_train_over_white = df_train[(df_train[\"Y\"] == 1) & (df_train[\"race\"] == \"White\")]\n",
    "display(df_train_over_white.head())\n",
    "df_train_under_white = df_train[(df_train[\"Y\"] == 0) & (df_train[\"race\"] == \"White\")]\n",
    "display(df_train_under_white.head())\n"
   ]
  },
  {
   "cell_type": "code",
   "execution_count": 3,
   "id": "60b5df31",
   "metadata": {},
   "outputs": [
    {
     "data": {
      "image/png": "[encoded data removed]",
      "text/plain": [
       "<Figure size 432x288 with 1 Axes>"
      ]
     },
     "metadata": {
      "needs_background": "light"
     },
     "output_type": "display_data"
    }
   ],
   "source": [
    "fig = plt.figure()\n",
    "axes1 = fig.add_subplot(1,1,1)\n",
    "axes1.hist(data=df_train,x=\"age\",bins=10)\n",
    "plt.show()"
   ]
  },
  {
   "cell_type": "code",
   "execution_count": 4,
   "id": "2b2075e7",
   "metadata": {},
   "outputs": [
    {
     "data": {
      "image/png": "[encoded data removed]",
      "text/plain": [
       "<Figure size 432x288 with 1 Axes>"
      ]
     },
     "metadata": {
      "needs_background": "light"
     },
     "output_type": "display_data"
    }
   ],
   "source": [
    "fig = plt.figure()\n",
    "axes1 = fig.add_subplot(1,1,1)\n",
    "axes1.hist(data=df_train_over,x=\"age\",bins=10)\n",
    "plt.show()"
   ]
  },
  {
   "cell_type": "code",
   "execution_count": 5,
   "id": "450c2059",
   "metadata": {
    "collapsed": true,
    "jupyter": {
     "outputs_hidden": true
    }
   },
   "outputs": [
    {
     "data": {
      "image/png": "[encoded data removed]",
      "text/plain": [
       "<Figure size 432x288 with 1 Axes>"
      ]
     },
     "metadata": {
      "needs_background": "light"
     },
     "output_type": "display_data"
    }
   ],
   "source": [
    "fig = plt.figure()\n",
    "axes1 = fig.add_subplot(1,1,1)\n",
    "\n",
    "axes1.hist(data=df_train_under,x=\"age\",bins=10)\n",
    "plt.show()"
   ]
  },
  {
   "cell_type": "code",
   "execution_count": 6,
   "id": "315978bb",
   "metadata": {
    "collapsed": true,
    "jupyter": {
     "outputs_hidden": true
    }
   },
   "outputs": [
    {
     "data": {
      "image/png": "[encoded data removed]",
      "text/plain": [
       "<Figure size 432x288 with 1 Axes>"
      ]
     },
     "metadata": {
      "needs_background": "light"
     },
     "output_type": "display_data"
    }
   ],
   "source": [
    "fig = plt.figure()\n",
    "axes1 = fig.add_subplot(1,1,1)\n",
    "axes1.hist(data=df_train,x=\"education-num\",bins=10)\n",
    "plt.show()"
   ]
  },
  {
   "cell_type": "code",
   "execution_count": 7,
   "id": "3403b41d",
   "metadata": {
    "collapsed": true,
    "jupyter": {
     "outputs_hidden": true
    }
   },
   "outputs": [
    {
     "data": {
      "image/png": "[encoded data removed]",
      "text/plain": [
       "<Figure size 432x288 with 1 Axes>"
      ]
     },
     "metadata": {
      "needs_background": "light"
     },
     "output_type": "display_data"
    }
   ],
   "source": [
    "fig = plt.figure()\n",
    "axes1 = fig.add_subplot(1,1,1)\n",
    "axes1.hist(data=df_train_over,x=\"education-num\",bins=10)\n",
    "plt.show()"
   ]
  },
  {
   "cell_type": "code",
   "execution_count": 8,
   "id": "3232f84a",
   "metadata": {
    "collapsed": true,
    "jupyter": {
     "outputs_hidden": true
    }
   },
   "outputs": [
    {
     "data": {
      "image/png": "[encoded data removed]",
      "text/plain": [
       "<Figure size 432x288 with 1 Axes>"
      ]
     },
     "metadata": {
      "needs_background": "light"
     },
     "output_type": "display_data"
    }
   ],
   "source": [
    "fig = plt.figure()\n",
    "axes1 = fig.add_subplot(1,1,1)\n",
    "axes1.hist(data=df_train_under,x=\"education-num\",bins=10)\n",
    "plt.show()"
   ]
  },
  {
   "cell_type": "code",
   "execution_count": 9,
   "id": "b5336340",
   "metadata": {
    "collapsed": true,
    "jupyter": {
     "outputs_hidden": true
    }
   },
   "outputs": [
    {
     "data": {
      "image/png": "[encoded data removed]",
      "text/plain": [
       "<Figure size 432x288 with 1 Axes>"
      ]
     },
     "metadata": {
      "needs_background": "light"
     },
     "output_type": "display_data"
    }
   ],
   "source": [
    "count,ax = plt.subplots()\n",
    "sns.countplot(data=df_train,x=\"sex\",ax=ax)\n",
    "plt.show()"
   ]
  },
  {
   "cell_type": "code",
   "execution_count": 10,
   "id": "0f4d7bfe",
   "metadata": {
    "collapsed": true,
    "jupyter": {
     "outputs_hidden": true
    }
   },
   "outputs": [
    {
     "data": {
      "image/png": "[encoded data removed]",
      "text/plain": [
       "<Figure size 432x288 with 1 Axes>"
      ]
     },
     "metadata": {
      "needs_background": "light"
     },
     "output_type": "display_data"
    }
   ],
   "source": [
    "count,ax = plt.subplots()\n",
    "sns.countplot(data=df_train_over,x=\"sex\",ax=ax)\n",
    "plt.show()"
   ]
  },
  {
   "cell_type": "code",
   "execution_count": 11,
   "id": "c3a46649",
   "metadata": {
    "collapsed": true,
    "jupyter": {
     "outputs_hidden": true
    }
   },
   "outputs": [
    {
     "data": {
      "image/png": "[encoded data removed]",
      "text/plain": [
       "<Figure size 432x288 with 1 Axes>"
      ]
     },
     "metadata": {
      "needs_background": "light"
     },
     "output_type": "display_data"
    }
   ],
   "source": [
    "count,ax = plt.subplots()\n",
    "sns.countplot(data=df_train_under,x=\"sex\",ax=ax)\n",
    "plt.show()"
   ]
  },
  {
   "cell_type": "code",
   "execution_count": 24,
   "id": "e40edeeb",
   "metadata": {
    "collapsed": true,
    "jupyter": {
     "outputs_hidden": true
    }
   },
   "outputs": [
    {
     "data": {
      "image/png": "[encoded data removed]",
      "text/plain": [
       "<Figure size 432x288 with 1 Axes>"
      ]
     },
     "metadata": {
      "needs_background": "light"
     },
     "output_type": "display_data"
    },
    {
     "data": {
      "image/png": "[encoded data removed]",
      "text/plain": [
       "<Figure size 432x288 with 1 Axes>"
      ]
     },
     "metadata": {
      "needs_background": "light"
     },
     "output_type": "display_data"
    },
    {
     "data": {
      "image/png": "[encoded data removed]",
      "text/plain": [
       "<Figure size 432x288 with 1 Axes>"
      ]
     },
     "metadata": {
      "needs_background": "light"
     },
     "output_type": "display_data"
    }
   ],
   "source": [
    "count,ax = plt.subplots()\n",
    "sns.countplot(data=df_train,x=\"marital-status\",ax=ax)\n",
    "plt.show()\n",
    "count,ax = plt.subplots()\n",
    "sns.countplot(data=df_train_over,x=\"marital-status\",ax=ax)\n",
    "plt.show()\n",
    "count,ax = plt.subplots()\n",
    "sns.countplot(data=df_train_under,x=\"marital-status\",ax=ax)\n",
    "plt.show()\n"
   ]
  },
  {
   "cell_type": "code",
   "execution_count": 4,
   "id": "8e21b3ed-76b4-4827-aa91-bcb6d372607b",
   "metadata": {
    "collapsed": true,
    "jupyter": {
     "outputs_hidden": true
    }
   },
   "outputs": [
    {
     "data": {
      "image/png": "[encoded data removed]",
      "text/plain": [
       "<Figure size 640x480 with 1 Axes>"
      ]
     },
     "metadata": {},
     "output_type": "display_data"
    },
    {
     "data": {
      "image/png": "[encoded data removed]",
      "text/plain": [
       "<Figure size 640x480 with 1 Axes>"
      ]
     },
     "metadata": {},
     "output_type": "display_data"
    },
    {
     "data": {
      "image/png": "[encoded data removed]",
      "text/plain": [
       "<Figure size 640x480 with 1 Axes>"
      ]
     },
     "metadata": {},
     "output_type": "display_data"
    }
   ],
   "source": [
    "count,ax = plt.subplots()\n",
    "sns.countplot(data=df_train,x=\"education\",ax=ax)\n",
    "plt.show()\n",
    "count,ax = plt.subplots()\n",
    "sns.countplot(data=df_train_over,x=\"education\",ax=ax)\n",
    "plt.show()\n",
    "count,ax = plt.subplots()\n",
    "sns.countplot(data=df_train_under,x=\"education\",ax=ax)\n",
    "plt.show()\n"
   ]
  },
  {
   "cell_type": "code",
   "execution_count": 11,
   "id": "d4aae8e3-0bd1-4e4e-bb87-005885ce7264",
   "metadata": {
    "collapsed": true,
    "jupyter": {
     "outputs_hidden": true
    }
   },
   "outputs": [
    {
     "data": {
      "image/png": "[encoded data removed]",
      "text/plain": [
       "<Figure size 640x480 with 1 Axes>"
      ]
     },
     "metadata": {},
     "output_type": "display_data"
    },
    {
     "data": {
      "image/png": "[encoded data removed]",
      "text/plain": [
       "<Figure size 640x480 with 1 Axes>"
      ]
     },
     "metadata": {},
     "output_type": "display_data"
    },
    {
     "data": {
      "image/png": "[encoded data removed]",
      "text/plain": [
       "<Figure size 640x480 with 1 Axes>"
      ]
     },
     "metadata": {},
     "output_type": "display_data"
    }
   ],
   "source": [
    "count,ax = plt.subplots()\n",
    "sns.countplot(data=df_train,x=\"race\",ax=ax)\n",
    "plt.show()\n",
    "count,ax = plt.subplots()\n",
    "sns.countplot(data=df_train_over,x=\"race\",ax=ax)\n",
    "plt.show()\n",
    "count,ax = plt.subplots()\n",
    "sns.countplot(data=df_train_under,x=\"race\",ax=ax)\n",
    "plt.show()\n"
   ]
  },
  {
   "cell_type": "code",
   "execution_count": 12,
   "id": "fcc5b3c3-ca3f-42b1-82cd-20df730f824c",
   "metadata": {
    "collapsed": true,
    "jupyter": {
     "outputs_hidden": true
    }
   },
   "outputs": [
    {
     "data": {
      "image/png": "[encoded data removed]",
      "text/plain": [
       "<Figure size 640x480 with 1 Axes>"
      ]
     },
     "metadata": {},
     "output_type": "display_data"
    },
    {
     "data": {
      "image/png": "[encoded data removed]",
      "text/plain": [
       "<Figure size 640x480 with 1 Axes>"
      ]
     },
     "metadata": {},
     "output_type": "display_data"
    },
    {
     "data": {
      "image/png": "[encoded data removed]",
      "text/plain": [
       "<Figure size 640x480 with 1 Axes>"
      ]
     },
     "metadata": {},
     "output_type": "display_data"
    }
   ],
   "source": [
    "count,ax = plt.subplots()\n",
    "sns.countplot(data=df_train,x=\"education\",ax=ax)\n",
    "plt.show()\n",
    "count,ax = plt.subplots()\n",
    "sns.countplot(data=df_train_over_white,x=\"education\",ax=ax)\n",
    "plt.show()\n",
    "count,ax = plt.subplots()\n",
    "sns.countplot(data=df_train_under_white,x=\"education\",ax=ax)\n",
    "plt.show()\n"
   ]
  },
  {
   "cell_type": "code",
   "execution_count": 14,
   "id": "be2cee24-ca39-4e9a-8ab8-d5be0cfeb988",
   "metadata": {
    "collapsed": true,
    "jupyter": {
     "outputs_hidden": true
    }
   },
   "outputs": [
    {
     "data": {
      "image/png": "[encoded data removed]",
      "text/plain": [
       "<Figure size 640x480 with 1 Axes>"
      ]
     },
     "metadata": {},
     "output_type": "display_data"
    },
    {
     "data": {
      "image/png": "[encoded data removed]",
      "text/plain": [
       "<Figure size 640x480 with 1 Axes>"
      ]
     },
     "metadata": {},
     "output_type": "display_data"
    },
    {
     "data": {
      "image/png": "[encoded data removed]",
      "text/plain": [
       "<Figure size 640x480 with 1 Axes>"
      ]
     },
     "metadata": {},
     "output_type": "display_data"
    }
   ],
   "source": [
    "count,ax = plt.subplots()\n",
    "sns.countplot(data=df_train,x=\"workclass\",ax=ax)\n",
    "plt.show()\n",
    "count,ax = plt.subplots()\n",
    "sns.countplot(data=df_train_over,x=\"workclass\",ax=ax)\n",
    "plt.show()\n",
    "count,ax = plt.subplots()\n",
    "sns.countplot(data=df_train_under,x=\"workclass\",ax=ax)\n",
    "plt.show()\n"
   ]
  },
  {
   "cell_type": "code",
   "execution_count": 23,
   "id": "a9858128",
   "metadata": {
    "collapsed": true,
    "jupyter": {
     "outputs_hidden": true
    }
   },
   "outputs": [
    {
     "data": {
      "text/plain": [
       "Married-civ-spouse    6004\n",
       "Never-married         3392\n",
       "Divorced              1911\n",
       "Separated              312\n",
       "Widowed                281\n",
       "Name: marital-status, dtype: int64"
      ]
     },
     "metadata": {},
     "output_type": "display_data"
    },
    {
     "data": {
      "text/plain": [
       "Married-civ-spouse    2864\n",
       "Divorced               101\n",
       "Never-married           70\n",
       "Separated               11\n",
       "Widowed                  2\n",
       "Name: marital-status, dtype: int64"
      ]
     },
     "metadata": {},
     "output_type": "display_data"
    },
    {
     "data": {
      "text/plain": [
       "Never-married         3322\n",
       "Married-civ-spouse    3140\n",
       "Divorced              1810\n",
       "Separated              301\n",
       "Widowed                279\n",
       "Name: marital-status, dtype: int64"
      ]
     },
     "metadata": {},
     "output_type": "display_data"
    }
   ],
   "source": [
    "display(df_train[\"marital-status\"].value_counts())\n",
    "display(df_train_over[\"marital-status\"].value_counts())\n",
    "display(df_train_under[\"marital-status\"].value_counts())"
   ]
  },
  {
   "cell_type": "code",
   "execution_count": 5,
   "id": "bafbfecc-4683-41e7-8090-e649bc17a165",
   "metadata": {
    "collapsed": true,
    "jupyter": {
     "outputs_hidden": true
    }
   },
   "outputs": [
    {
     "data": {
      "text/plain": [
       "HS-grad         4034\n",
       "Some-college    2813\n",
       "Bachelors       2235\n",
       "Masters          805\n",
       "Assoc-voc        641\n",
       "Assoc-acdm       305\n",
       "11th             302\n",
       "Prof-school      234\n",
       "10th             173\n",
       "7th-8th          128\n",
       "9th              107\n",
       "12th              71\n",
       "5th-6th           51\n",
       "1st-4th            1\n",
       "Name: education, dtype: int64"
      ]
     },
     "metadata": {},
     "output_type": "display_data"
    },
    {
     "data": {
      "text/plain": [
       "Bachelors       939\n",
       "HS-grad         669\n",
       "Some-college    569\n",
       "Masters         432\n",
       "Prof-school     158\n",
       "Assoc-voc       119\n",
       "Assoc-acdm       97\n",
       "11th             21\n",
       "10th             19\n",
       "7th-8th          12\n",
       "9th               9\n",
       "12th              3\n",
       "5th-6th           1\n",
       "Name: education, dtype: int64"
      ]
     },
     "metadata": {},
     "output_type": "display_data"
    },
    {
     "data": {
      "text/plain": [
       "HS-grad         3365\n",
       "Some-college    2244\n",
       "Bachelors       1296\n",
       "Assoc-voc        522\n",
       "Masters          373\n",
       "11th             281\n",
       "Assoc-acdm       208\n",
       "10th             154\n",
       "7th-8th          116\n",
       "9th               98\n",
       "Prof-school       76\n",
       "12th              68\n",
       "5th-6th           50\n",
       "1st-4th            1\n",
       "Name: education, dtype: int64"
      ]
     },
     "metadata": {},
     "output_type": "display_data"
    }
   ],
   "source": [
    "display(df_train[\"education\"].value_counts())\n",
    "display(df_train_over[\"education\"].value_counts())\n",
    "display(df_train_under[\"education\"].value_counts())"
   ]
  },
  {
   "cell_type": "code",
   "execution_count": 16,
   "id": "c148d569",
   "metadata": {
    "collapsed": true,
    "jupyter": {
     "outputs_hidden": true
    }
   },
   "outputs": [
    {
     "data": {
      "text/plain": [
       "United-States    11869\n",
       "Mexico              25\n",
       "Philippines          6\n",
       "Name: native-country, dtype: int64"
      ]
     },
     "metadata": {},
     "output_type": "display_data"
    },
    {
     "data": {
      "text/plain": [
       "United-States    3048\n",
       "Name: native-country, dtype: int64"
      ]
     },
     "metadata": {},
     "output_type": "display_data"
    },
    {
     "data": {
      "text/plain": [
       "United-States    8821\n",
       "Mexico             25\n",
       "Philippines         6\n",
       "Name: native-country, dtype: int64"
      ]
     },
     "metadata": {},
     "output_type": "display_data"
    }
   ],
   "source": [
    "display(df_train[\"native-country\"].value_counts())\n",
    "display(df_train_over[\"native-country\"].value_counts())\n",
    "display(df_train_under[\"native-country\"].value_counts())"
   ]
  },
  {
   "cell_type": "code",
   "execution_count": 17,
   "id": "8b4c966c",
   "metadata": {
    "collapsed": true,
    "jupyter": {
     "outputs_hidden": true
    }
   },
   "outputs": [
    {
     "data": {
      "text/plain": [
       "White                 10978\n",
       "Black                   677\n",
       "Asian-Pac-Islander      245\n",
       "Name: race, dtype: int64"
      ]
     },
     "metadata": {},
     "output_type": "display_data"
    },
    {
     "data": {
      "text/plain": [
       "White                 2872\n",
       "Asian-Pac-Islander     110\n",
       "Black                   66\n",
       "Name: race, dtype: int64"
      ]
     },
     "metadata": {},
     "output_type": "display_data"
    },
    {
     "data": {
      "text/plain": [
       "White                 8106\n",
       "Black                  611\n",
       "Asian-Pac-Islander     135\n",
       "Name: race, dtype: int64"
      ]
     },
     "metadata": {},
     "output_type": "display_data"
    }
   ],
   "source": [
    "display(df_train[\"race\"].value_counts())\n",
    "display(df_train_over[\"race\"].value_counts())\n",
    "display(df_train_under[\"race\"].value_counts())"
   ]
  },
  {
   "cell_type": "code",
   "execution_count": 18,
   "id": "c9315a8f",
   "metadata": {
    "collapsed": true,
    "jupyter": {
     "outputs_hidden": true
    }
   },
   "outputs": [
    {
     "data": {
      "text/plain": [
       "Private             9237\n",
       "Self-emp-not-inc     854\n",
       "Local-gov            583\n",
       "?                    527\n",
       "State-gov            298\n",
       "Self-emp-inc         237\n",
       "Federal-gov          164\n",
       "Name: workclass, dtype: int64"
      ]
     },
     "metadata": {},
     "output_type": "display_data"
    },
    {
     "data": {
      "text/plain": [
       "Private             2227\n",
       "Self-emp-not-inc     302\n",
       "Local-gov            177\n",
       "Self-emp-inc         138\n",
       "State-gov             89\n",
       "Federal-gov           59\n",
       "?                     56\n",
       "Name: workclass, dtype: int64"
      ]
     },
     "metadata": {},
     "output_type": "display_data"
    },
    {
     "data": {
      "text/plain": [
       "Private             7010\n",
       "Self-emp-not-inc     552\n",
       "?                    471\n",
       "Local-gov            406\n",
       "State-gov            209\n",
       "Federal-gov          105\n",
       "Self-emp-inc          99\n",
       "Name: workclass, dtype: int64"
      ]
     },
     "metadata": {},
     "output_type": "display_data"
    }
   ],
   "source": [
    "display(df_train[\"workclass\"].value_counts())\n",
    "display(df_train_over[\"workclass\"].value_counts())\n",
    "display(df_train_under[\"workclass\"].value_counts())"
   ]
  },
  {
   "cell_type": "code",
   "execution_count": 19,
   "id": "b9ac7893",
   "metadata": {
    "collapsed": true,
    "jupyter": {
     "outputs_hidden": true
    }
   },
   "outputs": [
    {
     "data": {
      "text/plain": [
       "Adm-clerical         1730\n",
       "Craft-repair         1616\n",
       "Sales                1546\n",
       "Prof-specialty       1536\n",
       "Exec-managerial      1493\n",
       "Other-service         924\n",
       "Machine-op-inspct     626\n",
       "Handlers-cleaners     603\n",
       "?                     601\n",
       "Tech-support          403\n",
       "Farming-fishing       333\n",
       "Transport-moving      286\n",
       "Protective-serv       203\n",
       "Name: occupation, dtype: int64"
      ]
     },
     "metadata": {},
     "output_type": "display_data"
    },
    {
     "data": {
      "text/plain": [
       "Prof-specialty       735\n",
       "Exec-managerial      655\n",
       "Sales                464\n",
       "Craft-repair         319\n",
       "Adm-clerical         209\n",
       "Machine-op-inspct    150\n",
       "Tech-support         137\n",
       "Farming-fishing       83\n",
       "Transport-moving      79\n",
       "Other-service         71\n",
       "?                     62\n",
       "Protective-serv       55\n",
       "Handlers-cleaners     29\n",
       "Name: occupation, dtype: int64"
      ]
     },
     "metadata": {},
     "output_type": "display_data"
    },
    {
     "data": {
      "text/plain": [
       "Adm-clerical         1521\n",
       "Craft-repair         1297\n",
       "Sales                1082\n",
       "Other-service         853\n",
       "Exec-managerial       838\n",
       "Prof-specialty        801\n",
       "Handlers-cleaners     574\n",
       "?                     539\n",
       "Machine-op-inspct     476\n",
       "Tech-support          266\n",
       "Farming-fishing       250\n",
       "Transport-moving      207\n",
       "Protective-serv       148\n",
       "Name: occupation, dtype: int64"
      ]
     },
     "metadata": {},
     "output_type": "display_data"
    }
   ],
   "source": [
    "display(df_train[\"occupation\"].value_counts())\n",
    "display(df_train_over[\"occupation\"].value_counts())\n",
    "display(df_train_under[\"occupation\"].value_counts())"
   ]
  },
  {
   "cell_type": "code",
   "execution_count": 21,
   "id": "d71fcee6",
   "metadata": {
    "collapsed": true,
    "jupyter": {
     "outputs_hidden": true
    }
   },
   "outputs": [
    {
     "data": {
      "text/plain": [
       "Husband           5400\n",
       "Not-in-family     2502\n",
       "Own-child         2017\n",
       "Unmarried         1249\n",
       "Wife               529\n",
       "Other-relative     203\n",
       "Name: relationship, dtype: int64"
      ]
     },
     "metadata": {},
     "output_type": "display_data"
    },
    {
     "data": {
      "text/plain": [
       "Husband           2567\n",
       "Wife               267\n",
       "Not-in-family      142\n",
       "Own-child           40\n",
       "Unmarried           28\n",
       "Other-relative       4\n",
       "Name: relationship, dtype: int64"
      ]
     },
     "metadata": {},
     "output_type": "display_data"
    },
    {
     "data": {
      "text/plain": [
       "Husband           2833\n",
       "Not-in-family     2360\n",
       "Own-child         1977\n",
       "Unmarried         1221\n",
       "Wife               262\n",
       "Other-relative     199\n",
       "Name: relationship, dtype: int64"
      ]
     },
     "metadata": {},
     "output_type": "display_data"
    }
   ],
   "source": [
    "display(df_train[\"relationship\"].value_counts())\n",
    "display(df_train_over[\"relationship\"].value_counts())\n",
    "display(df_train_under[\"relationship\"].value_counts())"
   ]
  },
  {
   "cell_type": "code",
   "execution_count": 5,
   "id": "57fe668e",
   "metadata": {},
   "outputs": [
    {
     "data": {
      "text/html": [
       "<div>\n",
       "<style scoped>\n",
       "    .dataframe tbody tr th:only-of-type {\n",
       "        vertical-align: middle;\n",
       "    }\n",
       "\n",
       "    .dataframe tbody tr th {\n",
       "        vertical-align: top;\n",
       "    }\n",
       "\n",
       "    .dataframe thead th {\n",
       "        text-align: right;\n",
       "    }\n",
       "</style>\n",
       "<table border=\"1\" class=\"dataframe\">\n",
       "  <thead>\n",
       "    <tr style=\"text-align: right;\">\n",
       "      <th></th>\n",
       "      <th>sex_Female</th>\n",
       "      <th>sex_Male</th>\n",
       "      <th>marital-status_Divorced</th>\n",
       "      <th>marital-status_Married-civ-spouse</th>\n",
       "      <th>marital-status_Never-married</th>\n",
       "      <th>marital-status_Separated</th>\n",
       "      <th>marital-status_Widowed</th>\n",
       "      <th>native-country_Mexico</th>\n",
       "      <th>native-country_Philippines</th>\n",
       "      <th>native-country_United-States</th>\n",
       "      <th>...</th>\n",
       "      <th>education_HS-grad</th>\n",
       "      <th>education_Masters</th>\n",
       "      <th>education_Prof-school</th>\n",
       "      <th>education_Some-college</th>\n",
       "      <th>marital-status_Divorced</th>\n",
       "      <th>marital-status_Married-civ-spouse</th>\n",
       "      <th>marital-status_Never-married</th>\n",
       "      <th>marital-status_Separated</th>\n",
       "      <th>marital-status_Widowed</th>\n",
       "      <th>age</th>\n",
       "    </tr>\n",
       "  </thead>\n",
       "  <tbody>\n",
       "    <tr>\n",
       "      <th>0</th>\n",
       "      <td>1</td>\n",
       "      <td>0</td>\n",
       "      <td>1</td>\n",
       "      <td>0</td>\n",
       "      <td>0</td>\n",
       "      <td>0</td>\n",
       "      <td>0</td>\n",
       "      <td>0</td>\n",
       "      <td>0</td>\n",
       "      <td>1</td>\n",
       "      <td>...</td>\n",
       "      <td>0</td>\n",
       "      <td>0</td>\n",
       "      <td>0</td>\n",
       "      <td>1</td>\n",
       "      <td>1</td>\n",
       "      <td>0</td>\n",
       "      <td>0</td>\n",
       "      <td>0</td>\n",
       "      <td>0</td>\n",
       "      <td>21</td>\n",
       "    </tr>\n",
       "    <tr>\n",
       "      <th>1</th>\n",
       "      <td>1</td>\n",
       "      <td>0</td>\n",
       "      <td>1</td>\n",
       "      <td>0</td>\n",
       "      <td>0</td>\n",
       "      <td>0</td>\n",
       "      <td>0</td>\n",
       "      <td>0</td>\n",
       "      <td>0</td>\n",
       "      <td>1</td>\n",
       "      <td>...</td>\n",
       "      <td>1</td>\n",
       "      <td>0</td>\n",
       "      <td>0</td>\n",
       "      <td>0</td>\n",
       "      <td>1</td>\n",
       "      <td>0</td>\n",
       "      <td>0</td>\n",
       "      <td>0</td>\n",
       "      <td>0</td>\n",
       "      <td>29</td>\n",
       "    </tr>\n",
       "    <tr>\n",
       "      <th>2</th>\n",
       "      <td>1</td>\n",
       "      <td>0</td>\n",
       "      <td>0</td>\n",
       "      <td>0</td>\n",
       "      <td>1</td>\n",
       "      <td>0</td>\n",
       "      <td>0</td>\n",
       "      <td>0</td>\n",
       "      <td>0</td>\n",
       "      <td>1</td>\n",
       "      <td>...</td>\n",
       "      <td>0</td>\n",
       "      <td>0</td>\n",
       "      <td>0</td>\n",
       "      <td>0</td>\n",
       "      <td>0</td>\n",
       "      <td>0</td>\n",
       "      <td>1</td>\n",
       "      <td>0</td>\n",
       "      <td>0</td>\n",
       "      <td>19</td>\n",
       "    </tr>\n",
       "    <tr>\n",
       "      <th>3</th>\n",
       "      <td>0</td>\n",
       "      <td>1</td>\n",
       "      <td>0</td>\n",
       "      <td>0</td>\n",
       "      <td>1</td>\n",
       "      <td>0</td>\n",
       "      <td>0</td>\n",
       "      <td>0</td>\n",
       "      <td>0</td>\n",
       "      <td>1</td>\n",
       "      <td>...</td>\n",
       "      <td>1</td>\n",
       "      <td>0</td>\n",
       "      <td>0</td>\n",
       "      <td>0</td>\n",
       "      <td>0</td>\n",
       "      <td>0</td>\n",
       "      <td>1</td>\n",
       "      <td>0</td>\n",
       "      <td>0</td>\n",
       "      <td>17</td>\n",
       "    </tr>\n",
       "    <tr>\n",
       "      <th>4</th>\n",
       "      <td>0</td>\n",
       "      <td>1</td>\n",
       "      <td>0</td>\n",
       "      <td>1</td>\n",
       "      <td>0</td>\n",
       "      <td>0</td>\n",
       "      <td>0</td>\n",
       "      <td>0</td>\n",
       "      <td>0</td>\n",
       "      <td>1</td>\n",
       "      <td>...</td>\n",
       "      <td>0</td>\n",
       "      <td>0</td>\n",
       "      <td>0</td>\n",
       "      <td>1</td>\n",
       "      <td>0</td>\n",
       "      <td>1</td>\n",
       "      <td>0</td>\n",
       "      <td>0</td>\n",
       "      <td>0</td>\n",
       "      <td>47</td>\n",
       "    </tr>\n",
       "  </tbody>\n",
       "</table>\n",
       "<p>5 rows × 33 columns</p>\n",
       "</div>"
      ],
      "text/plain": [
       "   sex_Female  sex_Male  marital-status_Divorced  \\\n",
       "0           1         0                        1   \n",
       "1           1         0                        1   \n",
       "2           1         0                        0   \n",
       "3           0         1                        0   \n",
       "4           0         1                        0   \n",
       "\n",
       "   marital-status_Married-civ-spouse  marital-status_Never-married  \\\n",
       "0                                  0                             0   \n",
       "1                                  0                             0   \n",
       "2                                  0                             1   \n",
       "3                                  0                             1   \n",
       "4                                  1                             0   \n",
       "\n",
       "   marital-status_Separated  marital-status_Widowed  native-country_Mexico  \\\n",
       "0                         0                       0                      0   \n",
       "1                         0                       0                      0   \n",
       "2                         0                       0                      0   \n",
       "3                         0                       0                      0   \n",
       "4                         0                       0                      0   \n",
       "\n",
       "   native-country_Philippines  native-country_United-States  ...  \\\n",
       "0                           0                             1  ...   \n",
       "1                           0                             1  ...   \n",
       "2                           0                             1  ...   \n",
       "3                           0                             1  ...   \n",
       "4                           0                             1  ...   \n",
       "\n",
       "   education_HS-grad  education_Masters  education_Prof-school  \\\n",
       "0                  0                  0                      0   \n",
       "1                  1                  0                      0   \n",
       "2                  0                  0                      0   \n",
       "3                  1                  0                      0   \n",
       "4                  0                  0                      0   \n",
       "\n",
       "   education_Some-college  marital-status_Divorced  \\\n",
       "0                       1                        1   \n",
       "1                       0                        1   \n",
       "2                       0                        0   \n",
       "3                       0                        0   \n",
       "4                       1                        0   \n",
       "\n",
       "   marital-status_Married-civ-spouse  marital-status_Never-married  \\\n",
       "0                                  0                             0   \n",
       "1                                  0                             0   \n",
       "2                                  0                             1   \n",
       "3                                  0                             1   \n",
       "4                                  1                             0   \n",
       "\n",
       "   marital-status_Separated  marital-status_Widowed  age  \n",
       "0                         0                       0   21  \n",
       "1                         0                       0   29  \n",
       "2                         0                       0   19  \n",
       "3                         0                       0   17  \n",
       "4                         0                       0   47  \n",
       "\n",
       "[5 rows x 33 columns]"
      ]
     },
     "metadata": {},
     "output_type": "display_data"
    },
    {
     "name": "stdout",
     "output_type": "stream",
     "text": [
      "<class 'pandas.core.frame.DataFrame'>\n",
      "RangeIndex: 11900 entries, 0 to 11899\n",
      "Data columns (total 33 columns):\n",
      " #   Column                             Non-Null Count  Dtype\n",
      "---  ------                             --------------  -----\n",
      " 0   sex_Female                         11900 non-null  uint8\n",
      " 1   sex_Male                           11900 non-null  uint8\n",
      " 2   marital-status_Divorced            11900 non-null  uint8\n",
      " 3   marital-status_Married-civ-spouse  11900 non-null  uint8\n",
      " 4   marital-status_Never-married       11900 non-null  uint8\n",
      " 5   marital-status_Separated           11900 non-null  uint8\n",
      " 6   marital-status_Widowed             11900 non-null  uint8\n",
      " 7   native-country_Mexico              11900 non-null  uint8\n",
      " 8   native-country_Philippines         11900 non-null  uint8\n",
      " 9   native-country_United-States       11900 non-null  uint8\n",
      " 10  race_Asian-Pac-Islander            11900 non-null  uint8\n",
      " 11  race_Black                         11900 non-null  uint8\n",
      " 12  race_White                         11900 non-null  uint8\n",
      " 13  education_10th                     11900 non-null  uint8\n",
      " 14  education_11th                     11900 non-null  uint8\n",
      " 15  education_12th                     11900 non-null  uint8\n",
      " 16  education_1st-4th                  11900 non-null  uint8\n",
      " 17  education_5th-6th                  11900 non-null  uint8\n",
      " 18  education_7th-8th                  11900 non-null  uint8\n",
      " 19  education_9th                      11900 non-null  uint8\n",
      " 20  education_Assoc-acdm               11900 non-null  uint8\n",
      " 21  education_Assoc-voc                11900 non-null  uint8\n",
      " 22  education_Bachelors                11900 non-null  uint8\n",
      " 23  education_HS-grad                  11900 non-null  uint8\n",
      " 24  education_Masters                  11900 non-null  uint8\n",
      " 25  education_Prof-school              11900 non-null  uint8\n",
      " 26  education_Some-college             11900 non-null  uint8\n",
      " 27  marital-status_Divorced            11900 non-null  uint8\n",
      " 28  marital-status_Married-civ-spouse  11900 non-null  uint8\n",
      " 29  marital-status_Never-married       11900 non-null  uint8\n",
      " 30  marital-status_Separated           11900 non-null  uint8\n",
      " 31  marital-status_Widowed             11900 non-null  uint8\n",
      " 32  age                                11900 non-null  int64\n",
      "dtypes: int64(1), uint8(32)\n",
      "memory usage: 465.0 KB\n"
     ]
    },
    {
     "data": {
      "text/plain": [
       "None"
      ]
     },
     "metadata": {},
     "output_type": "display_data"
    },
    {
     "data": {
      "text/html": [
       "<div>\n",
       "<style scoped>\n",
       "    .dataframe tbody tr th:only-of-type {\n",
       "        vertical-align: middle;\n",
       "    }\n",
       "\n",
       "    .dataframe tbody tr th {\n",
       "        vertical-align: top;\n",
       "    }\n",
       "\n",
       "    .dataframe thead th {\n",
       "        text-align: right;\n",
       "    }\n",
       "</style>\n",
       "<table border=\"1\" class=\"dataframe\">\n",
       "  <thead>\n",
       "    <tr style=\"text-align: right;\">\n",
       "      <th></th>\n",
       "      <th>1</th>\n",
       "    </tr>\n",
       "  </thead>\n",
       "  <tbody>\n",
       "    <tr>\n",
       "      <th>0</th>\n",
       "      <td>0</td>\n",
       "    </tr>\n",
       "    <tr>\n",
       "      <th>1</th>\n",
       "      <td>0</td>\n",
       "    </tr>\n",
       "    <tr>\n",
       "      <th>2</th>\n",
       "      <td>0</td>\n",
       "    </tr>\n",
       "    <tr>\n",
       "      <th>3</th>\n",
       "      <td>0</td>\n",
       "    </tr>\n",
       "    <tr>\n",
       "      <th>4</th>\n",
       "      <td>0</td>\n",
       "    </tr>\n",
       "  </tbody>\n",
       "</table>\n",
       "</div>"
      ],
      "text/plain": [
       "   1\n",
       "0  0\n",
       "1  0\n",
       "2  0\n",
       "3  0\n",
       "4  0"
      ]
     },
     "metadata": {},
     "output_type": "display_data"
    }
   ],
   "source": [
    "X_dummy = pd.get_dummies(df_train[[\"sex\",\"marital-status\",\"native-country\",\"race\",\"education\",\"marital-status\"]])\n",
    "X_dummy[\"age\"] = df_train[\"age\"]\n",
    "y_dummy =pd.get_dummies(df_train[\"Y\"])\n",
    "y_dummy = y_dummy.drop(columns=[0])\n",
    "display(X_dummy.head())\n",
    "display(X_dummy.info())\n",
    "display(y_dummy.head())"
   ]
  },
  {
   "cell_type": "code",
   "execution_count": 6,
   "id": "b022b40e",
   "metadata": {},
   "outputs": [],
   "source": [
    "from sklearn.model_selection import train_test_split\n",
    "from sklearn.linear_model import LogisticRegression\n",
    "from sklearn.metrics import accuracy_score"
   ]
  },
  {
   "cell_type": "code",
   "execution_count": 7,
   "id": "bef9a49c-2e4a-471d-a25b-524b3c1e68e6",
   "metadata": {},
   "outputs": [
    {
     "name": "stdout",
     "output_type": "stream",
     "text": [
      "(8925, 33)\n",
      "(2975, 33)\n",
      "(8925, 1)\n",
      "(2975, 1)\n"
     ]
    }
   ],
   "source": [
    "X_train,X_test,y_train,y_test = train_test_split(X_dummy,y_dummy,random_state=0,stratify=y_dummy[1])\n",
    "print(X_train.shape)\n",
    "print(X_test.shape)\n",
    "print(y_train.shape)\n",
    "print(y_test.shape)\n"
   ]
  },
  {
   "cell_type": "code",
   "execution_count": 8,
   "id": "ea54e3c8-e6bd-4369-9e16-0bfac6d94a8e",
   "metadata": {},
   "outputs": [
    {
     "name": "stderr",
     "output_type": "stream",
     "text": [
      "C:\\ProgramData\\Anaconda3\\lib\\site-packages\\sklearn\\utils\\validation.py:1111: DataConversionWarning: A column-vector y was passed when a 1d array was expected. Please change the shape of y to (n_samples, ), for example using ravel().\n",
      "  y = column_or_1d(y, warn=True)\n"
     ]
    },
    {
     "data": {
      "text/html": [
       "<style>#sk-container-id-1 {color: black;background-color: white;}#sk-container-id-1 pre{padding: 0;}#sk-container-id-1 div.sk-toggleable {background-color: white;}#sk-container-id-1 label.sk-toggleable__label {cursor: pointer;display: block;width: 100%;margin-bottom: 0;padding: 0.3em;box-sizing: border-box;text-align: center;}#sk-container-id-1 label.sk-toggleable__label-arrow:before {content: \"▸\";float: left;margin-right: 0.25em;color: #696969;}#sk-container-id-1 label.sk-toggleable__label-arrow:hover:before {color: black;}#sk-container-id-1 div.sk-estimator:hover label.sk-toggleable__label-arrow:before {color: black;}#sk-container-id-1 div.sk-toggleable__content {max-height: 0;max-width: 0;overflow: hidden;text-align: left;background-color: #f0f8ff;}#sk-container-id-1 div.sk-toggleable__content pre {margin: 0.2em;color: black;border-radius: 0.25em;background-color: #f0f8ff;}#sk-container-id-1 input.sk-toggleable__control:checked~div.sk-toggleable__content {max-height: 200px;max-width: 100%;overflow: auto;}#sk-container-id-1 input.sk-toggleable__control:checked~label.sk-toggleable__label-arrow:before {content: \"▾\";}#sk-container-id-1 div.sk-estimator input.sk-toggleable__control:checked~label.sk-toggleable__label {background-color: #d4ebff;}#sk-container-id-1 div.sk-label input.sk-toggleable__control:checked~label.sk-toggleable__label {background-color: #d4ebff;}#sk-container-id-1 input.sk-hidden--visually {border: 0;clip: rect(1px 1px 1px 1px);clip: rect(1px, 1px, 1px, 1px);height: 1px;margin: -1px;overflow: hidden;padding: 0;position: absolute;width: 1px;}#sk-container-id-1 div.sk-estimator {font-family: monospace;background-color: #f0f8ff;border: 1px dotted black;border-radius: 0.25em;box-sizing: border-box;margin-bottom: 0.5em;}#sk-container-id-1 div.sk-estimator:hover {background-color: #d4ebff;}#sk-container-id-1 div.sk-parallel-item::after {content: \"\";width: 100%;border-bottom: 1px solid gray;flex-grow: 1;}#sk-container-id-1 div.sk-label:hover label.sk-toggleable__label {background-color: #d4ebff;}#sk-container-id-1 div.sk-serial::before {content: \"\";position: absolute;border-left: 1px solid gray;box-sizing: border-box;top: 0;bottom: 0;left: 50%;z-index: 0;}#sk-container-id-1 div.sk-serial {display: flex;flex-direction: column;align-items: center;background-color: white;padding-right: 0.2em;padding-left: 0.2em;position: relative;}#sk-container-id-1 div.sk-item {position: relative;z-index: 1;}#sk-container-id-1 div.sk-parallel {display: flex;align-items: stretch;justify-content: center;background-color: white;position: relative;}#sk-container-id-1 div.sk-item::before, #sk-container-id-1 div.sk-parallel-item::before {content: \"\";position: absolute;border-left: 1px solid gray;box-sizing: border-box;top: 0;bottom: 0;left: 50%;z-index: -1;}#sk-container-id-1 div.sk-parallel-item {display: flex;flex-direction: column;z-index: 1;position: relative;background-color: white;}#sk-container-id-1 div.sk-parallel-item:first-child::after {align-self: flex-end;width: 50%;}#sk-container-id-1 div.sk-parallel-item:last-child::after {align-self: flex-start;width: 50%;}#sk-container-id-1 div.sk-parallel-item:only-child::after {width: 0;}#sk-container-id-1 div.sk-dashed-wrapped {border: 1px dashed gray;margin: 0 0.4em 0.5em 0.4em;box-sizing: border-box;padding-bottom: 0.4em;background-color: white;}#sk-container-id-1 div.sk-label label {font-family: monospace;font-weight: bold;display: inline-block;line-height: 1.2em;}#sk-container-id-1 div.sk-label-container {text-align: center;}#sk-container-id-1 div.sk-container {/* jupyter's `normalize.less` sets `[hidden] { display: none; }` but bootstrap.min.css set `[hidden] { display: none !important; }` so we also need the `!important` here to be able to override the default hidden behavior on the sphinx rendered scikit-learn.org. See: https://github.com/scikit-learn/scikit-learn/issues/21755 */display: inline-block !important;position: relative;}#sk-container-id-1 div.sk-text-repr-fallback {display: none;}</style><div id=\"sk-container-id-1\" class=\"sk-top-container\"><div class=\"sk-text-repr-fallback\"><pre>LogisticRegression(max_iter=1000)</pre><b>In a Jupyter environment, please rerun this cell to show the HTML representation or trust the notebook. <br />On GitHub, the HTML representation is unable to render, please try loading this page with nbviewer.org.</b></div><div class=\"sk-container\" hidden><div class=\"sk-item\"><div class=\"sk-estimator sk-toggleable\"><input class=\"sk-toggleable__control sk-hidden--visually\" id=\"sk-estimator-id-1\" type=\"checkbox\" checked><label for=\"sk-estimator-id-1\" class=\"sk-toggleable__label sk-toggleable__label-arrow\">LogisticRegression</label><div class=\"sk-toggleable__content\"><pre>LogisticRegression(max_iter=1000)</pre></div></div></div></div></div>"
      ],
      "text/plain": [
       "LogisticRegression(max_iter=1000)"
      ]
     },
     "execution_count": 8,
     "metadata": {},
     "output_type": "execute_result"
    }
   ],
   "source": [
    "lr = LogisticRegression(max_iter=1000)\n",
    "lr.fit(X_train,y_train)"
   ]
  },
  {
   "cell_type": "code",
   "execution_count": 9,
   "id": "007d7f43",
   "metadata": {},
   "outputs": [],
   "source": [
    "y_pred = lr.predict(X_test)"
   ]
  },
  {
   "cell_type": "code",
   "execution_count": 10,
   "id": "a42a0da0",
   "metadata": {},
   "outputs": [
    {
     "data": {
      "text/plain": [
       "0.8272268907563025"
      ]
     },
     "execution_count": 10,
     "metadata": {},
     "output_type": "execute_result"
    }
   ],
   "source": [
    "accuracy_score(y_test,y_pred)"
   ]
  },
  {
   "cell_type": "code",
   "execution_count": 11,
   "id": "295217a0",
   "metadata": {
    "scrolled": true
   },
   "outputs": [
    {
     "data": {
      "text/html": [
       "<div>\n",
       "<style scoped>\n",
       "    .dataframe tbody tr th:only-of-type {\n",
       "        vertical-align: middle;\n",
       "    }\n",
       "\n",
       "    .dataframe tbody tr th {\n",
       "        vertical-align: top;\n",
       "    }\n",
       "\n",
       "    .dataframe thead th {\n",
       "        text-align: right;\n",
       "    }\n",
       "</style>\n",
       "<table border=\"1\" class=\"dataframe\">\n",
       "  <thead>\n",
       "    <tr style=\"text-align: right;\">\n",
       "      <th></th>\n",
       "      <th>index</th>\n",
       "      <th>age</th>\n",
       "      <th>workclass</th>\n",
       "      <th>fnlwgt</th>\n",
       "      <th>education</th>\n",
       "      <th>education-num</th>\n",
       "      <th>marital-status</th>\n",
       "      <th>occupation</th>\n",
       "      <th>relationship</th>\n",
       "      <th>race</th>\n",
       "      <th>sex</th>\n",
       "      <th>native-country</th>\n",
       "    </tr>\n",
       "  </thead>\n",
       "  <tbody>\n",
       "    <tr>\n",
       "      <th>0</th>\n",
       "      <td>3873</td>\n",
       "      <td>17</td>\n",
       "      <td>Local-gov</td>\n",
       "      <td>132652</td>\n",
       "      <td>Masters</td>\n",
       "      <td>14</td>\n",
       "      <td>Married-civ-spouse</td>\n",
       "      <td>Prof-specialty</td>\n",
       "      <td>Husband</td>\n",
       "      <td>White</td>\n",
       "      <td>Male</td>\n",
       "      <td>United-States</td>\n",
       "    </tr>\n",
       "    <tr>\n",
       "      <th>1</th>\n",
       "      <td>3625</td>\n",
       "      <td>23</td>\n",
       "      <td>Private</td>\n",
       "      <td>132652</td>\n",
       "      <td>Some-college</td>\n",
       "      <td>10</td>\n",
       "      <td>Married-civ-spouse</td>\n",
       "      <td>Sales</td>\n",
       "      <td>Husband</td>\n",
       "      <td>White</td>\n",
       "      <td>Male</td>\n",
       "      <td>United-States</td>\n",
       "    </tr>\n",
       "    <tr>\n",
       "      <th>2</th>\n",
       "      <td>3028</td>\n",
       "      <td>19</td>\n",
       "      <td>Private</td>\n",
       "      <td>132652</td>\n",
       "      <td>11th</td>\n",
       "      <td>7</td>\n",
       "      <td>Never-married</td>\n",
       "      <td>Handlers-cleaners</td>\n",
       "      <td>Own-child</td>\n",
       "      <td>White</td>\n",
       "      <td>Female</td>\n",
       "      <td>United-States</td>\n",
       "    </tr>\n",
       "    <tr>\n",
       "      <th>3</th>\n",
       "      <td>13814</td>\n",
       "      <td>30</td>\n",
       "      <td>State-gov</td>\n",
       "      <td>132652</td>\n",
       "      <td>HS-grad</td>\n",
       "      <td>9</td>\n",
       "      <td>Never-married</td>\n",
       "      <td>Protective-serv</td>\n",
       "      <td>Unmarried</td>\n",
       "      <td>Black</td>\n",
       "      <td>Female</td>\n",
       "      <td>United-States</td>\n",
       "    </tr>\n",
       "    <tr>\n",
       "      <th>4</th>\n",
       "      <td>15398</td>\n",
       "      <td>60</td>\n",
       "      <td>Private</td>\n",
       "      <td>132652</td>\n",
       "      <td>Bachelors</td>\n",
       "      <td>13</td>\n",
       "      <td>Married-civ-spouse</td>\n",
       "      <td>Prof-specialty</td>\n",
       "      <td>Husband</td>\n",
       "      <td>White</td>\n",
       "      <td>Male</td>\n",
       "      <td>United-States</td>\n",
       "    </tr>\n",
       "  </tbody>\n",
       "</table>\n",
       "</div>"
      ],
      "text/plain": [
       "   index  age  workclass  fnlwgt     education  education-num  \\\n",
       "0   3873   17  Local-gov  132652       Masters             14   \n",
       "1   3625   23    Private  132652  Some-college             10   \n",
       "2   3028   19    Private  132652          11th              7   \n",
       "3  13814   30  State-gov  132652       HS-grad              9   \n",
       "4  15398   60    Private  132652     Bachelors             13   \n",
       "\n",
       "       marital-status         occupation relationship   race     sex  \\\n",
       "0  Married-civ-spouse     Prof-specialty      Husband  White    Male   \n",
       "1  Married-civ-spouse              Sales      Husband  White    Male   \n",
       "2       Never-married  Handlers-cleaners    Own-child  White  Female   \n",
       "3       Never-married    Protective-serv    Unmarried  Black  Female   \n",
       "4  Married-civ-spouse     Prof-specialty      Husband  White    Male   \n",
       "\n",
       "  native-country  \n",
       "0  United-States  \n",
       "1  United-States  \n",
       "2  United-States  \n",
       "3  United-States  \n",
       "4  United-States  "
      ]
     },
     "metadata": {},
     "output_type": "display_data"
    },
    {
     "data": {
      "text/html": [
       "<div>\n",
       "<style scoped>\n",
       "    .dataframe tbody tr th:only-of-type {\n",
       "        vertical-align: middle;\n",
       "    }\n",
       "\n",
       "    .dataframe tbody tr th {\n",
       "        vertical-align: top;\n",
       "    }\n",
       "\n",
       "    .dataframe thead th {\n",
       "        text-align: right;\n",
       "    }\n",
       "</style>\n",
       "<table border=\"1\" class=\"dataframe\">\n",
       "  <thead>\n",
       "    <tr style=\"text-align: right;\">\n",
       "      <th></th>\n",
       "      <th>0</th>\n",
       "      <th>1</th>\n",
       "    </tr>\n",
       "  </thead>\n",
       "  <tbody>\n",
       "    <tr>\n",
       "      <th>0</th>\n",
       "      <td>3873</td>\n",
       "      <td>0</td>\n",
       "    </tr>\n",
       "    <tr>\n",
       "      <th>1</th>\n",
       "      <td>3625</td>\n",
       "      <td>0</td>\n",
       "    </tr>\n",
       "    <tr>\n",
       "      <th>2</th>\n",
       "      <td>3028</td>\n",
       "      <td>0</td>\n",
       "    </tr>\n",
       "    <tr>\n",
       "      <th>3</th>\n",
       "      <td>13814</td>\n",
       "      <td>0</td>\n",
       "    </tr>\n",
       "    <tr>\n",
       "      <th>4</th>\n",
       "      <td>15398</td>\n",
       "      <td>0</td>\n",
       "    </tr>\n",
       "  </tbody>\n",
       "</table>\n",
       "</div>"
      ],
      "text/plain": [
       "       0  1\n",
       "0   3873  0\n",
       "1   3625  0\n",
       "2   3028  0\n",
       "3  13814  0\n",
       "4  15398  0"
      ]
     },
     "metadata": {},
     "output_type": "display_data"
    }
   ],
   "source": [
    "df_test = pd.read_csv(\"./test.csv\")\n",
    "df_sample_submit = pd.read_csv(\"./sample_submit.csv\",header=None)\n",
    "display(df_test.head())\n",
    "display(df_sample_submit.head())"
   ]
  },
  {
   "cell_type": "code",
   "execution_count": 12,
   "id": "1d172113",
   "metadata": {},
   "outputs": [
    {
     "data": {
      "text/html": [
       "<div>\n",
       "<style scoped>\n",
       "    .dataframe tbody tr th:only-of-type {\n",
       "        vertical-align: middle;\n",
       "    }\n",
       "\n",
       "    .dataframe tbody tr th {\n",
       "        vertical-align: top;\n",
       "    }\n",
       "\n",
       "    .dataframe thead th {\n",
       "        text-align: right;\n",
       "    }\n",
       "</style>\n",
       "<table border=\"1\" class=\"dataframe\">\n",
       "  <thead>\n",
       "    <tr style=\"text-align: right;\">\n",
       "      <th></th>\n",
       "      <th>sex_Female</th>\n",
       "      <th>sex_Male</th>\n",
       "      <th>marital-status_Divorced</th>\n",
       "      <th>marital-status_Married-civ-spouse</th>\n",
       "      <th>marital-status_Never-married</th>\n",
       "      <th>marital-status_Separated</th>\n",
       "      <th>marital-status_Widowed</th>\n",
       "      <th>native-country_Mexico</th>\n",
       "      <th>native-country_Philippines</th>\n",
       "      <th>native-country_United-States</th>\n",
       "      <th>...</th>\n",
       "      <th>education_HS-grad</th>\n",
       "      <th>education_Masters</th>\n",
       "      <th>education_Prof-school</th>\n",
       "      <th>education_Some-college</th>\n",
       "      <th>marital-status_Divorced</th>\n",
       "      <th>marital-status_Married-civ-spouse</th>\n",
       "      <th>marital-status_Never-married</th>\n",
       "      <th>marital-status_Separated</th>\n",
       "      <th>marital-status_Widowed</th>\n",
       "      <th>age</th>\n",
       "    </tr>\n",
       "  </thead>\n",
       "  <tbody>\n",
       "    <tr>\n",
       "      <th>0</th>\n",
       "      <td>0</td>\n",
       "      <td>1</td>\n",
       "      <td>0</td>\n",
       "      <td>1</td>\n",
       "      <td>0</td>\n",
       "      <td>0</td>\n",
       "      <td>0</td>\n",
       "      <td>0</td>\n",
       "      <td>0</td>\n",
       "      <td>1</td>\n",
       "      <td>...</td>\n",
       "      <td>0</td>\n",
       "      <td>1</td>\n",
       "      <td>0</td>\n",
       "      <td>0</td>\n",
       "      <td>0</td>\n",
       "      <td>1</td>\n",
       "      <td>0</td>\n",
       "      <td>0</td>\n",
       "      <td>0</td>\n",
       "      <td>17</td>\n",
       "    </tr>\n",
       "    <tr>\n",
       "      <th>1</th>\n",
       "      <td>0</td>\n",
       "      <td>1</td>\n",
       "      <td>0</td>\n",
       "      <td>1</td>\n",
       "      <td>0</td>\n",
       "      <td>0</td>\n",
       "      <td>0</td>\n",
       "      <td>0</td>\n",
       "      <td>0</td>\n",
       "      <td>1</td>\n",
       "      <td>...</td>\n",
       "      <td>0</td>\n",
       "      <td>0</td>\n",
       "      <td>0</td>\n",
       "      <td>1</td>\n",
       "      <td>0</td>\n",
       "      <td>1</td>\n",
       "      <td>0</td>\n",
       "      <td>0</td>\n",
       "      <td>0</td>\n",
       "      <td>23</td>\n",
       "    </tr>\n",
       "    <tr>\n",
       "      <th>2</th>\n",
       "      <td>1</td>\n",
       "      <td>0</td>\n",
       "      <td>0</td>\n",
       "      <td>0</td>\n",
       "      <td>1</td>\n",
       "      <td>0</td>\n",
       "      <td>0</td>\n",
       "      <td>0</td>\n",
       "      <td>0</td>\n",
       "      <td>1</td>\n",
       "      <td>...</td>\n",
       "      <td>0</td>\n",
       "      <td>0</td>\n",
       "      <td>0</td>\n",
       "      <td>0</td>\n",
       "      <td>0</td>\n",
       "      <td>0</td>\n",
       "      <td>1</td>\n",
       "      <td>0</td>\n",
       "      <td>0</td>\n",
       "      <td>19</td>\n",
       "    </tr>\n",
       "    <tr>\n",
       "      <th>3</th>\n",
       "      <td>1</td>\n",
       "      <td>0</td>\n",
       "      <td>0</td>\n",
       "      <td>0</td>\n",
       "      <td>1</td>\n",
       "      <td>0</td>\n",
       "      <td>0</td>\n",
       "      <td>0</td>\n",
       "      <td>0</td>\n",
       "      <td>1</td>\n",
       "      <td>...</td>\n",
       "      <td>1</td>\n",
       "      <td>0</td>\n",
       "      <td>0</td>\n",
       "      <td>0</td>\n",
       "      <td>0</td>\n",
       "      <td>0</td>\n",
       "      <td>1</td>\n",
       "      <td>0</td>\n",
       "      <td>0</td>\n",
       "      <td>30</td>\n",
       "    </tr>\n",
       "    <tr>\n",
       "      <th>4</th>\n",
       "      <td>0</td>\n",
       "      <td>1</td>\n",
       "      <td>0</td>\n",
       "      <td>1</td>\n",
       "      <td>0</td>\n",
       "      <td>0</td>\n",
       "      <td>0</td>\n",
       "      <td>0</td>\n",
       "      <td>0</td>\n",
       "      <td>1</td>\n",
       "      <td>...</td>\n",
       "      <td>0</td>\n",
       "      <td>0</td>\n",
       "      <td>0</td>\n",
       "      <td>0</td>\n",
       "      <td>0</td>\n",
       "      <td>1</td>\n",
       "      <td>0</td>\n",
       "      <td>0</td>\n",
       "      <td>0</td>\n",
       "      <td>60</td>\n",
       "    </tr>\n",
       "  </tbody>\n",
       "</table>\n",
       "<p>5 rows × 33 columns</p>\n",
       "</div>"
      ],
      "text/plain": [
       "   sex_Female  sex_Male  marital-status_Divorced  \\\n",
       "0           0         1                        0   \n",
       "1           0         1                        0   \n",
       "2           1         0                        0   \n",
       "3           1         0                        0   \n",
       "4           0         1                        0   \n",
       "\n",
       "   marital-status_Married-civ-spouse  marital-status_Never-married  \\\n",
       "0                                  1                             0   \n",
       "1                                  1                             0   \n",
       "2                                  0                             1   \n",
       "3                                  0                             1   \n",
       "4                                  1                             0   \n",
       "\n",
       "   marital-status_Separated  marital-status_Widowed  native-country_Mexico  \\\n",
       "0                         0                       0                      0   \n",
       "1                         0                       0                      0   \n",
       "2                         0                       0                      0   \n",
       "3                         0                       0                      0   \n",
       "4                         0                       0                      0   \n",
       "\n",
       "   native-country_Philippines  native-country_United-States  ...  \\\n",
       "0                           0                             1  ...   \n",
       "1                           0                             1  ...   \n",
       "2                           0                             1  ...   \n",
       "3                           0                             1  ...   \n",
       "4                           0                             1  ...   \n",
       "\n",
       "   education_HS-grad  education_Masters  education_Prof-school  \\\n",
       "0                  0                  1                      0   \n",
       "1                  0                  0                      0   \n",
       "2                  0                  0                      0   \n",
       "3                  1                  0                      0   \n",
       "4                  0                  0                      0   \n",
       "\n",
       "   education_Some-college  marital-status_Divorced  \\\n",
       "0                       0                        0   \n",
       "1                       1                        0   \n",
       "2                       0                        0   \n",
       "3                       0                        0   \n",
       "4                       0                        0   \n",
       "\n",
       "   marital-status_Married-civ-spouse  marital-status_Never-married  \\\n",
       "0                                  1                             0   \n",
       "1                                  1                             0   \n",
       "2                                  0                             1   \n",
       "3                                  0                             1   \n",
       "4                                  1                             0   \n",
       "\n",
       "   marital-status_Separated  marital-status_Widowed  age  \n",
       "0                         0                       0   17  \n",
       "1                         0                       0   23  \n",
       "2                         0                       0   19  \n",
       "3                         0                       0   30  \n",
       "4                         0                       0   60  \n",
       "\n",
       "[5 rows x 33 columns]"
      ]
     },
     "metadata": {},
     "output_type": "display_data"
    },
    {
     "name": "stdout",
     "output_type": "stream",
     "text": [
      "<class 'pandas.core.frame.DataFrame'>\n",
      "RangeIndex: 5100 entries, 0 to 5099\n",
      "Data columns (total 33 columns):\n",
      " #   Column                             Non-Null Count  Dtype\n",
      "---  ------                             --------------  -----\n",
      " 0   sex_Female                         5100 non-null   uint8\n",
      " 1   sex_Male                           5100 non-null   uint8\n",
      " 2   marital-status_Divorced            5100 non-null   uint8\n",
      " 3   marital-status_Married-civ-spouse  5100 non-null   uint8\n",
      " 4   marital-status_Never-married       5100 non-null   uint8\n",
      " 5   marital-status_Separated           5100 non-null   uint8\n",
      " 6   marital-status_Widowed             5100 non-null   uint8\n",
      " 7   native-country_Mexico              5100 non-null   uint8\n",
      " 8   native-country_Philippines         5100 non-null   uint8\n",
      " 9   native-country_United-States       5100 non-null   uint8\n",
      " 10  race_Asian-Pac-Islander            5100 non-null   uint8\n",
      " 11  race_Black                         5100 non-null   uint8\n",
      " 12  race_White                         5100 non-null   uint8\n",
      " 13  education_10th                     5100 non-null   uint8\n",
      " 14  education_11th                     5100 non-null   uint8\n",
      " 15  education_12th                     5100 non-null   uint8\n",
      " 16  education_1st-4th                  5100 non-null   int64\n",
      " 17  education_5th-6th                  5100 non-null   uint8\n",
      " 18  education_7th-8th                  5100 non-null   uint8\n",
      " 19  education_9th                      5100 non-null   uint8\n",
      " 20  education_Assoc-acdm               5100 non-null   uint8\n",
      " 21  education_Assoc-voc                5100 non-null   uint8\n",
      " 22  education_Bachelors                5100 non-null   uint8\n",
      " 23  education_HS-grad                  5100 non-null   uint8\n",
      " 24  education_Masters                  5100 non-null   uint8\n",
      " 25  education_Prof-school              5100 non-null   uint8\n",
      " 26  education_Some-college             5100 non-null   uint8\n",
      " 27  marital-status_Divorced            5100 non-null   uint8\n",
      " 28  marital-status_Married-civ-spouse  5100 non-null   uint8\n",
      " 29  marital-status_Never-married       5100 non-null   uint8\n",
      " 30  marital-status_Separated           5100 non-null   uint8\n",
      " 31  marital-status_Widowed             5100 non-null   uint8\n",
      " 32  age                                5100 non-null   int64\n",
      "dtypes: int64(2), uint8(31)\n",
      "memory usage: 234.2 KB\n"
     ]
    },
    {
     "data": {
      "text/plain": [
       "None"
      ]
     },
     "metadata": {},
     "output_type": "display_data"
    }
   ],
   "source": [
    "df_dummy =  pd.get_dummies(df_test[[\"sex\",\"marital-status\",\"native-country\",\"race\",\"education\",\"marital-status\"]])\n",
    "df_dummy.insert(16,\"education_1st-4th\",0)\n",
    "df_dummy[\"age\"] = df_test[\"age\"]\n",
    "#df_dummy[\"education_1st-4th\"] = 0\n",
    "display(df_dummy.head())\n",
    "display(df_dummy.info())"
   ]
  },
  {
   "cell_type": "code",
   "execution_count": 13,
   "id": "5bc93ddf",
   "metadata": {},
   "outputs": [
    {
     "data": {
      "text/plain": [
       "array([1, 0, 0, ..., 0, 0, 1], dtype=uint8)"
      ]
     },
     "metadata": {},
     "output_type": "display_data"
    }
   ],
   "source": [
    "X_pred = lr.predict(df_dummy)\n",
    "display(X_pred)"
   ]
  },
  {
   "cell_type": "code",
   "execution_count": 14,
   "id": "4578acb9",
   "metadata": {},
   "outputs": [
    {
     "data": {
      "text/html": [
       "<div>\n",
       "<style scoped>\n",
       "    .dataframe tbody tr th:only-of-type {\n",
       "        vertical-align: middle;\n",
       "    }\n",
       "\n",
       "    .dataframe tbody tr th {\n",
       "        vertical-align: top;\n",
       "    }\n",
       "\n",
       "    .dataframe thead th {\n",
       "        text-align: right;\n",
       "    }\n",
       "</style>\n",
       "<table border=\"1\" class=\"dataframe\">\n",
       "  <thead>\n",
       "    <tr style=\"text-align: right;\">\n",
       "      <th></th>\n",
       "      <th>0</th>\n",
       "      <th>1</th>\n",
       "    </tr>\n",
       "  </thead>\n",
       "  <tbody>\n",
       "    <tr>\n",
       "      <th>0</th>\n",
       "      <td>3873</td>\n",
       "      <td>1</td>\n",
       "    </tr>\n",
       "    <tr>\n",
       "      <th>1</th>\n",
       "      <td>3625</td>\n",
       "      <td>0</td>\n",
       "    </tr>\n",
       "    <tr>\n",
       "      <th>2</th>\n",
       "      <td>3028</td>\n",
       "      <td>0</td>\n",
       "    </tr>\n",
       "    <tr>\n",
       "      <th>3</th>\n",
       "      <td>13814</td>\n",
       "      <td>0</td>\n",
       "    </tr>\n",
       "    <tr>\n",
       "      <th>4</th>\n",
       "      <td>15398</td>\n",
       "      <td>1</td>\n",
       "    </tr>\n",
       "  </tbody>\n",
       "</table>\n",
       "</div>"
      ],
      "text/plain": [
       "       0  1\n",
       "0   3873  1\n",
       "1   3625  0\n",
       "2   3028  0\n",
       "3  13814  0\n",
       "4  15398  1"
      ]
     },
     "metadata": {},
     "output_type": "display_data"
    }
   ],
   "source": [
    "df_sample_submit[1] = X_pred\n",
    "display(df_sample_submit.head())\n",
    "df_sample_submit.to_csv(\"./result.csv\",header=None,index=False)"
   ]
  },
  {
   "cell_type": "code",
   "execution_count": null,
   "id": "76411d45",
   "metadata": {},
   "outputs": [],
   "source": []
  }
 ],
 "metadata": {
  "kernelspec": {
   "display_name": "Python 3 (ipykernel)",
   "language": "python",
   "name": "python3"
  },
  "language_info": {
   "codemirror_mode": {
    "name": "ipython",
    "version": 3
   },
   "file_extension": ".py",
   "mimetype": "text/x-python",
   "name": "python",
   "nbconvert_exporter": "python",
   "pygments_lexer": "ipython3",
   "version": "3.9.18"
  }
 },
 "nbformat": 4,
 "nbformat_minor": 5
}

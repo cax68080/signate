{
 "cells": [
  {
   "cell_type": "code",
   "execution_count": 2,
   "id": "634fb664",
   "metadata": {},
   "outputs": [],
   "source": [
    "import numpy as np\n",
    "import pandas as pd\n",
    "import seaborn as sns\n",
    "import matplotlib.pyplot as plt"
   ]
  },
  {
   "cell_type": "code",
   "execution_count": 4,
   "id": "2e45d51e",
   "metadata": {},
   "outputs": [
    {
     "data": {
      "text/html": [
       "<div>\n",
       "<style scoped>\n",
       "    .dataframe tbody tr th:only-of-type {\n",
       "        vertical-align: middle;\n",
       "    }\n",
       "\n",
       "    .dataframe tbody tr th {\n",
       "        vertical-align: top;\n",
       "    }\n",
       "\n",
       "    .dataframe thead th {\n",
       "        text-align: right;\n",
       "    }\n",
       "</style>\n",
       "<table border=\"1\" class=\"dataframe\">\n",
       "  <thead>\n",
       "    <tr style=\"text-align: right;\">\n",
       "      <th></th>\n",
       "      <th>id</th>\n",
       "      <th>Age</th>\n",
       "      <th>Gender</th>\n",
       "      <th>T_Bil</th>\n",
       "      <th>D_Bil</th>\n",
       "      <th>ALP</th>\n",
       "      <th>ALT_GPT</th>\n",
       "      <th>AST_GOT</th>\n",
       "      <th>TP</th>\n",
       "      <th>Alb</th>\n",
       "      <th>AG_ratio</th>\n",
       "      <th>disease</th>\n",
       "    </tr>\n",
       "  </thead>\n",
       "  <tbody>\n",
       "    <tr>\n",
       "      <th>0</th>\n",
       "      <td>0</td>\n",
       "      <td>60</td>\n",
       "      <td>Male</td>\n",
       "      <td>2.9</td>\n",
       "      <td>1.3</td>\n",
       "      <td>170.9</td>\n",
       "      <td>42.1</td>\n",
       "      <td>37.1</td>\n",
       "      <td>5.5</td>\n",
       "      <td>2.9</td>\n",
       "      <td>1.01</td>\n",
       "      <td>1</td>\n",
       "    </tr>\n",
       "    <tr>\n",
       "      <th>1</th>\n",
       "      <td>1</td>\n",
       "      <td>28</td>\n",
       "      <td>Female</td>\n",
       "      <td>0.7</td>\n",
       "      <td>0.1</td>\n",
       "      <td>158.8</td>\n",
       "      <td>26.0</td>\n",
       "      <td>23.9</td>\n",
       "      <td>6.4</td>\n",
       "      <td>3.7</td>\n",
       "      <td>1.36</td>\n",
       "      <td>0</td>\n",
       "    </tr>\n",
       "    <tr>\n",
       "      <th>2</th>\n",
       "      <td>2</td>\n",
       "      <td>60</td>\n",
       "      <td>Male</td>\n",
       "      <td>23.1</td>\n",
       "      <td>12.5</td>\n",
       "      <td>962.0</td>\n",
       "      <td>53.0</td>\n",
       "      <td>40.9</td>\n",
       "      <td>6.8</td>\n",
       "      <td>3.3</td>\n",
       "      <td>0.96</td>\n",
       "      <td>1</td>\n",
       "    </tr>\n",
       "    <tr>\n",
       "      <th>3</th>\n",
       "      <td>3</td>\n",
       "      <td>20</td>\n",
       "      <td>Male</td>\n",
       "      <td>1.0</td>\n",
       "      <td>0.5</td>\n",
       "      <td>415.9</td>\n",
       "      <td>33.9</td>\n",
       "      <td>39.0</td>\n",
       "      <td>7.0</td>\n",
       "      <td>3.8</td>\n",
       "      <td>1.31</td>\n",
       "      <td>0</td>\n",
       "    </tr>\n",
       "    <tr>\n",
       "      <th>4</th>\n",
       "      <td>4</td>\n",
       "      <td>44</td>\n",
       "      <td>Female</td>\n",
       "      <td>0.6</td>\n",
       "      <td>0.3</td>\n",
       "      <td>152.9</td>\n",
       "      <td>40.9</td>\n",
       "      <td>42.0</td>\n",
       "      <td>4.5</td>\n",
       "      <td>2.1</td>\n",
       "      <td>1.04</td>\n",
       "      <td>0</td>\n",
       "    </tr>\n",
       "  </tbody>\n",
       "</table>\n",
       "</div>"
      ],
      "text/plain": [
       "   id  Age  Gender  T_Bil  D_Bil    ALP  ALT_GPT  AST_GOT   TP  Alb  AG_ratio  \\\n",
       "0   0   60    Male    2.9    1.3  170.9     42.1     37.1  5.5  2.9      1.01   \n",
       "1   1   28  Female    0.7    0.1  158.8     26.0     23.9  6.4  3.7      1.36   \n",
       "2   2   60    Male   23.1   12.5  962.0     53.0     40.9  6.8  3.3      0.96   \n",
       "3   3   20    Male    1.0    0.5  415.9     33.9     39.0  7.0  3.8      1.31   \n",
       "4   4   44  Female    0.6    0.3  152.9     40.9     42.0  4.5  2.1      1.04   \n",
       "\n",
       "   disease  \n",
       "0        1  \n",
       "1        0  \n",
       "2        1  \n",
       "3        0  \n",
       "4        0  "
      ]
     },
     "metadata": {},
     "output_type": "display_data"
    }
   ],
   "source": [
    "df_train = pd.read_csv(\"./train.csv\")\n",
    "display(df_train.head())"
   ]
  },
  {
   "cell_type": "code",
   "execution_count": 6,
   "id": "4bce720f",
   "metadata": {},
   "outputs": [
    {
     "name": "stdout",
     "output_type": "stream",
     "text": [
      "id          0\n",
      "Age         0\n",
      "Gender      0\n",
      "T_Bil       0\n",
      "D_Bil       0\n",
      "ALP         0\n",
      "ALT_GPT     0\n",
      "AST_GOT     0\n",
      "TP          0\n",
      "Alb         0\n",
      "AG_ratio    4\n",
      "disease     0\n",
      "dtype: int64\n",
      "<class 'pandas.core.frame.DataFrame'>\n",
      "RangeIndex: 891 entries, 0 to 890\n",
      "Data columns (total 12 columns):\n",
      " #   Column    Non-Null Count  Dtype  \n",
      "---  ------    --------------  -----  \n",
      " 0   id        891 non-null    int64  \n",
      " 1   Age       891 non-null    int64  \n",
      " 2   Gender    891 non-null    object \n",
      " 3   T_Bil     891 non-null    float64\n",
      " 4   D_Bil     891 non-null    float64\n",
      " 5   ALP       891 non-null    float64\n",
      " 6   ALT_GPT   891 non-null    float64\n",
      " 7   AST_GOT   891 non-null    float64\n",
      " 8   TP        891 non-null    float64\n",
      " 9   Alb       891 non-null    float64\n",
      " 10  AG_ratio  887 non-null    float64\n",
      " 11  disease   891 non-null    int64  \n",
      "dtypes: float64(8), int64(3), object(1)\n",
      "memory usage: 83.7+ KB\n",
      "None\n",
      "(891, 12)\n"
     ]
    }
   ],
   "source": [
    "print(df_train.isna().sum())\n",
    "print(df_train.info())\n",
    "print(df_train.shape)"
   ]
  },
  {
   "cell_type": "code",
   "execution_count": 7,
   "id": "99804c09",
   "metadata": {},
   "outputs": [
    {
     "data": {
      "text/html": [
       "<div>\n",
       "<style scoped>\n",
       "    .dataframe tbody tr th:only-of-type {\n",
       "        vertical-align: middle;\n",
       "    }\n",
       "\n",
       "    .dataframe tbody tr th {\n",
       "        vertical-align: top;\n",
       "    }\n",
       "\n",
       "    .dataframe thead th {\n",
       "        text-align: right;\n",
       "    }\n",
       "</style>\n",
       "<table border=\"1\" class=\"dataframe\">\n",
       "  <thead>\n",
       "    <tr style=\"text-align: right;\">\n",
       "      <th></th>\n",
       "      <th>id</th>\n",
       "      <th>Age</th>\n",
       "      <th>Gender</th>\n",
       "      <th>T_Bil</th>\n",
       "      <th>D_Bil</th>\n",
       "      <th>ALP</th>\n",
       "      <th>ALT_GPT</th>\n",
       "      <th>AST_GOT</th>\n",
       "      <th>TP</th>\n",
       "      <th>Alb</th>\n",
       "      <th>AG_ratio</th>\n",
       "      <th>disease</th>\n",
       "    </tr>\n",
       "  </thead>\n",
       "  <tbody>\n",
       "    <tr>\n",
       "      <th>31</th>\n",
       "      <td>31</td>\n",
       "      <td>75</td>\n",
       "      <td>Male</td>\n",
       "      <td>8.3</td>\n",
       "      <td>4.6</td>\n",
       "      <td>386.1</td>\n",
       "      <td>30.0</td>\n",
       "      <td>25.1</td>\n",
       "      <td>5.6</td>\n",
       "      <td>1.9</td>\n",
       "      <td>NaN</td>\n",
       "      <td>1</td>\n",
       "    </tr>\n",
       "    <tr>\n",
       "      <th>278</th>\n",
       "      <td>278</td>\n",
       "      <td>29</td>\n",
       "      <td>Male</td>\n",
       "      <td>1.3</td>\n",
       "      <td>0.3</td>\n",
       "      <td>75.0</td>\n",
       "      <td>25.0</td>\n",
       "      <td>26.0</td>\n",
       "      <td>5.2</td>\n",
       "      <td>2.8</td>\n",
       "      <td>NaN</td>\n",
       "      <td>1</td>\n",
       "    </tr>\n",
       "    <tr>\n",
       "      <th>495</th>\n",
       "      <td>495</td>\n",
       "      <td>49</td>\n",
       "      <td>Male</td>\n",
       "      <td>0.8</td>\n",
       "      <td>0.3</td>\n",
       "      <td>189.1</td>\n",
       "      <td>18.2</td>\n",
       "      <td>20.1</td>\n",
       "      <td>7.3</td>\n",
       "      <td>3.8</td>\n",
       "      <td>NaN</td>\n",
       "      <td>0</td>\n",
       "    </tr>\n",
       "    <tr>\n",
       "      <th>648</th>\n",
       "      <td>648</td>\n",
       "      <td>64</td>\n",
       "      <td>Male</td>\n",
       "      <td>0.8</td>\n",
       "      <td>0.2</td>\n",
       "      <td>199.0</td>\n",
       "      <td>19.1</td>\n",
       "      <td>22.2</td>\n",
       "      <td>6.2</td>\n",
       "      <td>3.6</td>\n",
       "      <td>NaN</td>\n",
       "      <td>0</td>\n",
       "    </tr>\n",
       "  </tbody>\n",
       "</table>\n",
       "</div>"
      ],
      "text/plain": [
       "      id  Age Gender  T_Bil  D_Bil    ALP  ALT_GPT  AST_GOT   TP  Alb  \\\n",
       "31    31   75   Male    8.3    4.6  386.1     30.0     25.1  5.6  1.9   \n",
       "278  278   29   Male    1.3    0.3   75.0     25.0     26.0  5.2  2.8   \n",
       "495  495   49   Male    0.8    0.3  189.1     18.2     20.1  7.3  3.8   \n",
       "648  648   64   Male    0.8    0.2  199.0     19.1     22.2  6.2  3.6   \n",
       "\n",
       "     AG_ratio  disease  \n",
       "31        NaN        1  \n",
       "278       NaN        1  \n",
       "495       NaN        0  \n",
       "648       NaN        0  "
      ]
     },
     "metadata": {},
     "output_type": "display_data"
    },
    {
     "name": "stdout",
     "output_type": "stream",
     "text": [
      "id          0\n",
      "Age         0\n",
      "Gender      0\n",
      "T_Bil       0\n",
      "D_Bil       0\n",
      "ALP         0\n",
      "ALT_GPT     0\n",
      "AST_GOT     0\n",
      "TP          0\n",
      "Alb         0\n",
      "AG_ratio    0\n",
      "disease     0\n",
      "dtype: int64\n"
     ]
    }
   ],
   "source": [
    "display(df_train[df_train[\"AG_ratio\"].isna()])\n",
    "df_train[\"AG_ratio\"].fillna(df_train[\"Alb\"] / (df_train[\"TP\"] - df_train[\"Alb\"]), inplace=True)\n",
    "print(df_train.isna().sum())"
   ]
  },
  {
   "cell_type": "code",
   "execution_count": 8,
   "id": "a1ed852f",
   "metadata": {},
   "outputs": [
    {
     "name": "stdout",
     "output_type": "stream",
     "text": [
      "0\n"
     ]
    }
   ],
   "source": [
    "print(df_train.duplicated().sum())"
   ]
  },
  {
   "cell_type": "code",
   "execution_count": 9,
   "id": "a8d171e3",
   "metadata": {},
   "outputs": [
    {
     "name": "stdout",
     "output_type": "stream",
     "text": [
      "                id         Age Gender       T_Bil       D_Bil          ALP  \\\n",
      "count   891.000000  891.000000    891  891.000000  891.000000   891.000000   \n",
      "unique         NaN         NaN      2         NaN         NaN          NaN   \n",
      "top            NaN         NaN   Male         NaN         NaN          NaN   \n",
      "freq           NaN         NaN    684         NaN         NaN          NaN   \n",
      "mean    445.000000   43.340067    NaN    2.807856    1.256790   268.607071   \n",
      "std     257.353842   16.647096    NaN    4.922115    2.578286   226.134887   \n",
      "min       0.000000    3.000000    NaN    0.400000    0.100000    63.000000   \n",
      "25%     222.500000   31.000000    NaN    0.800000    0.200000   170.450000   \n",
      "50%     445.000000   44.000000    NaN    1.100000    0.400000   198.000000   \n",
      "75%     667.500000   57.000000    NaN    2.100000    0.900000   279.000000   \n",
      "max     890.000000   90.000000    NaN   43.200000   19.800000  2110.100000   \n",
      "\n",
      "            ALT_GPT      AST_GOT          TP         Alb    AG_ratio  \\\n",
      "count    891.000000   891.000000  891.000000  891.000000  891.000000   \n",
      "unique          NaN          NaN         NaN         NaN         NaN   \n",
      "top             NaN          NaN         NaN         NaN         NaN   \n",
      "freq            NaN          NaN         NaN         NaN         NaN   \n",
      "mean      63.770146    81.336139    6.537823    3.230752    0.998036   \n",
      "std      154.295258   175.539331    1.030673    0.748239    0.302349   \n",
      "min        9.900000    10.100000    2.600000    0.900000    0.310000   \n",
      "25%       21.900000    22.900000    5.900000    2.700000    0.810000   \n",
      "50%       30.000000    35.000000    6.600000    3.200000    0.990000   \n",
      "75%       51.400000    68.000000    7.300000    3.800000    1.168333   \n",
      "max     2000.200000  2946.000000    9.600000    5.600000    2.970000   \n",
      "\n",
      "           disease  \n",
      "count   891.000000  \n",
      "unique         NaN  \n",
      "top            NaN  \n",
      "freq           NaN  \n",
      "mean      0.483726  \n",
      "std       0.500016  \n",
      "min       0.000000  \n",
      "25%       0.000000  \n",
      "50%       0.000000  \n",
      "75%       1.000000  \n",
      "max       1.000000  \n"
     ]
    }
   ],
   "source": [
    "print(df_train.describe(include='all'))"
   ]
  },
  {
   "cell_type": "code",
   "execution_count": 10,
   "id": "f4568bd4",
   "metadata": {
    "scrolled": true
   },
   "outputs": [
    {
     "data": {
      "text/html": [
       "<div>\n",
       "<style scoped>\n",
       "    .dataframe tbody tr th:only-of-type {\n",
       "        vertical-align: middle;\n",
       "    }\n",
       "\n",
       "    .dataframe tbody tr th {\n",
       "        vertical-align: top;\n",
       "    }\n",
       "\n",
       "    .dataframe thead th {\n",
       "        text-align: right;\n",
       "    }\n",
       "</style>\n",
       "<table border=\"1\" class=\"dataframe\">\n",
       "  <thead>\n",
       "    <tr style=\"text-align: right;\">\n",
       "      <th></th>\n",
       "      <th>id</th>\n",
       "      <th>Age</th>\n",
       "      <th>Gender</th>\n",
       "      <th>T_Bil</th>\n",
       "      <th>D_Bil</th>\n",
       "      <th>ALP</th>\n",
       "      <th>ALT_GPT</th>\n",
       "      <th>AST_GOT</th>\n",
       "      <th>TP</th>\n",
       "      <th>Alb</th>\n",
       "      <th>AG_ratio</th>\n",
       "      <th>disease</th>\n",
       "    </tr>\n",
       "  </thead>\n",
       "  <tbody>\n",
       "    <tr>\n",
       "      <th>1</th>\n",
       "      <td>1</td>\n",
       "      <td>28</td>\n",
       "      <td>Female</td>\n",
       "      <td>0.7</td>\n",
       "      <td>0.1</td>\n",
       "      <td>158.8</td>\n",
       "      <td>26.0</td>\n",
       "      <td>23.9</td>\n",
       "      <td>6.4</td>\n",
       "      <td>3.7</td>\n",
       "      <td>1.36</td>\n",
       "      <td>0</td>\n",
       "    </tr>\n",
       "    <tr>\n",
       "      <th>3</th>\n",
       "      <td>3</td>\n",
       "      <td>20</td>\n",
       "      <td>Male</td>\n",
       "      <td>1.0</td>\n",
       "      <td>0.5</td>\n",
       "      <td>415.9</td>\n",
       "      <td>33.9</td>\n",
       "      <td>39.0</td>\n",
       "      <td>7.0</td>\n",
       "      <td>3.8</td>\n",
       "      <td>1.31</td>\n",
       "      <td>0</td>\n",
       "    </tr>\n",
       "    <tr>\n",
       "      <th>4</th>\n",
       "      <td>4</td>\n",
       "      <td>44</td>\n",
       "      <td>Female</td>\n",
       "      <td>0.6</td>\n",
       "      <td>0.3</td>\n",
       "      <td>152.9</td>\n",
       "      <td>40.9</td>\n",
       "      <td>42.0</td>\n",
       "      <td>4.5</td>\n",
       "      <td>2.1</td>\n",
       "      <td>1.04</td>\n",
       "      <td>0</td>\n",
       "    </tr>\n",
       "    <tr>\n",
       "      <th>7</th>\n",
       "      <td>7</td>\n",
       "      <td>37</td>\n",
       "      <td>Female</td>\n",
       "      <td>0.8</td>\n",
       "      <td>0.1</td>\n",
       "      <td>152.0</td>\n",
       "      <td>89.9</td>\n",
       "      <td>20.9</td>\n",
       "      <td>7.0</td>\n",
       "      <td>4.3</td>\n",
       "      <td>1.43</td>\n",
       "      <td>0</td>\n",
       "    </tr>\n",
       "    <tr>\n",
       "      <th>8</th>\n",
       "      <td>8</td>\n",
       "      <td>41</td>\n",
       "      <td>Male</td>\n",
       "      <td>0.9</td>\n",
       "      <td>0.2</td>\n",
       "      <td>114.0</td>\n",
       "      <td>20.9</td>\n",
       "      <td>22.9</td>\n",
       "      <td>7.0</td>\n",
       "      <td>3.1</td>\n",
       "      <td>1.04</td>\n",
       "      <td>0</td>\n",
       "    </tr>\n",
       "  </tbody>\n",
       "</table>\n",
       "</div>"
      ],
      "text/plain": [
       "   id  Age  Gender  T_Bil  D_Bil    ALP  ALT_GPT  AST_GOT   TP  Alb  AG_ratio  \\\n",
       "1   1   28  Female    0.7    0.1  158.8     26.0     23.9  6.4  3.7      1.36   \n",
       "3   3   20    Male    1.0    0.5  415.9     33.9     39.0  7.0  3.8      1.31   \n",
       "4   4   44  Female    0.6    0.3  152.9     40.9     42.0  4.5  2.1      1.04   \n",
       "7   7   37  Female    0.8    0.1  152.0     89.9     20.9  7.0  4.3      1.43   \n",
       "8   8   41    Male    0.9    0.2  114.0     20.9     22.9  7.0  3.1      1.04   \n",
       "\n",
       "   disease  \n",
       "1        0  \n",
       "3        0  \n",
       "4        0  \n",
       "7        0  \n",
       "8        0  "
      ]
     },
     "metadata": {},
     "output_type": "display_data"
    },
    {
     "data": {
      "text/html": [
       "<div>\n",
       "<style scoped>\n",
       "    .dataframe tbody tr th:only-of-type {\n",
       "        vertical-align: middle;\n",
       "    }\n",
       "\n",
       "    .dataframe tbody tr th {\n",
       "        vertical-align: top;\n",
       "    }\n",
       "\n",
       "    .dataframe thead th {\n",
       "        text-align: right;\n",
       "    }\n",
       "</style>\n",
       "<table border=\"1\" class=\"dataframe\">\n",
       "  <thead>\n",
       "    <tr style=\"text-align: right;\">\n",
       "      <th></th>\n",
       "      <th>id</th>\n",
       "      <th>Age</th>\n",
       "      <th>Gender</th>\n",
       "      <th>T_Bil</th>\n",
       "      <th>D_Bil</th>\n",
       "      <th>ALP</th>\n",
       "      <th>ALT_GPT</th>\n",
       "      <th>AST_GOT</th>\n",
       "      <th>TP</th>\n",
       "      <th>Alb</th>\n",
       "      <th>AG_ratio</th>\n",
       "      <th>disease</th>\n",
       "    </tr>\n",
       "  </thead>\n",
       "  <tbody>\n",
       "    <tr>\n",
       "      <th>0</th>\n",
       "      <td>0</td>\n",
       "      <td>60</td>\n",
       "      <td>Male</td>\n",
       "      <td>2.9</td>\n",
       "      <td>1.3</td>\n",
       "      <td>170.9</td>\n",
       "      <td>42.1</td>\n",
       "      <td>37.1</td>\n",
       "      <td>5.5</td>\n",
       "      <td>2.9</td>\n",
       "      <td>1.01</td>\n",
       "      <td>1</td>\n",
       "    </tr>\n",
       "    <tr>\n",
       "      <th>2</th>\n",
       "      <td>2</td>\n",
       "      <td>60</td>\n",
       "      <td>Male</td>\n",
       "      <td>23.1</td>\n",
       "      <td>12.5</td>\n",
       "      <td>962.0</td>\n",
       "      <td>53.0</td>\n",
       "      <td>40.9</td>\n",
       "      <td>6.8</td>\n",
       "      <td>3.3</td>\n",
       "      <td>0.96</td>\n",
       "      <td>1</td>\n",
       "    </tr>\n",
       "    <tr>\n",
       "      <th>5</th>\n",
       "      <td>5</td>\n",
       "      <td>62</td>\n",
       "      <td>Male</td>\n",
       "      <td>11.1</td>\n",
       "      <td>5.7</td>\n",
       "      <td>699.0</td>\n",
       "      <td>64.0</td>\n",
       "      <td>100.1</td>\n",
       "      <td>7.4</td>\n",
       "      <td>3.3</td>\n",
       "      <td>0.64</td>\n",
       "      <td>1</td>\n",
       "    </tr>\n",
       "    <tr>\n",
       "      <th>6</th>\n",
       "      <td>6</td>\n",
       "      <td>32</td>\n",
       "      <td>Male</td>\n",
       "      <td>12.4</td>\n",
       "      <td>6.0</td>\n",
       "      <td>514.9</td>\n",
       "      <td>48.1</td>\n",
       "      <td>92.1</td>\n",
       "      <td>6.5</td>\n",
       "      <td>2.5</td>\n",
       "      <td>0.81</td>\n",
       "      <td>1</td>\n",
       "    </tr>\n",
       "    <tr>\n",
       "      <th>9</th>\n",
       "      <td>9</td>\n",
       "      <td>14</td>\n",
       "      <td>Male</td>\n",
       "      <td>1.7</td>\n",
       "      <td>0.6</td>\n",
       "      <td>268.8</td>\n",
       "      <td>58.0</td>\n",
       "      <td>45.1</td>\n",
       "      <td>6.7</td>\n",
       "      <td>3.9</td>\n",
       "      <td>1.21</td>\n",
       "      <td>1</td>\n",
       "    </tr>\n",
       "  </tbody>\n",
       "</table>\n",
       "</div>"
      ],
      "text/plain": [
       "   id  Age Gender  T_Bil  D_Bil    ALP  ALT_GPT  AST_GOT   TP  Alb  AG_ratio  \\\n",
       "0   0   60   Male    2.9    1.3  170.9     42.1     37.1  5.5  2.9      1.01   \n",
       "2   2   60   Male   23.1   12.5  962.0     53.0     40.9  6.8  3.3      0.96   \n",
       "5   5   62   Male   11.1    5.7  699.0     64.0    100.1  7.4  3.3      0.64   \n",
       "6   6   32   Male   12.4    6.0  514.9     48.1     92.1  6.5  2.5      0.81   \n",
       "9   9   14   Male    1.7    0.6  268.8     58.0     45.1  6.7  3.9      1.21   \n",
       "\n",
       "   disease  \n",
       "0        1  \n",
       "2        1  \n",
       "5        1  \n",
       "6        1  \n",
       "9        1  "
      ]
     },
     "metadata": {},
     "output_type": "display_data"
    }
   ],
   "source": [
    "df_train_0 = df_train[df_train[\"disease\"]==0]\n",
    "df_train_1 = df_train[df_train[\"disease\"]==1]\n",
    "display(df_train_0.head())\n",
    "display(df_train_1.head())"
   ]
  },
  {
   "cell_type": "code",
   "execution_count": 30,
   "id": "b6b83cd4-968b-4149-9778-7407991f3c27",
   "metadata": {},
   "outputs": [
    {
     "name": "stdout",
     "output_type": "stream",
     "text": [
      "                id         Age Gender       T_Bil       D_Bil          ALP  \\\n",
      "count   460.000000  460.000000    460  460.000000  460.000000   460.000000   \n",
      "unique         NaN         NaN      2         NaN         NaN          NaN   \n",
      "top            NaN         NaN   Male         NaN         NaN          NaN   \n",
      "freq           NaN         NaN    347         NaN         NaN          NaN   \n",
      "mean    442.573913   41.006522    NaN    1.027174    0.342391   208.488913   \n",
      "std     251.072230   16.721542    NaN    0.687248    0.372542    98.177537   \n",
      "min       1.000000    3.000000    NaN    0.400000    0.100000    90.000000   \n",
      "25%     224.750000   28.000000    NaN    0.700000    0.100000   162.000000   \n",
      "50%     437.500000   41.000000    NaN    0.900000    0.200000   185.050000   \n",
      "75%     658.250000   55.250000    NaN    1.100000    0.400000   205.800000   \n",
      "max     890.000000   84.000000    NaN    7.000000    3.500000  1051.000000   \n",
      "\n",
      "          ALT_GPT     AST_GOT          TP         Alb    AG_ratio  disease  \n",
      "count   460.00000  460.000000  460.000000  460.000000  460.000000    460.0  \n",
      "unique        NaN         NaN         NaN         NaN         NaN      NaN  \n",
      "top           NaN         NaN         NaN         NaN         NaN      NaN  \n",
      "freq          NaN         NaN         NaN         NaN         NaN      NaN  \n",
      "mean     31.09500   37.287174    6.554130    3.366304    1.072218      0.0  \n",
      "std      20.49349   29.645788    0.996751    0.716545    0.262890      0.0  \n",
      "min       9.90000   10.100000    3.600000    1.300000    0.310000      0.0  \n",
      "25%      20.00000   20.975000    5.900000    2.900000    0.907500      0.0  \n",
      "50%      25.90000   28.050000    6.600000    3.400000    1.060000      0.0  \n",
      "75%      33.90000   42.025000    7.300000    3.900000    1.220000      0.0  \n",
      "max     159.80000  230.900000    9.300000    5.000000    2.010000      0.0  \n",
      "                id         Age Gender       T_Bil       D_Bil          ALP  \\\n",
      "count   431.000000  431.000000    431  431.000000  431.000000   431.000000   \n",
      "unique         NaN         NaN      2         NaN         NaN          NaN   \n",
      "top            NaN         NaN   Male         NaN         NaN          NaN   \n",
      "freq           NaN         NaN    337         NaN         NaN          NaN   \n",
      "mean    447.589327   45.830626    NaN    4.708353    2.232715   332.770302   \n",
      "std     264.161192   16.219615    NaN    6.529028    3.429526   295.905291   \n",
      "min       0.000000    6.000000    NaN    0.500000    0.100000    63.000000   \n",
      "25%     219.500000   32.500000    NaN    1.100000    0.300000   189.850000   \n",
      "50%     457.000000   46.000000    NaN    1.900000    0.800000   233.900000   \n",
      "75%     674.500000   59.000000    NaN    4.500000    2.300000   340.950000   \n",
      "max     889.000000   90.000000    NaN   43.200000   19.800000  2110.100000   \n",
      "\n",
      "            ALT_GPT      AST_GOT          TP         Alb    AG_ratio  disease  \n",
      "count    431.000000   431.000000  431.000000  431.000000  431.000000    431.0  \n",
      "unique          NaN          NaN         NaN         NaN         NaN      NaN  \n",
      "top             NaN          NaN         NaN         NaN         NaN      NaN  \n",
      "freq            NaN          NaN         NaN         NaN         NaN      NaN  \n",
      "mean      98.643852   128.348956    6.520418    3.086079    0.918864      1.0  \n",
      "std      215.558678   241.968509    1.066575    0.755040    0.321350      0.0  \n",
      "min       11.900000    10.900000    2.600000    0.900000    0.330000      1.0  \n",
      "25%       25.100000    30.050000    5.800000    2.600000    0.720000      1.0  \n",
      "50%       42.900000    55.100000    6.600000    3.100000    0.880000      1.0  \n",
      "75%       79.000000   108.000000    7.200000    3.600000    1.080000      1.0  \n",
      "max     2000.200000  2946.000000    9.600000    5.600000    2.970000      1.0  \n"
     ]
    }
   ],
   "source": [
    "print(df_train_0.describe(include='all'))\n",
    "print(df_train_1.describe(include='all'))"
   ]
  },
  {
   "cell_type": "code",
   "execution_count": 11,
   "id": "2c0c3934",
   "metadata": {},
   "outputs": [
    {
     "data": {
      "text/plain": [
       "Male      684\n",
       "Female    207\n",
       "Name: Gender, dtype: int64"
      ]
     },
     "metadata": {},
     "output_type": "display_data"
    },
    {
     "data": {
      "text/plain": [
       "Male      347\n",
       "Female    113\n",
       "Name: Gender, dtype: int64"
      ]
     },
     "metadata": {},
     "output_type": "display_data"
    },
    {
     "data": {
      "text/plain": [
       "Male      337\n",
       "Female     94\n",
       "Name: Gender, dtype: int64"
      ]
     },
     "metadata": {},
     "output_type": "display_data"
    }
   ],
   "source": [
    "display(df_train[\"Gender\"].value_counts())\n",
    "display(df_train_0[\"Gender\"].value_counts())\n",
    "display(df_train_1[\"Gender\"].value_counts())"
   ]
  },
  {
   "cell_type": "code",
   "execution_count": 12,
   "id": "c9dd97ca",
   "metadata": {},
   "outputs": [
    {
     "data": {
      "image/png": "[encoded data removed]",
      "text/plain": [
       "<Figure size 640x480 with 1 Axes>"
      ]
     },
     "metadata": {},
     "output_type": "display_data"
    },
    {
     "data": {
      "image/png": "[encoded data removed]",
      "text/plain": [
       "<Figure size 640x480 with 1 Axes>"
      ]
     },
     "metadata": {},
     "output_type": "display_data"
    },
    {
     "data": {
      "image/png": "[encoded data removed]",
      "text/plain": [
       "<Figure size 640x480 with 1 Axes>"
      ]
     },
     "metadata": {},
     "output_type": "display_data"
    }
   ],
   "source": [
    "fig = plt.figure()\n",
    "axes1 = fig.add_subplot(1,1,1)\n",
    "axes1.hist(data=df_train,x=\"Age\",bins=10)\n",
    "plt.show()\n",
    "fig = plt.figure()\n",
    "axes1 = fig.add_subplot(1,1,1)\n",
    "axes1.hist(data=df_train_0,x=\"Age\",bins=10)\n",
    "plt.show()\n",
    "fig = plt.figure()\n",
    "axes1 = fig.add_subplot(1,1,1)\n",
    "axes1.hist(data=df_train_1,x=\"Age\",bins=10)\n",
    "plt.show()"
   ]
  },
  {
   "cell_type": "code",
   "execution_count": 13,
   "id": "873b43de",
   "metadata": {},
   "outputs": [
    {
     "name": "stdout",
     "output_type": "stream",
     "text": [
      "                id       Age     T_Bil     D_Bil       ALP   ALT_GPT  \\\n",
      "id        1.000000  0.049873  0.005274  0.002191  0.004649 -0.008899   \n",
      "Age       0.049873  1.000000  0.023838  0.022956  0.043923 -0.068371   \n",
      "T_Bil     0.005274  0.023838  1.000000  0.992112  0.256488  0.256965   \n",
      "D_Bil     0.002191  0.022956  0.992112  1.000000  0.254928  0.236076   \n",
      "ALP       0.004649  0.043923  0.256488  0.254928  1.000000  0.096297   \n",
      "ALT_GPT  -0.008899 -0.068371  0.256965  0.236076  0.096297  1.000000   \n",
      "AST_GOT  -0.013150 -0.043663  0.355203  0.328497  0.116894  0.866955   \n",
      "TP       -0.051528 -0.211715 -0.014836 -0.014602 -0.023761 -0.005689   \n",
      "Alb      -0.050070 -0.261470 -0.230144 -0.224510 -0.154299 -0.010086   \n",
      "AG_ratio -0.041471 -0.129721 -0.255273 -0.246936 -0.192997 -0.003419   \n",
      "disease   0.009745  0.144898  0.373955  0.366597  0.274803  0.218902   \n",
      "\n",
      "           AST_GOT        TP       Alb  AG_ratio   disease  \n",
      "id       -0.013150 -0.051528 -0.050070 -0.041471  0.009745  \n",
      "Age      -0.043663 -0.211715 -0.261470 -0.129721  0.144898  \n",
      "T_Bil     0.355203 -0.014836 -0.230144 -0.255273  0.373955  \n",
      "D_Bil     0.328497 -0.014602 -0.224510 -0.246936  0.366597  \n",
      "ALP       0.116894 -0.023761 -0.154299 -0.192997  0.274803  \n",
      "ALT_GPT   0.866955 -0.005689 -0.010086 -0.003419  0.218902  \n",
      "AST_GOT   1.000000 -0.007298 -0.068083 -0.063965  0.259385  \n",
      "TP       -0.007298  1.000000  0.782394  0.154863 -0.016355  \n",
      "Alb      -0.068083  0.782394  1.000000  0.642402 -0.187262  \n",
      "AG_ratio -0.063965  0.154863  0.642402  1.000000 -0.253613  \n",
      "disease   0.259385 -0.016355 -0.187262 -0.253613  1.000000  \n"
     ]
    }
   ],
   "source": [
    "print(df_train.corr())"
   ]
  },
  {
   "cell_type": "code",
   "execution_count": 14,
   "id": "4bf72e5f",
   "metadata": {},
   "outputs": [
    {
     "data": {
      "image/png": "[encoded data removed]",
      "text/plain": [
       "<Figure size 1000x800 with 2 Axes>"
      ]
     },
     "metadata": {},
     "output_type": "display_data"
    }
   ],
   "source": [
    "plt.figure(figsize=(10,8))\n",
    "sns.heatmap(df_train.corr(), vmin=-1.0, vmax=1.0, annot=True, cmap='coolwarm', linewidths=0.1)\n",
    "plt.show()"
   ]
  },
  {
   "cell_type": "code",
   "execution_count": 15,
   "id": "c64d1a8e",
   "metadata": {},
   "outputs": [
    {
     "name": "stdout",
     "output_type": "stream",
     "text": [
      "0    1\n",
      "1    0\n",
      "2    1\n",
      "3    1\n",
      "4    0\n",
      "Name: Gender, dtype: int64\n"
     ]
    }
   ],
   "source": [
    "df_Gender = df_train[\"Gender\"].apply(lambda x: 1 if x == 'Male' else 0)\n",
    "print(df_Gender.head())"
   ]
  },
  {
   "cell_type": "code",
   "execution_count": 16,
   "id": "a2725e53",
   "metadata": {},
   "outputs": [
    {
     "data": {
      "text/html": [
       "<div>\n",
       "<style scoped>\n",
       "    .dataframe tbody tr th:only-of-type {\n",
       "        vertical-align: middle;\n",
       "    }\n",
       "\n",
       "    .dataframe tbody tr th {\n",
       "        vertical-align: top;\n",
       "    }\n",
       "\n",
       "    .dataframe thead th {\n",
       "        text-align: right;\n",
       "    }\n",
       "</style>\n",
       "<table border=\"1\" class=\"dataframe\">\n",
       "  <thead>\n",
       "    <tr style=\"text-align: right;\">\n",
       "      <th></th>\n",
       "      <th>id</th>\n",
       "      <th>Age</th>\n",
       "      <th>Gender</th>\n",
       "      <th>T_Bil</th>\n",
       "      <th>D_Bil</th>\n",
       "      <th>ALP</th>\n",
       "      <th>ALT_GPT</th>\n",
       "      <th>AST_GOT</th>\n",
       "      <th>TP</th>\n",
       "      <th>Alb</th>\n",
       "      <th>AG_ratio</th>\n",
       "      <th>disease</th>\n",
       "    </tr>\n",
       "  </thead>\n",
       "  <tbody>\n",
       "    <tr>\n",
       "      <th>0</th>\n",
       "      <td>0</td>\n",
       "      <td>60</td>\n",
       "      <td>1</td>\n",
       "      <td>2.9</td>\n",
       "      <td>1.3</td>\n",
       "      <td>170.9</td>\n",
       "      <td>42.1</td>\n",
       "      <td>37.1</td>\n",
       "      <td>5.5</td>\n",
       "      <td>2.9</td>\n",
       "      <td>1.01</td>\n",
       "      <td>1</td>\n",
       "    </tr>\n",
       "    <tr>\n",
       "      <th>1</th>\n",
       "      <td>1</td>\n",
       "      <td>28</td>\n",
       "      <td>0</td>\n",
       "      <td>0.7</td>\n",
       "      <td>0.1</td>\n",
       "      <td>158.8</td>\n",
       "      <td>26.0</td>\n",
       "      <td>23.9</td>\n",
       "      <td>6.4</td>\n",
       "      <td>3.7</td>\n",
       "      <td>1.36</td>\n",
       "      <td>0</td>\n",
       "    </tr>\n",
       "    <tr>\n",
       "      <th>2</th>\n",
       "      <td>2</td>\n",
       "      <td>60</td>\n",
       "      <td>1</td>\n",
       "      <td>23.1</td>\n",
       "      <td>12.5</td>\n",
       "      <td>962.0</td>\n",
       "      <td>53.0</td>\n",
       "      <td>40.9</td>\n",
       "      <td>6.8</td>\n",
       "      <td>3.3</td>\n",
       "      <td>0.96</td>\n",
       "      <td>1</td>\n",
       "    </tr>\n",
       "    <tr>\n",
       "      <th>3</th>\n",
       "      <td>3</td>\n",
       "      <td>20</td>\n",
       "      <td>1</td>\n",
       "      <td>1.0</td>\n",
       "      <td>0.5</td>\n",
       "      <td>415.9</td>\n",
       "      <td>33.9</td>\n",
       "      <td>39.0</td>\n",
       "      <td>7.0</td>\n",
       "      <td>3.8</td>\n",
       "      <td>1.31</td>\n",
       "      <td>0</td>\n",
       "    </tr>\n",
       "    <tr>\n",
       "      <th>4</th>\n",
       "      <td>4</td>\n",
       "      <td>44</td>\n",
       "      <td>0</td>\n",
       "      <td>0.6</td>\n",
       "      <td>0.3</td>\n",
       "      <td>152.9</td>\n",
       "      <td>40.9</td>\n",
       "      <td>42.0</td>\n",
       "      <td>4.5</td>\n",
       "      <td>2.1</td>\n",
       "      <td>1.04</td>\n",
       "      <td>0</td>\n",
       "    </tr>\n",
       "  </tbody>\n",
       "</table>\n",
       "</div>"
      ],
      "text/plain": [
       "   id  Age  Gender  T_Bil  D_Bil    ALP  ALT_GPT  AST_GOT   TP  Alb  AG_ratio  \\\n",
       "0   0   60       1    2.9    1.3  170.9     42.1     37.1  5.5  2.9      1.01   \n",
       "1   1   28       0    0.7    0.1  158.8     26.0     23.9  6.4  3.7      1.36   \n",
       "2   2   60       1   23.1   12.5  962.0     53.0     40.9  6.8  3.3      0.96   \n",
       "3   3   20       1    1.0    0.5  415.9     33.9     39.0  7.0  3.8      1.31   \n",
       "4   4   44       0    0.6    0.3  152.9     40.9     42.0  4.5  2.1      1.04   \n",
       "\n",
       "   disease  \n",
       "0        1  \n",
       "1        0  \n",
       "2        1  \n",
       "3        0  \n",
       "4        0  "
      ]
     },
     "metadata": {},
     "output_type": "display_data"
    }
   ],
   "source": [
    "df_train[\"Gender\"] = df_train[\"Gender\"].apply(lambda x: 1 if x==\"Male\" else 0)\n",
    "display(df_train.head())"
   ]
  },
  {
   "cell_type": "code",
   "execution_count": 17,
   "id": "e8570b87",
   "metadata": {},
   "outputs": [
    {
     "data": {
      "text/html": [
       "<div>\n",
       "<style scoped>\n",
       "    .dataframe tbody tr th:only-of-type {\n",
       "        vertical-align: middle;\n",
       "    }\n",
       "\n",
       "    .dataframe tbody tr th {\n",
       "        vertical-align: top;\n",
       "    }\n",
       "\n",
       "    .dataframe thead th {\n",
       "        text-align: right;\n",
       "    }\n",
       "</style>\n",
       "<table border=\"1\" class=\"dataframe\">\n",
       "  <thead>\n",
       "    <tr style=\"text-align: right;\">\n",
       "      <th></th>\n",
       "      <th>id</th>\n",
       "      <th>Age</th>\n",
       "      <th>Gender</th>\n",
       "      <th>T_Bil</th>\n",
       "      <th>D_Bil</th>\n",
       "      <th>ALP</th>\n",
       "      <th>ALT_GPT</th>\n",
       "      <th>AST_GOT</th>\n",
       "      <th>TP</th>\n",
       "      <th>Alb</th>\n",
       "      <th>AG_ratio</th>\n",
       "    </tr>\n",
       "  </thead>\n",
       "  <tbody>\n",
       "    <tr>\n",
       "      <th>0</th>\n",
       "      <td>0</td>\n",
       "      <td>60</td>\n",
       "      <td>1</td>\n",
       "      <td>2.9</td>\n",
       "      <td>1.3</td>\n",
       "      <td>170.9</td>\n",
       "      <td>42.1</td>\n",
       "      <td>37.1</td>\n",
       "      <td>5.5</td>\n",
       "      <td>2.9</td>\n",
       "      <td>1.01</td>\n",
       "    </tr>\n",
       "    <tr>\n",
       "      <th>1</th>\n",
       "      <td>1</td>\n",
       "      <td>28</td>\n",
       "      <td>0</td>\n",
       "      <td>0.7</td>\n",
       "      <td>0.1</td>\n",
       "      <td>158.8</td>\n",
       "      <td>26.0</td>\n",
       "      <td>23.9</td>\n",
       "      <td>6.4</td>\n",
       "      <td>3.7</td>\n",
       "      <td>1.36</td>\n",
       "    </tr>\n",
       "    <tr>\n",
       "      <th>2</th>\n",
       "      <td>2</td>\n",
       "      <td>60</td>\n",
       "      <td>1</td>\n",
       "      <td>23.1</td>\n",
       "      <td>12.5</td>\n",
       "      <td>962.0</td>\n",
       "      <td>53.0</td>\n",
       "      <td>40.9</td>\n",
       "      <td>6.8</td>\n",
       "      <td>3.3</td>\n",
       "      <td>0.96</td>\n",
       "    </tr>\n",
       "    <tr>\n",
       "      <th>3</th>\n",
       "      <td>3</td>\n",
       "      <td>20</td>\n",
       "      <td>1</td>\n",
       "      <td>1.0</td>\n",
       "      <td>0.5</td>\n",
       "      <td>415.9</td>\n",
       "      <td>33.9</td>\n",
       "      <td>39.0</td>\n",
       "      <td>7.0</td>\n",
       "      <td>3.8</td>\n",
       "      <td>1.31</td>\n",
       "    </tr>\n",
       "    <tr>\n",
       "      <th>4</th>\n",
       "      <td>4</td>\n",
       "      <td>44</td>\n",
       "      <td>0</td>\n",
       "      <td>0.6</td>\n",
       "      <td>0.3</td>\n",
       "      <td>152.9</td>\n",
       "      <td>40.9</td>\n",
       "      <td>42.0</td>\n",
       "      <td>4.5</td>\n",
       "      <td>2.1</td>\n",
       "      <td>1.04</td>\n",
       "    </tr>\n",
       "  </tbody>\n",
       "</table>\n",
       "</div>"
      ],
      "text/plain": [
       "   id  Age  Gender  T_Bil  D_Bil    ALP  ALT_GPT  AST_GOT   TP  Alb  AG_ratio\n",
       "0   0   60       1    2.9    1.3  170.9     42.1     37.1  5.5  2.9      1.01\n",
       "1   1   28       0    0.7    0.1  158.8     26.0     23.9  6.4  3.7      1.36\n",
       "2   2   60       1   23.1   12.5  962.0     53.0     40.9  6.8  3.3      0.96\n",
       "3   3   20       1    1.0    0.5  415.9     33.9     39.0  7.0  3.8      1.31\n",
       "4   4   44       0    0.6    0.3  152.9     40.9     42.0  4.5  2.1      1.04"
      ]
     },
     "metadata": {},
     "output_type": "display_data"
    },
    {
     "data": {
      "text/plain": [
       "0    1\n",
       "1    0\n",
       "2    1\n",
       "3    0\n",
       "4    0\n",
       "Name: disease, dtype: int64"
      ]
     },
     "metadata": {},
     "output_type": "display_data"
    }
   ],
   "source": [
    "df_X = df_train.drop([\"disease\"],axis=1)\n",
    "df_y = df_train[\"disease\"]\n",
    "display(df_X.head())\n",
    "display(df_y.head())\n"
   ]
  },
  {
   "cell_type": "code",
   "execution_count": 18,
   "id": "11ac4d1e",
   "metadata": {},
   "outputs": [],
   "source": [
    "from sklearn.model_selection import train_test_split\n",
    "from sklearn.linear_model import LogisticRegression\n",
    "from sklearn.metrics import confusion_matrix\n",
    "from sklearn.metrics import roc_auc_score, roc_curve"
   ]
  },
  {
   "cell_type": "code",
   "execution_count": 19,
   "id": "80d37515",
   "metadata": {},
   "outputs": [
    {
     "name": "stdout",
     "output_type": "stream",
     "text": [
      "(623, 11)\n",
      "(268, 11)\n",
      "(623,)\n",
      "(268,)\n"
     ]
    }
   ],
   "source": [
    "X_train,X_test,y_train,y_test = train_test_split(df_X,df_y,random_state=0,test_size=0.3)\n",
    "print(X_train.shape)\n",
    "print(X_test.shape)\n",
    "print(y_train.shape)\n",
    "print(y_test.shape)"
   ]
  },
  {
   "cell_type": "code",
   "execution_count": 25,
   "id": "c47a76a0",
   "metadata": {},
   "outputs": [
    {
     "data": {
      "text/plain": [
       "LogisticRegression(max_iter=3000)"
      ]
     },
     "execution_count": 25,
     "metadata": {},
     "output_type": "execute_result"
    }
   ],
   "source": [
    "lr = LogisticRegression(max_iter=3000)\n",
    "lr.fit(X_train,y_train)"
   ]
  },
  {
   "cell_type": "code",
   "execution_count": 26,
   "id": "2014271c",
   "metadata": {},
   "outputs": [
    {
     "name": "stdout",
     "output_type": "stream",
     "text": [
      "[0 0 0 1 0 0 0 1 1 0 0 1 1 1 0 0 0 1 0 1 0 1 0 1 1 0 0 1 0 1 0 0 0 0 0 0 1\n",
      " 1 1 0 0 1 0 0 1 0 0 1 0 1 1 0 1 0 1 0 0 0 1 0 0 0 1 1 0 1 0 0 1 0 1 0 1 0\n",
      " 0 1 0 0 0 1 0 1 0 0 0 1 0 0 0 0 0 1 0 1 0 0 0 0 1 0 0 1 0 0 1 1 0 1 0 1 0\n",
      " 0 1 0 0 1 0 0 0 1 0 1 0 1 1 1 1 0 0 0 1 0 0 1 0 1 1 0 1 1 1 1 0 1 0 1 1 1\n",
      " 0 0 0 1 1 0 0 0 0 0 0 1 0 1 1 0 1 0 0 0 0 0 1 0 0 0 0 1 0 0 0 0 0 0 0 0 0\n",
      " 1 0 1 0 0 0 1 0 0 0 0 1 0 0 1 0 1 1 0 1 1 1 1 0 0 0 0 1 1 0 0 1 0 0 0 0 0\n",
      " 0 0 1 0 0 1 0 0 0 1 1 1 1 0 1 0 0 0 0 1 0 0 1 0 0 0 0 0 0 0 1 1 0 0 0 1 0\n",
      " 1 0 0 0 1 1 1 0 0]\n"
     ]
    }
   ],
   "source": [
    "y_pred = lr.predict(X_test)\n",
    "print(y_pred)"
   ]
  },
  {
   "cell_type": "code",
   "execution_count": 27,
   "id": "daad5826",
   "metadata": {},
   "outputs": [
    {
     "name": "stdout",
     "output_type": "stream",
     "text": [
      "[0.19910085 0.20203373 0.19397442 0.99953561 0.25113218]\n"
     ]
    }
   ],
   "source": [
    "result=lr.predict_proba(X_test)[:,1]\n",
    "print(result[:5])"
   ]
  },
  {
   "cell_type": "code",
   "execution_count": 28,
   "id": "ad8f3e3f",
   "metadata": {},
   "outputs": [
    {
     "name": "stdout",
     "output_type": "stream",
     "text": [
      "                 predict_Positive  predict_Negative\n",
      "actual_Positive                86                51\n",
      "actual_Negative                14               117\n"
     ]
    },
    {
     "data": {
      "image/png": "[encoded data removed]",
      "text/plain": [
       "<Figure size 640x480 with 2 Axes>"
      ]
     },
     "metadata": {},
     "output_type": "display_data"
    }
   ],
   "source": [
    "cm = confusion_matrix(y_true=y_test, y_pred=y_pred)\n",
    "df_cm = pd.DataFrame(np.rot90(cm, 2), index=[\"actual_Positive\", \"actual_Negative\"], columns=[\"predict_Positive\", \"predict_Negative\"])\n",
    "print(df_cm)\n",
    "sns.heatmap(df_cm, annot=True, fmt=\"2g\", cmap='Blues')\n",
    "plt.yticks(va='center')\n",
    "plt.show()"
   ]
  },
  {
   "cell_type": "code",
   "execution_count": 29,
   "id": "ec9c72a5",
   "metadata": {},
   "outputs": [
    {
     "name": "stdout",
     "output_type": "stream",
     "text": [
      "0.8494455897921658\n"
     ]
    },
    {
     "data": {
      "image/png": "[encoded data removed]",
      "text/plain": [
       "<Figure size 640x480 with 1 Axes>"
      ]
     },
     "metadata": {},
     "output_type": "display_data"
    }
   ],
   "source": [
    "# モデルの予測（疾患あり(=1)に属する確率の算出）\n",
    "y_pred_prob = lr.predict_proba(X_test)[:, 1]\n",
    "\n",
    "# AUCスコアの算出\n",
    "auc_score = roc_auc_score(y_true=y_test, y_score=y_pred_prob)\n",
    "print(auc_score)\n",
    "\n",
    "# ROC曲線の要素（偽陽性率、真陽性率、閾値）の算出\n",
    "fpr, tpr, thresholds = roc_curve(y_true=y_test, y_score=y_pred_prob)\n",
    "\n",
    "# ROC曲線の描画\n",
    "plt.plot(fpr, tpr, label='roc curve (area = %0.3f)' % auc_score)\n",
    "plt.plot([0, 1], [0, 1], linestyle=':', label='random')\n",
    "plt.plot([0, 0, 1], [0, 1, 1], linestyle=':', label='ideal')\n",
    "plt.legend()\n",
    "plt.xlabel('false positive rate')\n",
    "plt.ylabel('true positive rate')\n",
    "plt.show()"
   ]
  },
  {
   "cell_type": "code",
   "execution_count": null,
   "id": "e4de508d",
   "metadata": {},
   "outputs": [],
   "source": []
  }
 ],
 "metadata": {
  "kernelspec": {
   "display_name": "Python 3 (ipykernel)",
   "language": "python",
   "name": "python3"
  },
  "language_info": {
   "codemirror_mode": {
    "name": "ipython",
    "version": 3
   },
   "file_extension": ".py",
   "mimetype": "text/x-python",
   "name": "python",
   "nbconvert_exporter": "python",
   "pygments_lexer": "ipython3",
   "version": "3.9.18"
  }
 },
 "nbformat": 4,
 "nbformat_minor": 5
}

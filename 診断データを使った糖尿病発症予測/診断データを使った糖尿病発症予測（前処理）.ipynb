{
 "cells": [
  {
   "cell_type": "code",
   "execution_count": 1,
   "id": "c80d824d",
   "metadata": {},
   "outputs": [],
   "source": [
    "import pandas as pd\n",
    "import numpy as np\n",
    "from sklearn.linear_model import Ridge\n",
    "import matplotlib.pyplot as plt"
   ]
  },
  {
   "cell_type": "code",
   "execution_count": 2,
   "id": "dc979f0a",
   "metadata": {},
   "outputs": [
    {
     "data": {
      "text/html": [
       "<div>\n",
       "<style scoped>\n",
       "    .dataframe tbody tr th:only-of-type {\n",
       "        vertical-align: middle;\n",
       "    }\n",
       "\n",
       "    .dataframe tbody tr th {\n",
       "        vertical-align: top;\n",
       "    }\n",
       "\n",
       "    .dataframe thead th {\n",
       "        text-align: right;\n",
       "    }\n",
       "</style>\n",
       "<table border=\"1\" class=\"dataframe\">\n",
       "  <thead>\n",
       "    <tr style=\"text-align: right;\">\n",
       "      <th></th>\n",
       "      <th>index</th>\n",
       "      <th>Pregnancies</th>\n",
       "      <th>Glucose</th>\n",
       "      <th>BloodPressure</th>\n",
       "      <th>SkinThickness</th>\n",
       "      <th>Insulin</th>\n",
       "      <th>BMI</th>\n",
       "      <th>DiabetesPedigreeFunction</th>\n",
       "      <th>Age</th>\n",
       "      <th>Outcome</th>\n",
       "    </tr>\n",
       "  </thead>\n",
       "  <tbody>\n",
       "    <tr>\n",
       "      <th>0</th>\n",
       "      <td>200</td>\n",
       "      <td>9</td>\n",
       "      <td>125</td>\n",
       "      <td>74</td>\n",
       "      <td>0</td>\n",
       "      <td>0</td>\n",
       "      <td>28.536910</td>\n",
       "      <td>0.444902</td>\n",
       "      <td>45</td>\n",
       "      <td>1</td>\n",
       "    </tr>\n",
       "    <tr>\n",
       "      <th>1</th>\n",
       "      <td>3832</td>\n",
       "      <td>4</td>\n",
       "      <td>109</td>\n",
       "      <td>80</td>\n",
       "      <td>0</td>\n",
       "      <td>0</td>\n",
       "      <td>28.047673</td>\n",
       "      <td>0.238243</td>\n",
       "      <td>22</td>\n",
       "      <td>0</td>\n",
       "    </tr>\n",
       "    <tr>\n",
       "      <th>2</th>\n",
       "      <td>4927</td>\n",
       "      <td>4</td>\n",
       "      <td>88</td>\n",
       "      <td>78</td>\n",
       "      <td>39</td>\n",
       "      <td>0</td>\n",
       "      <td>52.371341</td>\n",
       "      <td>0.279471</td>\n",
       "      <td>26</td>\n",
       "      <td>0</td>\n",
       "    </tr>\n",
       "    <tr>\n",
       "      <th>3</th>\n",
       "      <td>4088</td>\n",
       "      <td>9</td>\n",
       "      <td>125</td>\n",
       "      <td>74</td>\n",
       "      <td>0</td>\n",
       "      <td>0</td>\n",
       "      <td>40.062688</td>\n",
       "      <td>0.203922</td>\n",
       "      <td>45</td>\n",
       "      <td>0</td>\n",
       "    </tr>\n",
       "    <tr>\n",
       "      <th>4</th>\n",
       "      <td>3644</td>\n",
       "      <td>5</td>\n",
       "      <td>107</td>\n",
       "      <td>78</td>\n",
       "      <td>44</td>\n",
       "      <td>284</td>\n",
       "      <td>52.935068</td>\n",
       "      <td>0.284959</td>\n",
       "      <td>45</td>\n",
       "      <td>1</td>\n",
       "    </tr>\n",
       "  </tbody>\n",
       "</table>\n",
       "</div>"
      ],
      "text/plain": [
       "   index  Pregnancies  Glucose  BloodPressure  SkinThickness  Insulin  \\\n",
       "0    200            9      125             74              0        0   \n",
       "1   3832            4      109             80              0        0   \n",
       "2   4927            4       88             78             39        0   \n",
       "3   4088            9      125             74              0        0   \n",
       "4   3644            5      107             78             44      284   \n",
       "\n",
       "         BMI  DiabetesPedigreeFunction  Age  Outcome  \n",
       "0  28.536910                  0.444902   45        1  \n",
       "1  28.047673                  0.238243   22        0  \n",
       "2  52.371341                  0.279471   26        0  \n",
       "3  40.062688                  0.203922   45        0  \n",
       "4  52.935068                  0.284959   45        1  "
      ]
     },
     "metadata": {},
     "output_type": "display_data"
    }
   ],
   "source": [
    "df_train = pd.read_csv(\"./train.csv\")\n",
    "display(df_train.head())"
   ]
  },
  {
   "cell_type": "code",
   "execution_count": 3,
   "id": "16517769",
   "metadata": {},
   "outputs": [
    {
     "name": "stdout",
     "output_type": "stream",
     "text": [
      "index                       0\n",
      "Pregnancies                 0\n",
      "Glucose                     0\n",
      "BloodPressure               0\n",
      "SkinThickness               0\n",
      "Insulin                     0\n",
      "BMI                         0\n",
      "DiabetesPedigreeFunction    0\n",
      "Age                         0\n",
      "Outcome                     0\n",
      "dtype: int64\n",
      "<class 'pandas.core.frame.DataFrame'>\n",
      "RangeIndex: 3000 entries, 0 to 2999\n",
      "Data columns (total 10 columns):\n",
      " #   Column                    Non-Null Count  Dtype  \n",
      "---  ------                    --------------  -----  \n",
      " 0   index                     3000 non-null   int64  \n",
      " 1   Pregnancies               3000 non-null   int64  \n",
      " 2   Glucose                   3000 non-null   int64  \n",
      " 3   BloodPressure             3000 non-null   int64  \n",
      " 4   SkinThickness             3000 non-null   int64  \n",
      " 5   Insulin                   3000 non-null   int64  \n",
      " 6   BMI                       3000 non-null   float64\n",
      " 7   DiabetesPedigreeFunction  3000 non-null   float64\n",
      " 8   Age                       3000 non-null   int64  \n",
      " 9   Outcome                   3000 non-null   int64  \n",
      "dtypes: float64(2), int64(8)\n",
      "memory usage: 234.5 KB\n",
      "None\n",
      "(3000, 10)\n"
     ]
    }
   ],
   "source": [
    "print(df_train.isnull().sum())\n",
    "print(df_train.info())\n",
    "print(df_train.shape)"
   ]
  },
  {
   "cell_type": "code",
   "execution_count": 4,
   "id": "ac38d85e",
   "metadata": {},
   "outputs": [
    {
     "data": {
      "text/html": [
       "<div>\n",
       "<style scoped>\n",
       "    .dataframe tbody tr th:only-of-type {\n",
       "        vertical-align: middle;\n",
       "    }\n",
       "\n",
       "    .dataframe tbody tr th {\n",
       "        vertical-align: top;\n",
       "    }\n",
       "\n",
       "    .dataframe thead th {\n",
       "        text-align: right;\n",
       "    }\n",
       "</style>\n",
       "<table border=\"1\" class=\"dataframe\">\n",
       "  <thead>\n",
       "    <tr style=\"text-align: right;\">\n",
       "      <th></th>\n",
       "      <th>index</th>\n",
       "      <th>Pregnancies</th>\n",
       "      <th>Glucose</th>\n",
       "      <th>BloodPressure</th>\n",
       "      <th>SkinThickness</th>\n",
       "      <th>Insulin</th>\n",
       "      <th>BMI</th>\n",
       "      <th>DiabetesPedigreeFunction</th>\n",
       "      <th>Age</th>\n",
       "      <th>Outcome</th>\n",
       "    </tr>\n",
       "  </thead>\n",
       "  <tbody>\n",
       "    <tr>\n",
       "      <th>index</th>\n",
       "      <td>1.000000</td>\n",
       "      <td>0.003418</td>\n",
       "      <td>0.036222</td>\n",
       "      <td>0.024221</td>\n",
       "      <td>-0.005473</td>\n",
       "      <td>0.004264</td>\n",
       "      <td>-0.022387</td>\n",
       "      <td>0.027093</td>\n",
       "      <td>0.015610</td>\n",
       "      <td>0.010270</td>\n",
       "    </tr>\n",
       "    <tr>\n",
       "      <th>Pregnancies</th>\n",
       "      <td>0.003418</td>\n",
       "      <td>1.000000</td>\n",
       "      <td>0.067360</td>\n",
       "      <td>-0.008811</td>\n",
       "      <td>0.003640</td>\n",
       "      <td>-0.034456</td>\n",
       "      <td>0.011715</td>\n",
       "      <td>-0.027216</td>\n",
       "      <td>0.421213</td>\n",
       "      <td>0.197909</td>\n",
       "    </tr>\n",
       "    <tr>\n",
       "      <th>Glucose</th>\n",
       "      <td>0.036222</td>\n",
       "      <td>0.067360</td>\n",
       "      <td>1.000000</td>\n",
       "      <td>0.007822</td>\n",
       "      <td>0.022918</td>\n",
       "      <td>0.010135</td>\n",
       "      <td>0.013754</td>\n",
       "      <td>0.053021</td>\n",
       "      <td>0.035148</td>\n",
       "      <td>0.064677</td>\n",
       "    </tr>\n",
       "    <tr>\n",
       "      <th>BloodPressure</th>\n",
       "      <td>0.024221</td>\n",
       "      <td>-0.008811</td>\n",
       "      <td>0.007822</td>\n",
       "      <td>1.000000</td>\n",
       "      <td>0.042476</td>\n",
       "      <td>0.040159</td>\n",
       "      <td>0.242601</td>\n",
       "      <td>0.098362</td>\n",
       "      <td>0.023235</td>\n",
       "      <td>0.051347</td>\n",
       "    </tr>\n",
       "    <tr>\n",
       "      <th>SkinThickness</th>\n",
       "      <td>-0.005473</td>\n",
       "      <td>0.003640</td>\n",
       "      <td>0.022918</td>\n",
       "      <td>0.042476</td>\n",
       "      <td>1.000000</td>\n",
       "      <td>0.167506</td>\n",
       "      <td>0.092715</td>\n",
       "      <td>0.141789</td>\n",
       "      <td>0.028481</td>\n",
       "      <td>0.001112</td>\n",
       "    </tr>\n",
       "    <tr>\n",
       "      <th>Insulin</th>\n",
       "      <td>0.004264</td>\n",
       "      <td>-0.034456</td>\n",
       "      <td>0.010135</td>\n",
       "      <td>0.040159</td>\n",
       "      <td>0.167506</td>\n",
       "      <td>1.000000</td>\n",
       "      <td>0.168287</td>\n",
       "      <td>0.219013</td>\n",
       "      <td>0.047494</td>\n",
       "      <td>0.079457</td>\n",
       "    </tr>\n",
       "    <tr>\n",
       "      <th>BMI</th>\n",
       "      <td>-0.022387</td>\n",
       "      <td>0.011715</td>\n",
       "      <td>0.013754</td>\n",
       "      <td>0.242601</td>\n",
       "      <td>0.092715</td>\n",
       "      <td>0.168287</td>\n",
       "      <td>1.000000</td>\n",
       "      <td>0.067524</td>\n",
       "      <td>0.082661</td>\n",
       "      <td>0.244350</td>\n",
       "    </tr>\n",
       "    <tr>\n",
       "      <th>DiabetesPedigreeFunction</th>\n",
       "      <td>0.027093</td>\n",
       "      <td>-0.027216</td>\n",
       "      <td>0.053021</td>\n",
       "      <td>0.098362</td>\n",
       "      <td>0.141789</td>\n",
       "      <td>0.219013</td>\n",
       "      <td>0.067524</td>\n",
       "      <td>1.000000</td>\n",
       "      <td>0.072471</td>\n",
       "      <td>0.099075</td>\n",
       "    </tr>\n",
       "    <tr>\n",
       "      <th>Age</th>\n",
       "      <td>0.015610</td>\n",
       "      <td>0.421213</td>\n",
       "      <td>0.035148</td>\n",
       "      <td>0.023235</td>\n",
       "      <td>0.028481</td>\n",
       "      <td>0.047494</td>\n",
       "      <td>0.082661</td>\n",
       "      <td>0.072471</td>\n",
       "      <td>1.000000</td>\n",
       "      <td>0.266000</td>\n",
       "    </tr>\n",
       "    <tr>\n",
       "      <th>Outcome</th>\n",
       "      <td>0.010270</td>\n",
       "      <td>0.197909</td>\n",
       "      <td>0.064677</td>\n",
       "      <td>0.051347</td>\n",
       "      <td>0.001112</td>\n",
       "      <td>0.079457</td>\n",
       "      <td>0.244350</td>\n",
       "      <td>0.099075</td>\n",
       "      <td>0.266000</td>\n",
       "      <td>1.000000</td>\n",
       "    </tr>\n",
       "  </tbody>\n",
       "</table>\n",
       "</div>"
      ],
      "text/plain": [
       "                             index  Pregnancies   Glucose  BloodPressure  \\\n",
       "index                     1.000000     0.003418  0.036222       0.024221   \n",
       "Pregnancies               0.003418     1.000000  0.067360      -0.008811   \n",
       "Glucose                   0.036222     0.067360  1.000000       0.007822   \n",
       "BloodPressure             0.024221    -0.008811  0.007822       1.000000   \n",
       "SkinThickness            -0.005473     0.003640  0.022918       0.042476   \n",
       "Insulin                   0.004264    -0.034456  0.010135       0.040159   \n",
       "BMI                      -0.022387     0.011715  0.013754       0.242601   \n",
       "DiabetesPedigreeFunction  0.027093    -0.027216  0.053021       0.098362   \n",
       "Age                       0.015610     0.421213  0.035148       0.023235   \n",
       "Outcome                   0.010270     0.197909  0.064677       0.051347   \n",
       "\n",
       "                          SkinThickness   Insulin       BMI  \\\n",
       "index                         -0.005473  0.004264 -0.022387   \n",
       "Pregnancies                    0.003640 -0.034456  0.011715   \n",
       "Glucose                        0.022918  0.010135  0.013754   \n",
       "BloodPressure                  0.042476  0.040159  0.242601   \n",
       "SkinThickness                  1.000000  0.167506  0.092715   \n",
       "Insulin                        0.167506  1.000000  0.168287   \n",
       "BMI                            0.092715  0.168287  1.000000   \n",
       "DiabetesPedigreeFunction       0.141789  0.219013  0.067524   \n",
       "Age                            0.028481  0.047494  0.082661   \n",
       "Outcome                        0.001112  0.079457  0.244350   \n",
       "\n",
       "                          DiabetesPedigreeFunction       Age   Outcome  \n",
       "index                                     0.027093  0.015610  0.010270  \n",
       "Pregnancies                              -0.027216  0.421213  0.197909  \n",
       "Glucose                                   0.053021  0.035148  0.064677  \n",
       "BloodPressure                             0.098362  0.023235  0.051347  \n",
       "SkinThickness                             0.141789  0.028481  0.001112  \n",
       "Insulin                                   0.219013  0.047494  0.079457  \n",
       "BMI                                       0.067524  0.082661  0.244350  \n",
       "DiabetesPedigreeFunction                  1.000000  0.072471  0.099075  \n",
       "Age                                       0.072471  1.000000  0.266000  \n",
       "Outcome                                   0.099075  0.266000  1.000000  "
      ]
     },
     "metadata": {},
     "output_type": "display_data"
    }
   ],
   "source": [
    "display(df_train.corr())"
   ]
  },
  {
   "cell_type": "code",
   "execution_count": 5,
   "id": "a09f2f77",
   "metadata": {},
   "outputs": [
    {
     "data": {
      "text/html": [
       "<div>\n",
       "<style scoped>\n",
       "    .dataframe tbody tr th:only-of-type {\n",
       "        vertical-align: middle;\n",
       "    }\n",
       "\n",
       "    .dataframe tbody tr th {\n",
       "        vertical-align: top;\n",
       "    }\n",
       "\n",
       "    .dataframe thead th {\n",
       "        text-align: right;\n",
       "    }\n",
       "</style>\n",
       "<table border=\"1\" class=\"dataframe\">\n",
       "  <thead>\n",
       "    <tr style=\"text-align: right;\">\n",
       "      <th></th>\n",
       "      <th>index</th>\n",
       "      <th>Pregnancies</th>\n",
       "      <th>Glucose</th>\n",
       "      <th>BloodPressure</th>\n",
       "      <th>SkinThickness</th>\n",
       "      <th>Insulin</th>\n",
       "      <th>BMI</th>\n",
       "      <th>DiabetesPedigreeFunction</th>\n",
       "      <th>Age</th>\n",
       "      <th>Outcome</th>\n",
       "    </tr>\n",
       "  </thead>\n",
       "  <tbody>\n",
       "    <tr>\n",
       "      <th>0</th>\n",
       "      <td>200</td>\n",
       "      <td>9</td>\n",
       "      <td>125</td>\n",
       "      <td>74</td>\n",
       "      <td>0</td>\n",
       "      <td>0</td>\n",
       "      <td>28.536910</td>\n",
       "      <td>0.444902</td>\n",
       "      <td>45</td>\n",
       "      <td>1</td>\n",
       "    </tr>\n",
       "    <tr>\n",
       "      <th>4</th>\n",
       "      <td>3644</td>\n",
       "      <td>5</td>\n",
       "      <td>107</td>\n",
       "      <td>78</td>\n",
       "      <td>44</td>\n",
       "      <td>284</td>\n",
       "      <td>52.935068</td>\n",
       "      <td>0.284959</td>\n",
       "      <td>45</td>\n",
       "      <td>1</td>\n",
       "    </tr>\n",
       "    <tr>\n",
       "      <th>6</th>\n",
       "      <td>2203</td>\n",
       "      <td>2</td>\n",
       "      <td>138</td>\n",
       "      <td>86</td>\n",
       "      <td>30</td>\n",
       "      <td>0</td>\n",
       "      <td>32.804714</td>\n",
       "      <td>0.269270</td>\n",
       "      <td>27</td>\n",
       "      <td>1</td>\n",
       "    </tr>\n",
       "    <tr>\n",
       "      <th>7</th>\n",
       "      <td>565</td>\n",
       "      <td>1</td>\n",
       "      <td>123</td>\n",
       "      <td>52</td>\n",
       "      <td>0</td>\n",
       "      <td>0</td>\n",
       "      <td>39.865034</td>\n",
       "      <td>0.714738</td>\n",
       "      <td>45</td>\n",
       "      <td>1</td>\n",
       "    </tr>\n",
       "    <tr>\n",
       "      <th>10</th>\n",
       "      <td>4818</td>\n",
       "      <td>9</td>\n",
       "      <td>125</td>\n",
       "      <td>76</td>\n",
       "      <td>28</td>\n",
       "      <td>0</td>\n",
       "      <td>39.813548</td>\n",
       "      <td>0.163193</td>\n",
       "      <td>45</td>\n",
       "      <td>1</td>\n",
       "    </tr>\n",
       "  </tbody>\n",
       "</table>\n",
       "</div>"
      ],
      "text/plain": [
       "    index  Pregnancies  Glucose  BloodPressure  SkinThickness  Insulin  \\\n",
       "0     200            9      125             74              0        0   \n",
       "4    3644            5      107             78             44      284   \n",
       "6    2203            2      138             86             30        0   \n",
       "7     565            1      123             52              0        0   \n",
       "10   4818            9      125             76             28        0   \n",
       "\n",
       "          BMI  DiabetesPedigreeFunction  Age  Outcome  \n",
       "0   28.536910                  0.444902   45        1  \n",
       "4   52.935068                  0.284959   45        1  \n",
       "6   32.804714                  0.269270   27        1  \n",
       "7   39.865034                  0.714738   45        1  \n",
       "10  39.813548                  0.163193   45        1  "
      ]
     },
     "metadata": {},
     "output_type": "display_data"
    },
    {
     "data": {
      "text/html": [
       "<div>\n",
       "<style scoped>\n",
       "    .dataframe tbody tr th:only-of-type {\n",
       "        vertical-align: middle;\n",
       "    }\n",
       "\n",
       "    .dataframe tbody tr th {\n",
       "        vertical-align: top;\n",
       "    }\n",
       "\n",
       "    .dataframe thead th {\n",
       "        text-align: right;\n",
       "    }\n",
       "</style>\n",
       "<table border=\"1\" class=\"dataframe\">\n",
       "  <thead>\n",
       "    <tr style=\"text-align: right;\">\n",
       "      <th></th>\n",
       "      <th>index</th>\n",
       "      <th>Pregnancies</th>\n",
       "      <th>Glucose</th>\n",
       "      <th>BloodPressure</th>\n",
       "      <th>SkinThickness</th>\n",
       "      <th>Insulin</th>\n",
       "      <th>BMI</th>\n",
       "      <th>DiabetesPedigreeFunction</th>\n",
       "      <th>Age</th>\n",
       "      <th>Outcome</th>\n",
       "    </tr>\n",
       "  </thead>\n",
       "  <tbody>\n",
       "    <tr>\n",
       "      <th>1</th>\n",
       "      <td>3832</td>\n",
       "      <td>4</td>\n",
       "      <td>109</td>\n",
       "      <td>80</td>\n",
       "      <td>0</td>\n",
       "      <td>0</td>\n",
       "      <td>28.047673</td>\n",
       "      <td>0.238243</td>\n",
       "      <td>22</td>\n",
       "      <td>0</td>\n",
       "    </tr>\n",
       "    <tr>\n",
       "      <th>2</th>\n",
       "      <td>4927</td>\n",
       "      <td>4</td>\n",
       "      <td>88</td>\n",
       "      <td>78</td>\n",
       "      <td>39</td>\n",
       "      <td>0</td>\n",
       "      <td>52.371341</td>\n",
       "      <td>0.279471</td>\n",
       "      <td>26</td>\n",
       "      <td>0</td>\n",
       "    </tr>\n",
       "    <tr>\n",
       "      <th>3</th>\n",
       "      <td>4088</td>\n",
       "      <td>9</td>\n",
       "      <td>125</td>\n",
       "      <td>74</td>\n",
       "      <td>0</td>\n",
       "      <td>0</td>\n",
       "      <td>40.062688</td>\n",
       "      <td>0.203922</td>\n",
       "      <td>45</td>\n",
       "      <td>0</td>\n",
       "    </tr>\n",
       "    <tr>\n",
       "      <th>5</th>\n",
       "      <td>3323</td>\n",
       "      <td>5</td>\n",
       "      <td>84</td>\n",
       "      <td>64</td>\n",
       "      <td>0</td>\n",
       "      <td>0</td>\n",
       "      <td>33.459536</td>\n",
       "      <td>0.505127</td>\n",
       "      <td>26</td>\n",
       "      <td>0</td>\n",
       "    </tr>\n",
       "    <tr>\n",
       "      <th>8</th>\n",
       "      <td>1386</td>\n",
       "      <td>1</td>\n",
       "      <td>138</td>\n",
       "      <td>76</td>\n",
       "      <td>30</td>\n",
       "      <td>0</td>\n",
       "      <td>39.660380</td>\n",
       "      <td>0.503107</td>\n",
       "      <td>23</td>\n",
       "      <td>0</td>\n",
       "    </tr>\n",
       "  </tbody>\n",
       "</table>\n",
       "</div>"
      ],
      "text/plain": [
       "   index  Pregnancies  Glucose  BloodPressure  SkinThickness  Insulin  \\\n",
       "1   3832            4      109             80              0        0   \n",
       "2   4927            4       88             78             39        0   \n",
       "3   4088            9      125             74              0        0   \n",
       "5   3323            5       84             64              0        0   \n",
       "8   1386            1      138             76             30        0   \n",
       "\n",
       "         BMI  DiabetesPedigreeFunction  Age  Outcome  \n",
       "1  28.047673                  0.238243   22        0  \n",
       "2  52.371341                  0.279471   26        0  \n",
       "3  40.062688                  0.203922   45        0  \n",
       "5  33.459536                  0.505127   26        0  \n",
       "8  39.660380                  0.503107   23        0  "
      ]
     },
     "metadata": {},
     "output_type": "display_data"
    },
    {
     "name": "stdout",
     "output_type": "stream",
     "text": [
      "(717, 10)\n",
      "(2283, 10)\n"
     ]
    }
   ],
   "source": [
    "df_train_yes = df_train[df_train[\"Outcome\"]==1]\n",
    "df_train_no = df_train[df_train[\"Outcome\"]==0]\n",
    "display(df_train_yes.head())\n",
    "display(df_train_no.head())\n",
    "print(df_train_yes.shape)\n",
    "print(df_train_no.shape)"
   ]
  },
  {
   "cell_type": "code",
   "execution_count": 11,
   "id": "08ef7fe8",
   "metadata": {},
   "outputs": [
    {
     "data": {
      "image/png": "[encoded data removed]",
      "text/plain": [
       "<Figure size 432x288 with 3 Axes>"
      ]
     },
     "metadata": {
      "needs_background": "light"
     },
     "output_type": "display_data"
    }
   ],
   "source": [
    "fig = plt.figure()\n",
    "#妊娠した回数\n",
    "axes1 = fig.add_subplot(1,3,1)\n",
    "axes1.hist(data=df_train,x=\"Pregnancies\",bins=10)\n",
    "axes1.set_title(\"Pregnancies\")\n",
    "axes1.set_xlabel(\"Pregnancies\")\n",
    "axes1.set_ylabel(\"Total\")\n",
    "axes2 = fig.add_subplot(1,3,2)\n",
    "axes2.hist(data=df_train_yes,x=\"Pregnancies\",bins=10)\n",
    "axes2.set_title(\"Pregnancies\")\n",
    "axes2.set_xlabel(\"Pregnancies\")\n",
    "axes2.set_ylabel(\"Total\")\n",
    "axes3 = fig.add_subplot(1,3,3)\n",
    "axes3.hist(data=df_train_no,x=\"Pregnancies\",bins=10)\n",
    "axes3.set_title(\"Pregnancies\")\n",
    "axes3.set_xlabel(\"Pregnancies\")\n",
    "axes3.set_ylabel(\"Total\")\n",
    "plt.show()"
   ]
  },
  {
   "cell_type": "code",
   "execution_count": 13,
   "id": "e99ff991",
   "metadata": {},
   "outputs": [
    {
     "data": {
      "image/png": "[encoded data removed]",
      "text/plain": [
       "<Figure size 432x288 with 3 Axes>"
      ]
     },
     "metadata": {
      "needs_background": "light"
     },
     "output_type": "display_data"
    }
   ],
   "source": [
    "fig = plt.figure()\n",
    "#拡張期血圧\n",
    "axes1 = fig.add_subplot(1,3,1)\n",
    "axes1.hist(data=df_train,x=\"BloodPressure\",bins=10)\n",
    "axes1.set_title(\"BloodPressure\")\n",
    "axes1.set_xlabel(\"BloodPressure\")\n",
    "axes1.set_ylabel(\"Total\")\n",
    "axes2 = fig.add_subplot(1,3,2)\n",
    "axes2.hist(data=df_train_yes,x=\"BloodPressure\",bins=10)\n",
    "axes2.set_title(\"BloodPressure\")\n",
    "axes2.set_xlabel(\"BloodPressure\")\n",
    "axes2.set_ylabel(\"Total\")\n",
    "axes3 = fig.add_subplot(1,3,3)\n",
    "axes3.hist(data=df_train_no,x=\"BloodPressure\",bins=10)\n",
    "axes3.set_title(\"BloodPressure\")\n",
    "axes3.set_xlabel(\"BloodPressure\")\n",
    "axes3.set_ylabel(\"Total\")\n",
    "plt.show()"
   ]
  },
  {
   "cell_type": "code",
   "execution_count": 12,
   "id": "46c06bcd",
   "metadata": {},
   "outputs": [
    {
     "data": {
      "image/png": "[encoded data removed]",
      "text/plain": [
       "<Figure size 432x288 with 3 Axes>"
      ]
     },
     "metadata": {
      "needs_background": "light"
     },
     "output_type": "display_data"
    }
   ],
   "source": [
    "fig = plt.figure()\n",
    "#経口ブドウ糖負荷試験における2時間の血漿ブドウ糖濃度\n",
    "axes1 = fig.add_subplot(1,3,1)\n",
    "axes1.hist(data=df_train,x=\"Glucose\",bins=10)\n",
    "axes1.set_title(\"Glucose\")\n",
    "axes1.set_xlabel(\"Glucose\")\n",
    "axes1.set_ylabel(\"Total\")\n",
    "axes2 = fig.add_subplot(1,3,2)\n",
    "axes2.hist(data=df_train_yes,x=\"Glucose\",bins=10)\n",
    "axes2.set_title(\"Glucose\")\n",
    "axes2.set_xlabel(\"Glucose\")\n",
    "axes2.set_ylabel(\"Total\")\n",
    "axes3 = fig.add_subplot(1,3,3)\n",
    "axes3.hist(data=df_train_no,x=\"Glucose\",bins=10)\n",
    "axes3.set_title(\"Glucose\")\n",
    "axes3.set_xlabel(\"Glucose\")\n",
    "axes3.set_ylabel(\"Total\")\n",
    "plt.show()"
   ]
  },
  {
   "cell_type": "code",
   "execution_count": 14,
   "id": "d261ac5c",
   "metadata": {},
   "outputs": [
    {
     "data": {
      "image/png": "[encoded data removed]",
      "text/plain": [
       "<Figure size 432x288 with 3 Axes>"
      ]
     },
     "metadata": {
      "needs_background": "light"
     },
     "output_type": "display_data"
    }
   ],
   "source": [
    "fig = plt.figure()\n",
    "#皮膚のひだの厚さ\n",
    "axes1 = fig.add_subplot(1,3,1)\n",
    "axes1.hist(data=df_train,x=\"SkinThickness\",bins=10)\n",
    "axes1.set_title(\"SkinThickness\")\n",
    "axes1.set_xlabel(\"SkinThickness\")\n",
    "axes1.set_ylabel(\"Total\")\n",
    "axes2 = fig.add_subplot(1,3,2)\n",
    "axes2.hist(data=df_train_yes,x=\"SkinThickness\",bins=10)\n",
    "axes2.set_title(\"SkinThickness\")\n",
    "axes2.set_xlabel(\"SkinThickness\")\n",
    "axes2.set_ylabel(\"Total\")\n",
    "axes3 = fig.add_subplot(1,3,3)\n",
    "axes3.hist(data=df_train_no,x=\"SkinThickness\",bins=10)\n",
    "axes3.set_title(\"SkinThickness\")\n",
    "axes3.set_xlabel(\"SkinThickness\")\n",
    "axes3.set_ylabel(\"Total\")\n",
    "plt.show()"
   ]
  },
  {
   "cell_type": "code",
   "execution_count": 16,
   "id": "99aadf04",
   "metadata": {},
   "outputs": [
    {
     "data": {
      "image/png": "[encoded data removed]",
      "text/plain": [
       "<Figure size 432x288 with 3 Axes>"
      ]
     },
     "metadata": {
      "needs_background": "light"
     },
     "output_type": "display_data"
    }
   ],
   "source": [
    "fig = plt.figure()\n",
    "#血清インスリン\n",
    "axes1 = fig.add_subplot(1,3,1)\n",
    "axes1.hist(data=df_train,x=\"BMI\",bins=10)\n",
    "axes1.set_title(\"BMI\")\n",
    "axes1.set_xlabel(\"BMI\")\n",
    "axes1.set_ylabel(\"Total\")\n",
    "axes2 = fig.add_subplot(1,3,2)\n",
    "axes2.hist(data=df_train_yes,x=\"BMI\",bins=10)\n",
    "axes2.set_title(\"BMI\")\n",
    "axes2.set_xlabel(\"BMI\")\n",
    "axes2.set_ylabel(\"Total\")\n",
    "axes3 = fig.add_subplot(1,3,3)\n",
    "axes3.hist(data=df_train_no,x=\"BMI\",bins=10)\n",
    "axes3.set_title(\"BMI\")\n",
    "axes3.set_xlabel(\"BMI\")\n",
    "axes3.set_ylabel(\"Total\")\n",
    "plt.show()"
   ]
  },
  {
   "cell_type": "code",
   "execution_count": 39,
   "id": "01f4ef15",
   "metadata": {
    "scrolled": true
   },
   "outputs": [
    {
     "data": {
      "image/png": "[encoded data removed]",
      "text/plain": [
       "<Figure size 432x288 with 3 Axes>"
      ]
     },
     "metadata": {
      "needs_background": "light"
     },
     "output_type": "display_data"
    },
    {
     "name": "stdout",
     "output_type": "stream",
     "text": [
      "(256, 10)\n"
     ]
    }
   ],
   "source": [
    "fig = plt.figure()\n",
    "#BMI\n",
    "df_train_insulin = df_train[df_train[\"Insulin\"]>0]\n",
    "df_train_yes_insulin = df_train_yes[df_train_yes[\"Insulin\"]>0]\n",
    "df_train_no_insulin = df_train_no[df_train_no[\"Insulin\"]>0]\n",
    "axes1 = fig.add_subplot(1,3,1)\n",
    "axes1.hist(data=df_train_insulin,x=\"Insulin\",bins=10)\n",
    "axes1.set_title(\"Insulin\")\n",
    "axes1.set_xlabel(\"Insulin\")\n",
    "axes1.set_ylabel(\"Total\")\n",
    "axes2 = fig.add_subplot(1,3,2)\n",
    "axes2.hist(data=df_train_yes_insulin,x=\"Insulin\",bins=10)\n",
    "axes2.set_title(\"Insulin\")\n",
    "axes2.set_xlabel(\"Insulin\")\n",
    "axes2.set_ylabel(\"Total\")\n",
    "axes3 = fig.add_subplot(1,3,3)\n",
    "axes3.hist(data=df_train_no_insulin,x=\"Insulin\",bins=10)\n",
    "axes3.set_title(\"Insulin\")\n",
    "axes3.set_xlabel(\"Insulin\")\n",
    "axes3.set_ylabel(\"Total\")\n",
    "plt.show()\n",
    "print(df_train_insulin.shape)"
   ]
  },
  {
   "cell_type": "code",
   "execution_count": 17,
   "id": "cc8c9571",
   "metadata": {
    "scrolled": true
   },
   "outputs": [
    {
     "data": {
      "image/png": "[encoded data removed]",
      "text/plain": [
       "<Figure size 432x288 with 3 Axes>"
      ]
     },
     "metadata": {
      "needs_background": "light"
     },
     "output_type": "display_data"
    }
   ],
   "source": [
    "fig = plt.figure()\n",
    "#年齢\n",
    "axes1 = fig.add_subplot(1,3,1)\n",
    "axes1.hist(data=df_train,x=\"Age\",bins=10)\n",
    "axes1.set_title(\"Age\")\n",
    "axes1.set_xlabel(\"Age\")\n",
    "axes1.set_ylabel(\"Total\")\n",
    "axes2 = fig.add_subplot(1,3,2)\n",
    "axes2.hist(data=df_train_yes,x=\"Age\",bins=10)\n",
    "axes2.set_title(\"Age\")\n",
    "axes2.set_xlabel(\"Age\")\n",
    "axes2.set_ylabel(\"Total\")\n",
    "axes3 = fig.add_subplot(1,3,3)\n",
    "axes3.hist(data=df_train_no,x=\"Age\",bins=10)\n",
    "axes3.set_title(\"Age\")\n",
    "axes3.set_xlabel(\"Age\")\n",
    "axes3.set_ylabel(\"Total\")\n",
    "plt.show()"
   ]
  },
  {
   "cell_type": "code",
   "execution_count": 18,
   "id": "2d1f97a6",
   "metadata": {
    "scrolled": true
   },
   "outputs": [
    {
     "data": {
      "image/png": "[encoded data removed]",
      "text/plain": [
       "<Figure size 432x288 with 3 Axes>"
      ]
     },
     "metadata": {
      "needs_background": "light"
     },
     "output_type": "display_data"
    }
   ],
   "source": [
    "fig = plt.figure()\n",
    "#糖尿病血統\n",
    "axes1 = fig.add_subplot(1,3,1)\n",
    "axes1.hist(data=df_train,x=\"DiabetesPedigreeFunction\",bins=10)\n",
    "axes1.set_title(\"DiabetesPedigreeFunction\")\n",
    "axes1.set_xlabel(\"DiabetesPedigreeFunction\")\n",
    "axes1.set_ylabel(\"Total\")\n",
    "axes2 = fig.add_subplot(1,3,2)\n",
    "axes2.hist(data=df_train_yes,x=\"DiabetesPedigreeFunction\",bins=10)\n",
    "axes2.set_title(\"DiabetesPedigreeFunction\")\n",
    "axes2.set_xlabel(\"DiabetesPedigreeFunction\")\n",
    "axes2.set_ylabel(\"Total\")\n",
    "axes3 = fig.add_subplot(1,3,3)\n",
    "axes3.hist(data=df_train_no,x=\"DiabetesPedigreeFunction\",bins=10)\n",
    "axes3.set_title(\"DiabetesPedigreeFunction\")\n",
    "axes3.set_xlabel(\"DiabetesPedigreeFunction\")\n",
    "axes3.set_ylabel(\"Total\")\n",
    "plt.show()"
   ]
  },
  {
   "cell_type": "code",
   "execution_count": 25,
   "id": "c00ba239",
   "metadata": {},
   "outputs": [
    {
     "data": {
      "image/png": "[encoded data removed]",
      "text/plain": [
       "<Figure size 432x288 with 1 Axes>"
      ]
     },
     "metadata": {
      "needs_background": "light"
     },
     "output_type": "display_data"
    }
   ],
   "source": [
    "scatter_plot = plt.figure()\n",
    "axes4 = scatter_plot.add_subplot(1,1,1)\n",
    "axes4.scatter(data=df_train,x=\"BloodPressure\",y=\"Insulin\")\n",
    "\n",
    "axes4.set_title(\"Age vs Pregnancies\")\n",
    "axes4.set_xlabel(\"Age\")\n",
    "axes4.set_ylabel(\"Pregnancies\")\n",
    "\n",
    "plt.show()\n"
   ]
  },
  {
   "cell_type": "code",
   "execution_count": 30,
   "id": "b61b6646",
   "metadata": {},
   "outputs": [
    {
     "data": {
      "image/png": "[encoded data removed]",
      "text/plain": [
       "<Figure size 432x288 with 1 Axes>"
      ]
     },
     "metadata": {
      "needs_background": "light"
     },
     "output_type": "display_data"
    }
   ],
   "source": [
    "boxplot = plt.figure()\n",
    "axes5 = boxplot.add_subplot(1,1,1)\n",
    "axes5.boxplot(x=[df_train.loc[df_train[\"Outcome\"]==1][\"Pregnancies\"],df_train.loc[df_train[\"Outcome\"]==0][\"Pregnancies\"],],labels=[\"1\",\"0\"])\n",
    "plt.show()"
   ]
  },
  {
   "cell_type": "code",
   "execution_count": 31,
   "id": "63c40191",
   "metadata": {},
   "outputs": [
    {
     "data": {
      "image/png": "[encoded data removed]",
      "text/plain": [
       "<Figure size 432x288 with 1 Axes>"
      ]
     },
     "metadata": {
      "needs_background": "light"
     },
     "output_type": "display_data"
    }
   ],
   "source": [
    "boxplot = plt.figure()\n",
    "axes5 = boxplot.add_subplot(1,1,1)\n",
    "axes5.boxplot(x=[df_train.loc[df_train[\"Outcome\"]==1][\"BloodPressure\"],df_train.loc[df_train[\"Outcome\"]==0][\"BloodPressure\"],],labels=[\"1\",\"0\"])\n",
    "plt.show()"
   ]
  },
  {
   "cell_type": "code",
   "execution_count": 32,
   "id": "bf18d815",
   "metadata": {},
   "outputs": [
    {
     "data": {
      "image/png": "[encoded data removed]",
      "text/plain": [
       "<Figure size 432x288 with 1 Axes>"
      ]
     },
     "metadata": {
      "needs_background": "light"
     },
     "output_type": "display_data"
    }
   ],
   "source": [
    "boxplot = plt.figure()\n",
    "axes5 = boxplot.add_subplot(1,1,1)\n",
    "axes5.boxplot(x=[df_train.loc[df_train[\"Outcome\"]==1][\"Glucose\"],df_train.loc[df_train[\"Outcome\"]==0][\"Glucose\"],],labels=[\"1\",\"0\"])\n",
    "plt.show()"
   ]
  },
  {
   "cell_type": "code",
   "execution_count": 10,
   "id": "78cc65a1",
   "metadata": {},
   "outputs": [
    {
     "data": {
      "image/png": "[encoded data removed]",
      "text/plain": [
       "<Figure size 432x288 with 1 Axes>"
      ]
     },
     "metadata": {
      "needs_background": "light"
     },
     "output_type": "display_data"
    }
   ],
   "source": [
    "boxplot = plt.figure()\n",
    "axes5 = boxplot.add_subplot(1,1,1)\n",
    "df_train_skin = df_train[df_train[\"SkinThickness\"]>0]\n",
    "axes5.boxplot(x=[df_train_skin.loc[df_train_skin[\"Outcome\"]==1][\"SkinThickness\"],df_train_skin.loc[df_train_skin[\"Outcome\"]==0][\"SkinThickness\"],],labels=[\"1\",\"0\"])\n",
    "plt.show()"
   ]
  },
  {
   "cell_type": "code",
   "execution_count": 34,
   "id": "f2896d27",
   "metadata": {},
   "outputs": [
    {
     "data": {
      "image/png": "[encoded data removed]",
      "text/plain": [
       "<Figure size 432x288 with 1 Axes>"
      ]
     },
     "metadata": {
      "needs_background": "light"
     },
     "output_type": "display_data"
    }
   ],
   "source": [
    "boxplot = plt.figure()\n",
    "axes5 = boxplot.add_subplot(1,1,1)\n",
    "axes5.boxplot(x=[df_train.loc[df_train[\"Outcome\"]==1][\"BMI\"],df_train.loc[df_train[\"Outcome\"]==0][\"BMI\"],],labels=[\"1\",\"0\"])\n",
    "plt.show()"
   ]
  },
  {
   "cell_type": "code",
   "execution_count": 7,
   "id": "16b46e6f",
   "metadata": {},
   "outputs": [
    {
     "data": {
      "image/png": "[encoded data removed]",
      "text/plain": [
       "<Figure size 432x288 with 1 Axes>"
      ]
     },
     "metadata": {
      "needs_background": "light"
     },
     "output_type": "display_data"
    }
   ],
   "source": [
    "boxplot = plt.figure()\n",
    "axes5 = boxplot.add_subplot(1,1,1)\n",
    "df_train_insulin = df_train[df_train[\"Insulin\"]>0]\n",
    "axes5.boxplot(x=[df_train_insulin.loc[df_train_insulin[\"Outcome\"]==1][\"Insulin\"],df_train_insulin.loc[df_train_insulin[\"Outcome\"]==0][\"Insulin\"],],labels=[\"1\",\"0\"])\n",
    "plt.show()"
   ]
  },
  {
   "cell_type": "code",
   "execution_count": 36,
   "id": "f6f8c80d",
   "metadata": {},
   "outputs": [
    {
     "data": {
      "image/png": "[encoded data removed]",
      "text/plain": [
       "<Figure size 432x288 with 1 Axes>"
      ]
     },
     "metadata": {
      "needs_background": "light"
     },
     "output_type": "display_data"
    }
   ],
   "source": [
    "boxplot = plt.figure()\n",
    "axes5 = boxplot.add_subplot(1,1,1)\n",
    "axes5.boxplot(x=[df_train.loc[df_train[\"Outcome\"]==1][\"Age\"],df_train.loc[df_train[\"Outcome\"]==0][\"Age\"],],labels=[\"1\",\"0\"])\n",
    "plt.show()"
   ]
  },
  {
   "cell_type": "code",
   "execution_count": 4,
   "id": "876ead34",
   "metadata": {},
   "outputs": [
    {
     "data": {
      "image/png": "[encoded data removed]",
      "text/plain": [
       "<Figure size 432x288 with 1 Axes>"
      ]
     },
     "metadata": {
      "needs_background": "light"
     },
     "output_type": "display_data"
    }
   ],
   "source": [
    "boxplot = plt.figure()\n",
    "axes5 = boxplot.add_subplot(1,1,1)\n",
    "axes5.boxplot(x=[df_train.loc[df_train[\"Outcome\"]==1][\"DiabetesPedigreeFunction\"],df_train.loc[df_train[\"Outcome\"]==0][\"DiabetesPedigreeFunction\"],],labels=[\"1\",\"0\"])\n",
    "plt.show()"
   ]
  },
  {
   "cell_type": "code",
   "execution_count": 3,
   "id": "d9b40002",
   "metadata": {},
   "outputs": [
    {
     "data": {
      "text/plain": [
       "count    3000.000000\n",
       "mean       11.663333\n",
       "std        45.064090\n",
       "min         0.000000\n",
       "25%         0.000000\n",
       "50%         0.000000\n",
       "75%         0.000000\n",
       "max       579.000000\n",
       "Name: Insulin, dtype: float64"
      ]
     },
     "metadata": {},
     "output_type": "display_data"
    }
   ],
   "source": [
    "display(df_train[\"Insulin\"].describe())"
   ]
  },
  {
   "cell_type": "code",
   "execution_count": 6,
   "id": "aedcda2f",
   "metadata": {},
   "outputs": [
    {
     "data": {
      "text/plain": [
       "0      2744\n",
       "180      18\n",
       "100      17\n",
       "130      16\n",
       "92       13\n",
       "210      11\n",
       "50       10\n",
       "60        8\n",
       "284       7\n",
       "249       7\n",
       "66        7\n",
       "120       6\n",
       "156       6\n",
       "126       6\n",
       "148       5\n",
       "48        5\n",
       "132       5\n",
       "115       5\n",
       "70        5\n",
       "165       5\n",
       "36        5\n",
       "96        5\n",
       "135       5\n",
       "54        5\n",
       "45        4\n",
       "145       4\n",
       "200       4\n",
       "71        4\n",
       "192       4\n",
       "140       4\n",
       "95        3\n",
       "49        3\n",
       "63        3\n",
       "250       3\n",
       "176       3\n",
       "440       3\n",
       "82        3\n",
       "37        2\n",
       "94        2\n",
       "182       2\n",
       "220       2\n",
       "88        2\n",
       "110       2\n",
       "205       2\n",
       "392       1\n",
       "293       1\n",
       "265       1\n",
       "15        1\n",
       "360       1\n",
       "190       1\n",
       "108       1\n",
       "81        1\n",
       "415       1\n",
       "105       1\n",
       "579       1\n",
       "116       1\n",
       "52        1\n",
       "74        1\n",
       "330       1\n",
       "Name: Insulin, dtype: int64"
      ]
     },
     "metadata": {},
     "output_type": "display_data"
    }
   ],
   "source": [
    "display(df_train[\"Insulin\"].value_counts())"
   ]
  },
  {
   "cell_type": "code",
   "execution_count": 9,
   "id": "57f5b450",
   "metadata": {},
   "outputs": [
    {
     "data": {
      "text/plain": [
       "0     1766\n",
       "19     106\n",
       "30      87\n",
       "18      86\n",
       "33      79\n",
       "29      77\n",
       "15      69\n",
       "32      62\n",
       "37      61\n",
       "27      59\n",
       "22      55\n",
       "17      52\n",
       "36      51\n",
       "39      51\n",
       "20      48\n",
       "25      47\n",
       "31      37\n",
       "28      26\n",
       "23      25\n",
       "21      22\n",
       "41      17\n",
       "44      16\n",
       "26      15\n",
       "45      14\n",
       "40      13\n",
       "42      11\n",
       "38       8\n",
       "35       8\n",
       "13       7\n",
       "24       7\n",
       "14       5\n",
       "16       3\n",
       "46       3\n",
       "7        2\n",
       "10       2\n",
       "48       1\n",
       "12       1\n",
       "49       1\n",
       "Name: SkinThickness, dtype: int64"
      ]
     },
     "metadata": {},
     "output_type": "display_data"
    }
   ],
   "source": [
    "display(df_train[\"SkinThickness\"].value_counts())"
   ]
  },
  {
   "cell_type": "code",
   "execution_count": null,
   "id": "24b09cd1",
   "metadata": {},
   "outputs": [],
   "source": []
  }
 ],
 "metadata": {
  "kernelspec": {
   "display_name": "Python 3 (ipykernel)",
   "language": "python",
   "name": "python3"
  },
  "language_info": {
   "codemirror_mode": {
    "name": "ipython",
    "version": 3
   },
   "file_extension": ".py",
   "mimetype": "text/x-python",
   "name": "python",
   "nbconvert_exporter": "python",
   "pygments_lexer": "ipython3",
   "version": "3.9.7"
  }
 },
 "nbformat": 4,
 "nbformat_minor": 5
}

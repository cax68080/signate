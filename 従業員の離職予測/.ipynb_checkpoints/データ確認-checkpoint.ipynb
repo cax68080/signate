{
 "cells": [
  {
   "cell_type": "code",
   "execution_count": 2,
   "id": "1d196d78",
   "metadata": {},
   "outputs": [],
   "source": [
    "import pandas as pd\n",
    "import numpy as np\n",
    "from sklearn.linear_model import LogisticRegression\n",
    "from sklearn.metrics import accuracy_score\n",
    "import matplotlib.pyplot as plt\n",
    "import seaborn as sns"
   ]
  },
  {
   "cell_type": "code",
   "execution_count": 3,
   "id": "5824940f",
   "metadata": {},
   "outputs": [
    {
     "data": {
      "text/html": [
       "<div>\n",
       "<style scoped>\n",
       "    .dataframe tbody tr th:only-of-type {\n",
       "        vertical-align: middle;\n",
       "    }\n",
       "\n",
       "    .dataframe tbody tr th {\n",
       "        vertical-align: top;\n",
       "    }\n",
       "\n",
       "    .dataframe thead th {\n",
       "        text-align: right;\n",
       "    }\n",
       "</style>\n",
       "<table border=\"1\" class=\"dataframe\">\n",
       "  <thead>\n",
       "    <tr style=\"text-align: right;\">\n",
       "      <th></th>\n",
       "      <th>id</th>\n",
       "      <th>Age</th>\n",
       "      <th>BusinessTravel</th>\n",
       "      <th>DailyRate</th>\n",
       "      <th>Department</th>\n",
       "      <th>DistanceFromHome</th>\n",
       "      <th>Education</th>\n",
       "      <th>EducationField</th>\n",
       "      <th>EnvironmentSatisfaction</th>\n",
       "      <th>Gender</th>\n",
       "      <th>...</th>\n",
       "      <th>StandardHours</th>\n",
       "      <th>StockOptionLevel</th>\n",
       "      <th>TotalWorkingYears</th>\n",
       "      <th>TrainingTimesLastYear</th>\n",
       "      <th>WorkLifeBalance</th>\n",
       "      <th>YearsAtCompany</th>\n",
       "      <th>YearsInCurrentRole</th>\n",
       "      <th>YearsSinceLastPromotion</th>\n",
       "      <th>YearsWithCurrManager</th>\n",
       "      <th>Attrition</th>\n",
       "    </tr>\n",
       "  </thead>\n",
       "  <tbody>\n",
       "    <tr>\n",
       "      <th>0</th>\n",
       "      <td>0</td>\n",
       "      <td>26</td>\n",
       "      <td>Travel_Rarely</td>\n",
       "      <td>450.941476</td>\n",
       "      <td>Research &amp; Development</td>\n",
       "      <td>7.601074</td>\n",
       "      <td>3</td>\n",
       "      <td>Medical</td>\n",
       "      <td>4</td>\n",
       "      <td>Male</td>\n",
       "      <td>...</td>\n",
       "      <td>80</td>\n",
       "      <td>0</td>\n",
       "      <td>1</td>\n",
       "      <td>3</td>\n",
       "      <td>2</td>\n",
       "      <td>11</td>\n",
       "      <td>8</td>\n",
       "      <td>7</td>\n",
       "      <td>0</td>\n",
       "      <td>0</td>\n",
       "    </tr>\n",
       "    <tr>\n",
       "      <th>1</th>\n",
       "      <td>3</td>\n",
       "      <td>47</td>\n",
       "      <td>Travel_Rarely</td>\n",
       "      <td>730.235896</td>\n",
       "      <td>Research &amp; Development</td>\n",
       "      <td>26.739489</td>\n",
       "      <td>3</td>\n",
       "      <td>Technical Degree</td>\n",
       "      <td>2</td>\n",
       "      <td>Male</td>\n",
       "      <td>...</td>\n",
       "      <td>80</td>\n",
       "      <td>1</td>\n",
       "      <td>20</td>\n",
       "      <td>1</td>\n",
       "      <td>1</td>\n",
       "      <td>5</td>\n",
       "      <td>9</td>\n",
       "      <td>4</td>\n",
       "      <td>4</td>\n",
       "      <td>0</td>\n",
       "    </tr>\n",
       "    <tr>\n",
       "      <th>2</th>\n",
       "      <td>7</td>\n",
       "      <td>26</td>\n",
       "      <td>Travel_Rarely</td>\n",
       "      <td>1082.560066</td>\n",
       "      <td>Human Resources</td>\n",
       "      <td>7.374739</td>\n",
       "      <td>3</td>\n",
       "      <td>Life Sciences</td>\n",
       "      <td>2</td>\n",
       "      <td>Male</td>\n",
       "      <td>...</td>\n",
       "      <td>80</td>\n",
       "      <td>1</td>\n",
       "      <td>4</td>\n",
       "      <td>3</td>\n",
       "      <td>3</td>\n",
       "      <td>3</td>\n",
       "      <td>2</td>\n",
       "      <td>0</td>\n",
       "      <td>2</td>\n",
       "      <td>0</td>\n",
       "    </tr>\n",
       "    <tr>\n",
       "      <th>3</th>\n",
       "      <td>10</td>\n",
       "      <td>46</td>\n",
       "      <td>Travel_Rarely</td>\n",
       "      <td>706.247579</td>\n",
       "      <td>Research &amp; Development</td>\n",
       "      <td>14.791373</td>\n",
       "      <td>1</td>\n",
       "      <td>Medical</td>\n",
       "      <td>1</td>\n",
       "      <td>Female</td>\n",
       "      <td>...</td>\n",
       "      <td>80</td>\n",
       "      <td>1</td>\n",
       "      <td>6</td>\n",
       "      <td>0</td>\n",
       "      <td>1</td>\n",
       "      <td>5</td>\n",
       "      <td>4</td>\n",
       "      <td>7</td>\n",
       "      <td>7</td>\n",
       "      <td>1</td>\n",
       "    </tr>\n",
       "    <tr>\n",
       "      <th>4</th>\n",
       "      <td>11</td>\n",
       "      <td>25</td>\n",
       "      <td>Travel_Rarely</td>\n",
       "      <td>500.610860</td>\n",
       "      <td>Research &amp; Development</td>\n",
       "      <td>2.146966</td>\n",
       "      <td>4</td>\n",
       "      <td>Medical</td>\n",
       "      <td>2</td>\n",
       "      <td>Male</td>\n",
       "      <td>...</td>\n",
       "      <td>80</td>\n",
       "      <td>1</td>\n",
       "      <td>8</td>\n",
       "      <td>3</td>\n",
       "      <td>3</td>\n",
       "      <td>1</td>\n",
       "      <td>0</td>\n",
       "      <td>0</td>\n",
       "      <td>0</td>\n",
       "      <td>0</td>\n",
       "    </tr>\n",
       "  </tbody>\n",
       "</table>\n",
       "<p>5 rows × 33 columns</p>\n",
       "</div>"
      ],
      "text/plain": [
       "   id  Age BusinessTravel    DailyRate              Department  \\\n",
       "0   0   26  Travel_Rarely   450.941476  Research & Development   \n",
       "1   3   47  Travel_Rarely   730.235896  Research & Development   \n",
       "2   7   26  Travel_Rarely  1082.560066         Human Resources   \n",
       "3  10   46  Travel_Rarely   706.247579  Research & Development   \n",
       "4  11   25  Travel_Rarely   500.610860  Research & Development   \n",
       "\n",
       "   DistanceFromHome  Education    EducationField  EnvironmentSatisfaction  \\\n",
       "0          7.601074          3           Medical                        4   \n",
       "1         26.739489          3  Technical Degree                        2   \n",
       "2          7.374739          3     Life Sciences                        2   \n",
       "3         14.791373          1           Medical                        1   \n",
       "4          2.146966          4           Medical                        2   \n",
       "\n",
       "   Gender  ...  StandardHours  StockOptionLevel  TotalWorkingYears  \\\n",
       "0    Male  ...             80                 0                  1   \n",
       "1    Male  ...             80                 1                 20   \n",
       "2    Male  ...             80                 1                  4   \n",
       "3  Female  ...             80                 1                  6   \n",
       "4    Male  ...             80                 1                  8   \n",
       "\n",
       "  TrainingTimesLastYear  WorkLifeBalance YearsAtCompany  YearsInCurrentRole  \\\n",
       "0                     3                2             11                   8   \n",
       "1                     1                1              5                   9   \n",
       "2                     3                3              3                   2   \n",
       "3                     0                1              5                   4   \n",
       "4                     3                3              1                   0   \n",
       "\n",
       "   YearsSinceLastPromotion YearsWithCurrManager Attrition  \n",
       "0                        7                    0         0  \n",
       "1                        4                    4         0  \n",
       "2                        0                    2         0  \n",
       "3                        7                    7         1  \n",
       "4                        0                    0         0  \n",
       "\n",
       "[5 rows x 33 columns]"
      ]
     },
     "metadata": {},
     "output_type": "display_data"
    }
   ],
   "source": [
    "df_train = pd.read_csv(\"./train.csv\")\n",
    "#df_train = df_train.drop(columns=\"id\")\n",
    "display(df_train.head())\n"
   ]
  },
  {
   "cell_type": "code",
   "execution_count": 4,
   "id": "bf9c0993",
   "metadata": {
    "scrolled": true
   },
   "outputs": [
    {
     "name": "stdout",
     "output_type": "stream",
     "text": [
      "<class 'pandas.core.frame.DataFrame'>\n",
      "RangeIndex: 1200 entries, 0 to 1199\n",
      "Data columns (total 33 columns):\n",
      " #   Column                    Non-Null Count  Dtype  \n",
      "---  ------                    --------------  -----  \n",
      " 0   id                        1200 non-null   int64  \n",
      " 1   Age                       1200 non-null   int64  \n",
      " 2   BusinessTravel            1200 non-null   object \n",
      " 3   DailyRate                 1200 non-null   float64\n",
      " 4   Department                1200 non-null   object \n",
      " 5   DistanceFromHome          1200 non-null   float64\n",
      " 6   Education                 1200 non-null   int64  \n",
      " 7   EducationField            1200 non-null   object \n",
      " 8   EnvironmentSatisfaction   1200 non-null   int64  \n",
      " 9   Gender                    1200 non-null   object \n",
      " 10  HourlyRate                1200 non-null   int64  \n",
      " 11  JobInvolvement            1200 non-null   int64  \n",
      " 12  JobLevel                  1200 non-null   int64  \n",
      " 13  JobRole                   1200 non-null   object \n",
      " 14  JobSatisfaction           1200 non-null   int64  \n",
      " 15  MaritalStatus             1200 non-null   object \n",
      " 16  MonthlyIncome             1200 non-null   int64  \n",
      " 17  NumCompaniesWorked        1200 non-null   int64  \n",
      " 18  Over18                    1200 non-null   object \n",
      " 19  OverTime                  1200 non-null   object \n",
      " 20  PercentSalaryHike         1200 non-null   int64  \n",
      " 21  PerformanceRating         1200 non-null   int64  \n",
      " 22  RelationshipSatisfaction  1200 non-null   int64  \n",
      " 23  StandardHours             1200 non-null   int64  \n",
      " 24  StockOptionLevel          1200 non-null   int64  \n",
      " 25  TotalWorkingYears         1200 non-null   int64  \n",
      " 26  TrainingTimesLastYear     1200 non-null   int64  \n",
      " 27  WorkLifeBalance           1200 non-null   int64  \n",
      " 28  YearsAtCompany            1200 non-null   int64  \n",
      " 29  YearsInCurrentRole        1200 non-null   int64  \n",
      " 30  YearsSinceLastPromotion   1200 non-null   int64  \n",
      " 31  YearsWithCurrManager      1200 non-null   int64  \n",
      " 32  Attrition                 1200 non-null   int64  \n",
      "dtypes: float64(2), int64(23), object(8)\n",
      "memory usage: 309.5+ KB\n"
     ]
    },
    {
     "data": {
      "text/plain": [
       "None"
      ]
     },
     "metadata": {},
     "output_type": "display_data"
    }
   ],
   "source": [
    "display(df_train.info())"
   ]
  },
  {
   "cell_type": "code",
   "execution_count": 5,
   "id": "3138e39e",
   "metadata": {
    "scrolled": true
   },
   "outputs": [
    {
     "name": "stdout",
     "output_type": "stream",
     "text": [
      "id                          0\n",
      "Age                         0\n",
      "BusinessTravel              0\n",
      "DailyRate                   0\n",
      "Department                  0\n",
      "DistanceFromHome            0\n",
      "Education                   0\n",
      "EducationField              0\n",
      "EnvironmentSatisfaction     0\n",
      "Gender                      0\n",
      "HourlyRate                  0\n",
      "JobInvolvement              0\n",
      "JobLevel                    0\n",
      "JobRole                     0\n",
      "JobSatisfaction             0\n",
      "MaritalStatus               0\n",
      "MonthlyIncome               0\n",
      "NumCompaniesWorked          0\n",
      "Over18                      0\n",
      "OverTime                    0\n",
      "PercentSalaryHike           0\n",
      "PerformanceRating           0\n",
      "RelationshipSatisfaction    0\n",
      "StandardHours               0\n",
      "StockOptionLevel            0\n",
      "TotalWorkingYears           0\n",
      "TrainingTimesLastYear       0\n",
      "WorkLifeBalance             0\n",
      "YearsAtCompany              0\n",
      "YearsInCurrentRole          0\n",
      "YearsSinceLastPromotion     0\n",
      "YearsWithCurrManager        0\n",
      "Attrition                   0\n",
      "dtype: int64\n"
     ]
    }
   ],
   "source": [
    "print(df_train.isnull().sum())"
   ]
  },
  {
   "cell_type": "code",
   "execution_count": 55,
   "id": "6d1dba65-c590-40ca-8a43-78458e69e7bd",
   "metadata": {},
   "outputs": [
    {
     "data": {
      "text/html": [
       "<div>\n",
       "<style scoped>\n",
       "    .dataframe tbody tr th:only-of-type {\n",
       "        vertical-align: middle;\n",
       "    }\n",
       "\n",
       "    .dataframe tbody tr th {\n",
       "        vertical-align: top;\n",
       "    }\n",
       "\n",
       "    .dataframe thead th {\n",
       "        text-align: right;\n",
       "    }\n",
       "</style>\n",
       "<table border=\"1\" class=\"dataframe\">\n",
       "  <thead>\n",
       "    <tr style=\"text-align: right;\">\n",
       "      <th></th>\n",
       "      <th>id</th>\n",
       "      <th>Age</th>\n",
       "      <th>DailyRate</th>\n",
       "      <th>DistanceFromHome</th>\n",
       "      <th>Education</th>\n",
       "      <th>EnvironmentSatisfaction</th>\n",
       "      <th>HourlyRate</th>\n",
       "      <th>JobInvolvement</th>\n",
       "      <th>JobLevel</th>\n",
       "      <th>JobSatisfaction</th>\n",
       "      <th>...</th>\n",
       "      <th>StandardHours</th>\n",
       "      <th>StockOptionLevel</th>\n",
       "      <th>TotalWorkingYears</th>\n",
       "      <th>TrainingTimesLastYear</th>\n",
       "      <th>WorkLifeBalance</th>\n",
       "      <th>YearsAtCompany</th>\n",
       "      <th>YearsInCurrentRole</th>\n",
       "      <th>YearsSinceLastPromotion</th>\n",
       "      <th>YearsWithCurrManager</th>\n",
       "      <th>Attrition</th>\n",
       "    </tr>\n",
       "  </thead>\n",
       "  <tbody>\n",
       "    <tr>\n",
       "      <th>count</th>\n",
       "      <td>1200.000000</td>\n",
       "      <td>1200.000000</td>\n",
       "      <td>1200.000000</td>\n",
       "      <td>1200.000000</td>\n",
       "      <td>1200.000000</td>\n",
       "      <td>1200.000000</td>\n",
       "      <td>1200.000000</td>\n",
       "      <td>1200.000000</td>\n",
       "      <td>1200.000000</td>\n",
       "      <td>1200.000000</td>\n",
       "      <td>...</td>\n",
       "      <td>1200.0</td>\n",
       "      <td>1200.000000</td>\n",
       "      <td>1200.000000</td>\n",
       "      <td>1200.000000</td>\n",
       "      <td>1200.00000</td>\n",
       "      <td>1200.000000</td>\n",
       "      <td>1200.000000</td>\n",
       "      <td>1200.000000</td>\n",
       "      <td>1200.000000</td>\n",
       "      <td>1200.000000</td>\n",
       "    </tr>\n",
       "    <tr>\n",
       "      <th>mean</th>\n",
       "      <td>1013.075833</td>\n",
       "      <td>32.701667</td>\n",
       "      <td>750.754157</td>\n",
       "      <td>10.226922</td>\n",
       "      <td>2.853333</td>\n",
       "      <td>2.655833</td>\n",
       "      <td>66.261667</td>\n",
       "      <td>2.716667</td>\n",
       "      <td>2.125833</td>\n",
       "      <td>2.717500</td>\n",
       "      <td>...</td>\n",
       "      <td>80.0</td>\n",
       "      <td>0.863333</td>\n",
       "      <td>10.631667</td>\n",
       "      <td>2.755000</td>\n",
       "      <td>2.70000</td>\n",
       "      <td>6.351667</td>\n",
       "      <td>4.249167</td>\n",
       "      <td>2.163333</td>\n",
       "      <td>3.780000</td>\n",
       "      <td>0.177500</td>\n",
       "    </tr>\n",
       "    <tr>\n",
       "      <th>std</th>\n",
       "      <td>575.726036</td>\n",
       "      <td>8.282199</td>\n",
       "      <td>415.420917</td>\n",
       "      <td>8.128759</td>\n",
       "      <td>1.060390</td>\n",
       "      <td>1.139502</td>\n",
       "      <td>20.257801</td>\n",
       "      <td>0.675847</td>\n",
       "      <td>1.185821</td>\n",
       "      <td>1.091797</td>\n",
       "      <td>...</td>\n",
       "      <td>0.0</td>\n",
       "      <td>0.874810</td>\n",
       "      <td>7.721335</td>\n",
       "      <td>1.256167</td>\n",
       "      <td>0.70267</td>\n",
       "      <td>5.120532</td>\n",
       "      <td>3.688507</td>\n",
       "      <td>3.312219</td>\n",
       "      <td>3.314225</td>\n",
       "      <td>0.382251</td>\n",
       "    </tr>\n",
       "    <tr>\n",
       "      <th>min</th>\n",
       "      <td>0.000000</td>\n",
       "      <td>17.000000</td>\n",
       "      <td>59.231581</td>\n",
       "      <td>0.044009</td>\n",
       "      <td>1.000000</td>\n",
       "      <td>1.000000</td>\n",
       "      <td>30.000000</td>\n",
       "      <td>1.000000</td>\n",
       "      <td>1.000000</td>\n",
       "      <td>1.000000</td>\n",
       "      <td>...</td>\n",
       "      <td>80.0</td>\n",
       "      <td>0.000000</td>\n",
       "      <td>0.000000</td>\n",
       "      <td>0.000000</td>\n",
       "      <td>1.00000</td>\n",
       "      <td>0.000000</td>\n",
       "      <td>0.000000</td>\n",
       "      <td>0.000000</td>\n",
       "      <td>0.000000</td>\n",
       "      <td>0.000000</td>\n",
       "    </tr>\n",
       "    <tr>\n",
       "      <th>25%</th>\n",
       "      <td>508.750000</td>\n",
       "      <td>26.000000</td>\n",
       "      <td>403.946043</td>\n",
       "      <td>2.694356</td>\n",
       "      <td>2.000000</td>\n",
       "      <td>2.000000</td>\n",
       "      <td>48.000000</td>\n",
       "      <td>2.000000</td>\n",
       "      <td>1.000000</td>\n",
       "      <td>2.000000</td>\n",
       "      <td>...</td>\n",
       "      <td>80.0</td>\n",
       "      <td>0.000000</td>\n",
       "      <td>5.000000</td>\n",
       "      <td>2.000000</td>\n",
       "      <td>2.00000</td>\n",
       "      <td>2.000000</td>\n",
       "      <td>2.000000</td>\n",
       "      <td>0.000000</td>\n",
       "      <td>2.000000</td>\n",
       "      <td>0.000000</td>\n",
       "    </tr>\n",
       "    <tr>\n",
       "      <th>50%</th>\n",
       "      <td>1018.000000</td>\n",
       "      <td>34.000000</td>\n",
       "      <td>736.873463</td>\n",
       "      <td>9.372775</td>\n",
       "      <td>3.000000</td>\n",
       "      <td>3.000000</td>\n",
       "      <td>67.000000</td>\n",
       "      <td>3.000000</td>\n",
       "      <td>2.000000</td>\n",
       "      <td>3.000000</td>\n",
       "      <td>...</td>\n",
       "      <td>80.0</td>\n",
       "      <td>1.000000</td>\n",
       "      <td>9.000000</td>\n",
       "      <td>3.000000</td>\n",
       "      <td>3.00000</td>\n",
       "      <td>5.000000</td>\n",
       "      <td>3.000000</td>\n",
       "      <td>1.000000</td>\n",
       "      <td>3.000000</td>\n",
       "      <td>0.000000</td>\n",
       "    </tr>\n",
       "    <tr>\n",
       "      <th>75%</th>\n",
       "      <td>1519.250000</td>\n",
       "      <td>37.000000</td>\n",
       "      <td>1092.443495</td>\n",
       "      <td>15.231438</td>\n",
       "      <td>4.000000</td>\n",
       "      <td>4.000000</td>\n",
       "      <td>84.000000</td>\n",
       "      <td>3.000000</td>\n",
       "      <td>3.000000</td>\n",
       "      <td>4.000000</td>\n",
       "      <td>...</td>\n",
       "      <td>80.0</td>\n",
       "      <td>1.000000</td>\n",
       "      <td>15.000000</td>\n",
       "      <td>3.000000</td>\n",
       "      <td>3.00000</td>\n",
       "      <td>9.000000</td>\n",
       "      <td>7.000000</td>\n",
       "      <td>2.000000</td>\n",
       "      <td>7.000000</td>\n",
       "      <td>0.000000</td>\n",
       "    </tr>\n",
       "    <tr>\n",
       "      <th>max</th>\n",
       "      <td>1998.000000</td>\n",
       "      <td>56.000000</td>\n",
       "      <td>1484.979305</td>\n",
       "      <td>29.890208</td>\n",
       "      <td>5.000000</td>\n",
       "      <td>4.000000</td>\n",
       "      <td>100.000000</td>\n",
       "      <td>4.000000</td>\n",
       "      <td>5.000000</td>\n",
       "      <td>4.000000</td>\n",
       "      <td>...</td>\n",
       "      <td>80.0</td>\n",
       "      <td>3.000000</td>\n",
       "      <td>36.000000</td>\n",
       "      <td>6.000000</td>\n",
       "      <td>4.00000</td>\n",
       "      <td>32.000000</td>\n",
       "      <td>17.000000</td>\n",
       "      <td>15.000000</td>\n",
       "      <td>17.000000</td>\n",
       "      <td>1.000000</td>\n",
       "    </tr>\n",
       "  </tbody>\n",
       "</table>\n",
       "<p>8 rows × 25 columns</p>\n",
       "</div>"
      ],
      "text/plain": [
       "                id          Age    DailyRate  DistanceFromHome    Education  \\\n",
       "count  1200.000000  1200.000000  1200.000000       1200.000000  1200.000000   \n",
       "mean   1013.075833    32.701667   750.754157         10.226922     2.853333   \n",
       "std     575.726036     8.282199   415.420917          8.128759     1.060390   \n",
       "min       0.000000    17.000000    59.231581          0.044009     1.000000   \n",
       "25%     508.750000    26.000000   403.946043          2.694356     2.000000   \n",
       "50%    1018.000000    34.000000   736.873463          9.372775     3.000000   \n",
       "75%    1519.250000    37.000000  1092.443495         15.231438     4.000000   \n",
       "max    1998.000000    56.000000  1484.979305         29.890208     5.000000   \n",
       "\n",
       "       EnvironmentSatisfaction   HourlyRate  JobInvolvement     JobLevel  \\\n",
       "count              1200.000000  1200.000000     1200.000000  1200.000000   \n",
       "mean                  2.655833    66.261667        2.716667     2.125833   \n",
       "std                   1.139502    20.257801        0.675847     1.185821   \n",
       "min                   1.000000    30.000000        1.000000     1.000000   \n",
       "25%                   2.000000    48.000000        2.000000     1.000000   \n",
       "50%                   3.000000    67.000000        3.000000     2.000000   \n",
       "75%                   4.000000    84.000000        3.000000     3.000000   \n",
       "max                   4.000000   100.000000        4.000000     5.000000   \n",
       "\n",
       "       JobSatisfaction  ...  StandardHours  StockOptionLevel  \\\n",
       "count      1200.000000  ...         1200.0       1200.000000   \n",
       "mean          2.717500  ...           80.0          0.863333   \n",
       "std           1.091797  ...            0.0          0.874810   \n",
       "min           1.000000  ...           80.0          0.000000   \n",
       "25%           2.000000  ...           80.0          0.000000   \n",
       "50%           3.000000  ...           80.0          1.000000   \n",
       "75%           4.000000  ...           80.0          1.000000   \n",
       "max           4.000000  ...           80.0          3.000000   \n",
       "\n",
       "       TotalWorkingYears  TrainingTimesLastYear  WorkLifeBalance  \\\n",
       "count        1200.000000            1200.000000       1200.00000   \n",
       "mean           10.631667               2.755000          2.70000   \n",
       "std             7.721335               1.256167          0.70267   \n",
       "min             0.000000               0.000000          1.00000   \n",
       "25%             5.000000               2.000000          2.00000   \n",
       "50%             9.000000               3.000000          3.00000   \n",
       "75%            15.000000               3.000000          3.00000   \n",
       "max            36.000000               6.000000          4.00000   \n",
       "\n",
       "       YearsAtCompany  YearsInCurrentRole  YearsSinceLastPromotion  \\\n",
       "count     1200.000000         1200.000000              1200.000000   \n",
       "mean         6.351667            4.249167                 2.163333   \n",
       "std          5.120532            3.688507                 3.312219   \n",
       "min          0.000000            0.000000                 0.000000   \n",
       "25%          2.000000            2.000000                 0.000000   \n",
       "50%          5.000000            3.000000                 1.000000   \n",
       "75%          9.000000            7.000000                 2.000000   \n",
       "max         32.000000           17.000000                15.000000   \n",
       "\n",
       "       YearsWithCurrManager    Attrition  \n",
       "count           1200.000000  1200.000000  \n",
       "mean               3.780000     0.177500  \n",
       "std                3.314225     0.382251  \n",
       "min                0.000000     0.000000  \n",
       "25%                2.000000     0.000000  \n",
       "50%                3.000000     0.000000  \n",
       "75%                7.000000     0.000000  \n",
       "max               17.000000     1.000000  \n",
       "\n",
       "[8 rows x 25 columns]"
      ]
     },
     "execution_count": 55,
     "metadata": {},
     "output_type": "execute_result"
    }
   ],
   "source": [
    "df_train.describe()"
   ]
  },
  {
   "cell_type": "code",
   "execution_count": 7,
   "id": "c02cc64f-66e1-4461-8af8-965a2e2b1c19",
   "metadata": {},
   "outputs": [],
   "source": [
    "df_train.loc[df_train[\"DistanceFromHome\"]<=0,\"DistanceFromHome\"] =  np.mean(df_train[\"DistanceFromHome\"])"
   ]
  },
  {
   "cell_type": "code",
   "execution_count": 8,
   "id": "dd205ed3-15b9-4641-a9ea-42f469317e0c",
   "metadata": {},
   "outputs": [
    {
     "data": {
      "text/plain": [
       "10.226922236281444"
      ]
     },
     "execution_count": 8,
     "metadata": {},
     "output_type": "execute_result"
    }
   ],
   "source": [
    "np.mean(df_train[\"DistanceFromHome\"])"
   ]
  },
  {
   "cell_type": "code",
   "execution_count": 9,
   "id": "ca755bc3",
   "metadata": {},
   "outputs": [
    {
     "name": "stdout",
     "output_type": "stream",
     "text": [
      "JobRole\n",
      "Research Scientist           252\n",
      "Sales Executive              249\n",
      "Laboratory Technician        179\n",
      "Manufacturing Director       129\n",
      "Sales Representative         101\n",
      "Healthcare Representative     92\n",
      "Research Director             90\n",
      "Manager                       75\n",
      "Human Resources               33\n",
      "Name: count, dtype: int64\n"
     ]
    }
   ],
   "source": [
    "print(df_train[\"JobRole\"].value_counts())"
   ]
  },
  {
   "cell_type": "code",
   "execution_count": 10,
   "id": "681d3b53-71c9-4258-b3c9-28137f1d007e",
   "metadata": {},
   "outputs": [
    {
     "data": {
      "text/html": [
       "<div>\n",
       "<style scoped>\n",
       "    .dataframe tbody tr th:only-of-type {\n",
       "        vertical-align: middle;\n",
       "    }\n",
       "\n",
       "    .dataframe tbody tr th {\n",
       "        vertical-align: top;\n",
       "    }\n",
       "\n",
       "    .dataframe thead th {\n",
       "        text-align: right;\n",
       "    }\n",
       "</style>\n",
       "<table border=\"1\" class=\"dataframe\">\n",
       "  <thead>\n",
       "    <tr style=\"text-align: right;\">\n",
       "      <th></th>\n",
       "      <th>id</th>\n",
       "      <th>Age</th>\n",
       "      <th>BusinessTravel</th>\n",
       "      <th>DailyRate</th>\n",
       "      <th>Department</th>\n",
       "      <th>DistanceFromHome</th>\n",
       "      <th>Education</th>\n",
       "      <th>EducationField</th>\n",
       "      <th>EnvironmentSatisfaction</th>\n",
       "      <th>Gender</th>\n",
       "      <th>...</th>\n",
       "      <th>StockOptionLevel</th>\n",
       "      <th>TotalWorkingYears</th>\n",
       "      <th>TrainingTimesLastYear</th>\n",
       "      <th>WorkLifeBalance</th>\n",
       "      <th>YearsAtCompany</th>\n",
       "      <th>YearsInCurrentRole</th>\n",
       "      <th>YearsSinceLastPromotion</th>\n",
       "      <th>YearsWithCurrManager</th>\n",
       "      <th>Attrition</th>\n",
       "      <th>年代</th>\n",
       "    </tr>\n",
       "  </thead>\n",
       "  <tbody>\n",
       "    <tr>\n",
       "      <th>0</th>\n",
       "      <td>0</td>\n",
       "      <td>26</td>\n",
       "      <td>Travel_Rarely</td>\n",
       "      <td>450.941476</td>\n",
       "      <td>Research &amp; Development</td>\n",
       "      <td>7.601074</td>\n",
       "      <td>3</td>\n",
       "      <td>Medical</td>\n",
       "      <td>4</td>\n",
       "      <td>Male</td>\n",
       "      <td>...</td>\n",
       "      <td>0</td>\n",
       "      <td>1</td>\n",
       "      <td>3</td>\n",
       "      <td>2</td>\n",
       "      <td>11</td>\n",
       "      <td>8</td>\n",
       "      <td>7</td>\n",
       "      <td>0</td>\n",
       "      <td>0</td>\n",
       "      <td>20代</td>\n",
       "    </tr>\n",
       "    <tr>\n",
       "      <th>1</th>\n",
       "      <td>3</td>\n",
       "      <td>47</td>\n",
       "      <td>Travel_Rarely</td>\n",
       "      <td>730.235896</td>\n",
       "      <td>Research &amp; Development</td>\n",
       "      <td>26.739489</td>\n",
       "      <td>3</td>\n",
       "      <td>Technical Degree</td>\n",
       "      <td>2</td>\n",
       "      <td>Male</td>\n",
       "      <td>...</td>\n",
       "      <td>1</td>\n",
       "      <td>20</td>\n",
       "      <td>1</td>\n",
       "      <td>1</td>\n",
       "      <td>5</td>\n",
       "      <td>9</td>\n",
       "      <td>4</td>\n",
       "      <td>4</td>\n",
       "      <td>0</td>\n",
       "      <td>40代</td>\n",
       "    </tr>\n",
       "    <tr>\n",
       "      <th>2</th>\n",
       "      <td>7</td>\n",
       "      <td>26</td>\n",
       "      <td>Travel_Rarely</td>\n",
       "      <td>1082.560066</td>\n",
       "      <td>Human Resources</td>\n",
       "      <td>7.374739</td>\n",
       "      <td>3</td>\n",
       "      <td>Life Sciences</td>\n",
       "      <td>2</td>\n",
       "      <td>Male</td>\n",
       "      <td>...</td>\n",
       "      <td>1</td>\n",
       "      <td>4</td>\n",
       "      <td>3</td>\n",
       "      <td>3</td>\n",
       "      <td>3</td>\n",
       "      <td>2</td>\n",
       "      <td>0</td>\n",
       "      <td>2</td>\n",
       "      <td>0</td>\n",
       "      <td>20代</td>\n",
       "    </tr>\n",
       "    <tr>\n",
       "      <th>3</th>\n",
       "      <td>10</td>\n",
       "      <td>46</td>\n",
       "      <td>Travel_Rarely</td>\n",
       "      <td>706.247579</td>\n",
       "      <td>Research &amp; Development</td>\n",
       "      <td>14.791373</td>\n",
       "      <td>1</td>\n",
       "      <td>Medical</td>\n",
       "      <td>1</td>\n",
       "      <td>Female</td>\n",
       "      <td>...</td>\n",
       "      <td>1</td>\n",
       "      <td>6</td>\n",
       "      <td>0</td>\n",
       "      <td>1</td>\n",
       "      <td>5</td>\n",
       "      <td>4</td>\n",
       "      <td>7</td>\n",
       "      <td>7</td>\n",
       "      <td>1</td>\n",
       "      <td>40代</td>\n",
       "    </tr>\n",
       "    <tr>\n",
       "      <th>4</th>\n",
       "      <td>11</td>\n",
       "      <td>25</td>\n",
       "      <td>Travel_Rarely</td>\n",
       "      <td>500.610860</td>\n",
       "      <td>Research &amp; Development</td>\n",
       "      <td>2.146966</td>\n",
       "      <td>4</td>\n",
       "      <td>Medical</td>\n",
       "      <td>2</td>\n",
       "      <td>Male</td>\n",
       "      <td>...</td>\n",
       "      <td>1</td>\n",
       "      <td>8</td>\n",
       "      <td>3</td>\n",
       "      <td>3</td>\n",
       "      <td>1</td>\n",
       "      <td>0</td>\n",
       "      <td>0</td>\n",
       "      <td>0</td>\n",
       "      <td>0</td>\n",
       "      <td>20代</td>\n",
       "    </tr>\n",
       "  </tbody>\n",
       "</table>\n",
       "<p>5 rows × 34 columns</p>\n",
       "</div>"
      ],
      "text/plain": [
       "   id  Age BusinessTravel    DailyRate              Department  \\\n",
       "0   0   26  Travel_Rarely   450.941476  Research & Development   \n",
       "1   3   47  Travel_Rarely   730.235896  Research & Development   \n",
       "2   7   26  Travel_Rarely  1082.560066         Human Resources   \n",
       "3  10   46  Travel_Rarely   706.247579  Research & Development   \n",
       "4  11   25  Travel_Rarely   500.610860  Research & Development   \n",
       "\n",
       "   DistanceFromHome  Education    EducationField  EnvironmentSatisfaction  \\\n",
       "0          7.601074          3           Medical                        4   \n",
       "1         26.739489          3  Technical Degree                        2   \n",
       "2          7.374739          3     Life Sciences                        2   \n",
       "3         14.791373          1           Medical                        1   \n",
       "4          2.146966          4           Medical                        2   \n",
       "\n",
       "   Gender  ...  StockOptionLevel  TotalWorkingYears  TrainingTimesLastYear  \\\n",
       "0    Male  ...                 0                  1                      3   \n",
       "1    Male  ...                 1                 20                      1   \n",
       "2    Male  ...                 1                  4                      3   \n",
       "3  Female  ...                 1                  6                      0   \n",
       "4    Male  ...                 1                  8                      3   \n",
       "\n",
       "  WorkLifeBalance  YearsAtCompany YearsInCurrentRole  YearsSinceLastPromotion  \\\n",
       "0               2              11                  8                        7   \n",
       "1               1               5                  9                        4   \n",
       "2               3               3                  2                        0   \n",
       "3               1               5                  4                        7   \n",
       "4               3               1                  0                        0   \n",
       "\n",
       "   YearsWithCurrManager Attrition   年代  \n",
       "0                     0         0  20代  \n",
       "1                     4         0  40代  \n",
       "2                     2         0  20代  \n",
       "3                     7         1  40代  \n",
       "4                     0         0  20代  \n",
       "\n",
       "[5 rows x 34 columns]"
      ]
     },
     "metadata": {},
     "output_type": "display_data"
    },
    {
     "data": {
      "text/plain": [
       "年代\n",
       "30代     523\n",
       "20代     380\n",
       "40代     178\n",
       "10代     102\n",
       "50代      17\n",
       "10未満      0\n",
       "60代       0\n",
       "70代       0\n",
       "80代       0\n",
       "90代       0\n",
       "Name: count, dtype: int64"
      ]
     },
     "metadata": {},
     "output_type": "display_data"
    }
   ],
   "source": [
    "range_list = [0,10,20,30,40,50,60,70,80,90,100]\n",
    "label_list = [\"10未満\",\"10代\",\"20代\",\"30代\",\"40代\",\"50代\",\"60代\",\"70代\",\"80代\",\"90代\"]\n",
    "df_train[\"年代\"] = pd.cut(df_train[\"Age\"],bins=range_list,right=False,labels=label_list)\n",
    "display(df_train.head())\n",
    "display(df_train[\"年代\"].value_counts())"
   ]
  },
  {
   "cell_type": "code",
   "execution_count": 73,
   "id": "99694b32-0993-4b0f-859b-824b0aa59dfb",
   "metadata": {},
   "outputs": [
    {
     "data": {
      "text/plain": [
       "id                    int64\n",
       "Age                   int64\n",
       "DailyRate           float64\n",
       "DistanceFromHome    float64\n",
       "Education             int64\n",
       "                     ...   \n",
       "年代_50代                 bool\n",
       "年代_60代                 bool\n",
       "年代_70代                 bool\n",
       "年代_80代                 bool\n",
       "年代_90代                 bool\n",
       "Length: 64, dtype: object"
      ]
     },
     "metadata": {},
     "output_type": "display_data"
    }
   ],
   "source": [
    "df_train_new = pd.get_dummies(df_train)\n",
    "display(df_train_new.dtypes)"
   ]
  },
  {
   "cell_type": "code",
   "execution_count": 11,
   "id": "9effdc0c",
   "metadata": {},
   "outputs": [
    {
     "name": "stderr",
     "output_type": "stream",
     "text": [
      "C:\\ProgramData\\Anaconda3\\lib\\site-packages\\IPython\\core\\pylabtools.py:152: UserWarning: Glyph 20195 (\\N{CJK UNIFIED IDEOGRAPH-4EE3}) missing from current font.\n",
      "  fig.canvas.print_figure(bytes_io, **kw)\n"
     ]
    },
    {
     "data": {
      "image/png": "[encoded data removed]",
      "text/plain": [
       "<Figure size 640x480 with 1 Axes>"
      ]
     },
     "metadata": {},
     "output_type": "display_data"
    }
   ],
   "source": [
    "fig = plt.figure()\n",
    "axes1 = fig.add_subplot(1,1,1)\n",
    "axes1.hist(data=df_train,x=\"年代\",bins=5)\n",
    "plt.show()\n"
   ]
  },
  {
   "cell_type": "code",
   "execution_count": 15,
   "id": "d13346d4-7f4c-4491-927c-1d2f6eafadd9",
   "metadata": {},
   "outputs": [
    {
     "data": {
      "text/plain": [
       "年代\n",
       "10代    45\n",
       "20代    69\n",
       "30代    73\n",
       "40代    24\n",
       "50代     2\n",
       "Name: Attrition, dtype: int64"
      ]
     },
     "execution_count": 15,
     "metadata": {},
     "output_type": "execute_result"
    }
   ],
   "source": [
    "df_train.groupby(\"年代\",observed=True)[\"Attrition\"].agg(\"sum\")"
   ]
  },
  {
   "cell_type": "code",
   "execution_count": 12,
   "id": "529ed561-123f-4ce5-862d-9a07eeeba067",
   "metadata": {},
   "outputs": [
    {
     "data": {
      "text/plain": [
       "Attrition\n",
       "0    33.290780\n",
       "1    29.971831\n",
       "Name: Age, dtype: float64"
      ]
     },
     "execution_count": 12,
     "metadata": {},
     "output_type": "execute_result"
    }
   ],
   "source": [
    "df_train.groupby(\"Attrition\")[\"Age\"].agg(\"mean\")"
   ]
  },
  {
   "cell_type": "code",
   "execution_count": 13,
   "id": "40cdd1de-716b-4b34-8bb0-9f3076dcf4fa",
   "metadata": {},
   "outputs": [
    {
     "data": {
      "text/plain": [
       "Attrition\n",
       "0    762.516700\n",
       "1    696.248852\n",
       "Name: DailyRate, dtype: float64"
      ]
     },
     "execution_count": 13,
     "metadata": {},
     "output_type": "execute_result"
    }
   ],
   "source": [
    "df_train.groupby(\"Attrition\")[\"DailyRate\"].agg(\"mean\")"
   ]
  },
  {
   "cell_type": "code",
   "execution_count": 14,
   "id": "d04d6a22-5c99-41f4-97a8-20be1d6820a1",
   "metadata": {},
   "outputs": [
    {
     "data": {
      "text/plain": [
       "Attrition\n",
       "0     9.766468\n",
       "1    12.360578\n",
       "Name: DistanceFromHome, dtype: float64"
      ]
     },
     "execution_count": 14,
     "metadata": {},
     "output_type": "execute_result"
    }
   ],
   "source": [
    "df_train.groupby(\"Attrition\")[\"DistanceFromHome\"].agg(\"mean\")"
   ]
  },
  {
   "cell_type": "code",
   "execution_count": 16,
   "id": "1ac424b7-bf52-4b16-a404-96b89ded9c3d",
   "metadata": {},
   "outputs": [
    {
     "data": {
      "text/plain": [
       "BusinessTravel\n",
       "Non-Travel             5\n",
       "Travel_Frequently     51\n",
       "Travel_Rarely        157\n",
       "Name: Attrition, dtype: int64"
      ]
     },
     "execution_count": 16,
     "metadata": {},
     "output_type": "execute_result"
    }
   ],
   "source": [
    "df_train.groupby(\"BusinessTravel\",observed=True)[\"Attrition\"].agg(\"sum\")"
   ]
  },
  {
   "cell_type": "code",
   "execution_count": 23,
   "id": "c0b3571d-24a7-402f-bdf8-4e8952362be1",
   "metadata": {},
   "outputs": [
    {
     "data": {
      "text/plain": [
       "BusinessTravel\n",
       "Travel_Rarely        808\n",
       "Travel_Frequently    263\n",
       "Non-Travel           129\n",
       "Name: count, dtype: int64"
      ]
     },
     "execution_count": 23,
     "metadata": {},
     "output_type": "execute_result"
    }
   ],
   "source": [
    "df_train[\"BusinessTravel\"].value_counts()"
   ]
  },
  {
   "cell_type": "code",
   "execution_count": 17,
   "id": "4bbc1313-28c8-4cdf-9a5f-4bbb4b5661f3",
   "metadata": {},
   "outputs": [
    {
     "data": {
      "text/plain": [
       "JobSatisfaction\n",
       "1    42\n",
       "2    42\n",
       "3    77\n",
       "4    52\n",
       "Name: Attrition, dtype: int64"
      ]
     },
     "execution_count": 17,
     "metadata": {},
     "output_type": "execute_result"
    }
   ],
   "source": [
    "df_train.groupby(\"JobSatisfaction\",observed=True)[\"Attrition\"].agg(\"sum\")"
   ]
  },
  {
   "cell_type": "code",
   "execution_count": 63,
   "id": "4c9f8cf3-5fb3-4306-aaef-c86b97a80027",
   "metadata": {},
   "outputs": [
    {
     "data": {
      "text/plain": [
       "JobSatisfaction\n",
       "3    371\n",
       "4    361\n",
       "2    236\n",
       "1    232\n",
       "Name: count, dtype: int64"
      ]
     },
     "execution_count": 63,
     "metadata": {},
     "output_type": "execute_result"
    }
   ],
   "source": [
    "df_train[\"JobSatisfaction\"].value_counts()"
   ]
  },
  {
   "cell_type": "code",
   "execution_count": 18,
   "id": "03497d19-51ef-4731-92f5-24c75989b6c8",
   "metadata": {},
   "outputs": [
    {
     "data": {
      "text/plain": [
       "MaritalStatus\n",
       "Divorced    26\n",
       "Married     93\n",
       "Single      94\n",
       "Name: Attrition, dtype: int64"
      ]
     },
     "execution_count": 18,
     "metadata": {},
     "output_type": "execute_result"
    }
   ],
   "source": [
    "df_train.groupby(\"MaritalStatus\",observed=True)[\"Attrition\"].agg(\"sum\")"
   ]
  },
  {
   "cell_type": "code",
   "execution_count": 19,
   "id": "825622e2-5dc1-498b-bd0f-0f9295535e91",
   "metadata": {},
   "outputs": [
    {
     "data": {
      "text/plain": [
       "Department\n",
       "Human Resources             5\n",
       "Research & Development    116\n",
       "Sales                      92\n",
       "Name: Attrition, dtype: int64"
      ]
     },
     "execution_count": 19,
     "metadata": {},
     "output_type": "execute_result"
    }
   ],
   "source": [
    "df_train.groupby(\"Department\",observed=True)[\"Attrition\"].agg(\"sum\")"
   ]
  },
  {
   "cell_type": "code",
   "execution_count": 20,
   "id": "4305a958-8a59-4d54-a6f1-7f88296dc5e5",
   "metadata": {},
   "outputs": [
    {
     "data": {
      "text/plain": [
       "Education\n",
       "1    23\n",
       "2    48\n",
       "3    94\n",
       "4    46\n",
       "5     2\n",
       "Name: Attrition, dtype: int64"
      ]
     },
     "execution_count": 20,
     "metadata": {},
     "output_type": "execute_result"
    }
   ],
   "source": [
    "df_train.groupby(\"Education\",observed=True)[\"Attrition\"].agg(\"sum\")"
   ]
  },
  {
   "cell_type": "code",
   "execution_count": 21,
   "id": "8b80e464-842a-40c6-98e0-43ea263812bf",
   "metadata": {},
   "outputs": [
    {
     "data": {
      "text/plain": [
       "EducationField\n",
       "Human Resources      4\n",
       "Life Sciences       86\n",
       "Marketing           39\n",
       "Medical             40\n",
       "Other               23\n",
       "Technical Degree    21\n",
       "Name: Attrition, dtype: int64"
      ]
     },
     "execution_count": 21,
     "metadata": {},
     "output_type": "execute_result"
    }
   ],
   "source": [
    "df_train.groupby(\"EducationField\",observed=True)[\"Attrition\"].agg(\"sum\")"
   ]
  },
  {
   "cell_type": "code",
   "execution_count": 22,
   "id": "e48651c9-9886-4680-9ff6-0767c49740b2",
   "metadata": {},
   "outputs": [
    {
     "data": {
      "text/plain": [
       "EducationField\n",
       "Life Sciences       501\n",
       "Medical             334\n",
       "Marketing           154\n",
       "Technical Degree     98\n",
       "Other                97\n",
       "Human Resources      16\n",
       "Name: count, dtype: int64"
      ]
     },
     "execution_count": 22,
     "metadata": {},
     "output_type": "execute_result"
    }
   ],
   "source": [
    "df_train[\"EducationField\"].value_counts()"
   ]
  },
  {
   "cell_type": "code",
   "execution_count": 24,
   "id": "834d61be-475f-4280-9a74-4103ba256142",
   "metadata": {},
   "outputs": [
    {
     "name": "stderr",
     "output_type": "stream",
     "text": [
      "C:\\Users\\cax68\\AppData\\Local\\Temp\\ipykernel_14792\\2859184692.py:1: FutureWarning: The default value of observed=False is deprecated and will change to observed=True in a future version of pandas. Specify observed=False to silence this warning and retain the current behavior\n",
      "  df_train.pivot_table(\"Attrition\",aggfunc=\"sum\",index=\"年代\",columns=\"Gender\")\n"
     ]
    },
    {
     "data": {
      "text/html": [
       "<div>\n",
       "<style scoped>\n",
       "    .dataframe tbody tr th:only-of-type {\n",
       "        vertical-align: middle;\n",
       "    }\n",
       "\n",
       "    .dataframe tbody tr th {\n",
       "        vertical-align: top;\n",
       "    }\n",
       "\n",
       "    .dataframe thead th {\n",
       "        text-align: right;\n",
       "    }\n",
       "</style>\n",
       "<table border=\"1\" class=\"dataframe\">\n",
       "  <thead>\n",
       "    <tr style=\"text-align: right;\">\n",
       "      <th>Gender</th>\n",
       "      <th>Female</th>\n",
       "      <th>Male</th>\n",
       "    </tr>\n",
       "    <tr>\n",
       "      <th>年代</th>\n",
       "      <th></th>\n",
       "      <th></th>\n",
       "    </tr>\n",
       "  </thead>\n",
       "  <tbody>\n",
       "    <tr>\n",
       "      <th>10未満</th>\n",
       "      <td>0</td>\n",
       "      <td>0</td>\n",
       "    </tr>\n",
       "    <tr>\n",
       "      <th>10代</th>\n",
       "      <td>11</td>\n",
       "      <td>34</td>\n",
       "    </tr>\n",
       "    <tr>\n",
       "      <th>20代</th>\n",
       "      <td>37</td>\n",
       "      <td>32</td>\n",
       "    </tr>\n",
       "    <tr>\n",
       "      <th>30代</th>\n",
       "      <td>26</td>\n",
       "      <td>47</td>\n",
       "    </tr>\n",
       "    <tr>\n",
       "      <th>40代</th>\n",
       "      <td>10</td>\n",
       "      <td>14</td>\n",
       "    </tr>\n",
       "    <tr>\n",
       "      <th>50代</th>\n",
       "      <td>1</td>\n",
       "      <td>1</td>\n",
       "    </tr>\n",
       "    <tr>\n",
       "      <th>60代</th>\n",
       "      <td>0</td>\n",
       "      <td>0</td>\n",
       "    </tr>\n",
       "    <tr>\n",
       "      <th>70代</th>\n",
       "      <td>0</td>\n",
       "      <td>0</td>\n",
       "    </tr>\n",
       "    <tr>\n",
       "      <th>80代</th>\n",
       "      <td>0</td>\n",
       "      <td>0</td>\n",
       "    </tr>\n",
       "    <tr>\n",
       "      <th>90代</th>\n",
       "      <td>0</td>\n",
       "      <td>0</td>\n",
       "    </tr>\n",
       "  </tbody>\n",
       "</table>\n",
       "</div>"
      ],
      "text/plain": [
       "Gender  Female  Male\n",
       "年代                  \n",
       "10未満         0     0\n",
       "10代         11    34\n",
       "20代         37    32\n",
       "30代         26    47\n",
       "40代         10    14\n",
       "50代          1     1\n",
       "60代          0     0\n",
       "70代          0     0\n",
       "80代          0     0\n",
       "90代          0     0"
      ]
     },
     "execution_count": 24,
     "metadata": {},
     "output_type": "execute_result"
    }
   ],
   "source": [
    "df_train.pivot_table(\"Attrition\",aggfunc=\"sum\",index=\"年代\",columns=\"Gender\")"
   ]
  },
  {
   "cell_type": "code",
   "execution_count": 61,
   "id": "05a719d8-4ef9-40be-b313-e10e2f14522b",
   "metadata": {},
   "outputs": [
    {
     "name": "stderr",
     "output_type": "stream",
     "text": [
      "C:\\Users\\cax68\\AppData\\Local\\Temp\\ipykernel_14792\\3464633840.py:1: FutureWarning: The default value of observed=False is deprecated and will change to observed=True in a future version of pandas. Specify observed=False to silence this warning and retain the current behavior\n",
      "  df_train.pivot_table(\"Attrition\",aggfunc=\"sum\",index=\"年代\",columns=[\"MaritalStatus\",\"Gender\"])\n"
     ]
    },
    {
     "data": {
      "text/html": [
       "<div>\n",
       "<style scoped>\n",
       "    .dataframe tbody tr th:only-of-type {\n",
       "        vertical-align: middle;\n",
       "    }\n",
       "\n",
       "    .dataframe tbody tr th {\n",
       "        vertical-align: top;\n",
       "    }\n",
       "\n",
       "    .dataframe thead tr th {\n",
       "        text-align: left;\n",
       "    }\n",
       "\n",
       "    .dataframe thead tr:last-of-type th {\n",
       "        text-align: right;\n",
       "    }\n",
       "</style>\n",
       "<table border=\"1\" class=\"dataframe\">\n",
       "  <thead>\n",
       "    <tr>\n",
       "      <th>MaritalStatus</th>\n",
       "      <th colspan=\"2\" halign=\"left\">Divorced</th>\n",
       "      <th colspan=\"2\" halign=\"left\">Married</th>\n",
       "      <th colspan=\"2\" halign=\"left\">Single</th>\n",
       "    </tr>\n",
       "    <tr>\n",
       "      <th>Gender</th>\n",
       "      <th>Female</th>\n",
       "      <th>Male</th>\n",
       "      <th>Female</th>\n",
       "      <th>Male</th>\n",
       "      <th>Female</th>\n",
       "      <th>Male</th>\n",
       "    </tr>\n",
       "    <tr>\n",
       "      <th>年代</th>\n",
       "      <th></th>\n",
       "      <th></th>\n",
       "      <th></th>\n",
       "      <th></th>\n",
       "      <th></th>\n",
       "      <th></th>\n",
       "    </tr>\n",
       "  </thead>\n",
       "  <tbody>\n",
       "    <tr>\n",
       "      <th>10未満</th>\n",
       "      <td>0</td>\n",
       "      <td>0</td>\n",
       "      <td>0</td>\n",
       "      <td>0</td>\n",
       "      <td>0</td>\n",
       "      <td>0</td>\n",
       "    </tr>\n",
       "    <tr>\n",
       "      <th>10代</th>\n",
       "      <td>0</td>\n",
       "      <td>3</td>\n",
       "      <td>6</td>\n",
       "      <td>14</td>\n",
       "      <td>5</td>\n",
       "      <td>17</td>\n",
       "    </tr>\n",
       "    <tr>\n",
       "      <th>20代</th>\n",
       "      <td>3</td>\n",
       "      <td>6</td>\n",
       "      <td>16</td>\n",
       "      <td>11</td>\n",
       "      <td>18</td>\n",
       "      <td>15</td>\n",
       "    </tr>\n",
       "    <tr>\n",
       "      <th>30代</th>\n",
       "      <td>2</td>\n",
       "      <td>7</td>\n",
       "      <td>12</td>\n",
       "      <td>24</td>\n",
       "      <td>12</td>\n",
       "      <td>16</td>\n",
       "    </tr>\n",
       "    <tr>\n",
       "      <th>40代</th>\n",
       "      <td>2</td>\n",
       "      <td>3</td>\n",
       "      <td>4</td>\n",
       "      <td>5</td>\n",
       "      <td>4</td>\n",
       "      <td>6</td>\n",
       "    </tr>\n",
       "    <tr>\n",
       "      <th>50代</th>\n",
       "      <td>0</td>\n",
       "      <td>0</td>\n",
       "      <td>1</td>\n",
       "      <td>0</td>\n",
       "      <td>0</td>\n",
       "      <td>1</td>\n",
       "    </tr>\n",
       "    <tr>\n",
       "      <th>60代</th>\n",
       "      <td>0</td>\n",
       "      <td>0</td>\n",
       "      <td>0</td>\n",
       "      <td>0</td>\n",
       "      <td>0</td>\n",
       "      <td>0</td>\n",
       "    </tr>\n",
       "    <tr>\n",
       "      <th>70代</th>\n",
       "      <td>0</td>\n",
       "      <td>0</td>\n",
       "      <td>0</td>\n",
       "      <td>0</td>\n",
       "      <td>0</td>\n",
       "      <td>0</td>\n",
       "    </tr>\n",
       "    <tr>\n",
       "      <th>80代</th>\n",
       "      <td>0</td>\n",
       "      <td>0</td>\n",
       "      <td>0</td>\n",
       "      <td>0</td>\n",
       "      <td>0</td>\n",
       "      <td>0</td>\n",
       "    </tr>\n",
       "    <tr>\n",
       "      <th>90代</th>\n",
       "      <td>0</td>\n",
       "      <td>0</td>\n",
       "      <td>0</td>\n",
       "      <td>0</td>\n",
       "      <td>0</td>\n",
       "      <td>0</td>\n",
       "    </tr>\n",
       "  </tbody>\n",
       "</table>\n",
       "</div>"
      ],
      "text/plain": [
       "MaritalStatus Divorced      Married      Single     \n",
       "Gender          Female Male  Female Male Female Male\n",
       "年代                                                  \n",
       "10未満                 0    0       0    0      0    0\n",
       "10代                  0    3       6   14      5   17\n",
       "20代                  3    6      16   11     18   15\n",
       "30代                  2    7      12   24     12   16\n",
       "40代                  2    3       4    5      4    6\n",
       "50代                  0    0       1    0      0    1\n",
       "60代                  0    0       0    0      0    0\n",
       "70代                  0    0       0    0      0    0\n",
       "80代                  0    0       0    0      0    0\n",
       "90代                  0    0       0    0      0    0"
      ]
     },
     "execution_count": 61,
     "metadata": {},
     "output_type": "execute_result"
    }
   ],
   "source": [
    "df_train.pivot_table(\"Attrition\",aggfunc=\"sum\",index=\"年代\",columns=[\"MaritalStatus\",\"Gender\"])"
   ]
  },
  {
   "cell_type": "code",
   "execution_count": 25,
   "id": "f29f45f9",
   "metadata": {},
   "outputs": [
    {
     "data": {
      "image/png": "[encoded data removed]",
      "text/plain": [
       "<Figure size 640x480 with 1 Axes>"
      ]
     },
     "metadata": {},
     "output_type": "display_data"
    }
   ],
   "source": [
    "fig = plt.figure()\n",
    "axes1 = fig.add_subplot(1,1,1)\n",
    "axes1.hist(data=df_train,x=\"DailyRate\",bins=10)\n",
    "plt.show()\n"
   ]
  },
  {
   "cell_type": "code",
   "execution_count": 26,
   "id": "a587e794",
   "metadata": {},
   "outputs": [
    {
     "data": {
      "image/png": "[encoded data removed]",
      "text/plain": [
       "<Figure size 640x480 with 1 Axes>"
      ]
     },
     "metadata": {},
     "output_type": "display_data"
    }
   ],
   "source": [
    "fig = plt.figure()\n",
    "axes1 = fig.add_subplot(1,1,1)\n",
    "axes1.hist(data=df_train,x=\"DistanceFromHome\",bins=10)\n",
    "plt.show()\n"
   ]
  },
  {
   "cell_type": "code",
   "execution_count": 27,
   "id": "13a12d2a",
   "metadata": {},
   "outputs": [
    {
     "data": {
      "image/png": "[encoded data removed]",
      "text/plain": [
       "<Figure size 640x480 with 1 Axes>"
      ]
     },
     "metadata": {},
     "output_type": "display_data"
    }
   ],
   "source": [
    "box,ax = plt.subplots()\n",
    "sns.boxplot(data=df_train,x=\"DailyRate\",ax=ax)\n",
    "plt.show()"
   ]
  },
  {
   "cell_type": "code",
   "execution_count": null,
   "id": "faf523b1",
   "metadata": {},
   "outputs": [],
   "source": []
  }
 ],
 "metadata": {
  "kernelspec": {
   "display_name": "Python 3 (ipykernel)",
   "language": "python",
   "name": "python3"
  },
  "language_info": {
   "codemirror_mode": {
    "name": "ipython",
    "version": 3
   },
   "file_extension": ".py",
   "mimetype": "text/x-python",
   "name": "python",
   "nbconvert_exporter": "python",
   "pygments_lexer": "ipython3",
   "version": "3.9.19"
  }
 },
 "nbformat": 4,
 "nbformat_minor": 5
}

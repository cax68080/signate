{
 "cells": [
  {
   "cell_type": "code",
   "execution_count": 1,
   "id": "7701e38b",
   "metadata": {},
   "outputs": [],
   "source": [
    "import pandas as pd\n",
    "import numpy as np\n",
    "from sklearn.linear_model import Ridge\n",
    "from matplotlib import pyplot as plt\n",
    "import seaborn as sns\n",
    "from sklearn.metrics import mean_absolute_error"
   ]
  },
  {
   "cell_type": "code",
   "execution_count": 2,
   "id": "5a87a57c",
   "metadata": {},
   "outputs": [
    {
     "data": {
      "text/html": [
       "<div>\n",
       "<style scoped>\n",
       "    .dataframe tbody tr th:only-of-type {\n",
       "        vertical-align: middle;\n",
       "    }\n",
       "\n",
       "    .dataframe tbody tr th {\n",
       "        vertical-align: top;\n",
       "    }\n",
       "\n",
       "    .dataframe thead th {\n",
       "        text-align: right;\n",
       "    }\n",
       "</style>\n",
       "<table border=\"1\" class=\"dataframe\">\n",
       "  <thead>\n",
       "    <tr style=\"text-align: right;\">\n",
       "      <th></th>\n",
       "      <th>Unnamed: 0</th>\n",
       "      <th>mpg</th>\n",
       "      <th>cylinders</th>\n",
       "      <th>displacement</th>\n",
       "      <th>horsepower</th>\n",
       "      <th>weight</th>\n",
       "      <th>acceleration</th>\n",
       "      <th>model year</th>\n",
       "      <th>origin</th>\n",
       "      <th>car name</th>\n",
       "    </tr>\n",
       "  </thead>\n",
       "  <tbody>\n",
       "    <tr>\n",
       "      <th>0</th>\n",
       "      <td>0</td>\n",
       "      <td>39.4</td>\n",
       "      <td>4</td>\n",
       "      <td>85.0</td>\n",
       "      <td>70</td>\n",
       "      <td>2070</td>\n",
       "      <td>18.6</td>\n",
       "      <td>78</td>\n",
       "      <td>3</td>\n",
       "      <td>datsun b210 gx</td>\n",
       "    </tr>\n",
       "    <tr>\n",
       "      <th>1</th>\n",
       "      <td>3</td>\n",
       "      <td>18.0</td>\n",
       "      <td>6</td>\n",
       "      <td>171.0</td>\n",
       "      <td>97</td>\n",
       "      <td>2984</td>\n",
       "      <td>14.5</td>\n",
       "      <td>75</td>\n",
       "      <td>1</td>\n",
       "      <td>ford pinto</td>\n",
       "    </tr>\n",
       "    <tr>\n",
       "      <th>2</th>\n",
       "      <td>9</td>\n",
       "      <td>32.7</td>\n",
       "      <td>6</td>\n",
       "      <td>168.0</td>\n",
       "      <td>132</td>\n",
       "      <td>2910</td>\n",
       "      <td>11.4</td>\n",
       "      <td>80</td>\n",
       "      <td>3</td>\n",
       "      <td>datsun 280-zx</td>\n",
       "    </tr>\n",
       "    <tr>\n",
       "      <th>3</th>\n",
       "      <td>11</td>\n",
       "      <td>38.1</td>\n",
       "      <td>4</td>\n",
       "      <td>89.0</td>\n",
       "      <td>60</td>\n",
       "      <td>1968</td>\n",
       "      <td>18.8</td>\n",
       "      <td>80</td>\n",
       "      <td>3</td>\n",
       "      <td>toyota corolla tercel</td>\n",
       "    </tr>\n",
       "    <tr>\n",
       "      <th>4</th>\n",
       "      <td>13</td>\n",
       "      <td>28.0</td>\n",
       "      <td>4</td>\n",
       "      <td>98.0</td>\n",
       "      <td>80</td>\n",
       "      <td>2164</td>\n",
       "      <td>15.0</td>\n",
       "      <td>72</td>\n",
       "      <td>1</td>\n",
       "      <td>dodge colt (sw)</td>\n",
       "    </tr>\n",
       "  </tbody>\n",
       "</table>\n",
       "</div>"
      ],
      "text/plain": [
       "   Unnamed: 0   mpg  cylinders  displacement horsepower  weight  acceleration  \\\n",
       "0           0  39.4          4          85.0         70    2070          18.6   \n",
       "1           3  18.0          6         171.0         97    2984          14.5   \n",
       "2           9  32.7          6         168.0        132    2910          11.4   \n",
       "3          11  38.1          4          89.0         60    1968          18.8   \n",
       "4          13  28.0          4          98.0         80    2164          15.0   \n",
       "\n",
       "   model year  origin               car name  \n",
       "0          78       3         datsun b210 gx  \n",
       "1          75       1             ford pinto  \n",
       "2          80       3          datsun 280-zx  \n",
       "3          80       3  toyota corolla tercel  \n",
       "4          72       1        dodge colt (sw)  "
      ]
     },
     "metadata": {},
     "output_type": "display_data"
    },
    {
     "data": {
      "text/html": [
       "<div>\n",
       "<style scoped>\n",
       "    .dataframe tbody tr th:only-of-type {\n",
       "        vertical-align: middle;\n",
       "    }\n",
       "\n",
       "    .dataframe tbody tr th {\n",
       "        vertical-align: top;\n",
       "    }\n",
       "\n",
       "    .dataframe thead th {\n",
       "        text-align: right;\n",
       "    }\n",
       "</style>\n",
       "<table border=\"1\" class=\"dataframe\">\n",
       "  <thead>\n",
       "    <tr style=\"text-align: right;\">\n",
       "      <th></th>\n",
       "      <th>Unnamed: 0</th>\n",
       "      <th>cylinders</th>\n",
       "      <th>displacement</th>\n",
       "      <th>horsepower</th>\n",
       "      <th>weight</th>\n",
       "      <th>acceleration</th>\n",
       "      <th>model year</th>\n",
       "      <th>origin</th>\n",
       "      <th>car name</th>\n",
       "    </tr>\n",
       "  </thead>\n",
       "  <tbody>\n",
       "    <tr>\n",
       "      <th>0</th>\n",
       "      <td>1</td>\n",
       "      <td>8</td>\n",
       "      <td>350.0</td>\n",
       "      <td>180</td>\n",
       "      <td>4499</td>\n",
       "      <td>12.5</td>\n",
       "      <td>73</td>\n",
       "      <td>1</td>\n",
       "      <td>oldsmobile vista cruiser</td>\n",
       "    </tr>\n",
       "    <tr>\n",
       "      <th>1</th>\n",
       "      <td>2</td>\n",
       "      <td>4</td>\n",
       "      <td>156.0</td>\n",
       "      <td>105</td>\n",
       "      <td>2745</td>\n",
       "      <td>16.7</td>\n",
       "      <td>78</td>\n",
       "      <td>1</td>\n",
       "      <td>plymouth sapporo</td>\n",
       "    </tr>\n",
       "    <tr>\n",
       "      <th>2</th>\n",
       "      <td>4</td>\n",
       "      <td>6</td>\n",
       "      <td>156.0</td>\n",
       "      <td>108</td>\n",
       "      <td>2930</td>\n",
       "      <td>15.5</td>\n",
       "      <td>76</td>\n",
       "      <td>3</td>\n",
       "      <td>toyota mark ii</td>\n",
       "    </tr>\n",
       "    <tr>\n",
       "      <th>3</th>\n",
       "      <td>5</td>\n",
       "      <td>4</td>\n",
       "      <td>108.0</td>\n",
       "      <td>70</td>\n",
       "      <td>2245</td>\n",
       "      <td>16.9</td>\n",
       "      <td>82</td>\n",
       "      <td>3</td>\n",
       "      <td>toyota corolla</td>\n",
       "    </tr>\n",
       "    <tr>\n",
       "      <th>4</th>\n",
       "      <td>6</td>\n",
       "      <td>4</td>\n",
       "      <td>105.0</td>\n",
       "      <td>63</td>\n",
       "      <td>2125</td>\n",
       "      <td>14.7</td>\n",
       "      <td>82</td>\n",
       "      <td>1</td>\n",
       "      <td>plymouth horizon miser</td>\n",
       "    </tr>\n",
       "  </tbody>\n",
       "</table>\n",
       "</div>"
      ],
      "text/plain": [
       "   Unnamed: 0  cylinders  displacement horsepower  weight  acceleration  \\\n",
       "0           1          8         350.0        180    4499          12.5   \n",
       "1           2          4         156.0        105    2745          16.7   \n",
       "2           4          6         156.0        108    2930          15.5   \n",
       "3           5          4         108.0         70    2245          16.9   \n",
       "4           6          4         105.0         63    2125          14.7   \n",
       "\n",
       "   model year  origin                  car name  \n",
       "0          73       1  oldsmobile vista cruiser  \n",
       "1          78       1          plymouth sapporo  \n",
       "2          76       3            toyota mark ii  \n",
       "3          82       3            toyota corolla  \n",
       "4          82       1    plymouth horizon miser  "
      ]
     },
     "metadata": {},
     "output_type": "display_data"
    },
    {
     "data": {
      "text/html": [
       "<div>\n",
       "<style scoped>\n",
       "    .dataframe tbody tr th:only-of-type {\n",
       "        vertical-align: middle;\n",
       "    }\n",
       "\n",
       "    .dataframe tbody tr th {\n",
       "        vertical-align: top;\n",
       "    }\n",
       "\n",
       "    .dataframe thead th {\n",
       "        text-align: right;\n",
       "    }\n",
       "</style>\n",
       "<table border=\"1\" class=\"dataframe\">\n",
       "  <thead>\n",
       "    <tr style=\"text-align: right;\">\n",
       "      <th></th>\n",
       "      <th>0</th>\n",
       "      <th>1</th>\n",
       "    </tr>\n",
       "  </thead>\n",
       "  <tbody>\n",
       "    <tr>\n",
       "      <th>194</th>\n",
       "      <td>391</td>\n",
       "      <td>29</td>\n",
       "    </tr>\n",
       "    <tr>\n",
       "      <th>195</th>\n",
       "      <td>392</td>\n",
       "      <td>31</td>\n",
       "    </tr>\n",
       "    <tr>\n",
       "      <th>196</th>\n",
       "      <td>393</td>\n",
       "      <td>27</td>\n",
       "    </tr>\n",
       "    <tr>\n",
       "      <th>197</th>\n",
       "      <td>394</td>\n",
       "      <td>27</td>\n",
       "    </tr>\n",
       "    <tr>\n",
       "      <th>198</th>\n",
       "      <td>397</td>\n",
       "      <td>13</td>\n",
       "    </tr>\n",
       "  </tbody>\n",
       "</table>\n",
       "</div>"
      ],
      "text/plain": [
       "       0   1\n",
       "194  391  29\n",
       "195  392  31\n",
       "196  393  27\n",
       "197  394  27\n",
       "198  397  13"
      ]
     },
     "metadata": {},
     "output_type": "display_data"
    }
   ],
   "source": [
    "df_train = pd.read_csv(\"./train.tsv\",sep=\"\\t\")\n",
    "df_test = pd.read_csv(\"./test.tsv\",sep=\"\\t\")\n",
    "df_sample_submit = pd.read_csv(\"./sample_submit.csv\",header=None)\n",
    "display(df_train.head())\n",
    "display(df_test.head())\n",
    "display(df_sample_submit.tail())"
   ]
  },
  {
   "cell_type": "code",
   "execution_count": 3,
   "id": "1d093165",
   "metadata": {},
   "outputs": [
    {
     "name": "stderr",
     "output_type": "stream",
     "text": [
      "C:\\Users\\cax68\\AppData\\Local\\Temp/ipykernel_15664/700271369.py:2: SettingWithCopyWarning: \n",
      "A value is trying to be set on a copy of a slice from a DataFrame.\n",
      "Try using .loc[row_indexer,col_indexer] = value instead\n",
      "\n",
      "See the caveats in the documentation: https://pandas.pydata.org/pandas-docs/stable/user_guide/indexing.html#returning-a-view-versus-a-copy\n",
      "  df_horsepower[\"horsepower\"] = df_horsepower[\"horsepower\"].astype(\"int64\")\n",
      "C:\\Users\\cax68\\AppData\\Local\\Temp/ipykernel_15664/700271369.py:7: FutureWarning: Dropping of nuisance columns in DataFrame reductions (with 'numeric_only=None') is deprecated; in a future version this will raise TypeError.  Select only valid columns before calling the reduction.\n",
      "  df_train.mean()\n"
     ]
    },
    {
     "data": {
      "text/plain": [
       "Unnamed: 0       200.170854\n",
       "mpg               22.997990\n",
       "cylinders          5.527638\n",
       "displacement     200.889447\n",
       "horsepower       107.246231\n",
       "weight          3063.326633\n",
       "acceleration      15.599497\n",
       "model year        75.904523\n",
       "origin             1.587940\n",
       "dtype: float64"
      ]
     },
     "execution_count": 3,
     "metadata": {},
     "output_type": "execute_result"
    }
   ],
   "source": [
    "df_horsepower = df_train[df_train[\"horsepower\"] != \"?\"]\n",
    "df_horsepower[\"horsepower\"] = df_horsepower[\"horsepower\"].astype(\"int64\")\n",
    "horsepower_mean= df_horsepower[\"horsepower\"].mean()\n",
    "horsepower_mean\n",
    "df_train[\"horsepower\"] = df_train[\"horsepower\"].apply(lambda x: horsepower_mean if x == \"?\" else x)\n",
    "df_train[\"horsepower\"] = df_train[\"horsepower\"].astype(\"int64\")\n",
    "df_train.mean()"
   ]
  },
  {
   "cell_type": "code",
   "execution_count": 4,
   "id": "a7cd7903",
   "metadata": {},
   "outputs": [
    {
     "data": {
      "text/html": [
       "<div>\n",
       "<style scoped>\n",
       "    .dataframe tbody tr th:only-of-type {\n",
       "        vertical-align: middle;\n",
       "    }\n",
       "\n",
       "    .dataframe tbody tr th {\n",
       "        vertical-align: top;\n",
       "    }\n",
       "\n",
       "    .dataframe thead th {\n",
       "        text-align: right;\n",
       "    }\n",
       "</style>\n",
       "<table border=\"1\" class=\"dataframe\">\n",
       "  <thead>\n",
       "    <tr style=\"text-align: right;\">\n",
       "      <th></th>\n",
       "      <th>Unnamed: 0</th>\n",
       "      <th>mpg</th>\n",
       "      <th>cylinders</th>\n",
       "      <th>displacement</th>\n",
       "      <th>horsepower</th>\n",
       "      <th>weight</th>\n",
       "      <th>acceleration</th>\n",
       "      <th>model year</th>\n",
       "      <th>origin</th>\n",
       "      <th>car name</th>\n",
       "      <th>car maker</th>\n",
       "    </tr>\n",
       "  </thead>\n",
       "  <tbody>\n",
       "    <tr>\n",
       "      <th>0</th>\n",
       "      <td>0</td>\n",
       "      <td>39.4</td>\n",
       "      <td>4</td>\n",
       "      <td>85.0</td>\n",
       "      <td>70</td>\n",
       "      <td>2070</td>\n",
       "      <td>18.6</td>\n",
       "      <td>78</td>\n",
       "      <td>3</td>\n",
       "      <td>datsun b210 gx</td>\n",
       "      <td>datsun</td>\n",
       "    </tr>\n",
       "    <tr>\n",
       "      <th>1</th>\n",
       "      <td>3</td>\n",
       "      <td>18.0</td>\n",
       "      <td>6</td>\n",
       "      <td>171.0</td>\n",
       "      <td>97</td>\n",
       "      <td>2984</td>\n",
       "      <td>14.5</td>\n",
       "      <td>75</td>\n",
       "      <td>1</td>\n",
       "      <td>ford pinto</td>\n",
       "      <td>ford</td>\n",
       "    </tr>\n",
       "    <tr>\n",
       "      <th>2</th>\n",
       "      <td>9</td>\n",
       "      <td>32.7</td>\n",
       "      <td>6</td>\n",
       "      <td>168.0</td>\n",
       "      <td>132</td>\n",
       "      <td>2910</td>\n",
       "      <td>11.4</td>\n",
       "      <td>80</td>\n",
       "      <td>3</td>\n",
       "      <td>datsun 280-zx</td>\n",
       "      <td>datsun</td>\n",
       "    </tr>\n",
       "    <tr>\n",
       "      <th>3</th>\n",
       "      <td>11</td>\n",
       "      <td>38.1</td>\n",
       "      <td>4</td>\n",
       "      <td>89.0</td>\n",
       "      <td>60</td>\n",
       "      <td>1968</td>\n",
       "      <td>18.8</td>\n",
       "      <td>80</td>\n",
       "      <td>3</td>\n",
       "      <td>toyota corolla tercel</td>\n",
       "      <td>toyota</td>\n",
       "    </tr>\n",
       "    <tr>\n",
       "      <th>4</th>\n",
       "      <td>13</td>\n",
       "      <td>28.0</td>\n",
       "      <td>4</td>\n",
       "      <td>98.0</td>\n",
       "      <td>80</td>\n",
       "      <td>2164</td>\n",
       "      <td>15.0</td>\n",
       "      <td>72</td>\n",
       "      <td>1</td>\n",
       "      <td>dodge colt (sw)</td>\n",
       "      <td>dodge</td>\n",
       "    </tr>\n",
       "  </tbody>\n",
       "</table>\n",
       "</div>"
      ],
      "text/plain": [
       "   Unnamed: 0   mpg  cylinders  displacement  horsepower  weight  \\\n",
       "0           0  39.4          4          85.0          70    2070   \n",
       "1           3  18.0          6         171.0          97    2984   \n",
       "2           9  32.7          6         168.0         132    2910   \n",
       "3          11  38.1          4          89.0          60    1968   \n",
       "4          13  28.0          4          98.0          80    2164   \n",
       "\n",
       "   acceleration  model year  origin               car name car maker  \n",
       "0          18.6          78       3         datsun b210 gx    datsun  \n",
       "1          14.5          75       1             ford pinto      ford  \n",
       "2          11.4          80       3          datsun 280-zx    datsun  \n",
       "3          18.8          80       3  toyota corolla tercel    toyota  \n",
       "4          15.0          72       1        dodge colt (sw)     dodge  "
      ]
     },
     "metadata": {},
     "output_type": "display_data"
    }
   ],
   "source": [
    "df_train[\"car maker\"] = df_train[\"car name\"].apply(lambda x : x.split()[0])\n",
    "display(df_train.head())"
   ]
  },
  {
   "cell_type": "code",
   "execution_count": 5,
   "id": "6c86b5a8",
   "metadata": {},
   "outputs": [
    {
     "data": {
      "image/png": "[encoded data removed]",
      "text/plain": [
       "<Figure size 432x288 with 2 Axes>"
      ]
     },
     "metadata": {
      "needs_background": "light"
     },
     "output_type": "display_data"
    },
    {
     "data": {
      "text/html": [
       "<div>\n",
       "<style scoped>\n",
       "    .dataframe tbody tr th:only-of-type {\n",
       "        vertical-align: middle;\n",
       "    }\n",
       "\n",
       "    .dataframe tbody tr th {\n",
       "        vertical-align: top;\n",
       "    }\n",
       "\n",
       "    .dataframe thead th {\n",
       "        text-align: right;\n",
       "    }\n",
       "</style>\n",
       "<table border=\"1\" class=\"dataframe\">\n",
       "  <thead>\n",
       "    <tr style=\"text-align: right;\">\n",
       "      <th></th>\n",
       "      <th>Unnamed: 0</th>\n",
       "      <th>mpg</th>\n",
       "      <th>cylinders</th>\n",
       "      <th>displacement</th>\n",
       "      <th>horsepower</th>\n",
       "      <th>weight</th>\n",
       "      <th>acceleration</th>\n",
       "      <th>model year</th>\n",
       "      <th>origin</th>\n",
       "    </tr>\n",
       "  </thead>\n",
       "  <tbody>\n",
       "    <tr>\n",
       "      <th>Unnamed: 0</th>\n",
       "      <td>1.000000</td>\n",
       "      <td>-0.005616</td>\n",
       "      <td>-0.025172</td>\n",
       "      <td>-0.039416</td>\n",
       "      <td>-0.044259</td>\n",
       "      <td>-0.050945</td>\n",
       "      <td>0.033751</td>\n",
       "      <td>-0.022741</td>\n",
       "      <td>0.040376</td>\n",
       "    </tr>\n",
       "    <tr>\n",
       "      <th>mpg</th>\n",
       "      <td>-0.005616</td>\n",
       "      <td>1.000000</td>\n",
       "      <td>-0.793012</td>\n",
       "      <td>-0.820597</td>\n",
       "      <td>-0.764077</td>\n",
       "      <td>-0.854548</td>\n",
       "      <td>0.445578</td>\n",
       "      <td>0.531445</td>\n",
       "      <td>0.575644</td>\n",
       "    </tr>\n",
       "    <tr>\n",
       "      <th>cylinders</th>\n",
       "      <td>-0.025172</td>\n",
       "      <td>-0.793012</td>\n",
       "      <td>1.000000</td>\n",
       "      <td>0.947816</td>\n",
       "      <td>0.833945</td>\n",
       "      <td>0.909054</td>\n",
       "      <td>-0.495192</td>\n",
       "      <td>-0.327977</td>\n",
       "      <td>-0.598204</td>\n",
       "    </tr>\n",
       "    <tr>\n",
       "      <th>displacement</th>\n",
       "      <td>-0.039416</td>\n",
       "      <td>-0.820597</td>\n",
       "      <td>0.947816</td>\n",
       "      <td>1.000000</td>\n",
       "      <td>0.902293</td>\n",
       "      <td>0.946437</td>\n",
       "      <td>-0.559381</td>\n",
       "      <td>-0.352672</td>\n",
       "      <td>-0.636646</td>\n",
       "    </tr>\n",
       "    <tr>\n",
       "      <th>horsepower</th>\n",
       "      <td>-0.044259</td>\n",
       "      <td>-0.764077</td>\n",
       "      <td>0.833945</td>\n",
       "      <td>0.902293</td>\n",
       "      <td>1.000000</td>\n",
       "      <td>0.872744</td>\n",
       "      <td>-0.711227</td>\n",
       "      <td>-0.393492</td>\n",
       "      <td>-0.471399</td>\n",
       "    </tr>\n",
       "    <tr>\n",
       "      <th>weight</th>\n",
       "      <td>-0.050945</td>\n",
       "      <td>-0.854548</td>\n",
       "      <td>0.909054</td>\n",
       "      <td>0.946437</td>\n",
       "      <td>0.872744</td>\n",
       "      <td>1.000000</td>\n",
       "      <td>-0.453418</td>\n",
       "      <td>-0.290512</td>\n",
       "      <td>-0.631557</td>\n",
       "    </tr>\n",
       "    <tr>\n",
       "      <th>acceleration</th>\n",
       "      <td>0.033751</td>\n",
       "      <td>0.445578</td>\n",
       "      <td>-0.495192</td>\n",
       "      <td>-0.559381</td>\n",
       "      <td>-0.711227</td>\n",
       "      <td>-0.453418</td>\n",
       "      <td>1.000000</td>\n",
       "      <td>0.310780</td>\n",
       "      <td>0.238708</td>\n",
       "    </tr>\n",
       "    <tr>\n",
       "      <th>model year</th>\n",
       "      <td>-0.022741</td>\n",
       "      <td>0.531445</td>\n",
       "      <td>-0.327977</td>\n",
       "      <td>-0.352672</td>\n",
       "      <td>-0.393492</td>\n",
       "      <td>-0.290512</td>\n",
       "      <td>0.310780</td>\n",
       "      <td>1.000000</td>\n",
       "      <td>0.072809</td>\n",
       "    </tr>\n",
       "    <tr>\n",
       "      <th>origin</th>\n",
       "      <td>0.040376</td>\n",
       "      <td>0.575644</td>\n",
       "      <td>-0.598204</td>\n",
       "      <td>-0.636646</td>\n",
       "      <td>-0.471399</td>\n",
       "      <td>-0.631557</td>\n",
       "      <td>0.238708</td>\n",
       "      <td>0.072809</td>\n",
       "      <td>1.000000</td>\n",
       "    </tr>\n",
       "  </tbody>\n",
       "</table>\n",
       "</div>"
      ],
      "text/plain": [
       "              Unnamed: 0       mpg  cylinders  displacement  horsepower  \\\n",
       "Unnamed: 0      1.000000 -0.005616  -0.025172     -0.039416   -0.044259   \n",
       "mpg            -0.005616  1.000000  -0.793012     -0.820597   -0.764077   \n",
       "cylinders      -0.025172 -0.793012   1.000000      0.947816    0.833945   \n",
       "displacement   -0.039416 -0.820597   0.947816      1.000000    0.902293   \n",
       "horsepower     -0.044259 -0.764077   0.833945      0.902293    1.000000   \n",
       "weight         -0.050945 -0.854548   0.909054      0.946437    0.872744   \n",
       "acceleration    0.033751  0.445578  -0.495192     -0.559381   -0.711227   \n",
       "model year     -0.022741  0.531445  -0.327977     -0.352672   -0.393492   \n",
       "origin          0.040376  0.575644  -0.598204     -0.636646   -0.471399   \n",
       "\n",
       "                weight  acceleration  model year    origin  \n",
       "Unnamed: 0   -0.050945      0.033751   -0.022741  0.040376  \n",
       "mpg          -0.854548      0.445578    0.531445  0.575644  \n",
       "cylinders     0.909054     -0.495192   -0.327977 -0.598204  \n",
       "displacement  0.946437     -0.559381   -0.352672 -0.636646  \n",
       "horsepower    0.872744     -0.711227   -0.393492 -0.471399  \n",
       "weight        1.000000     -0.453418   -0.290512 -0.631557  \n",
       "acceleration -0.453418      1.000000    0.310780  0.238708  \n",
       "model year   -0.290512      0.310780    1.000000  0.072809  \n",
       "origin       -0.631557      0.238708    0.072809  1.000000  "
      ]
     },
     "metadata": {},
     "output_type": "display_data"
    }
   ],
   "source": [
    "corr_matrix = df_train.corr()\n",
    "sns.heatmap(corr_matrix)\n",
    "plt.show()\n",
    "display(corr_matrix)"
   ]
  },
  {
   "cell_type": "code",
   "execution_count": 13,
   "id": "697b7ccf",
   "metadata": {},
   "outputs": [
    {
     "data": {
      "image/png": "[encoded data removed]",
      "text/plain": [
       "<Figure size 432x288 with 1 Axes>"
      ]
     },
     "metadata": {
      "needs_background": "light"
     },
     "output_type": "display_data"
    }
   ],
   "source": [
    "plt.scatter(df_train['mpg'],df_train['displacement'])\n",
    "\n",
    "# x軸とy軸に名前を付与\n",
    "plt.ylabel('displacement')\n",
    "plt.xlabel('mpg')\n",
    "\n",
    "# 可視化結果を表示する為に必要な関数\n",
    "plt.show()"
   ]
  },
  {
   "cell_type": "code",
   "execution_count": 14,
   "id": "91d8d0ae",
   "metadata": {},
   "outputs": [
    {
     "data": {
      "image/png": "[encoded data removed]",
      "text/plain": [
       "<Figure size 432x288 with 1 Axes>"
      ]
     },
     "metadata": {
      "needs_background": "light"
     },
     "output_type": "display_data"
    }
   ],
   "source": [
    "plt.scatter(df_train['mpg'],df_train['horsepower'])\n",
    "\n",
    "# x軸とy軸に名前を付与\n",
    "plt.ylabel('horsepower')\n",
    "plt.xlabel('mpg')\n",
    "\n",
    "# 可視化結果を表示する為に必要な関数\n",
    "plt.show()"
   ]
  },
  {
   "cell_type": "code",
   "execution_count": 52,
   "id": "0712f3da",
   "metadata": {},
   "outputs": [
    {
     "data": {
      "image/png": "[encoded data removed]",
      "text/plain": [
       "<Figure size 432x288 with 1 Axes>"
      ]
     },
     "metadata": {
      "needs_background": "light"
     },
     "output_type": "display_data"
    }
   ],
   "source": [
    "plt.scatter(df_train['mpg'],df_train['weight'])\n",
    "\n",
    "# x軸とy軸に名前を付与\n",
    "plt.ylabel('weight')\n",
    "plt.xlabel('mpg')\n",
    "\n",
    "# 可視化結果を表示する為に必要な関数\n",
    "plt.show()"
   ]
  },
  {
   "cell_type": "code",
   "execution_count": 6,
   "id": "9f03481d",
   "metadata": {},
   "outputs": [
    {
     "data": {
      "image/png": "[encoded data removed]",
      "text/plain": [
       "<Figure size 432x288 with 1 Axes>"
      ]
     },
     "metadata": {
      "needs_background": "light"
     },
     "output_type": "display_data"
    }
   ],
   "source": [
    "plt.scatter(df_train['mpg'],df_train['acceleration'])\n",
    "\n",
    "# x軸とy軸に名前を付与\n",
    "plt.ylabel('acceleration')\n",
    "plt.xlabel('mpg')\n",
    "\n",
    "# 可視化結果を表示する為に必要な関数\n",
    "plt.show()"
   ]
  },
  {
   "cell_type": "code",
   "execution_count": 12,
   "id": "96ce5389",
   "metadata": {},
   "outputs": [
    {
     "data": {
      "image/png": "[encoded data removed]",
      "text/plain": [
       "<Figure size 432x288 with 1 Axes>"
      ]
     },
     "metadata": {
      "needs_background": "light"
     },
     "output_type": "display_data"
    }
   ],
   "source": [
    "plt.scatter(df_train['mpg'],df_train['cylinders'])\n",
    "\n",
    "# x軸とy軸に名前を付与\n",
    "plt.ylabel('cylinders')\n",
    "plt.xlabel('mpg')\n",
    "\n",
    "# 可視化結果を表示する為に必要な関数\n",
    "plt.show()"
   ]
  },
  {
   "cell_type": "code",
   "execution_count": 6,
   "id": "959e66c6",
   "metadata": {},
   "outputs": [
    {
     "data": {
      "text/plain": [
       "4    98\n",
       "8    55\n",
       "6    42\n",
       "5     2\n",
       "3     2\n",
       "Name: cylinders, dtype: int64"
      ]
     },
     "metadata": {},
     "output_type": "display_data"
    },
    {
     "data": {
      "text/plain": [
       "78    20\n",
       "77    19\n",
       "72    18\n",
       "76    17\n",
       "73    17\n",
       "70    16\n",
       "80    15\n",
       "79    15\n",
       "74    14\n",
       "82    14\n",
       "71    13\n",
       "81    11\n",
       "75    10\n",
       "Name: model year, dtype: int64"
      ]
     },
     "metadata": {},
     "output_type": "display_data"
    },
    {
     "data": {
      "text/plain": [
       "1    124\n",
       "3     42\n",
       "2     33\n",
       "Name: origin, dtype: int64"
      ]
     },
     "metadata": {},
     "output_type": "display_data"
    }
   ],
   "source": [
    "display(df_train[\"cylinders\"].value_counts())\n",
    "display(df_train[\"model year\"].value_counts())\n",
    "display(df_train[\"origin\"].value_counts())"
   ]
  },
  {
   "cell_type": "code",
   "execution_count": 23,
   "id": "574cff3c",
   "metadata": {},
   "outputs": [
    {
     "name": "stdout",
     "output_type": "stream",
     "text": [
      "model year  car maker\n",
      "70          amc          18.000000\n",
      "            audi         24.000000\n",
      "            chevrolet    14.000000\n",
      "            datsun       27.000000\n",
      "            ford         15.333333\n",
      "                           ...    \n",
      "82          dodge        32.500000\n",
      "            ford         26.000000\n",
      "            honda        38.000000\n",
      "            pontiac      29.000000\n",
      "            vw           44.000000\n",
      "Name: mpg, Length: 146, dtype: float64\n"
     ]
    }
   ],
   "source": [
    "print(df_train.groupby([\"model year\",\"car maker\"])[\"mpg\"].mean())\n"
   ]
  },
  {
   "cell_type": "code",
   "execution_count": 8,
   "id": "2c54abe6",
   "metadata": {},
   "outputs": [
    {
     "name": "stderr",
     "output_type": "stream",
     "text": [
      "C:\\ProgramData\\Anaconda3\\lib\\site-packages\\seaborn\\_decorators.py:36: FutureWarning: Pass the following variables as keyword args: x, y. From version 0.12, the only valid positional argument will be `data`, and passing other arguments without an explicit keyword will result in an error or misinterpretation.\n",
      "  warnings.warn(\n"
     ]
    },
    {
     "data": {
      "image/png": "[encoded data removed]",
      "text/plain": [
       "<Figure size 432x288 with 1 Axes>"
      ]
     },
     "metadata": {
      "needs_background": "light"
     },
     "output_type": "display_data"
    }
   ],
   "source": [
    "# boxplotの描画\n",
    "sns.boxplot('cylinders','mpg', data=df_train)\n",
    "\n",
    "# 可視化結果を表示する為に必要な関数\n",
    "plt.show()"
   ]
  },
  {
   "cell_type": "code",
   "execution_count": 67,
   "id": "3f5fa131",
   "metadata": {},
   "outputs": [
    {
     "name": "stderr",
     "output_type": "stream",
     "text": [
      "C:\\ProgramData\\Anaconda3\\lib\\site-packages\\seaborn\\_decorators.py:36: FutureWarning: Pass the following variables as keyword args: x, y. From version 0.12, the only valid positional argument will be `data`, and passing other arguments without an explicit keyword will result in an error or misinterpretation.\n",
      "  warnings.warn(\n"
     ]
    },
    {
     "data": {
      "image/png": "[encoded data removed]",
      "text/plain": [
       "<Figure size 432x288 with 1 Axes>"
      ]
     },
     "metadata": {
      "needs_background": "light"
     },
     "output_type": "display_data"
    }
   ],
   "source": [
    "# boxplotの描画\n",
    "sns.boxplot('origin','mpg', data=df_train)\n",
    "\n",
    "# 可視化結果を表示する為に必要な関数\n",
    "plt.show()"
   ]
  },
  {
   "cell_type": "code",
   "execution_count": 56,
   "id": "00d81723",
   "metadata": {},
   "outputs": [
    {
     "name": "stderr",
     "output_type": "stream",
     "text": [
      "C:\\ProgramData\\Anaconda3\\lib\\site-packages\\seaborn\\_decorators.py:36: FutureWarning: Pass the following variables as keyword args: x, y. From version 0.12, the only valid positional argument will be `data`, and passing other arguments without an explicit keyword will result in an error or misinterpretation.\n",
      "  warnings.warn(\n"
     ]
    },
    {
     "data": {
      "image/png": "[encoded data removed]",
      "text/plain": [
       "<Figure size 432x288 with 1 Axes>"
      ]
     },
     "metadata": {
      "needs_background": "light"
     },
     "output_type": "display_data"
    }
   ],
   "source": [
    "# boxplotの描画\n",
    "sns.boxplot('model year','mpg', data=df_train)\n",
    "\n",
    "# 可視化結果を表示する為に必要な関数\n",
    "plt.show()"
   ]
  },
  {
   "cell_type": "code",
   "execution_count": 65,
   "id": "dda49602",
   "metadata": {},
   "outputs": [
    {
     "name": "stderr",
     "output_type": "stream",
     "text": [
      "C:\\ProgramData\\Anaconda3\\lib\\site-packages\\seaborn\\_decorators.py:36: FutureWarning: Pass the following variables as keyword args: x, y. From version 0.12, the only valid positional argument will be `data`, and passing other arguments without an explicit keyword will result in an error or misinterpretation.\n",
      "  warnings.warn(\n"
     ]
    },
    {
     "data": {
      "image/png": "[encoded data removed]",
      "text/plain": [
       "<Figure size 432x288 with 1 Axes>"
      ]
     },
     "metadata": {
      "needs_background": "light"
     },
     "output_type": "display_data"
    }
   ],
   "source": [
    "# boxplotの描画\n",
    "sns.boxplot('car maker','mpg', data=df_train)\n",
    "\n",
    "# 可視化結果を表示する為に必要な関数\n",
    "plt.show()"
   ]
  },
  {
   "cell_type": "code",
   "execution_count": 12,
   "id": "3e86c4be",
   "metadata": {},
   "outputs": [
    {
     "data": {
      "text/html": [
       "<style>#sk-container-id-1 {color: black;background-color: white;}#sk-container-id-1 pre{padding: 0;}#sk-container-id-1 div.sk-toggleable {background-color: white;}#sk-container-id-1 label.sk-toggleable__label {cursor: pointer;display: block;width: 100%;margin-bottom: 0;padding: 0.3em;box-sizing: border-box;text-align: center;}#sk-container-id-1 label.sk-toggleable__label-arrow:before {content: \"▸\";float: left;margin-right: 0.25em;color: #696969;}#sk-container-id-1 label.sk-toggleable__label-arrow:hover:before {color: black;}#sk-container-id-1 div.sk-estimator:hover label.sk-toggleable__label-arrow:before {color: black;}#sk-container-id-1 div.sk-toggleable__content {max-height: 0;max-width: 0;overflow: hidden;text-align: left;background-color: #f0f8ff;}#sk-container-id-1 div.sk-toggleable__content pre {margin: 0.2em;color: black;border-radius: 0.25em;background-color: #f0f8ff;}#sk-container-id-1 input.sk-toggleable__control:checked~div.sk-toggleable__content {max-height: 200px;max-width: 100%;overflow: auto;}#sk-container-id-1 input.sk-toggleable__control:checked~label.sk-toggleable__label-arrow:before {content: \"▾\";}#sk-container-id-1 div.sk-estimator input.sk-toggleable__control:checked~label.sk-toggleable__label {background-color: #d4ebff;}#sk-container-id-1 div.sk-label input.sk-toggleable__control:checked~label.sk-toggleable__label {background-color: #d4ebff;}#sk-container-id-1 input.sk-hidden--visually {border: 0;clip: rect(1px 1px 1px 1px);clip: rect(1px, 1px, 1px, 1px);height: 1px;margin: -1px;overflow: hidden;padding: 0;position: absolute;width: 1px;}#sk-container-id-1 div.sk-estimator {font-family: monospace;background-color: #f0f8ff;border: 1px dotted black;border-radius: 0.25em;box-sizing: border-box;margin-bottom: 0.5em;}#sk-container-id-1 div.sk-estimator:hover {background-color: #d4ebff;}#sk-container-id-1 div.sk-parallel-item::after {content: \"\";width: 100%;border-bottom: 1px solid gray;flex-grow: 1;}#sk-container-id-1 div.sk-label:hover label.sk-toggleable__label {background-color: #d4ebff;}#sk-container-id-1 div.sk-serial::before {content: \"\";position: absolute;border-left: 1px solid gray;box-sizing: border-box;top: 0;bottom: 0;left: 50%;z-index: 0;}#sk-container-id-1 div.sk-serial {display: flex;flex-direction: column;align-items: center;background-color: white;padding-right: 0.2em;padding-left: 0.2em;position: relative;}#sk-container-id-1 div.sk-item {position: relative;z-index: 1;}#sk-container-id-1 div.sk-parallel {display: flex;align-items: stretch;justify-content: center;background-color: white;position: relative;}#sk-container-id-1 div.sk-item::before, #sk-container-id-1 div.sk-parallel-item::before {content: \"\";position: absolute;border-left: 1px solid gray;box-sizing: border-box;top: 0;bottom: 0;left: 50%;z-index: -1;}#sk-container-id-1 div.sk-parallel-item {display: flex;flex-direction: column;z-index: 1;position: relative;background-color: white;}#sk-container-id-1 div.sk-parallel-item:first-child::after {align-self: flex-end;width: 50%;}#sk-container-id-1 div.sk-parallel-item:last-child::after {align-self: flex-start;width: 50%;}#sk-container-id-1 div.sk-parallel-item:only-child::after {width: 0;}#sk-container-id-1 div.sk-dashed-wrapped {border: 1px dashed gray;margin: 0 0.4em 0.5em 0.4em;box-sizing: border-box;padding-bottom: 0.4em;background-color: white;}#sk-container-id-1 div.sk-label label {font-family: monospace;font-weight: bold;display: inline-block;line-height: 1.2em;}#sk-container-id-1 div.sk-label-container {text-align: center;}#sk-container-id-1 div.sk-container {/* jupyter's `normalize.less` sets `[hidden] { display: none; }` but bootstrap.min.css set `[hidden] { display: none !important; }` so we also need the `!important` here to be able to override the default hidden behavior on the sphinx rendered scikit-learn.org. See: https://github.com/scikit-learn/scikit-learn/issues/21755 */display: inline-block !important;position: relative;}#sk-container-id-1 div.sk-text-repr-fallback {display: none;}</style><div id=\"sk-container-id-1\" class=\"sk-top-container\"><div class=\"sk-text-repr-fallback\"><pre>Ridge()</pre><b>In a Jupyter environment, please rerun this cell to show the HTML representation or trust the notebook. <br />On GitHub, the HTML representation is unable to render, please try loading this page with nbviewer.org.</b></div><div class=\"sk-container\" hidden><div class=\"sk-item\"><div class=\"sk-estimator sk-toggleable\"><input class=\"sk-toggleable__control sk-hidden--visually\" id=\"sk-estimator-id-1\" type=\"checkbox\" checked><label for=\"sk-estimator-id-1\" class=\"sk-toggleable__label sk-toggleable__label-arrow\">Ridge</label><div class=\"sk-toggleable__content\"><pre>Ridge()</pre></div></div></div></div></div>"
      ],
      "text/plain": [
       "Ridge()"
      ]
     },
     "execution_count": 12,
     "metadata": {},
     "output_type": "execute_result"
    }
   ],
   "source": [
    "target_col = [\"mpg\"]\n",
    "feature_col = [\"cylinders\",\"displacement\",\"horsepower\",\"weight\",\"model year\",\"origin\"]\n",
    "y = df_train[target_col]\n",
    "X = df_train[feature_col]\n",
    "model = Ridge()\n",
    "model.fit(X,y)"
   ]
  },
  {
   "cell_type": "code",
   "execution_count": 13,
   "id": "3085a476",
   "metadata": {},
   "outputs": [
    {
     "data": {
      "text/html": [
       "<div>\n",
       "<style scoped>\n",
       "    .dataframe tbody tr th:only-of-type {\n",
       "        vertical-align: middle;\n",
       "    }\n",
       "\n",
       "    .dataframe tbody tr th {\n",
       "        vertical-align: top;\n",
       "    }\n",
       "\n",
       "    .dataframe thead th {\n",
       "        text-align: right;\n",
       "    }\n",
       "</style>\n",
       "<table border=\"1\" class=\"dataframe\">\n",
       "  <thead>\n",
       "    <tr style=\"text-align: right;\">\n",
       "      <th></th>\n",
       "      <th>mpg</th>\n",
       "      <th>pred_mpg</th>\n",
       "    </tr>\n",
       "  </thead>\n",
       "  <tbody>\n",
       "    <tr>\n",
       "      <th>194</th>\n",
       "      <td>27.0</td>\n",
       "      <td>26.042392</td>\n",
       "    </tr>\n",
       "    <tr>\n",
       "      <th>195</th>\n",
       "      <td>26.0</td>\n",
       "      <td>28.539298</td>\n",
       "    </tr>\n",
       "    <tr>\n",
       "      <th>196</th>\n",
       "      <td>29.0</td>\n",
       "      <td>29.926208</td>\n",
       "    </tr>\n",
       "    <tr>\n",
       "      <th>197</th>\n",
       "      <td>31.3</td>\n",
       "      <td>30.565057</td>\n",
       "    </tr>\n",
       "    <tr>\n",
       "      <th>198</th>\n",
       "      <td>15.5</td>\n",
       "      <td>16.591921</td>\n",
       "    </tr>\n",
       "  </tbody>\n",
       "</table>\n",
       "</div>"
      ],
      "text/plain": [
       "      mpg   pred_mpg\n",
       "194  27.0  26.042392\n",
       "195  26.0  28.539298\n",
       "196  29.0  29.926208\n",
       "197  31.3  30.565057\n",
       "198  15.5  16.591921"
      ]
     },
     "execution_count": 13,
     "metadata": {},
     "output_type": "execute_result"
    }
   ],
   "source": [
    "df_train[\"pred_mpg\"] = model.predict(X)\n",
    "df_train[[\"mpg\",\"pred_mpg\"]].tail()"
   ]
  },
  {
   "cell_type": "code",
   "execution_count": 14,
   "id": "da3963f5",
   "metadata": {},
   "outputs": [
    {
     "data": {
      "text/plain": [
       "2.448655043138092"
      ]
     },
     "execution_count": 14,
     "metadata": {},
     "output_type": "execute_result"
    }
   ],
   "source": [
    "mean_absolute_error(df_train[\"mpg\"],df_train[\"pred_mpg\"])"
   ]
  },
  {
   "cell_type": "code",
   "execution_count": 15,
   "id": "c971249c",
   "metadata": {},
   "outputs": [
    {
     "data": {
      "text/html": [
       "<div>\n",
       "<style scoped>\n",
       "    .dataframe tbody tr th:only-of-type {\n",
       "        vertical-align: middle;\n",
       "    }\n",
       "\n",
       "    .dataframe tbody tr th {\n",
       "        vertical-align: top;\n",
       "    }\n",
       "\n",
       "    .dataframe thead th {\n",
       "        text-align: right;\n",
       "    }\n",
       "</style>\n",
       "<table border=\"1\" class=\"dataframe\">\n",
       "  <thead>\n",
       "    <tr style=\"text-align: right;\">\n",
       "      <th></th>\n",
       "      <th>Unnamed: 0</th>\n",
       "      <th>cylinders</th>\n",
       "      <th>displacement</th>\n",
       "      <th>horsepower</th>\n",
       "      <th>weight</th>\n",
       "      <th>acceleration</th>\n",
       "      <th>model year</th>\n",
       "      <th>origin</th>\n",
       "      <th>car name</th>\n",
       "    </tr>\n",
       "  </thead>\n",
       "  <tbody>\n",
       "    <tr>\n",
       "      <th>50</th>\n",
       "      <td>101</td>\n",
       "      <td>4</td>\n",
       "      <td>151.0</td>\n",
       "      <td>?</td>\n",
       "      <td>3035</td>\n",
       "      <td>20.5</td>\n",
       "      <td>82</td>\n",
       "      <td>1</td>\n",
       "      <td>amc concord dl</td>\n",
       "    </tr>\n",
       "    <tr>\n",
       "      <th>85</th>\n",
       "      <td>164</td>\n",
       "      <td>6</td>\n",
       "      <td>200.0</td>\n",
       "      <td>?</td>\n",
       "      <td>2875</td>\n",
       "      <td>17.0</td>\n",
       "      <td>74</td>\n",
       "      <td>1</td>\n",
       "      <td>ford maverick</td>\n",
       "    </tr>\n",
       "    <tr>\n",
       "      <th>181</th>\n",
       "      <td>363</td>\n",
       "      <td>4</td>\n",
       "      <td>98.0</td>\n",
       "      <td>?</td>\n",
       "      <td>2046</td>\n",
       "      <td>19.0</td>\n",
       "      <td>71</td>\n",
       "      <td>1</td>\n",
       "      <td>ford pinto</td>\n",
       "    </tr>\n",
       "  </tbody>\n",
       "</table>\n",
       "</div>"
      ],
      "text/plain": [
       "     Unnamed: 0  cylinders  displacement horsepower  weight  acceleration  \\\n",
       "50          101          4         151.0          ?    3035          20.5   \n",
       "85          164          6         200.0          ?    2875          17.0   \n",
       "181         363          4          98.0          ?    2046          19.0   \n",
       "\n",
       "     model year  origin        car name  \n",
       "50           82       1  amc concord dl  \n",
       "85           74       1   ford maverick  \n",
       "181          71       1      ford pinto  "
      ]
     },
     "metadata": {},
     "output_type": "display_data"
    },
    {
     "name": "stdout",
     "output_type": "stream",
     "text": [
      "106.72448979591837\n"
     ]
    },
    {
     "name": "stderr",
     "output_type": "stream",
     "text": [
      "C:\\Users\\cax68\\AppData\\Local\\Temp/ipykernel_15664/500584516.py:3: SettingWithCopyWarning: \n",
      "A value is trying to be set on a copy of a slice from a DataFrame.\n",
      "Try using .loc[row_indexer,col_indexer] = value instead\n",
      "\n",
      "See the caveats in the documentation: https://pandas.pydata.org/pandas-docs/stable/user_guide/indexing.html#returning-a-view-versus-a-copy\n",
      "  df_horsepower[\"horsepower\"] = df_horsepower[\"horsepower\"].astype(\"int64\")\n"
     ]
    },
    {
     "data": {
      "text/html": [
       "<div>\n",
       "<style scoped>\n",
       "    .dataframe tbody tr th:only-of-type {\n",
       "        vertical-align: middle;\n",
       "    }\n",
       "\n",
       "    .dataframe tbody tr th {\n",
       "        vertical-align: top;\n",
       "    }\n",
       "\n",
       "    .dataframe thead th {\n",
       "        text-align: right;\n",
       "    }\n",
       "</style>\n",
       "<table border=\"1\" class=\"dataframe\">\n",
       "  <thead>\n",
       "    <tr style=\"text-align: right;\">\n",
       "      <th></th>\n",
       "      <th>Unnamed: 0</th>\n",
       "      <th>cylinders</th>\n",
       "      <th>displacement</th>\n",
       "      <th>horsepower</th>\n",
       "      <th>weight</th>\n",
       "      <th>acceleration</th>\n",
       "      <th>model year</th>\n",
       "      <th>origin</th>\n",
       "      <th>car name</th>\n",
       "    </tr>\n",
       "  </thead>\n",
       "  <tbody>\n",
       "  </tbody>\n",
       "</table>\n",
       "</div>"
      ],
      "text/plain": [
       "Empty DataFrame\n",
       "Columns: [Unnamed: 0, cylinders, displacement, horsepower, weight, acceleration, model year, origin, car name]\n",
       "Index: []"
      ]
     },
     "metadata": {},
     "output_type": "display_data"
    },
    {
     "name": "stdout",
     "output_type": "stream",
     "text": [
      "Unnamed: 0       200.170854\n",
      "mpg               22.997990\n",
      "cylinders          5.527638\n",
      "displacement     200.889447\n",
      "horsepower       107.246231\n",
      "weight          3063.326633\n",
      "acceleration      15.599497\n",
      "model year        75.904523\n",
      "origin             1.587940\n",
      "pred_mpg          22.997990\n",
      "dtype: float64\n"
     ]
    },
    {
     "name": "stderr",
     "output_type": "stream",
     "text": [
      "C:\\Users\\cax68\\AppData\\Local\\Temp/ipykernel_15664/500584516.py:9: FutureWarning: Dropping of nuisance columns in DataFrame reductions (with 'numeric_only=None') is deprecated; in a future version this will raise TypeError.  Select only valid columns before calling the reduction.\n",
      "  print(df_train.mean())\n"
     ]
    },
    {
     "data": {
      "text/html": [
       "<div>\n",
       "<style scoped>\n",
       "    .dataframe tbody tr th:only-of-type {\n",
       "        vertical-align: middle;\n",
       "    }\n",
       "\n",
       "    .dataframe tbody tr th {\n",
       "        vertical-align: top;\n",
       "    }\n",
       "\n",
       "    .dataframe thead th {\n",
       "        text-align: right;\n",
       "    }\n",
       "</style>\n",
       "<table border=\"1\" class=\"dataframe\">\n",
       "  <thead>\n",
       "    <tr style=\"text-align: right;\">\n",
       "      <th></th>\n",
       "      <th>Unnamed: 0</th>\n",
       "      <th>cylinders</th>\n",
       "      <th>displacement</th>\n",
       "      <th>horsepower</th>\n",
       "      <th>weight</th>\n",
       "      <th>acceleration</th>\n",
       "      <th>model year</th>\n",
       "      <th>origin</th>\n",
       "      <th>car name</th>\n",
       "    </tr>\n",
       "  </thead>\n",
       "  <tbody>\n",
       "    <tr>\n",
       "      <th>0</th>\n",
       "      <td>1</td>\n",
       "      <td>8</td>\n",
       "      <td>350.0</td>\n",
       "      <td>180</td>\n",
       "      <td>4499</td>\n",
       "      <td>12.5</td>\n",
       "      <td>73</td>\n",
       "      <td>1</td>\n",
       "      <td>oldsmobile vista cruiser</td>\n",
       "    </tr>\n",
       "    <tr>\n",
       "      <th>1</th>\n",
       "      <td>2</td>\n",
       "      <td>4</td>\n",
       "      <td>156.0</td>\n",
       "      <td>105</td>\n",
       "      <td>2745</td>\n",
       "      <td>16.7</td>\n",
       "      <td>78</td>\n",
       "      <td>1</td>\n",
       "      <td>plymouth sapporo</td>\n",
       "    </tr>\n",
       "    <tr>\n",
       "      <th>2</th>\n",
       "      <td>4</td>\n",
       "      <td>6</td>\n",
       "      <td>156.0</td>\n",
       "      <td>108</td>\n",
       "      <td>2930</td>\n",
       "      <td>15.5</td>\n",
       "      <td>76</td>\n",
       "      <td>3</td>\n",
       "      <td>toyota mark ii</td>\n",
       "    </tr>\n",
       "    <tr>\n",
       "      <th>3</th>\n",
       "      <td>5</td>\n",
       "      <td>4</td>\n",
       "      <td>108.0</td>\n",
       "      <td>70</td>\n",
       "      <td>2245</td>\n",
       "      <td>16.9</td>\n",
       "      <td>82</td>\n",
       "      <td>3</td>\n",
       "      <td>toyota corolla</td>\n",
       "    </tr>\n",
       "    <tr>\n",
       "      <th>4</th>\n",
       "      <td>6</td>\n",
       "      <td>4</td>\n",
       "      <td>105.0</td>\n",
       "      <td>63</td>\n",
       "      <td>2125</td>\n",
       "      <td>14.7</td>\n",
       "      <td>82</td>\n",
       "      <td>1</td>\n",
       "      <td>plymouth horizon miser</td>\n",
       "    </tr>\n",
       "  </tbody>\n",
       "</table>\n",
       "</div>"
      ],
      "text/plain": [
       "   Unnamed: 0  cylinders  displacement  horsepower  weight  acceleration  \\\n",
       "0           1          8         350.0         180    4499          12.5   \n",
       "1           2          4         156.0         105    2745          16.7   \n",
       "2           4          6         156.0         108    2930          15.5   \n",
       "3           5          4         108.0          70    2245          16.9   \n",
       "4           6          4         105.0          63    2125          14.7   \n",
       "\n",
       "   model year  origin                  car name  \n",
       "0          73       1  oldsmobile vista cruiser  \n",
       "1          78       1          plymouth sapporo  \n",
       "2          76       3            toyota mark ii  \n",
       "3          82       3            toyota corolla  \n",
       "4          82       1    plymouth horizon miser  "
      ]
     },
     "metadata": {},
     "output_type": "display_data"
    }
   ],
   "source": [
    "display(df_test[df_test[\"horsepower\"] == \"?\"])\n",
    "df_horsepower = df_train[df_test[\"horsepower\"] != \"?\"]\n",
    "df_horsepower[\"horsepower\"] = df_horsepower[\"horsepower\"].astype(\"int64\")\n",
    "horsepower_mean= df_horsepower[\"horsepower\"].mean()\n",
    "print(horsepower_mean)\n",
    "df_test[\"horsepower\"] = df_test[\"horsepower\"].apply(lambda x: horsepower_mean if x == \"?\" else x)\n",
    "df_test[\"horsepower\"] = df_test[\"horsepower\"].astype(\"int64\")\n",
    "display(df_test[df_test[\"horsepower\"] == \"?\"])\n",
    "print(df_train.mean())\n",
    "display(df_test.head())"
   ]
  },
  {
   "cell_type": "code",
   "execution_count": 19,
   "id": "aa2bd8ba",
   "metadata": {},
   "outputs": [
    {
     "data": {
      "text/html": [
       "<div>\n",
       "<style scoped>\n",
       "    .dataframe tbody tr th:only-of-type {\n",
       "        vertical-align: middle;\n",
       "    }\n",
       "\n",
       "    .dataframe tbody tr th {\n",
       "        vertical-align: top;\n",
       "    }\n",
       "\n",
       "    .dataframe thead th {\n",
       "        text-align: right;\n",
       "    }\n",
       "</style>\n",
       "<table border=\"1\" class=\"dataframe\">\n",
       "  <thead>\n",
       "    <tr style=\"text-align: right;\">\n",
       "      <th></th>\n",
       "      <th>Unnamed: 0</th>\n",
       "      <th>cylinders</th>\n",
       "      <th>displacement</th>\n",
       "      <th>horsepower</th>\n",
       "      <th>weight</th>\n",
       "      <th>acceleration</th>\n",
       "      <th>model year</th>\n",
       "      <th>origin</th>\n",
       "      <th>car name</th>\n",
       "      <th>mpg</th>\n",
       "    </tr>\n",
       "  </thead>\n",
       "  <tbody>\n",
       "    <tr>\n",
       "      <th>194</th>\n",
       "      <td>391</td>\n",
       "      <td>8</td>\n",
       "      <td>305.0</td>\n",
       "      <td>140</td>\n",
       "      <td>4215</td>\n",
       "      <td>13.0</td>\n",
       "      <td>76</td>\n",
       "      <td>1</td>\n",
       "      <td>chevrolet chevelle malibu classic</td>\n",
       "      <td>14</td>\n",
       "    </tr>\n",
       "    <tr>\n",
       "      <th>195</th>\n",
       "      <td>392</td>\n",
       "      <td>8</td>\n",
       "      <td>318.0</td>\n",
       "      <td>150</td>\n",
       "      <td>4237</td>\n",
       "      <td>14.5</td>\n",
       "      <td>73</td>\n",
       "      <td>1</td>\n",
       "      <td>plymouth fury gran sedan</td>\n",
       "      <td>12</td>\n",
       "    </tr>\n",
       "    <tr>\n",
       "      <th>196</th>\n",
       "      <td>393</td>\n",
       "      <td>8</td>\n",
       "      <td>350.0</td>\n",
       "      <td>145</td>\n",
       "      <td>4055</td>\n",
       "      <td>12.0</td>\n",
       "      <td>76</td>\n",
       "      <td>1</td>\n",
       "      <td>chevy c10</td>\n",
       "      <td>16</td>\n",
       "    </tr>\n",
       "    <tr>\n",
       "      <th>197</th>\n",
       "      <td>394</td>\n",
       "      <td>3</td>\n",
       "      <td>80.0</td>\n",
       "      <td>110</td>\n",
       "      <td>2720</td>\n",
       "      <td>13.5</td>\n",
       "      <td>77</td>\n",
       "      <td>3</td>\n",
       "      <td>mazda rx-4</td>\n",
       "      <td>26</td>\n",
       "    </tr>\n",
       "    <tr>\n",
       "      <th>198</th>\n",
       "      <td>397</td>\n",
       "      <td>4</td>\n",
       "      <td>120.0</td>\n",
       "      <td>74</td>\n",
       "      <td>2635</td>\n",
       "      <td>18.3</td>\n",
       "      <td>81</td>\n",
       "      <td>3</td>\n",
       "      <td>mazda 626</td>\n",
       "      <td>30</td>\n",
       "    </tr>\n",
       "  </tbody>\n",
       "</table>\n",
       "</div>"
      ],
      "text/plain": [
       "     Unnamed: 0  cylinders  displacement  horsepower  weight  acceleration  \\\n",
       "194         391          8         305.0         140    4215          13.0   \n",
       "195         392          8         318.0         150    4237          14.5   \n",
       "196         393          8         350.0         145    4055          12.0   \n",
       "197         394          3          80.0         110    2720          13.5   \n",
       "198         397          4         120.0          74    2635          18.3   \n",
       "\n",
       "     model year  origin                           car name  mpg  \n",
       "194          76       1  chevrolet chevelle malibu classic   14  \n",
       "195          73       1           plymouth fury gran sedan   12  \n",
       "196          76       1                          chevy c10   16  \n",
       "197          77       3                         mazda rx-4   26  \n",
       "198          81       3                          mazda 626   30  "
      ]
     },
     "metadata": {},
     "output_type": "display_data"
    },
    {
     "name": "stdout",
     "output_type": "stream",
     "text": [
      "<class 'pandas.core.frame.DataFrame'>\n",
      "RangeIndex: 199 entries, 0 to 198\n",
      "Data columns (total 10 columns):\n",
      " #   Column        Non-Null Count  Dtype  \n",
      "---  ------        --------------  -----  \n",
      " 0   Unnamed: 0    199 non-null    int64  \n",
      " 1   cylinders     199 non-null    int64  \n",
      " 2   displacement  199 non-null    float64\n",
      " 3   horsepower    199 non-null    int64  \n",
      " 4   weight        199 non-null    int64  \n",
      " 5   acceleration  199 non-null    float64\n",
      " 6   model year    199 non-null    int64  \n",
      " 7   origin        199 non-null    int64  \n",
      " 8   car name      199 non-null    object \n",
      " 9   mpg           199 non-null    int64  \n",
      "dtypes: float64(2), int64(7), object(1)\n",
      "memory usage: 15.7+ KB\n",
      "None\n"
     ]
    }
   ],
   "source": [
    "feature_col = [\"cylinders\",\"displacement\",\"horsepower\",\"weight\",\"model year\",\"origin\"]\n",
    "X = df_test[feature_col]\n",
    "df_test[\"mpg\"] = model.predict(X)\n",
    "df_test[\"mpg\"] = df_test[\"mpg\"].astype(\"int64\")\n",
    "display(df_test.tail())\n",
    "print(df_test.info())"
   ]
  },
  {
   "cell_type": "code",
   "execution_count": 20,
   "id": "888ea576",
   "metadata": {},
   "outputs": [
    {
     "data": {
      "text/html": [
       "<div>\n",
       "<style scoped>\n",
       "    .dataframe tbody tr th:only-of-type {\n",
       "        vertical-align: middle;\n",
       "    }\n",
       "\n",
       "    .dataframe tbody tr th {\n",
       "        vertical-align: top;\n",
       "    }\n",
       "\n",
       "    .dataframe thead th {\n",
       "        text-align: right;\n",
       "    }\n",
       "</style>\n",
       "<table border=\"1\" class=\"dataframe\">\n",
       "  <thead>\n",
       "    <tr style=\"text-align: right;\">\n",
       "      <th></th>\n",
       "      <th>0</th>\n",
       "      <th>1</th>\n",
       "    </tr>\n",
       "  </thead>\n",
       "  <tbody>\n",
       "    <tr>\n",
       "      <th>194</th>\n",
       "      <td>391</td>\n",
       "      <td>14</td>\n",
       "    </tr>\n",
       "    <tr>\n",
       "      <th>195</th>\n",
       "      <td>392</td>\n",
       "      <td>12</td>\n",
       "    </tr>\n",
       "    <tr>\n",
       "      <th>196</th>\n",
       "      <td>393</td>\n",
       "      <td>16</td>\n",
       "    </tr>\n",
       "    <tr>\n",
       "      <th>197</th>\n",
       "      <td>394</td>\n",
       "      <td>26</td>\n",
       "    </tr>\n",
       "    <tr>\n",
       "      <th>198</th>\n",
       "      <td>397</td>\n",
       "      <td>30</td>\n",
       "    </tr>\n",
       "  </tbody>\n",
       "</table>\n",
       "</div>"
      ],
      "text/plain": [
       "       0   1\n",
       "194  391  14\n",
       "195  392  12\n",
       "196  393  16\n",
       "197  394  26\n",
       "198  397  30"
      ]
     },
     "metadata": {},
     "output_type": "display_data"
    }
   ],
   "source": [
    "df_sample_submit[1]=df_test[\"mpg\"]\n",
    "display(df_sample_submit.tail())"
   ]
  },
  {
   "cell_type": "code",
   "execution_count": 21,
   "id": "5d51a401",
   "metadata": {},
   "outputs": [],
   "source": [
    "df_sample_submit.to_csv(\"E:\\Documents\\Python\\SIGNATE\\都市サイクルの燃料消費量予測\\sample_submit.csv\",index=False,header=None)"
   ]
  },
  {
   "cell_type": "code",
   "execution_count": null,
   "id": "a49b142e",
   "metadata": {},
   "outputs": [],
   "source": []
  }
 ],
 "metadata": {
  "kernelspec": {
   "display_name": "Python 3 (ipykernel)",
   "language": "python",
   "name": "python3"
  },
  "language_info": {
   "codemirror_mode": {
    "name": "ipython",
    "version": 3
   },
   "file_extension": ".py",
   "mimetype": "text/x-python",
   "name": "python",
   "nbconvert_exporter": "python",
   "pygments_lexer": "ipython3",
   "version": "3.9.7"
  }
 },
 "nbformat": 4,
 "nbformat_minor": 5
}

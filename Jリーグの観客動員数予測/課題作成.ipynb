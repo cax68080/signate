{
 "cells": [
  {
   "cell_type": "markdown",
   "id": "3494abae",
   "metadata": {},
   "source": [
    "### ライブラリをインポート"
   ]
  },
  {
   "cell_type": "code",
   "execution_count": 1,
   "id": "dce0a21a",
   "metadata": {},
   "outputs": [],
   "source": [
    "import numpy as np\n",
    "import pandas as pd\n",
    "from matplotlib import pyplot as plt\n",
    "import japanize_matplotlib\n",
    "from sklearn.model_selection import train_test_split\n",
    "import seaborn as sns\n",
    "from sklearn.linear_model import LinearRegression\n",
    "from sklearn.metrics import mean_squared_error as MSE"
   ]
  },
  {
   "cell_type": "markdown",
   "id": "fbcdba5d",
   "metadata": {},
   "source": [
    "### CSVファイルを読み込む"
   ]
  },
  {
   "cell_type": "code",
   "execution_count": 7,
   "id": "a50815b3",
   "metadata": {
    "collapsed": true
   },
   "outputs": [
    {
     "name": "stdout",
     "output_type": "stream",
     "text": [
      "(1952, 48)\n",
      "(351, 10)\n",
      "(2304, 31)\n",
      "(313, 2)\n",
      "(59, 3)\n",
      "<class 'pandas.core.frame.DataFrame'>\n",
      "RangeIndex: 313 entries, 0 to 312\n",
      "Data columns (total 2 columns):\n",
      " #   Column  Non-Null Count  Dtype  \n",
      "---  ------  --------------  -----  \n",
      " 0   id      313 non-null    int64  \n",
      " 1   y       313 non-null    float64\n",
      "dtypes: float64(1), int64(1)\n",
      "memory usage: 5.0 KB\n",
      "None\n"
     ]
    }
   ],
   "source": [
    "# train_tmp.csv,test_new.csv、condition_new.csvを読み込む\n",
    "train_tmp = pd.read_csv('train_tmp.csv')\n",
    "test_new = pd.read_csv('test_new.csv')\n",
    "condition_new = pd.read_csv('condition_new.csv')\n",
    "\n",
    "# 既存CSVファイルを再読み込み\n",
    "sample = pd.read_csv('sample_submit.csv',header=None,names=[\"id\",\"y\"])\n",
    "stadium = pd.read_csv('stadium.csv')\n",
    "\n",
    "# 確認\n",
    "print(train_tmp.shape)\n",
    "print(test_new.shape)\n",
    "print(condition_new.shape)\n",
    "print(sample.shape)\n",
    "print(stadium.shape)\n",
    "print(sample.info())"
   ]
  },
  {
   "cell_type": "code",
   "execution_count": 81,
   "id": "fb058058",
   "metadata": {},
   "outputs": [
    {
     "data": {
      "text/html": [
       "<div>\n",
       "<style scoped>\n",
       "    .dataframe tbody tr th:only-of-type {\n",
       "        vertical-align: middle;\n",
       "    }\n",
       "\n",
       "    .dataframe tbody tr th {\n",
       "        vertical-align: top;\n",
       "    }\n",
       "\n",
       "    .dataframe thead th {\n",
       "        text-align: right;\n",
       "    }\n",
       "</style>\n",
       "<table border=\"1\" class=\"dataframe\">\n",
       "  <thead>\n",
       "    <tr style=\"text-align: right;\">\n",
       "      <th></th>\n",
       "      <th>id</th>\n",
       "      <th>y</th>\n",
       "      <th>year</th>\n",
       "      <th>stage</th>\n",
       "      <th>match</th>\n",
       "      <th>gameday</th>\n",
       "      <th>time</th>\n",
       "      <th>home</th>\n",
       "      <th>away</th>\n",
       "      <th>stadium</th>\n",
       "      <th>...</th>\n",
       "      <th>address</th>\n",
       "      <th>capa</th>\n",
       "      <th>month</th>\n",
       "      <th>week</th>\n",
       "      <th>match_num</th>\n",
       "      <th>tv_num</th>\n",
       "      <th>di</th>\n",
       "      <th>last_match</th>\n",
       "      <th>forlan</th>\n",
       "      <th>flg</th>\n",
       "    </tr>\n",
       "  </thead>\n",
       "  <tbody>\n",
       "    <tr>\n",
       "      <th>0</th>\n",
       "      <td>13994</td>\n",
       "      <td>18250.0</td>\n",
       "      <td>2012</td>\n",
       "      <td>Ｊ１</td>\n",
       "      <td>第１節第１日</td>\n",
       "      <td>03/10(土)</td>\n",
       "      <td>14:04</td>\n",
       "      <td>ベガルタ仙台</td>\n",
       "      <td>鹿島アントラーズ</td>\n",
       "      <td>ユアテックスタジアム仙台</td>\n",
       "      <td>...</td>\n",
       "      <td>宮城県仙台市泉区七北田字柳78</td>\n",
       "      <td>19694</td>\n",
       "      <td>3</td>\n",
       "      <td>土</td>\n",
       "      <td>1</td>\n",
       "      <td>4</td>\n",
       "      <td>2.508</td>\n",
       "      <td>0</td>\n",
       "      <td>0</td>\n",
       "      <td>0</td>\n",
       "    </tr>\n",
       "    <tr>\n",
       "      <th>1</th>\n",
       "      <td>13995</td>\n",
       "      <td>24316.0</td>\n",
       "      <td>2012</td>\n",
       "      <td>Ｊ１</td>\n",
       "      <td>第１節第１日</td>\n",
       "      <td>03/10(土)</td>\n",
       "      <td>14:04</td>\n",
       "      <td>名古屋グランパス</td>\n",
       "      <td>清水エスパルス</td>\n",
       "      <td>豊田スタジアム</td>\n",
       "      <td>...</td>\n",
       "      <td>愛知県豊田市千石町7-2</td>\n",
       "      <td>40000</td>\n",
       "      <td>3</td>\n",
       "      <td>土</td>\n",
       "      <td>1</td>\n",
       "      <td>4</td>\n",
       "      <td>5.332</td>\n",
       "      <td>0</td>\n",
       "      <td>0</td>\n",
       "      <td>0</td>\n",
       "    </tr>\n",
       "    <tr>\n",
       "      <th>2</th>\n",
       "      <td>13996</td>\n",
       "      <td>17066.0</td>\n",
       "      <td>2012</td>\n",
       "      <td>Ｊ１</td>\n",
       "      <td>第１節第１日</td>\n",
       "      <td>03/10(土)</td>\n",
       "      <td>14:04</td>\n",
       "      <td>ガンバ大阪</td>\n",
       "      <td>ヴィッセル神戸</td>\n",
       "      <td>万博記念競技場</td>\n",
       "      <td>...</td>\n",
       "      <td>大阪府吹田市千里万博公園5-2</td>\n",
       "      <td>21000</td>\n",
       "      <td>3</td>\n",
       "      <td>土</td>\n",
       "      <td>1</td>\n",
       "      <td>4</td>\n",
       "      <td>4.633</td>\n",
       "      <td>0</td>\n",
       "      <td>0</td>\n",
       "      <td>0</td>\n",
       "    </tr>\n",
       "    <tr>\n",
       "      <th>3</th>\n",
       "      <td>13997</td>\n",
       "      <td>29603.0</td>\n",
       "      <td>2012</td>\n",
       "      <td>Ｊ１</td>\n",
       "      <td>第１節第１日</td>\n",
       "      <td>03/10(土)</td>\n",
       "      <td>14:06</td>\n",
       "      <td>サンフレッチェ広島</td>\n",
       "      <td>浦和レッズ</td>\n",
       "      <td>エディオンスタジアム広島</td>\n",
       "      <td>...</td>\n",
       "      <td>広島県広島市安佐南区大塚西5-1-1</td>\n",
       "      <td>50000</td>\n",
       "      <td>3</td>\n",
       "      <td>土</td>\n",
       "      <td>1</td>\n",
       "      <td>4</td>\n",
       "      <td>5.928</td>\n",
       "      <td>0</td>\n",
       "      <td>0</td>\n",
       "      <td>0</td>\n",
       "    </tr>\n",
       "    <tr>\n",
       "      <th>4</th>\n",
       "      <td>13998</td>\n",
       "      <td>25353.0</td>\n",
       "      <td>2012</td>\n",
       "      <td>Ｊ１</td>\n",
       "      <td>第１節第１日</td>\n",
       "      <td>03/10(土)</td>\n",
       "      <td>14:04</td>\n",
       "      <td>コンサドーレ札幌</td>\n",
       "      <td>ジュビロ磐田</td>\n",
       "      <td>札幌ドーム</td>\n",
       "      <td>...</td>\n",
       "      <td>北海道札幌市豊平区羊ヶ丘1</td>\n",
       "      <td>39232</td>\n",
       "      <td>3</td>\n",
       "      <td>土</td>\n",
       "      <td>1</td>\n",
       "      <td>4</td>\n",
       "      <td>7.200</td>\n",
       "      <td>0</td>\n",
       "      <td>0</td>\n",
       "      <td>0</td>\n",
       "    </tr>\n",
       "  </tbody>\n",
       "</table>\n",
       "<p>5 rows × 51 columns</p>\n",
       "</div>"
      ],
      "text/plain": [
       "      id        y  year stage   match   gameday   time       home      away  \\\n",
       "0  13994  18250.0  2012    Ｊ１  第１節第１日  03/10(土)  14:04     ベガルタ仙台  鹿島アントラーズ   \n",
       "1  13995  24316.0  2012    Ｊ１  第１節第１日  03/10(土)  14:04   名古屋グランパス   清水エスパルス   \n",
       "2  13996  17066.0  2012    Ｊ１  第１節第１日  03/10(土)  14:04      ガンバ大阪   ヴィッセル神戸   \n",
       "3  13997  29603.0  2012    Ｊ１  第１節第１日  03/10(土)  14:06  サンフレッチェ広島     浦和レッズ   \n",
       "4  13998  25353.0  2012    Ｊ１  第１節第１日  03/10(土)  14:04   コンサドーレ札幌    ジュビロ磐田   \n",
       "\n",
       "        stadium  ...             address   capa  month week  match_num  \\\n",
       "0  ユアテックスタジアム仙台  ...     宮城県仙台市泉区七北田字柳78  19694      3    土          1   \n",
       "1       豊田スタジアム  ...        愛知県豊田市千石町7-2  40000      3    土          1   \n",
       "2       万博記念競技場  ...     大阪府吹田市千里万博公園5-2  21000      3    土          1   \n",
       "3  エディオンスタジアム広島  ...  広島県広島市安佐南区大塚西5-1-1  50000      3    土          1   \n",
       "4         札幌ドーム  ...       北海道札幌市豊平区羊ヶ丘1  39232      3    土          1   \n",
       "\n",
       "   tv_num     di last_match forlan flg  \n",
       "0       4  2.508          0      0   0  \n",
       "1       4  5.332          0      0   0  \n",
       "2       4  4.633          0      0   0  \n",
       "3       4  5.928          0      0   0  \n",
       "4       4  7.200          0      0   0  \n",
       "\n",
       "[5 rows x 51 columns]"
      ]
     },
     "execution_count": 81,
     "metadata": {},
     "output_type": "execute_result"
    }
   ],
   "source": [
    "train_tmp['flg'] = 0\n",
    "test_tmp['flg'] = 1\n",
    "\n",
    "#train_tmpとtest_newを結合する\n",
    "data_all = pd.concat([train_tmp,test_tmp])\n",
    "\n",
    "data_all.head()"
   ]
  },
  {
   "cell_type": "markdown",
   "id": "3b71435f",
   "metadata": {},
   "source": [
    "### データ前処理"
   ]
  },
  {
   "cell_type": "code",
   "execution_count": 8,
   "id": "6d533237",
   "metadata": {
    "collapsed": true
   },
   "outputs": [
    {
     "name": "stdout",
     "output_type": "stream",
     "text": [
      "      id  year stage    match   gameday   time       home       away  \\\n",
      "0  15822  2014    Ｊ１  第１８節第１日  08/02(土)  19:04     ベガルタ仙台  大宮アルディージャ   \n",
      "1  15823  2014    Ｊ１  第１８節第１日  08/02(土)  18:34   鹿島アントラーズ  サンフレッチェ広島   \n",
      "2  15824  2014    Ｊ１  第１８節第１日  08/02(土)  19:04      浦和レッズ    ヴィッセル神戸   \n",
      "3  15825  2014    Ｊ１  第１８節第１日  08/02(土)  19:03      柏レイソル   川崎フロンターレ   \n",
      "4  15827  2014    Ｊ１  第１８節第１日  08/02(土)  19:03  アルビレックス新潟     セレッソ大阪   \n",
      "\n",
      "          stadium                                tv  ...  away_02  away_03  \\\n",
      "0    ユアテックスタジアム仙台              スカパー！／スカパー！プレミアムサービス  ...    中村　北斗    今井　智基   \n",
      "1  県立カシマサッカースタジアム              スカパー！／スカパー！プレミアムサービス  ...     塩谷　司    千葉　和彦   \n",
      "2     埼玉スタジアム２００２  スカパー！／スカパー！プレミアムサービス／ＮＨＫ　ＢＳ１／テレ玉  ...    河本　裕之    増川　隆洋   \n",
      "3        日立柏サッカー場              スカパー！／スカパー！プレミアムサービス  ...   小宮山　尊信    實藤　友紀   \n",
      "4  デンカビッグスワンスタジアム              スカパー！／スカパー！プレミアムサービス  ...    藤本　康太    丸橋　祐介   \n",
      "\n",
      "  away_04  away_05 away_06 away_07   away_08 away_09 away_10  away_11  \n",
      "0   横山　知伸    高橋　祥平   橋本　晃司   和田　拓也     家長　昭博   富山　貴光    ムルジャ     ズラタン  \n",
      "1   水本　裕貴     柏　好文   柴﨑　晃誠   森﨑　和幸      山岸　智   石原　直樹  髙萩　洋次郎    佐藤　寿人  \n",
      "2    大屋　翼    橋本　英郎   杉浦　恭平    奥井　諒     高橋　峻希  小川　慶治朗   森岡　亮太  マルキーニョス  \n",
      "3   谷口　彰悟    登里　享平   大島　僚太   中村　憲剛    森谷　賢太郎   金久保　順    小林　悠   大久保　嘉人  \n",
      "4    安藤　淳    山下　達也   扇原　貴宏    山口　蛍  キム　ソンジュン   フォルラン   南野　拓実    杉本　健勇  \n",
      "\n",
      "[5 rows x 40 columns]\n"
     ]
    }
   ],
   "source": [
    "# test_newとcondetion_newをマージする\n",
    "test_tmp = pd.merge(test_new,condition_new,on='id',how='left')\n",
    "\n",
    "# test_tmpの確認\n",
    "print(test_tmp.head())\n",
    "print(test_tmp.shape)"
   ]
  },
  {
   "cell_type": "code",
   "execution_count": 12,
   "id": "e1d6d14f",
   "metadata": {
    "collapsed": true
   },
   "outputs": [
    {
     "name": "stdout",
     "output_type": "stream",
     "text": [
      "(351, 42)\n",
      "<class 'pandas.core.frame.DataFrame'>\n",
      "Int64Index: 351 entries, 0 to 350\n",
      "Data columns (total 42 columns):\n",
      " #   Column       Non-Null Count  Dtype  \n",
      "---  ------       --------------  -----  \n",
      " 0   id           351 non-null    int64  \n",
      " 1   year         351 non-null    int64  \n",
      " 2   stage        351 non-null    object \n",
      " 3   match        351 non-null    object \n",
      " 4   gameday      351 non-null    object \n",
      " 5   time         351 non-null    object \n",
      " 6   home         351 non-null    object \n",
      " 7   away         351 non-null    object \n",
      " 8   stadium      351 non-null    object \n",
      " 9   tv           351 non-null    object \n",
      " 10  home_score   351 non-null    int64  \n",
      " 11  away_score   351 non-null    int64  \n",
      " 12  weather      351 non-null    object \n",
      " 13  temperature  351 non-null    float64\n",
      " 14  humidity     351 non-null    object \n",
      " 15  referee      351 non-null    object \n",
      " 16  home_team    351 non-null    object \n",
      " 17  home_01      351 non-null    object \n",
      " 18  home_02      351 non-null    object \n",
      " 19  home_03      351 non-null    object \n",
      " 20  home_04      351 non-null    object \n",
      " 21  home_05      351 non-null    object \n",
      " 22  home_06      351 non-null    object \n",
      " 23  home_07      351 non-null    object \n",
      " 24  home_08      351 non-null    object \n",
      " 25  home_09      351 non-null    object \n",
      " 26  home_10      351 non-null    object \n",
      " 27  home_11      351 non-null    object \n",
      " 28  away_team    351 non-null    object \n",
      " 29  away_01      351 non-null    object \n",
      " 30  away_02      351 non-null    object \n",
      " 31  away_03      351 non-null    object \n",
      " 32  away_04      351 non-null    object \n",
      " 33  away_05      351 non-null    object \n",
      " 34  away_06      351 non-null    object \n",
      " 35  away_07      351 non-null    object \n",
      " 36  away_08      351 non-null    object \n",
      " 37  away_09      351 non-null    object \n",
      " 38  away_10      351 non-null    object \n",
      " 39  away_11      351 non-null    object \n",
      " 40  address      351 non-null    object \n",
      " 41  capa         351 non-null    int64  \n",
      "dtypes: float64(1), int64(5), object(36)\n",
      "memory usage: 117.9+ KB\n",
      "None\n"
     ]
    }
   ],
   "source": [
    "# test_tmpとstadiumをマージする\n",
    "test_tmp = pd.merge(test_tmp,stadium,left_on='stadium',right_on='name',how='left')\n",
    "\n",
    "# test_tmpの確認\n",
    "print(test_tmp.head())\n",
    "print(test_tmp.shape)\n",
    "\n",
    "# 重複しているカラムを削除\n",
    "test_tmp = test_tmp.drop(columns=['name'])\n",
    "\n",
    "# 確認\n",
    "print(test_tmp.shape)\n",
    "print(test_tmp.info())"
   ]
  },
  {
   "cell_type": "markdown",
   "id": "55a688e5",
   "metadata": {},
   "source": [
    "### 関数でデータを補正する"
   ]
  },
  {
   "cell_type": "code",
   "execution_count": 13,
   "id": "75ee8833",
   "metadata": {
    "collapsed": true
   },
   "outputs": [
    {
     "name": "stdout",
     "output_type": "stream",
     "text": [
      "[ 8  9 10 11 12]\n",
      "['土' '火' '日' '水' '月' '金']\n",
      "[18 19 20 21 22 23 24 25 26 27 28 29 30 31 32 33 34 35 36 37 38 39 40 41\n",
      " 42]\n",
      "[0.7  0.65 0.58 0.76 0.68]\n"
     ]
    }
   ],
   "source": [
    "# gamedayから月を抜き出してmonthカラムに設定する\n",
    "def get_month(x):\n",
    "    return int(x[0:2])\n",
    "\n",
    "# gamedayから曜日を抜き出してweekカラムに設定する\n",
    "def get_week(x):\n",
    "    return x[6:7]\n",
    "\n",
    "# matchから節数を抜き出してmatch_numカラムに設定する\n",
    "def get_match(x):\n",
    "    pos_s = 0\n",
    "    pos_e = 0\n",
    "    pos_s = x.find(\"第\")\n",
    "    pos_e = x.find(\"節\")\n",
    "    if pos_s != -1 and pos_e != -1:\n",
    "        pos_s += 1\n",
    "        return int(x[pos_s:pos_e])\n",
    "    else:\n",
    "        return 0\n",
    "\n",
    "# humidityの\"%\"を削除して小数に変換する\n",
    "def get_humidity(x):\n",
    "    return float(x.rstrip('%')) / 100\n",
    "\n",
    "# train_tmpにtv_numを追加して放送局数を設定する\n",
    "def get_tvnum(x):\n",
    "    return len(x.split('／'))\n",
    "\n",
    "test_tmp['tv_num'] = test_tmp['tv'].apply(get_tvnum)\n",
    "\n",
    "# 関数を呼び出す\n",
    "test_tmp['month'] = test_tmp['gameday'].apply(get_month)\n",
    "test_tmp['week'] = test_tmp['gameday'].apply(get_week)\n",
    "test_tmp['match_num'] = test_tmp['match'].apply(get_match)\n",
    "test_tmp['humidity'] = test_tmp['humidity'].apply(get_humidity)\n",
    "test_tmp['tv_num'] = test_tmp['tv'].apply(get_tvnum)\n",
    "\n",
    "# 確認する\n",
    "print(test_tmp['month'].unique())\n",
    "print(test_tmp['week'].unique())\n",
    "print(test_tmp['match_num'].unique())\n",
    "print(test_tmp['humidity'].head().unique())\n",
    "print(test_tmp['tv_num'].unique())"
   ]
  },
  {
   "cell_type": "code",
   "execution_count": 14,
   "id": "652e26a9",
   "metadata": {
    "collapsed": true
   },
   "outputs": [
    {
     "name": "stdout",
     "output_type": "stream",
     "text": [
      "id             0\n",
      "year           0\n",
      "stage          0\n",
      "match          0\n",
      "gameday        0\n",
      "time           0\n",
      "home           0\n",
      "away           0\n",
      "stadium        0\n",
      "tv             0\n",
      "home_score     0\n",
      "away_score     0\n",
      "weather        0\n",
      "temperature    0\n",
      "humidity       0\n",
      "referee        0\n",
      "home_team      0\n",
      "home_01        0\n",
      "home_02        0\n",
      "home_03        0\n",
      "home_04        0\n",
      "home_05        0\n",
      "home_06        0\n",
      "home_07        0\n",
      "home_08        0\n",
      "home_09        0\n",
      "home_10        0\n",
      "home_11        0\n",
      "away_team      0\n",
      "away_01        0\n",
      "away_02        0\n",
      "away_03        0\n",
      "away_04        0\n",
      "away_05        0\n",
      "away_06        0\n",
      "away_07        0\n",
      "away_08        0\n",
      "away_09        0\n",
      "away_10        0\n",
      "away_11        0\n",
      "address        0\n",
      "capa           0\n",
      "month          0\n",
      "week           0\n",
      "match_num      0\n",
      "dtype: int64\n"
     ]
    }
   ],
   "source": [
    "# test_tmpの欠損値を確認する\n",
    "print(test_tmp.isnull().sum())"
   ]
  },
  {
   "cell_type": "code",
   "execution_count": 16,
   "id": "526061ba",
   "metadata": {
    "collapsed": true
   },
   "outputs": [
    {
     "name": "stdout",
     "output_type": "stream",
     "text": [
      "カマタマーレ讃岐       10\n",
      "栃木ＳＣ           10\n",
      "京都サンガF.C.      10\n",
      "ザスパクサツ群馬       10\n",
      "ギラヴァンツ北九州       9\n",
      "湘南ベルマーレ         9\n",
      "ファジアーノ岡山        9\n",
      "ロアッソ熊本          9\n",
      "松本山雅ＦＣ          9\n",
      "ベガルタ仙台          9\n",
      "アビスパ福岡          9\n",
      "大分トリニータ         9\n",
      "ジェフユナイテッド千葉     9\n",
      "東京ヴェルディ         9\n",
      "Ｖ・ファーレン長崎       9\n",
      "水戸ホーリーホック       9\n",
      "カターレ富山          9\n",
      "鹿島アントラーズ        9\n",
      "横浜ＦＣ            9\n",
      "モンテディオ山形        9\n",
      "サガン鳥栖           9\n",
      "清水エスパルス         9\n",
      "アルビレックス新潟       9\n",
      "ガンバ大阪           9\n",
      "横浜Ｆ・マリノス        9\n",
      "徳島ヴォルティス        9\n",
      "大宮アルディージャ       9\n",
      "浦和レッズ           8\n",
      "柏レイソル           8\n",
      "ジュビロ磐田          8\n",
      "ＦＣ岐阜            8\n",
      "川崎フロンターレ        8\n",
      "セレッソ大阪          8\n",
      "ヴァンフォーレ甲府       8\n",
      "名古屋グランパス        8\n",
      "ヴィッセル神戸         8\n",
      "ＦＣ東京            8\n",
      "サンフレッチェ広島       8\n",
      "愛媛ＦＣ            8\n",
      "コンサドーレ札幌        8\n",
      "Name: home, dtype: int64\n",
      "ジュビロ磐田         10\n",
      "ＦＣ岐阜           10\n",
      "コンサドーレ札幌       10\n",
      "愛媛ＦＣ           10\n",
      "ロアッソ熊本          9\n",
      "アビスパ福岡          9\n",
      "ジェフユナイテッド千葉     9\n",
      "水戸ホーリーホック       9\n",
      "東京ヴェルディ         9\n",
      "Ｖ・ファーレン長崎       9\n",
      "カターレ富山          9\n",
      "大分トリニータ         9\n",
      "横浜ＦＣ            9\n",
      "湘南ベルマーレ         9\n",
      "松本山雅ＦＣ          9\n",
      "ファジアーノ岡山        9\n",
      "モンテディオ山形        9\n",
      "サンフレッチェ広島       9\n",
      "ギラヴァンツ北九州       9\n",
      "柏レイソル           9\n",
      "浦和レッズ           9\n",
      "ヴィッセル神戸         9\n",
      "ＦＣ東京            9\n",
      "川崎フロンターレ        9\n",
      "セレッソ大阪          9\n",
      "ヴァンフォーレ甲府       9\n",
      "名古屋グランパス        9\n",
      "京都サンガF.C.       8\n",
      "横浜Ｆ・マリノス        8\n",
      "ガンバ大阪           8\n",
      "カマタマーレ讃岐        8\n",
      "徳島ヴォルティス        8\n",
      "栃木ＳＣ            8\n",
      "ベガルタ仙台          8\n",
      "ザスパクサツ群馬        8\n",
      "鹿島アントラーズ        8\n",
      "アルビレックス新潟       8\n",
      "清水エスパルス         8\n",
      "サガン鳥栖           8\n",
      "大宮アルディージャ       8\n",
      "Name: away, dtype: int64\n"
     ]
    }
   ],
   "source": [
    "# チーム名の確認\n",
    "print(test_tmp['home'].value_counts())\n",
    "print(test_tmp['away'].value_counts())\n"
   ]
  },
  {
   "cell_type": "code",
   "execution_count": 18,
   "id": "55ed0e5f",
   "metadata": {
    "collapsed": true
   },
   "outputs": [
    {
     "name": "stdout",
     "output_type": "stream",
     "text": [
      "0    311\n",
      "1     40\n",
      "Name: last_match, dtype: int64\n"
     ]
    },
    {
     "name": "stderr",
     "output_type": "stream",
     "text": [
      "C:\\Users\\cax68\\AppData\\Local\\Temp\\ipykernel_14708\\1330854909.py:3: SettingWithCopyWarning: \n",
      "A value is trying to be set on a copy of a slice from a DataFrame\n",
      "\n",
      "See the caveats in the documentation: https://pandas.pydata.org/pandas-docs/stable/user_guide/indexing.html#returning-a-view-versus-a-copy\n",
      "  test_tmp['last_match'][((test_tmp['match_num'] == 33) | (test_tmp['match_num'] == 34)) & (test_tmp['stage'] == 'Ｊ１')] = 1\n",
      "C:\\Users\\cax68\\AppData\\Local\\Temp\\ipykernel_14708\\1330854909.py:4: SettingWithCopyWarning: \n",
      "A value is trying to be set on a copy of a slice from a DataFrame\n",
      "\n",
      "See the caveats in the documentation: https://pandas.pydata.org/pandas-docs/stable/user_guide/indexing.html#returning-a-view-versus-a-copy\n",
      "  test_tmp['last_match'][((test_tmp['match_num'] == 41) | (test_tmp['match_num'] == 42)) & (test_tmp['stage'] == 'Ｊ２')] = 1\n"
     ]
    }
   ],
   "source": [
    "# 最後の２節であることを表すlast_matchカラムを作成する\n",
    "test_tmp['last_match'] = 0\n",
    "test_tmp['last_match'][((test_tmp['match_num'] == 33) | (test_tmp['match_num'] == 34)) & (test_tmp['stage'] == 'Ｊ１')] = 1\n",
    "test_tmp['last_match'][((test_tmp['match_num'] == 41) | (test_tmp['match_num'] == 42)) & (test_tmp['stage'] == 'Ｊ２')] = 1\n",
    "\n",
    "# last_matchカラムが作成できたか確認して、last_matchに該当する(1になっている)試合数を変数chkに入力してください。\n",
    "print(test_tmp['last_match'].value_counts())\n"
   ]
  },
  {
   "cell_type": "code",
   "execution_count": 19,
   "id": "b2dba7e0",
   "metadata": {
    "collapsed": true
   },
   "outputs": [
    {
     "name": "stdout",
     "output_type": "stream",
     "text": [
      "0    342\n",
      "1      9\n",
      "Name: forlan, dtype: int64\n"
     ]
    },
    {
     "name": "stderr",
     "output_type": "stream",
     "text": [
      "C:\\Users\\cax68\\AppData\\Local\\Temp\\ipykernel_14708\\301285794.py:3: SettingWithCopyWarning: \n",
      "A value is trying to be set on a copy of a slice from a DataFrame\n",
      "\n",
      "See the caveats in the documentation: https://pandas.pydata.org/pandas-docs/stable/user_guide/indexing.html#returning-a-view-versus-a-copy\n",
      "  test_tmp['forlan'][(test_tmp['year'] == 2014) & (test_tmp['away']==\"セレッソ大阪\")] = 1\n"
     ]
    }
   ],
   "source": [
    "# 2014年のawayがセレッソ大阪の試合を1にそれ以外を0にしたforlanカラムを作成\n",
    "test_tmp['forlan'] = 0\n",
    "test_tmp['forlan'][(test_tmp['year'] == 2014) & (test_tmp['away']==\"セレッソ大阪\")] = 1\n",
    "\n",
    "# forlanカラムが作成できたかを確認\n",
    "print(test_tmp['forlan'].value_counts())\n"
   ]
  },
  {
   "cell_type": "markdown",
   "id": "fb16c596",
   "metadata": {},
   "source": [
    "### モデル作成"
   ]
  },
  {
   "cell_type": "code",
   "execution_count": 22,
   "id": "faaf2a01",
   "metadata": {},
   "outputs": [],
   "source": [
    "# train_tmp,train_dummy,train_dummy_1,train_dummy_2をCSVから読み込む。\n",
    "train_tmp = pd.read_csv('train_tmp.csv')\n",
    "train_dummy = pd.read_csv('train_dummy.csv')\n",
    "train_dummy_1 = pd.read_csv('train_dummy_1.csv')\n",
    "train_dummy_2 = pd.read_csv('train_dummy_2.csv')"
   ]
  },
  {
   "cell_type": "code",
   "execution_count": 26,
   "id": "9b972ac6",
   "metadata": {
    "collapsed": true
   },
   "outputs": [
    {
     "name": "stdout",
     "output_type": "stream",
     "text": [
      "0    1872\n",
      "1      80\n",
      "Name: last_match, dtype: int64\n"
     ]
    },
    {
     "name": "stderr",
     "output_type": "stream",
     "text": [
      "C:\\Users\\cax68\\AppData\\Local\\Temp\\ipykernel_14708\\3346447374.py:3: SettingWithCopyWarning: \n",
      "A value is trying to be set on a copy of a slice from a DataFrame\n",
      "\n",
      "See the caveats in the documentation: https://pandas.pydata.org/pandas-docs/stable/user_guide/indexing.html#returning-a-view-versus-a-copy\n",
      "  train_tmp['last_match'][((train_tmp['match_num'] == 33) | (train_tmp['match_num'] == 34)) & (train_tmp['stage'] == 'Ｊ１')] = 1\n",
      "C:\\Users\\cax68\\AppData\\Local\\Temp\\ipykernel_14708\\3346447374.py:4: SettingWithCopyWarning: \n",
      "A value is trying to be set on a copy of a slice from a DataFrame\n",
      "\n",
      "See the caveats in the documentation: https://pandas.pydata.org/pandas-docs/stable/user_guide/indexing.html#returning-a-view-versus-a-copy\n",
      "  train_tmp['last_match'][((train_tmp['match_num'] == 41) | (train_tmp['match_num'] == 42)) & (train_tmp['stage'] == 'Ｊ２')] = 1\n"
     ]
    }
   ],
   "source": [
    "# 最後の２節であることを表すlast_matchカラムを作成する\n",
    "train_tmp['last_match'] = 0\n",
    "train_tmp['last_match'][((train_tmp['match_num'] == 33) | (train_tmp['match_num'] == 34)) & (train_tmp['stage'] == 'Ｊ１')] = 1\n",
    "train_tmp['last_match'][((train_tmp['match_num'] == 41) | (train_tmp['match_num'] == 42)) & (train_tmp['stage'] == 'Ｊ２')] = 1\n",
    "\n",
    "# last_matchカラムが作成できたか確認して、last_matchに該当する(1になっている)試合数を変数chkに入力してください。\n",
    "print(train_tmp['last_match'].value_counts())\n"
   ]
  },
  {
   "cell_type": "code",
   "execution_count": 27,
   "id": "bb9296b4",
   "metadata": {},
   "outputs": [
    {
     "name": "stdout",
     "output_type": "stream",
     "text": [
      "0    1944\n",
      "1       8\n",
      "Name: forlan, dtype: int64\n"
     ]
    },
    {
     "name": "stderr",
     "output_type": "stream",
     "text": [
      "C:\\Users\\cax68\\AppData\\Local\\Temp\\ipykernel_14708\\3175350377.py:3: SettingWithCopyWarning: \n",
      "A value is trying to be set on a copy of a slice from a DataFrame\n",
      "\n",
      "See the caveats in the documentation: https://pandas.pydata.org/pandas-docs/stable/user_guide/indexing.html#returning-a-view-versus-a-copy\n",
      "  train_tmp['forlan'][(train_tmp['year'] == 2014) & (train_tmp['away']==\"セレッソ大阪\")] = 1\n"
     ]
    }
   ],
   "source": [
    "# 2014年のawayがセレッソ大阪の試合を1にそれ以外を0にしたforlanカラムを作成\n",
    "train_tmp['forlan'] = 0\n",
    "train_tmp['forlan'][(train_tmp['year'] == 2014) & (train_tmp['away']==\"セレッソ大阪\")] = 1\n",
    "\n",
    "# forlanカラムが作成できたかを確認\n",
    "print(train_tmp['forlan'].value_counts())\n"
   ]
  },
  {
   "cell_type": "code",
   "execution_count": 94,
   "id": "94b763ae",
   "metadata": {},
   "outputs": [
    {
     "name": "stdout",
     "output_type": "stream",
     "text": [
      "0       18250.0\n",
      "1       24316.0\n",
      "2       17066.0\n",
      "3       29603.0\n",
      "4       25353.0\n",
      "         ...   \n",
      "1947     5776.0\n",
      "1948     3865.0\n",
      "1949     6420.0\n",
      "1950     3711.0\n",
      "1951     2221.0\n",
      "Name: y, Length: 1952, dtype: float64\n"
     ]
    }
   ],
   "source": [
    "y_1 = train_dummy['y']\n",
    "print(y_1)\n"
   ]
  },
  {
   "cell_type": "code",
   "execution_count": 93,
   "id": "a0dd3b89",
   "metadata": {
    "collapsed": true
   },
   "outputs": [
    {
     "name": "stdout",
     "output_type": "stream",
     "text": [
      "8741.0    3\n",
      "9237.0    2\n",
      "3230.0    2\n",
      "6516.0    2\n",
      "2781.0    2\n",
      "         ..\n",
      "6585.0    1\n",
      "6144.0    1\n",
      "3173.0    1\n",
      "3564.0    1\n",
      "2221.0    1\n",
      "Name: y, Length: 1849, dtype: int64\n",
      "<class 'pandas.core.series.Series'>\n",
      "Int64Index: 351 entries, 0 to 350\n",
      "Series name: y\n",
      "Non-Null Count  Dtype  \n",
      "--------------  -----  \n",
      "0 non-null      float64\n",
      "dtypes: float64(1)\n",
      "memory usage: 5.5 KB\n",
      "None\n"
     ]
    }
   ],
   "source": [
    "# last_matchとforlanカラムを加える\n",
    "#select_columns = ['id','y','capa','week','home','away','month','stage','tv_num','weather','last_match','forlan','flg']\n",
    "#data_dummy = pd.get_dummies(data_all[select_columns],drop_first=True)\n",
    "\n",
    "#train_dummy = data_dummy[data_dummy['flg'] == 0]\n",
    "#test_dummy = data_dummy[data_dummy['flg'] == 1]\n",
    "\n",
    "print(train_dummy['y'].value_counts())\n",
    "print(test_dummy['y'].info())"
   ]
  },
  {
   "cell_type": "code",
   "execution_count": 95,
   "id": "66257599",
   "metadata": {},
   "outputs": [
    {
     "name": "stdout",
     "output_type": "stream",
     "text": [
      "2921.645060291492\n",
      "3180.2025205572463\n"
     ]
    }
   ],
   "source": [
    "# last_matchとforlanカラムを加える\n",
    "#select_columns = ['id','y','capa','week','home','away','month','stage','tv_num','weather','last_match','forlan','flg']\n",
    "#data_dummy = pd.get_dummies(data_all[select_columns],drop_first=True)\n",
    "\n",
    "\n",
    "y_1 = train_dummy['y']\n",
    "train_dummy = train_dummy.drop(columns=['id','y'])\n",
    "\n",
    "X_train,X_test,y_train,y_test = train_test_split(train_dummy, y_1, random_state = 1234)\n",
    "\n",
    "# モデルの作成\n",
    "lr = LinearRegression()\n",
    "# モデルの学習\n",
    "lr.fit(X_train,y_train)\n",
    "\n",
    "#訓練データの予測・精度評価\n",
    "y_train_pred = lr.predict(X_train)\n",
    "rmse_train = np.sqrt(MSE(y_train,y_train_pred))\n",
    "print(rmse_train)\n",
    "\n",
    "#テストデータの予測・精度評価\n",
    "y_test_pred = lr.predict(X_test)\n",
    "rmse_test = np.sqrt(MSE(y_test,y_test_pred))\n",
    "print(rmse_test)"
   ]
  },
  {
   "cell_type": "code",
   "execution_count": 96,
   "id": "4434e8a0",
   "metadata": {},
   "outputs": [
    {
     "name": "stdout",
     "output_type": "stream",
     "text": [
      "[13191.18853595 18204.48298351 36240.12109047 12319.42791905\n",
      " 36282.35485531 14092.08016631  2584.70372664 13738.07801106\n",
      " 13460.10073756 22254.70750386 27361.2609876   9888.55818945\n",
      " 22519.48377554 13321.72501597 14543.7147324  12119.30909629\n",
      " 37414.1845346  10097.66073985 23243.99943093 16048.30040505\n",
      "  5851.48074002 12974.30139654 27798.8262545   9863.30352969\n",
      " 30022.88933839 15897.82051114 22188.02992167 16140.98385183\n",
      " 17487.3559659  11880.89898513 13825.17017684 27024.91842343\n",
      " 16157.22580174 35753.57167038  8863.62302977 15436.66999841\n",
      " 13438.48926096 14933.17557499 14608.01808501 22651.82617634\n",
      "  8883.62558128 12676.16454386 23449.16568449 14552.71954929\n",
      " 28879.48629243 11195.04871301 28254.56612273 23879.94640264\n",
      " 20464.96068891 15490.64528981 37169.64314028 16801.85110427\n",
      " 11735.47588372 26217.67797062 17469.44261544 16167.67194118\n",
      "  5139.2297812  11163.0354584  17375.41032111 11289.48272277\n",
      " 22392.65495442 30234.72043028 10885.52118473 31542.55145151\n",
      " 19277.58603791 25300.91721875 11189.9918984  24094.02322279\n",
      " 14467.63323108  9381.28811294 14931.0080218  10538.37334688\n",
      " 29712.86503712 15056.37510714 12996.80346334 18390.63791616\n",
      " 32487.77132264 11762.58160541  8505.70747596 24105.53224741\n",
      " 23589.6019994  14196.25554943 20758.48578789 16439.71237024\n",
      " 11458.36581022 28483.95006122 23248.78188825 17368.75703851\n",
      "  6059.74280104 24783.12443841 30609.06082973 11523.47839963\n",
      " 10226.85665741  8430.80884    12908.34607166  7013.422131\n",
      " 21895.73488514 11651.7589643  12400.4182367  14430.00453022\n",
      " 15398.12482911 11986.77888865  7707.55404991 12697.75355674\n",
      " 38845.70740861 12139.20097534  8865.20154176 25445.2349835\n",
      " 14340.86343504 12771.80657359 12169.71941068 16952.96783869\n",
      " 19889.31183101 13998.02455381 17655.71898959 42155.7308502\n",
      " 11306.88877897 25197.07681367 14721.71172312 15864.38224755\n",
      " 14956.89032712 14560.26830144 15790.77687439 21363.87950471\n",
      " 31527.73220768 16397.37336859 21687.8186344  18439.65971737\n",
      " 29693.11238364 23313.87429864 19896.32705734 42666.78957486\n",
      " 25936.51105482 29233.14448513 28972.84776413 16412.54018803\n",
      " 18572.3828879  18298.8373771  15562.90596475  7200.89523985\n",
      "  3665.87595133  5108.3094022   3543.40075479  5466.31904475\n",
      "  8018.11263924  5485.83619068  7122.9379723   6291.90862269\n",
      "  4041.79249676  8744.27110432  3070.05781271  5433.12120983\n",
      " 10106.3998979  11377.27087199  6751.96841814  9453.36639963\n",
      "  7788.25085941  5307.53935302 -4933.05755194  5198.21291146\n",
      "  4418.31916532  3258.10073973  5547.60562814  8081.62255706\n",
      "  7764.06225366  7319.37481547  3737.00631158  8077.60886517\n",
      " 11878.62086034  2107.51209071  3723.42472149  4372.11084175\n",
      "  3430.93320786  8463.16567965  9118.19375574  6858.53775525\n",
      " 11726.64391205  8290.93674266  5937.54726908  6719.84726397\n",
      "  3038.58448291  4718.36776127  9293.3353981   8621.41787739\n",
      "  6891.08097977  4034.89846516  7922.78695959  3576.96756937\n",
      " 12452.72604014  5464.49453737  3651.02715155  4463.22129434\n",
      "  5235.04062724  8667.90591779  4511.57144822  6658.89025416\n",
      "  8772.48864249  3790.78132068  9422.6781691   4634.84960202\n",
      "  4053.13354359  8550.34837215 10609.59446132  4507.63967472\n",
      "  7642.12187903  4435.33292603  5159.11650626  9063.83496769\n",
      "  5489.95888363  8190.69855213  5374.37287349 10091.20558133\n",
      "  5862.04840209  7759.94531208  8630.39382599  8610.65906627\n",
      "  7219.06176562  9673.56936642 12500.94623086  6653.80183878\n",
      "  5715.15958573  7016.07014431  7144.649086   10004.68263825\n",
      "  5041.20600192  6873.70275351  3099.42359656  6553.32585986\n",
      "  3361.21528558 10235.22705546  8226.19144698 12120.11140662\n",
      "  4430.39659303 10056.01959824  8571.34676751  6631.45812546\n",
      " 10052.47503254  5989.43181469  4826.21244486 10159.9563351\n",
      "  8036.25676389  6972.95499793  4517.42427023  3544.8061418\n",
      " 11149.80220006  4720.80621646  5012.59349931  7781.43533313\n",
      "  8411.25255791  4443.05085856  4182.16307575  8441.83354146\n",
      " 11783.07184088  9993.99555955  8770.17361314  6991.42649224\n",
      "  5680.94874325 10155.89142228  5986.12084116  8599.66477043\n",
      "  5678.25798228  8634.7981607   5747.08192613  4353.36724792\n",
      "  8757.4720506   9496.32113394  6135.68069632  9512.5615555\n",
      "  3880.85244857  5915.30735875 10231.72918088  8525.6686927\n",
      "  3978.73869104  4548.50420592  8961.41136314  5641.74920577\n",
      "  6619.42510051  6504.50263059  4560.27815963  9691.14432773\n",
      "  3361.9795086   5819.95432826 11400.42169654  5727.69109042\n",
      "  3258.80563501  3545.55455519  5638.52137625 10876.90703553\n",
      "  6999.25949775  4800.51940063  6115.26103985  2661.96582702\n",
      "  9074.91804071  8960.96008951 13521.24353128 10498.79438436\n",
      " 14617.66853702 14542.23188856 11464.77344784 13357.89259917\n",
      "  8422.29589659  7622.46727921 11649.79332059 10559.9305158\n",
      " 16758.98701459 11712.8245736   7255.94289446 14688.53883478\n",
      "  7679.05593093 12349.26029527  7910.67674885  9824.48617015\n",
      " 14860.31554105 24709.68811846 12667.7648044  23610.9768025\n",
      " 14897.71010267 23049.19063731 11530.29661126 14644.36414477\n",
      " 13256.14897032 16321.60274528 21512.11284111 14359.65691208\n",
      " 34003.25038792 26471.61259785  6351.301956    9371.52420579\n",
      "  3744.877688   12035.20758767  1856.97981291  4155.80338829\n",
      "  3581.90707836  5071.49628253  6463.6267324  10648.18725401\n",
      "  4710.64332028  5169.42082238  9154.12968057 -1055.06725346\n",
      "  4495.59524656  4031.82450247 13138.03257934  4441.30394106\n",
      "  4478.27088715 10001.50145103  5421.80603868  4144.12096782\n",
      "  8155.18991405  8973.51851989  9106.79654164]\n"
     ]
    }
   ],
   "source": [
    "# 評価データで予測する\n",
    "#select_columns = ['id','y','capa','week','home','away','month','stage','tv_num','weather','last_match','forlan']\n",
    "#test_dummy = pd.get_dummies(test_dat[select_columns],drop_first=True)\n",
    "\n",
    "test_dummy = test_dummy.drop(columns=['id','y'])\n",
    "\n",
    "test_pred = lr.predict(test_dummy)\n",
    "\n",
    "print(test_pred)"
   ]
  },
  {
   "cell_type": "code",
   "execution_count": 103,
   "id": "6d9a075b",
   "metadata": {},
   "outputs": [],
   "source": [
    "sample['y'] = test_pred[0:313]\n",
    "sample.to_csv('sample.csv',header=False,index=False)"
   ]
  },
  {
   "cell_type": "code",
   "execution_count": null,
   "id": "e34f2dd9",
   "metadata": {},
   "outputs": [],
   "source": []
  }
 ],
 "metadata": {
  "kernelspec": {
   "display_name": "Python 3 (ipykernel)",
   "language": "python",
   "name": "python3"
  },
  "language_info": {
   "codemirror_mode": {
    "name": "ipython",
    "version": 3
   },
   "file_extension": ".py",
   "mimetype": "text/x-python",
   "name": "python",
   "nbconvert_exporter": "python",
   "pygments_lexer": "ipython3",
   "version": "3.9.7"
  }
 },
 "nbformat": 4,
 "nbformat_minor": 5
}

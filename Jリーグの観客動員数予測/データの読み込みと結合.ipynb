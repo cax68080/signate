{
 "cells": [
  {
   "cell_type": "markdown",
   "id": "3868c956",
   "metadata": {},
   "source": [
    "### ライブラリのインポート"
   ]
  },
  {
   "cell_type": "code",
   "execution_count": 1,
   "id": "8096b4c6",
   "metadata": {},
   "outputs": [],
   "source": [
    "import numpy as np\n",
    "import pandas as pd\n",
    "from matplotlib import pyplot as plt"
   ]
  },
  {
   "cell_type": "markdown",
   "id": "4ce7ead6",
   "metadata": {},
   "source": [
    "### CSVファイルの読み込み"
   ]
  },
  {
   "cell_type": "code",
   "execution_count": 21,
   "id": "2d3b8af0",
   "metadata": {
    "collapsed": true
   },
   "outputs": [
    {
     "name": "stdout",
     "output_type": "stream",
     "text": [
      "   15822  10662.3951191\n",
      "0  15823   10662.395119\n",
      "1  15824   10662.395119\n",
      "2  15825   10662.395119\n",
      "3  15827   10662.395119\n",
      "4  15828   10662.395119\n",
      "      id      y  year stage   match   gameday   time       home      away  \\\n",
      "0  13994  18250  2012    Ｊ１  第１節第１日  03/10(土)  14:04     ベガルタ仙台  鹿島アントラーズ   \n",
      "1  13995  24316  2012    Ｊ１  第１節第１日  03/10(土)  14:04   名古屋グランパス   清水エスパルス   \n",
      "2  13996  17066  2012    Ｊ１  第１節第１日  03/10(土)  14:04      ガンバ大阪   ヴィッセル神戸   \n",
      "3  13997  29603  2012    Ｊ１  第１節第１日  03/10(土)  14:06  サンフレッチェ広島     浦和レッズ   \n",
      "4  13998  25353  2012    Ｊ１  第１節第１日  03/10(土)  14:04   コンサドーレ札幌    ジュビロ磐田   \n",
      "\n",
      "        stadium                                  tv  \n",
      "0  ユアテックスタジアム仙台                 スカパー／ｅ２／スカパー光／ＮＨＫ総合  \n",
      "1       豊田スタジアム    スカパー／ｅ２／スカパー光（Ｊ　ＳＰＯＲＴＳ　４）／ＮＨＫ名古屋  \n",
      "2       万博記念競技場     スカパー／ｅ２／スカパー光（Ｊ　ＳＰＯＲＴＳ　１）／ＮＨＫ大阪  \n",
      "3  エディオンスタジアム広島                 スカパー／ｅ２／スカパー光／ＮＨＫ広島  \n",
      "4         札幌ドーム  スカパー／ｅ２／スカパー光（スカイ・Ａ　ｓｐｏｒｔｓ＋）／ＮＨＫ札幌  \n",
      "      id  year stage    match   gameday   time       home       away  \\\n",
      "0  15822  2014    Ｊ１  第１８節第１日  08/02(土)  19:04     ベガルタ仙台  大宮アルディージャ   \n",
      "1  15823  2014    Ｊ１  第１８節第１日  08/02(土)  18:34   鹿島アントラーズ  サンフレッチェ広島   \n",
      "2  15824  2014    Ｊ１  第１８節第１日  08/02(土)  19:04      浦和レッズ    ヴィッセル神戸   \n",
      "3  15825  2014    Ｊ１  第１８節第１日  08/02(土)  19:03      柏レイソル   川崎フロンターレ   \n",
      "4  15827  2014    Ｊ１  第１８節第１日  08/02(土)  19:03  アルビレックス新潟     セレッソ大阪   \n",
      "\n",
      "          stadium                                tv  \n",
      "0    ユアテックスタジアム仙台              スカパー！／スカパー！プレミアムサービス  \n",
      "1  県立カシマサッカースタジアム              スカパー！／スカパー！プレミアムサービス  \n",
      "2     埼玉スタジアム２００２  スカパー！／スカパー！プレミアムサービス／ＮＨＫ　ＢＳ１／テレ玉  \n",
      "3        日立柏サッカー場              スカパー！／スカパー！プレミアムサービス  \n",
      "4  デンカビッグスワンスタジアム              スカパー！／スカパー！プレミアムサービス  \n",
      "      id      y  year stage    match   gameday   time      home      away  \\\n",
      "0  14003  19010  2012    Ｊ１   第２節第１日  03/17(土)  14:04  鹿島アントラーズ  川崎フロンターレ   \n",
      "1  14020  15072  2012    Ｊ１   第３節第２日  03/25(日)  19:03     ガンバ大阪    ジュビロ磐田   \n",
      "2  14023  25743  2012    Ｊ１   第４節第１日  03/31(土)  15:03     浦和レッズ  川崎フロンターレ   \n",
      "3  14076  24183  2012    Ｊ１  第１０節第１日  05/06(日)  13:03  横浜Ｆ・マリノス  コンサドーレ札幌   \n",
      "4  14081  20512  2012    Ｊ１  第１０節第１日  05/06(日)  17:03  名古屋グランパス  川崎フロンターレ   \n",
      "\n",
      "          stadium                                   tv  \n",
      "0  県立カシマサッカースタジアム                  スカパー／ｅ２／スカパー光／ＮＨＫ水戸  \n",
      "1         万博記念競技場                        スカパー／ｅ２／スカパー光  \n",
      "2     埼玉スタジアム２００２                    スカパー／ｅ２／スカパー光／テレ玉  \n",
      "3         日産スタジアム                        スカパー／ｅ２／スカパー光  \n",
      "4         豊田スタジアム  スカパー／ｅ２／スカパー光（Ｊ　ＳＰＯＲＴＳ　４）／名古屋テレビ（録）  \n",
      "      id  year stage    match   gameday   time       home      away  \\\n",
      "0  15826  2014    Ｊ１  第１８節第１日  08/02(土)  18:34       ＦＣ東京   清水エスパルス   \n",
      "1  15835  2014    Ｊ１  第１９節第１日  08/09(土)  18:04    清水エスパルス  徳島ヴォルティス   \n",
      "2  15837  2014    Ｊ１  第１９節第１日  08/09(土)  19:04     セレッソ大阪      ＦＣ東京   \n",
      "3  15839  2014    Ｊ１  第１９節第２日  08/11(月)  19:04  サンフレッチェ広島     サガン鳥栖   \n",
      "4  15872  2014    Ｊ１  第２３節第１日  09/13(土)  19:04  アルビレックス新潟    ベガルタ仙台   \n",
      "\n",
      "          stadium                             tv  \n",
      "0        味の素スタジアム  スカパー！／スカパー！プレミアムサービス／ＴＯＫＹＯ　ＭＸ  \n",
      "1     ＩＡＩスタジアム日本平           スカパー！／スカパー！プレミアムサービス  \n",
      "2     ヤンマースタジアム長居           スカパー！／スカパー！プレミアムサービス  \n",
      "3    エディオンスタジアム広島           スカパー！／スカパー！プレミアムサービス  \n",
      "4  デンカビッグスワンスタジアム           スカパー！／スカパー！プレミアムサービス  \n",
      "      id  home_score  away_score  weather  temperature humidity referee  \\\n",
      "0  13994           1           0        雨          3.8      66%   木村　博之   \n",
      "1  13995           1           0       屋内         12.4      43%   西村　雄一   \n",
      "2  13996           2           3     晴一時雨         11.3      41%   高山　啓義   \n",
      "3  13997           1           0  曇一時雨のち晴         11.4      52%    松尾　一   \n",
      "4  13998           0           0       屋内         22.5      32%    廣瀬　格   \n",
      "\n",
      "   home_team home_01 home_02  ... away_02   away_03        away_04 away_05  \\\n",
      "0     ベガルタ仙台    林　卓人   菅井　直樹  ...   新井場　徹     岩政　大樹          中田　浩二   アレックス   \n",
      "1   名古屋グランパス   楢﨑　正剛   田中　隼磨  ...    吉田　豊     岩下　敬輔  カルフィン　ヨン　ア　ピン    李　記帝   \n",
      "2      ガンバ大阪  藤ヶ谷　陽介    加地　亮  ...   近藤　岳登    北本　久仁衛         伊野波　雅彦   相馬　崇人   \n",
      "3  サンフレッチェ広島   西川　周作   森脇　良太  ...   濱田　水輝     阿部　勇樹          槙野　智章   平川　忠亮   \n",
      "4   コンサドーレ札幌    李　昊乗   高木　純平  ...   駒野　友一  チョ　ビョングク          藤田　義明   山本　脩斗   \n",
      "\n",
      "  away_06 away_07 away_08 away_09 away_10 away_11  \n",
      "0    青木　剛   増田　誓志  小笠原　満男   本山　雅志   大迫　勇也  ジュニーニョ  \n",
      "1   村松　大輔   河井　陽介   枝村　匠馬   高木　俊幸   アレックス   大前　元紀  \n",
      "2   三原　雅俊   田中　英雄   野沢　拓也   橋本　英郎   森岡　亮太  大久保　嘉人  \n",
      "3   鈴木　啓太   山田　直輝    梅崎　司   柏木　陽介   原口　元気   田中　達也  \n",
      "4   小林　裕紀   山本　康裕   山田　大記   松浦　拓弥    菅沼　実   前田　遼一  \n",
      "\n",
      "[5 rows x 31 columns]\n",
      "      id  home_score  away_score weather  temperature humidity referee  \\\n",
      "0  14003           0           1       雨         13.3      86%   西村　雄一   \n",
      "1  14020           1           2       曇          4.6      56%   家本　政明   \n",
      "2  14023           1           1       雨         10.0      65%   家本　政明   \n",
      "3  14076           2           1       晴         27.9      47%   今村　義朗   \n",
      "4  14081           2           3       晴         19.0      48%   吉田　寿光   \n",
      "\n",
      "  home_team home_01 home_02  ... away_02   away_03 away_04 away_05 away_06  \\\n",
      "0  鹿島アントラーズ   曽ヶ端　準   新井場　徹  ...   實藤　友紀       ジェシ    森下　俊  小宮山　尊信   中村　憲剛   \n",
      "1     ガンバ大阪  藤ヶ谷　陽介    加地　亮  ...   駒野　友一  チョ　ビョングク   藤田　義明    金沢　浄   小林　裕紀   \n",
      "2     浦和レッズ   加藤　順大   坪井　慶介  ...   田中　裕介       ジェシ    森下　俊  小宮山　尊信   中村　憲剛   \n",
      "3  横浜Ｆ・マリノス   飯倉　大樹   小林　祐三  ...   日高　拓磨  ジェイド　ノース   櫛引　一紀   岩沼　俊介   河合　竜二   \n",
      "4  名古屋グランパス   楢﨑　正剛   石櫃　洋祐  ...   田中　裕介     井川　祐輔    森下　俊   登里　享平   稲本　潤一   \n",
      "\n",
      "  away_07 away_08 away_09 away_10 away_11  \n",
      "0   柴崎　晃誠   田坂　祐介   山瀬　功治     レナト    小松　塁  \n",
      "1   山本　康裕   山田　大記   松浦　拓弥    菅沼　実   前田　遼一  \n",
      "2   柴崎　晃誠   田坂　祐介   山瀬　功治     レナト    小松　塁  \n",
      "3   宮澤　裕樹   古田　寛幸   近藤　祐介   高木　純平   前田　俊介  \n",
      "4   中村　憲剛   大島　僚太   田坂　祐介   楠神　順平   矢島　卓郎  \n",
      "\n",
      "[5 rows x 31 columns]\n",
      "          name           address   capa\n",
      "0  名古屋市瑞穂陸上競技場  愛知県名古屋市瑞穂区山下通5-1  20000\n",
      "1      豊田スタジアム      愛知県豊田市千石町7-2  40000\n",
      "2    フクダ電子アリーナ  千葉県千葉市中央区川崎町1-20  18500\n",
      "3     日立柏サッカー場    千葉県柏市日立台1-2-50  15349\n",
      "4   ニンジニアスタジアム      愛媛県松山市上野町乙46  15576\n"
     ]
    }
   ],
   "source": [
    "sample = pd.read_csv('sample_submit.csv')\n",
    "train = pd.read_csv('train.csv')\n",
    "test = pd.read_csv('test.csv')\n",
    "train_add = pd.read_csv('train_add.csv')\n",
    "_2014_add = pd.read_csv('2014_add.csv')\n",
    "condition = pd.read_csv('condition.csv')\n",
    "condition_add = pd.read_csv('condition_add.csv')\n",
    "stadium = pd.read_csv('stadium.csv')\n",
    "\n",
    "# 確認\n",
    "print(sample.head())\n",
    "print(train.head())\n",
    "print(test.head())\n",
    "print(train_add.head())\n",
    "print(_2014_add.head())\n",
    "print(condition.head())\n",
    "print(condition_add.head())\n",
    "print(stadium.head())"
   ]
  },
  {
   "cell_type": "code",
   "execution_count": 6,
   "id": "45c53c04",
   "metadata": {
    "collapsed": true
   },
   "outputs": [
    {
     "name": "stdout",
     "output_type": "stream",
     "text": [
      "sample :  (312, 2)\n",
      "train :  (1721, 11)\n",
      "test :  (313, 10)\n",
      "train_add :  (232, 11)\n",
      "_2014_add :  (38, 10)\n",
      "condition :  (2034, 31)\n",
      "condition_add :  (270, 31)\n",
      "stadium :  (59, 3)\n"
     ]
    }
   ],
   "source": [
    "# 行数と列数の確認\n",
    "print(\"sample : \",sample.shape)\n",
    "print(\"train : \",train.shape)\n",
    "print(\"test : \",test.shape)\n",
    "print(\"train_add : \",train_add.shape)\n",
    "print(\"_2014_add : \",_2014_add.shape)\n",
    "print(\"condition : \",condition.shape)\n",
    "print(\"condition_add : \",condition_add.shape)\n",
    "print(\"stadium : \",stadium.shape)"
   ]
  },
  {
   "cell_type": "markdown",
   "id": "950bf85b",
   "metadata": {},
   "source": [
    "### データ情報を確認する"
   ]
  },
  {
   "cell_type": "code",
   "execution_count": 7,
   "id": "d9e562f8",
   "metadata": {
    "collapsed": true
   },
   "outputs": [
    {
     "name": "stdout",
     "output_type": "stream",
     "text": [
      "<class 'pandas.core.frame.DataFrame'>\n",
      "RangeIndex: 312 entries, 0 to 311\n",
      "Data columns (total 2 columns):\n",
      " #   Column         Non-Null Count  Dtype  \n",
      "---  ------         --------------  -----  \n",
      " 0   15822          312 non-null    int64  \n",
      " 1   10662.3951191  312 non-null    float64\n",
      "dtypes: float64(1), int64(1)\n",
      "memory usage: 5.0 KB\n",
      "None\n"
     ]
    }
   ],
   "source": [
    "# sample\n",
    "print(sample.info())"
   ]
  },
  {
   "cell_type": "code",
   "execution_count": 9,
   "id": "2ca147fa",
   "metadata": {
    "collapsed": true
   },
   "outputs": [
    {
     "name": "stdout",
     "output_type": "stream",
     "text": [
      "[train]\n",
      "<class 'pandas.core.frame.DataFrame'>\n",
      "RangeIndex: 1721 entries, 0 to 1720\n",
      "Data columns (total 11 columns):\n",
      " #   Column   Non-Null Count  Dtype \n",
      "---  ------   --------------  ----- \n",
      " 0   id       1721 non-null   int64 \n",
      " 1   y        1721 non-null   int64 \n",
      " 2   year     1721 non-null   int64 \n",
      " 3   stage    1721 non-null   object\n",
      " 4   match    1721 non-null   object\n",
      " 5   gameday  1721 non-null   object\n",
      " 6   time     1721 non-null   object\n",
      " 7   home     1721 non-null   object\n",
      " 8   away     1721 non-null   object\n",
      " 9   stadium  1721 non-null   object\n",
      " 10  tv       1721 non-null   object\n",
      "dtypes: int64(3), object(8)\n",
      "memory usage: 148.0+ KB\n",
      "None\n",
      "[train_add]\n",
      "<class 'pandas.core.frame.DataFrame'>\n",
      "RangeIndex: 232 entries, 0 to 231\n",
      "Data columns (total 11 columns):\n",
      " #   Column   Non-Null Count  Dtype \n",
      "---  ------   --------------  ----- \n",
      " 0   id       232 non-null    int64 \n",
      " 1   y        232 non-null    int64 \n",
      " 2   year     232 non-null    int64 \n",
      " 3   stage    232 non-null    object\n",
      " 4   match    232 non-null    object\n",
      " 5   gameday  232 non-null    object\n",
      " 6   time     232 non-null    object\n",
      " 7   home     232 non-null    object\n",
      " 8   away     232 non-null    object\n",
      " 9   stadium  232 non-null    object\n",
      " 10  tv       232 non-null    object\n",
      "dtypes: int64(3), object(8)\n",
      "memory usage: 20.1+ KB\n",
      "None\n"
     ]
    }
   ],
   "source": [
    "# trainとtrain_add\n",
    "print(\"[train]\")\n",
    "print(train.info())\n",
    "print(\"[train_add]\")\n",
    "print(train_add.info())"
   ]
  },
  {
   "cell_type": "code",
   "execution_count": 10,
   "id": "2d541665",
   "metadata": {
    "collapsed": true
   },
   "outputs": [
    {
     "name": "stdout",
     "output_type": "stream",
     "text": [
      "【test】\n",
      "<class 'pandas.core.frame.DataFrame'>\n",
      "RangeIndex: 313 entries, 0 to 312\n",
      "Data columns (total 10 columns):\n",
      " #   Column   Non-Null Count  Dtype \n",
      "---  ------   --------------  ----- \n",
      " 0   id       313 non-null    int64 \n",
      " 1   year     313 non-null    int64 \n",
      " 2   stage    313 non-null    object\n",
      " 3   match    313 non-null    object\n",
      " 4   gameday  313 non-null    object\n",
      " 5   time     313 non-null    object\n",
      " 6   home     313 non-null    object\n",
      " 7   away     313 non-null    object\n",
      " 8   stadium  313 non-null    object\n",
      " 9   tv       313 non-null    object\n",
      "dtypes: int64(2), object(8)\n",
      "memory usage: 24.6+ KB\n",
      "None\n",
      "【_2014_add】\n",
      "<class 'pandas.core.frame.DataFrame'>\n",
      "RangeIndex: 38 entries, 0 to 37\n",
      "Data columns (total 10 columns):\n",
      " #   Column   Non-Null Count  Dtype \n",
      "---  ------   --------------  ----- \n",
      " 0   id       38 non-null     int64 \n",
      " 1   year     38 non-null     int64 \n",
      " 2   stage    38 non-null     object\n",
      " 3   match    38 non-null     object\n",
      " 4   gameday  38 non-null     object\n",
      " 5   time     38 non-null     object\n",
      " 6   home     38 non-null     object\n",
      " 7   away     38 non-null     object\n",
      " 8   stadium  38 non-null     object\n",
      " 9   tv       38 non-null     object\n",
      "dtypes: int64(2), object(8)\n",
      "memory usage: 3.1+ KB\n",
      "None\n"
     ]
    }
   ],
   "source": [
    "# testと_2014_add\n",
    "print(\"【test】\")\n",
    "print(test.info())\n",
    "print(\"【_2014_add】\")\n",
    "print(_2014_add.info())"
   ]
  },
  {
   "cell_type": "code",
   "execution_count": 11,
   "id": "c610f5d8",
   "metadata": {
    "collapsed": true
   },
   "outputs": [
    {
     "name": "stdout",
     "output_type": "stream",
     "text": [
      "【condition】\n",
      "<class 'pandas.core.frame.DataFrame'>\n",
      "RangeIndex: 2034 entries, 0 to 2033\n",
      "Data columns (total 31 columns):\n",
      " #   Column       Non-Null Count  Dtype  \n",
      "---  ------       --------------  -----  \n",
      " 0   id           2034 non-null   int64  \n",
      " 1   home_score   2034 non-null   int64  \n",
      " 2   away_score   2034 non-null   int64  \n",
      " 3   weather      2034 non-null   object \n",
      " 4   temperature  2034 non-null   float64\n",
      " 5   humidity     2034 non-null   object \n",
      " 6   referee      2034 non-null   object \n",
      " 7   home_team    2034 non-null   object \n",
      " 8   home_01      2034 non-null   object \n",
      " 9   home_02      2034 non-null   object \n",
      " 10  home_03      2034 non-null   object \n",
      " 11  home_04      2034 non-null   object \n",
      " 12  home_05      2034 non-null   object \n",
      " 13  home_06      2034 non-null   object \n",
      " 14  home_07      2034 non-null   object \n",
      " 15  home_08      2034 non-null   object \n",
      " 16  home_09      2034 non-null   object \n",
      " 17  home_10      2034 non-null   object \n",
      " 18  home_11      2034 non-null   object \n",
      " 19  away_team    2034 non-null   object \n",
      " 20  away_01      2034 non-null   object \n",
      " 21  away_02      2034 non-null   object \n",
      " 22  away_03      2034 non-null   object \n",
      " 23  away_04      2034 non-null   object \n",
      " 24  away_05      2034 non-null   object \n",
      " 25  away_06      2034 non-null   object \n",
      " 26  away_07      2034 non-null   object \n",
      " 27  away_08      2034 non-null   object \n",
      " 28  away_09      2034 non-null   object \n",
      " 29  away_10      2034 non-null   object \n",
      " 30  away_11      2034 non-null   object \n",
      "dtypes: float64(1), int64(3), object(27)\n",
      "memory usage: 492.7+ KB\n",
      "None\n",
      "【condition_add】\n",
      "<class 'pandas.core.frame.DataFrame'>\n",
      "RangeIndex: 270 entries, 0 to 269\n",
      "Data columns (total 31 columns):\n",
      " #   Column       Non-Null Count  Dtype  \n",
      "---  ------       --------------  -----  \n",
      " 0   id           270 non-null    int64  \n",
      " 1   home_score   270 non-null    int64  \n",
      " 2   away_score   270 non-null    int64  \n",
      " 3   weather      270 non-null    object \n",
      " 4   temperature  270 non-null    float64\n",
      " 5   humidity     270 non-null    object \n",
      " 6   referee      270 non-null    object \n",
      " 7   home_team    270 non-null    object \n",
      " 8   home_01      270 non-null    object \n",
      " 9   home_02      270 non-null    object \n",
      " 10  home_03      270 non-null    object \n",
      " 11  home_04      270 non-null    object \n",
      " 12  home_05      270 non-null    object \n",
      " 13  home_06      270 non-null    object \n",
      " 14  home_07      270 non-null    object \n",
      " 15  home_08      270 non-null    object \n",
      " 16  home_09      270 non-null    object \n",
      " 17  home_10      270 non-null    object \n",
      " 18  home_11      270 non-null    object \n",
      " 19  away_team    270 non-null    object \n",
      " 20  away_01      270 non-null    object \n",
      " 21  away_02      270 non-null    object \n",
      " 22  away_03      270 non-null    object \n",
      " 23  away_04      270 non-null    object \n",
      " 24  away_05      270 non-null    object \n",
      " 25  away_06      270 non-null    object \n",
      " 26  away_07      270 non-null    object \n",
      " 27  away_08      270 non-null    object \n",
      " 28  away_09      270 non-null    object \n",
      " 29  away_10      270 non-null    object \n",
      " 30  away_11      270 non-null    object \n",
      "dtypes: float64(1), int64(3), object(27)\n",
      "memory usage: 65.5+ KB\n",
      "None\n"
     ]
    }
   ],
   "source": [
    "# conditionとcondition_add\n",
    "print(\"【condition】\")\n",
    "print(condition.info())\n",
    "print(\"【condition_add】\")\n",
    "print(condition_add.info())"
   ]
  },
  {
   "cell_type": "code",
   "execution_count": 12,
   "id": "e89e606b",
   "metadata": {
    "collapsed": true
   },
   "outputs": [
    {
     "name": "stdout",
     "output_type": "stream",
     "text": [
      "<class 'pandas.core.frame.DataFrame'>\n",
      "RangeIndex: 59 entries, 0 to 58\n",
      "Data columns (total 3 columns):\n",
      " #   Column   Non-Null Count  Dtype \n",
      "---  ------   --------------  ----- \n",
      " 0   name     59 non-null     object\n",
      " 1   address  59 non-null     object\n",
      " 2   capa     59 non-null     int64 \n",
      "dtypes: int64(1), object(2)\n",
      "memory usage: 1.5+ KB\n",
      "None\n"
     ]
    }
   ],
   "source": [
    "# stadium\n",
    "print(stadium.info())"
   ]
  },
  {
   "cell_type": "markdown",
   "id": "40ff62be",
   "metadata": {},
   "source": [
    "### データを結合する"
   ]
  },
  {
   "cell_type": "code",
   "execution_count": 22,
   "id": "6d7e48dc",
   "metadata": {
    "collapsed": true
   },
   "outputs": [
    {
     "name": "stdout",
     "output_type": "stream",
     "text": [
      "(1953, 11)\n",
      "<class 'pandas.core.frame.DataFrame'>\n",
      "Int64Index: 1953 entries, 0 to 231\n",
      "Data columns (total 11 columns):\n",
      " #   Column   Non-Null Count  Dtype \n",
      "---  ------   --------------  ----- \n",
      " 0   id       1953 non-null   int64 \n",
      " 1   y        1953 non-null   int64 \n",
      " 2   year     1953 non-null   int64 \n",
      " 3   stage    1953 non-null   object\n",
      " 4   match    1953 non-null   object\n",
      " 5   gameday  1953 non-null   object\n",
      " 6   time     1953 non-null   object\n",
      " 7   home     1953 non-null   object\n",
      " 8   away     1953 non-null   object\n",
      " 9   stadium  1953 non-null   object\n",
      " 10  tv       1953 non-null   object\n",
      "dtypes: int64(3), object(8)\n",
      "memory usage: 183.1+ KB\n",
      "None\n"
     ]
    }
   ],
   "source": [
    "# trainとtrain_add => train_new\n",
    "train_new = pd.concat([train,train_add])\n",
    "\n",
    "# 確認\n",
    "print(train_new.shape)\n",
    "print(train_new.info())"
   ]
  },
  {
   "cell_type": "code",
   "execution_count": 23,
   "id": "e439e416",
   "metadata": {
    "collapsed": true
   },
   "outputs": [
    {
     "name": "stdout",
     "output_type": "stream",
     "text": [
      "(351, 10)\n",
      "<class 'pandas.core.frame.DataFrame'>\n",
      "Int64Index: 351 entries, 0 to 37\n",
      "Data columns (total 10 columns):\n",
      " #   Column   Non-Null Count  Dtype \n",
      "---  ------   --------------  ----- \n",
      " 0   id       351 non-null    int64 \n",
      " 1   year     351 non-null    int64 \n",
      " 2   stage    351 non-null    object\n",
      " 3   match    351 non-null    object\n",
      " 4   gameday  351 non-null    object\n",
      " 5   time     351 non-null    object\n",
      " 6   home     351 non-null    object\n",
      " 7   away     351 non-null    object\n",
      " 8   stadium  351 non-null    object\n",
      " 9   tv       351 non-null    object\n",
      "dtypes: int64(2), object(8)\n",
      "memory usage: 30.2+ KB\n",
      "None\n"
     ]
    }
   ],
   "source": [
    "# testと_2014_add => test_new\n",
    "\n",
    "test_new = pd.concat([test,_2014_add])\n",
    "\n",
    "# 確認\n",
    "print(test_new.shape)\n",
    "print(test_new.info())"
   ]
  },
  {
   "cell_type": "code",
   "execution_count": 24,
   "id": "43a16d48",
   "metadata": {
    "collapsed": true
   },
   "outputs": [
    {
     "name": "stdout",
     "output_type": "stream",
     "text": [
      "(2304, 31)\n",
      "<class 'pandas.core.frame.DataFrame'>\n",
      "Int64Index: 2304 entries, 0 to 269\n",
      "Data columns (total 31 columns):\n",
      " #   Column       Non-Null Count  Dtype  \n",
      "---  ------       --------------  -----  \n",
      " 0   id           2304 non-null   int64  \n",
      " 1   home_score   2304 non-null   int64  \n",
      " 2   away_score   2304 non-null   int64  \n",
      " 3   weather      2304 non-null   object \n",
      " 4   temperature  2304 non-null   float64\n",
      " 5   humidity     2304 non-null   object \n",
      " 6   referee      2304 non-null   object \n",
      " 7   home_team    2304 non-null   object \n",
      " 8   home_01      2304 non-null   object \n",
      " 9   home_02      2304 non-null   object \n",
      " 10  home_03      2304 non-null   object \n",
      " 11  home_04      2304 non-null   object \n",
      " 12  home_05      2304 non-null   object \n",
      " 13  home_06      2304 non-null   object \n",
      " 14  home_07      2304 non-null   object \n",
      " 15  home_08      2304 non-null   object \n",
      " 16  home_09      2304 non-null   object \n",
      " 17  home_10      2304 non-null   object \n",
      " 18  home_11      2304 non-null   object \n",
      " 19  away_team    2304 non-null   object \n",
      " 20  away_01      2304 non-null   object \n",
      " 21  away_02      2304 non-null   object \n",
      " 22  away_03      2304 non-null   object \n",
      " 23  away_04      2304 non-null   object \n",
      " 24  away_05      2304 non-null   object \n",
      " 25  away_06      2304 non-null   object \n",
      " 26  away_07      2304 non-null   object \n",
      " 27  away_08      2304 non-null   object \n",
      " 28  away_09      2304 non-null   object \n",
      " 29  away_10      2304 non-null   object \n",
      " 30  away_11      2304 non-null   object \n",
      "dtypes: float64(1), int64(3), object(27)\n",
      "memory usage: 576.0+ KB\n",
      "None\n"
     ]
    }
   ],
   "source": [
    "# conditionとcondition_add => condition_new\n",
    "\n",
    "condition_new = pd.concat([condition,condition_add])\n",
    "\n",
    "# 確認\n",
    "print(condition_new.shape)\n",
    "print(condition_new.info())"
   ]
  },
  {
   "cell_type": "code",
   "execution_count": 25,
   "id": "956a5f48",
   "metadata": {
    "collapsed": true
   },
   "outputs": [
    {
     "name": "stdout",
     "output_type": "stream",
     "text": [
      "      id      y  year stage   match   gameday   time       home      away  \\\n",
      "0  13994  18250  2012    Ｊ１  第１節第１日  03/10(土)  14:04     ベガルタ仙台  鹿島アントラーズ   \n",
      "1  13995  24316  2012    Ｊ１  第１節第１日  03/10(土)  14:04   名古屋グランパス   清水エスパルス   \n",
      "2  13996  17066  2012    Ｊ１  第１節第１日  03/10(土)  14:04      ガンバ大阪   ヴィッセル神戸   \n",
      "3  13997  29603  2012    Ｊ１  第１節第１日  03/10(土)  14:06  サンフレッチェ広島     浦和レッズ   \n",
      "4  13998  25353  2012    Ｊ１  第１節第１日  03/10(土)  14:04   コンサドーレ札幌    ジュビロ磐田   \n",
      "\n",
      "        stadium  ... away_02   away_03        away_04 away_05  away_06  \\\n",
      "0  ユアテックスタジアム仙台  ...   新井場　徹     岩政　大樹          中田　浩二   アレックス     青木　剛   \n",
      "1       豊田スタジアム  ...    吉田　豊     岩下　敬輔  カルフィン　ヨン　ア　ピン    李　記帝    村松　大輔   \n",
      "2       万博記念競技場  ...   近藤　岳登    北本　久仁衛         伊野波　雅彦   相馬　崇人    三原　雅俊   \n",
      "3  エディオンスタジアム広島  ...   濱田　水輝     阿部　勇樹          槙野　智章   平川　忠亮    鈴木　啓太   \n",
      "4         札幌ドーム  ...   駒野　友一  チョ　ビョングク          藤田　義明   山本　脩斗    小林　裕紀   \n",
      "\n",
      "  away_07 away_08 away_09 away_10 away_11  \n",
      "0   増田　誓志  小笠原　満男   本山　雅志   大迫　勇也  ジュニーニョ  \n",
      "1   河井　陽介   枝村　匠馬   高木　俊幸   アレックス   大前　元紀  \n",
      "2   田中　英雄   野沢　拓也   橋本　英郎   森岡　亮太  大久保　嘉人  \n",
      "3   山田　直輝    梅崎　司   柏木　陽介   原口　元気   田中　達也  \n",
      "4   山本　康裕   山田　大記   松浦　拓弥    菅沼　実   前田　遼一  \n",
      "\n",
      "[5 rows x 41 columns]\n"
     ]
    }
   ],
   "source": [
    "# train_newとcondition_new => train_tmp\n",
    "train_tmp = pd.merge(train_new,condition_new,on='id',how='left')\n",
    "\n",
    "# 確認\n",
    "#print(train_tmp.shape)\n",
    "#print(train_tmp.info())\n",
    "print(train_tmp.head())"
   ]
  },
  {
   "cell_type": "code",
   "execution_count": 26,
   "id": "f269ad35",
   "metadata": {
    "collapsed": true
   },
   "outputs": [
    {
     "name": "stdout",
     "output_type": "stream",
     "text": [
      "(1953, 44)\n",
      "<class 'pandas.core.frame.DataFrame'>\n",
      "Int64Index: 1953 entries, 0 to 1952\n",
      "Data columns (total 44 columns):\n",
      " #   Column       Non-Null Count  Dtype  \n",
      "---  ------       --------------  -----  \n",
      " 0   id           1953 non-null   int64  \n",
      " 1   y            1953 non-null   int64  \n",
      " 2   year         1953 non-null   int64  \n",
      " 3   stage        1953 non-null   object \n",
      " 4   match        1953 non-null   object \n",
      " 5   gameday      1953 non-null   object \n",
      " 6   time         1953 non-null   object \n",
      " 7   home         1953 non-null   object \n",
      " 8   away         1953 non-null   object \n",
      " 9   stadium      1953 non-null   object \n",
      " 10  tv           1953 non-null   object \n",
      " 11  home_score   1953 non-null   int64  \n",
      " 12  away_score   1953 non-null   int64  \n",
      " 13  weather      1953 non-null   object \n",
      " 14  temperature  1953 non-null   float64\n",
      " 15  humidity     1953 non-null   object \n",
      " 16  referee      1953 non-null   object \n",
      " 17  home_team    1953 non-null   object \n",
      " 18  home_01      1953 non-null   object \n",
      " 19  home_02      1953 non-null   object \n",
      " 20  home_03      1953 non-null   object \n",
      " 21  home_04      1953 non-null   object \n",
      " 22  home_05      1953 non-null   object \n",
      " 23  home_06      1953 non-null   object \n",
      " 24  home_07      1953 non-null   object \n",
      " 25  home_08      1953 non-null   object \n",
      " 26  home_09      1953 non-null   object \n",
      " 27  home_10      1953 non-null   object \n",
      " 28  home_11      1953 non-null   object \n",
      " 29  away_team    1953 non-null   object \n",
      " 30  away_01      1953 non-null   object \n",
      " 31  away_02      1953 non-null   object \n",
      " 32  away_03      1953 non-null   object \n",
      " 33  away_04      1953 non-null   object \n",
      " 34  away_05      1953 non-null   object \n",
      " 35  away_06      1953 non-null   object \n",
      " 36  away_07      1953 non-null   object \n",
      " 37  away_08      1953 non-null   object \n",
      " 38  away_09      1953 non-null   object \n",
      " 39  away_10      1953 non-null   object \n",
      " 40  away_11      1953 non-null   object \n",
      " 41  name         1953 non-null   object \n",
      " 42  address      1953 non-null   object \n",
      " 43  capa         1953 non-null   int64  \n",
      "dtypes: float64(1), int64(6), object(37)\n",
      "memory usage: 686.6+ KB\n",
      "None\n",
      "(1953, 43)\n",
      "<class 'pandas.core.frame.DataFrame'>\n",
      "Int64Index: 1953 entries, 0 to 1952\n",
      "Data columns (total 43 columns):\n",
      " #   Column       Non-Null Count  Dtype  \n",
      "---  ------       --------------  -----  \n",
      " 0   id           1953 non-null   int64  \n",
      " 1   y            1953 non-null   int64  \n",
      " 2   year         1953 non-null   int64  \n",
      " 3   stage        1953 non-null   object \n",
      " 4   match        1953 non-null   object \n",
      " 5   gameday      1953 non-null   object \n",
      " 6   time         1953 non-null   object \n",
      " 7   home         1953 non-null   object \n",
      " 8   away         1953 non-null   object \n",
      " 9   stadium      1953 non-null   object \n",
      " 10  tv           1953 non-null   object \n",
      " 11  home_score   1953 non-null   int64  \n",
      " 12  away_score   1953 non-null   int64  \n",
      " 13  weather      1953 non-null   object \n",
      " 14  temperature  1953 non-null   float64\n",
      " 15  humidity     1953 non-null   object \n",
      " 16  referee      1953 non-null   object \n",
      " 17  home_team    1953 non-null   object \n",
      " 18  home_01      1953 non-null   object \n",
      " 19  home_02      1953 non-null   object \n",
      " 20  home_03      1953 non-null   object \n",
      " 21  home_04      1953 non-null   object \n",
      " 22  home_05      1953 non-null   object \n",
      " 23  home_06      1953 non-null   object \n",
      " 24  home_07      1953 non-null   object \n",
      " 25  home_08      1953 non-null   object \n",
      " 26  home_09      1953 non-null   object \n",
      " 27  home_10      1953 non-null   object \n",
      " 28  home_11      1953 non-null   object \n",
      " 29  away_team    1953 non-null   object \n",
      " 30  away_01      1953 non-null   object \n",
      " 31  away_02      1953 non-null   object \n",
      " 32  away_03      1953 non-null   object \n",
      " 33  away_04      1953 non-null   object \n",
      " 34  away_05      1953 non-null   object \n",
      " 35  away_06      1953 non-null   object \n",
      " 36  away_07      1953 non-null   object \n",
      " 37  away_08      1953 non-null   object \n",
      " 38  away_09      1953 non-null   object \n",
      " 39  away_10      1953 non-null   object \n",
      " 40  away_11      1953 non-null   object \n",
      " 41  address      1953 non-null   object \n",
      " 42  capa         1953 non-null   int64  \n",
      "dtypes: float64(1), int64(6), object(36)\n",
      "memory usage: 671.3+ KB\n",
      "None\n"
     ]
    }
   ],
   "source": [
    "# train_tmpとstadium => train_tmp\n",
    "\n",
    "train_tmp = pd.merge(train_tmp,stadium,left_on='stadium',right_on='name',how='left')\n",
    "\n",
    "# 確認\n",
    "print(train_tmp.shape)\n",
    "print(train_tmp.info())\n",
    "\n",
    "# 重複しているカラムを削除\n",
    "train_tmp = train_tmp.drop(columns=['name'])\n",
    "\n",
    "# 確認\n",
    "print(train_tmp.shape)\n",
    "print(train_tmp.info())\n"
   ]
  },
  {
   "cell_type": "code",
   "execution_count": 7,
   "id": "3b1c5b18",
   "metadata": {},
   "outputs": [
    {
     "name": "stdout",
     "output_type": "stream",
     "text": [
      "0    第１節第１日\n",
      "1    第１節第１日\n",
      "2    第１節第１日\n",
      "3    第１節第１日\n",
      "4    第１節第１日\n",
      "Name: match, dtype: object\n",
      "0    03/10(土)\n",
      "1    03/10(土)\n",
      "2    03/10(土)\n",
      "3    03/10(土)\n",
      "4    03/10(土)\n",
      "Name: gameday, dtype: object\n",
      "0    66%\n",
      "1    43%\n",
      "2    41%\n",
      "3    52%\n",
      "4    32%\n",
      "Name: humidity, dtype: object\n",
      "0                   スカパー／ｅ２／スカパー光／ＮＨＫ総合\n",
      "1      スカパー／ｅ２／スカパー光（Ｊ　ＳＰＯＲＴＳ　４）／ＮＨＫ名古屋\n",
      "2       スカパー／ｅ２／スカパー光（Ｊ　ＳＰＯＲＴＳ　１）／ＮＨＫ大阪\n",
      "3                   スカパー／ｅ２／スカパー光／ＮＨＫ広島\n",
      "4    スカパー／ｅ２／スカパー光（スカイ・Ａ　ｓｐｏｒｔｓ＋）／ＮＨＫ札幌\n",
      "Name: tv, dtype: object\n"
     ]
    }
   ],
   "source": [
    "# train_tmpの先頭５行を表示する\n",
    "print(train_tmp.head())\n",
    "print(train_tmp['match'].head())\n",
    "print(train_tmp['gameday'].head())\n",
    "print(train_tmp['humidity'].head())\n",
    "print(train_tmp['tv'].head())"
   ]
  },
  {
   "cell_type": "code",
   "execution_count": 8,
   "id": "ce38df7f",
   "metadata": {},
   "outputs": [
    {
     "name": "stdout",
     "output_type": "stream",
     "text": [
      "[ 3  4  5  6  7  8  9 10 11 12]\n"
     ]
    }
   ],
   "source": [
    "# gamedayから月を抜き出してmonthカラムに設定する\n",
    "def get_month(x):\n",
    "    return int(x[0:2])\n",
    "train_tmp['month'] = train_tmp['gameday'].apply(get_month)\n",
    "\n",
    "# monthの設定値を確認する\n",
    "print(train_tmp['month'].unique())"
   ]
  },
  {
   "cell_type": "code",
   "execution_count": 9,
   "id": "5046534c",
   "metadata": {},
   "outputs": [
    {
     "name": "stdout",
     "output_type": "stream",
     "text": [
      "['土' '日' '木' '水' '金' '火' '月']\n"
     ]
    }
   ],
   "source": [
    "# gamedayから曜日を抜き出してweekカラムに設定する\n",
    "def get_week(x):\n",
    "    return x[6:7]\n",
    "\n",
    "train_tmp['week'] = train_tmp['gameday'].apply(get_week)\n",
    "\n",
    "# weekの設定値を確認する\n",
    "print(train_tmp['week'].unique())"
   ]
  },
  {
   "cell_type": "code",
   "execution_count": 11,
   "id": "4b287c43",
   "metadata": {},
   "outputs": [
    {
     "name": "stdout",
     "output_type": "stream",
     "text": [
      "[ 1  2  3  4  5  6  7  8  9 10 11 12 13 14 15 16 17 18 19 20 21 22 23 24\n",
      " 25 26 27 28 29 30 31 32 33 34 35 36 37 38 39 40 41 42]\n"
     ]
    }
   ],
   "source": [
    "# matchから節数を抜き出してmatch_numカラムに設定する\n",
    "def get_match(x):\n",
    "    pos_s = 0\n",
    "    pos_e = 0\n",
    "    pos_s = x.find(\"第\")\n",
    "    pos_e = x.find(\"節\")\n",
    "    if pos_s != -1 and pos_e != -1:\n",
    "        pos_s += 1\n",
    "        return int(x[pos_s:pos_e])\n",
    "    else:\n",
    "        return 0\n",
    "\n",
    "train_tmp['match_num'] = train_tmp['match'].apply(get_match)\n",
    "\n",
    "# match_numの設定値を確認する\n",
    "print(train_tmp['match_num'].unique())"
   ]
  },
  {
   "cell_type": "code",
   "execution_count": 12,
   "id": "96aaa019",
   "metadata": {},
   "outputs": [
    {
     "name": "stdout",
     "output_type": "stream",
     "text": [
      "[0.66 0.43 0.41 0.52 0.32]\n"
     ]
    }
   ],
   "source": [
    "# humidityの\"%\"を削除して小数に変換する\n",
    "def get_humidity(x):\n",
    "    return float(x.rstrip('%')) / 100\n",
    "\n",
    "train_tmp['humidity'] = train_tmp['humidity'].apply(get_humidity)\n",
    "\n",
    "# humidityの設定値を確認する\n",
    "print(train_tmp['humidity'].head().unique())"
   ]
  },
  {
   "cell_type": "code",
   "execution_count": 13,
   "id": "ec112d5d",
   "metadata": {},
   "outputs": [
    {
     "name": "stdout",
     "output_type": "stream",
     "text": [
      "      id      y  year stage   match   gameday   time       home      away  \\\n",
      "0  13994  18250  2012    Ｊ１  第１節第１日  03/10(土)  14:04     ベガルタ仙台  鹿島アントラーズ   \n",
      "1  13995  24316  2012    Ｊ１  第１節第１日  03/10(土)  14:04   名古屋グランパス   清水エスパルス   \n",
      "2  13996  17066  2012    Ｊ１  第１節第１日  03/10(土)  14:04      ガンバ大阪   ヴィッセル神戸   \n",
      "3  13997  29603  2012    Ｊ１  第１節第１日  03/10(土)  14:06  サンフレッチェ広島     浦和レッズ   \n",
      "4  13998  25353  2012    Ｊ１  第１節第１日  03/10(土)  14:04   コンサドーレ札幌    ジュビロ磐田   \n",
      "\n",
      "        stadium  ... away_07  away_08  away_09 away_10  away_11  \\\n",
      "0  ユアテックスタジアム仙台  ...   増田　誓志   小笠原　満男    本山　雅志   大迫　勇也   ジュニーニョ   \n",
      "1       豊田スタジアム  ...   河井　陽介    枝村　匠馬    高木　俊幸   アレックス    大前　元紀   \n",
      "2       万博記念競技場  ...   田中　英雄    野沢　拓也    橋本　英郎   森岡　亮太   大久保　嘉人   \n",
      "3  エディオンスタジアム広島  ...   山田　直輝     梅崎　司    柏木　陽介   原口　元気    田中　達也   \n",
      "4         札幌ドーム  ...   山本　康裕    山田　大記    松浦　拓弥    菅沼　実    前田　遼一   \n",
      "\n",
      "              address   capa month week match_num  \n",
      "0     宮城県仙台市泉区七北田字柳78  19694     3    土         1  \n",
      "1        愛知県豊田市千石町7-2  40000     3    土         1  \n",
      "2     大阪府吹田市千里万博公園5-2  21000     3    土         1  \n",
      "3  広島県広島市安佐南区大塚西5-1-1  50000     3    土         1  \n",
      "4       北海道札幌市豊平区羊ヶ丘1  39232     3    土         1  \n",
      "\n",
      "[5 rows x 46 columns]\n",
      "<class 'pandas.core.frame.DataFrame'>\n",
      "RangeIndex: 1953 entries, 0 to 1952\n",
      "Data columns (total 46 columns):\n",
      " #   Column       Non-Null Count  Dtype  \n",
      "---  ------       --------------  -----  \n",
      " 0   id           1953 non-null   int64  \n",
      " 1   y            1953 non-null   int64  \n",
      " 2   year         1953 non-null   int64  \n",
      " 3   stage        1953 non-null   object \n",
      " 4   match        1953 non-null   object \n",
      " 5   gameday      1953 non-null   object \n",
      " 6   time         1953 non-null   object \n",
      " 7   home         1953 non-null   object \n",
      " 8   away         1953 non-null   object \n",
      " 9   stadium      1953 non-null   object \n",
      " 10  tv           1953 non-null   object \n",
      " 11  home_score   1953 non-null   int64  \n",
      " 12  away_score   1953 non-null   int64  \n",
      " 13  weather      1953 non-null   object \n",
      " 14  temperature  1953 non-null   float64\n",
      " 15  humidity     1953 non-null   float64\n",
      " 16  referee      1953 non-null   object \n",
      " 17  home_team    1953 non-null   object \n",
      " 18  home_01      1953 non-null   object \n",
      " 19  home_02      1953 non-null   object \n",
      " 20  home_03      1953 non-null   object \n",
      " 21  home_04      1953 non-null   object \n",
      " 22  home_05      1953 non-null   object \n",
      " 23  home_06      1953 non-null   object \n",
      " 24  home_07      1953 non-null   object \n",
      " 25  home_08      1953 non-null   object \n",
      " 26  home_09      1953 non-null   object \n",
      " 27  home_10      1953 non-null   object \n",
      " 28  home_11      1953 non-null   object \n",
      " 29  away_team    1953 non-null   object \n",
      " 30  away_01      1953 non-null   object \n",
      " 31  away_02      1953 non-null   object \n",
      " 32  away_03      1953 non-null   object \n",
      " 33  away_04      1953 non-null   object \n",
      " 34  away_05      1953 non-null   object \n",
      " 35  away_06      1953 non-null   object \n",
      " 36  away_07      1953 non-null   object \n",
      " 37  away_08      1953 non-null   object \n",
      " 38  away_09      1953 non-null   object \n",
      " 39  away_10      1953 non-null   object \n",
      " 40  away_11      1953 non-null   object \n",
      " 41  address      1953 non-null   object \n",
      " 42  capa         1953 non-null   int64  \n",
      " 43  month        1953 non-null   int64  \n",
      " 44  week         1953 non-null   object \n",
      " 45  match_num    1953 non-null   int64  \n",
      "dtypes: float64(2), int64(8), object(36)\n",
      "memory usage: 702.0+ KB\n",
      "None\n"
     ]
    }
   ],
   "source": [
    "# train_tmpを確認する\n",
    "print(train_tmp.head())\n",
    "print(train_tmp.info())"
   ]
  },
  {
   "cell_type": "markdown",
   "id": "b82ab1f4",
   "metadata": {},
   "source": [
    "### 作成したデータをCSVに保存する"
   ]
  },
  {
   "cell_type": "code",
   "execution_count": 14,
   "id": "7eb59abd",
   "metadata": {},
   "outputs": [],
   "source": [
    "# train_tmp、test_new、condition_newをCSVに出力する\n",
    "train_tmp.to_csv('train_tmp.csv',index=None)\n",
    "test_new.to_csv('test_new.csv',index=None)\n",
    "condition_new.to_csv('condition_new.csv',index=None)"
   ]
  },
  {
   "cell_type": "markdown",
   "id": "a3272bf2",
   "metadata": {},
   "source": [
    "### 保存したCSVファイルを読み込む"
   ]
  },
  {
   "cell_type": "code",
   "execution_count": 15,
   "id": "0023cc48",
   "metadata": {},
   "outputs": [
    {
     "name": "stdout",
     "output_type": "stream",
     "text": [
      "(1953, 46)\n",
      "(351, 10)\n",
      "(2304, 31)\n",
      "(312, 2)\n",
      "(59, 3)\n"
     ]
    }
   ],
   "source": [
    "# train_tmp.csv、teat_new.csv、condition_new.csvを読み込む\n",
    "train_tmp = pd.read_csv('train_tmp.csv')\n",
    "test_new = pd.read_csv('test_new.csv')\n",
    "condition_new = pd.read_csv('condition_new.csv')\n",
    "\n",
    "# 既存CSVファイルを再読み込み\n",
    "sample = pd.read_csv('sample_submit.csv')\n",
    "stadium = pd.read_csv('stadium.csv')\n",
    "\n",
    "# 確認\n",
    "print(train_tmp.shape)\n",
    "print(test_new.shape)\n",
    "print(condition_new.shape)\n",
    "print(sample.shape)\n",
    "print(stadium.shape)"
   ]
  },
  {
   "cell_type": "markdown",
   "id": "50b90692",
   "metadata": {},
   "source": [
    "### 欠損値の確認"
   ]
  },
  {
   "cell_type": "code",
   "execution_count": 16,
   "id": "227f9916",
   "metadata": {
    "collapsed": true
   },
   "outputs": [
    {
     "name": "stdout",
     "output_type": "stream",
     "text": [
      "id             0\n",
      "y              0\n",
      "year           0\n",
      "stage          0\n",
      "match          0\n",
      "gameday        0\n",
      "time           0\n",
      "home           0\n",
      "away           0\n",
      "stadium        0\n",
      "tv             0\n",
      "home_score     0\n",
      "away_score     0\n",
      "weather        0\n",
      "temperature    0\n",
      "humidity       0\n",
      "referee        0\n",
      "home_team      0\n",
      "home_01        0\n",
      "home_02        0\n",
      "home_03        0\n",
      "home_04        0\n",
      "home_05        0\n",
      "home_06        0\n",
      "home_07        0\n",
      "home_08        0\n",
      "home_09        0\n",
      "home_10        0\n",
      "home_11        0\n",
      "away_team      0\n",
      "away_01        0\n",
      "away_02        0\n",
      "away_03        0\n",
      "away_04        0\n",
      "away_05        0\n",
      "away_06        0\n",
      "away_07        0\n",
      "away_08        0\n",
      "away_09        0\n",
      "away_10        0\n",
      "away_11        0\n",
      "address        0\n",
      "capa           0\n",
      "month          0\n",
      "week           0\n",
      "match_num      0\n",
      "dtype: int64\n",
      "id         0\n",
      "year       0\n",
      "stage      0\n",
      "match      0\n",
      "gameday    0\n",
      "time       0\n",
      "home       0\n",
      "away       0\n",
      "stadium    0\n",
      "tv         0\n",
      "dtype: int64\n",
      "id             0\n",
      "home_score     0\n",
      "away_score     0\n",
      "weather        0\n",
      "temperature    0\n",
      "humidity       0\n",
      "referee        0\n",
      "home_team      0\n",
      "home_01        0\n",
      "home_02        0\n",
      "home_03        0\n",
      "home_04        0\n",
      "home_05        0\n",
      "home_06        0\n",
      "home_07        0\n",
      "home_08        0\n",
      "home_09        0\n",
      "home_10        0\n",
      "home_11        0\n",
      "away_team      0\n",
      "away_01        0\n",
      "away_02        0\n",
      "away_03        0\n",
      "away_04        0\n",
      "away_05        0\n",
      "away_06        0\n",
      "away_07        0\n",
      "away_08        0\n",
      "away_09        0\n",
      "away_10        0\n",
      "away_11        0\n",
      "dtype: int64\n",
      "15822            0\n",
      "10662.3951191    0\n",
      "dtype: int64\n",
      "name       0\n",
      "address    0\n",
      "capa       0\n",
      "dtype: int64\n"
     ]
    }
   ],
   "source": [
    "print(train_tmp.isnull().sum())\n",
    "print(test_new.isnull().sum())\n",
    "print(condition_new.isnull().sum())\n",
    "print(sample.isnull().sum())\n",
    "print(stadium.isnull().sum())\n"
   ]
  },
  {
   "cell_type": "code",
   "execution_count": null,
   "id": "04009934",
   "metadata": {},
   "outputs": [],
   "source": []
  }
 ],
 "metadata": {
  "kernelspec": {
   "display_name": "Python 3 (ipykernel)",
   "language": "python",
   "name": "python3"
  },
  "language_info": {
   "codemirror_mode": {
    "name": "ipython",
    "version": 3
   },
   "file_extension": ".py",
   "mimetype": "text/x-python",
   "name": "python",
   "nbconvert_exporter": "python",
   "pygments_lexer": "ipython3",
   "version": "3.9.7"
  }
 },
 "nbformat": 4,
 "nbformat_minor": 5
}

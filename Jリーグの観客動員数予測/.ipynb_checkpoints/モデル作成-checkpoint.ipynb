{
 "cells": [
  {
   "cell_type": "markdown",
   "id": "4a77b6ce",
   "metadata": {},
   "source": [
    "### ライブラリをインポート"
   ]
  },
  {
   "cell_type": "code",
   "execution_count": 2,
   "id": "d075f70e",
   "metadata": {},
   "outputs": [],
   "source": [
    "import numpy as np\n",
    "import pandas as pd\n",
    "from matplotlib import pyplot as plt\n",
    "import japanize_matplotlib"
   ]
  },
  {
   "cell_type": "markdown",
   "id": "2c921207",
   "metadata": {},
   "source": [
    "### CSVファイルを読み込む"
   ]
  },
  {
   "cell_type": "code",
   "execution_count": 4,
   "id": "fc30baa4",
   "metadata": {},
   "outputs": [],
   "source": [
    "# train_tmp,train_dummy,train_dummy_1,train_dummy_2をCSVから読み込む。\n",
    "train_tmp = pd.read_csv('train_tmp.csv')\n",
    "train_dummy = pd.read_csv('train_dummy.csv')\n",
    "train_dummy_1 = pd.read_csv('train_dummy_1.csv')\n",
    "train_dummy_2 = pd.read_csv('train_dummy_2.csv')"
   ]
  },
  {
   "cell_type": "code",
   "execution_count": 5,
   "id": "3dc974b8",
   "metadata": {},
   "outputs": [
    {
     "name": "stdout",
     "output_type": "stream",
     "text": [
      "(1952, 48)\n",
      "(1952, 125)\n",
      "(1798, 125)\n",
      "(154, 125)\n"
     ]
    }
   ],
   "source": [
    "#データの確認\n",
    "print(train_tmp.shape)\n",
    "print(train_dummy.shape)\n",
    "print(train_dummy_1.shape)\n",
    "print(train_dummy_2.shape)"
   ]
  },
  {
   "cell_type": "code",
   "execution_count": null,
   "id": "b4a9a189",
   "metadata": {},
   "outputs": [],
   "source": []
  }
 ],
 "metadata": {
  "kernelspec": {
   "display_name": "Python 3 (ipykernel)",
   "language": "python",
   "name": "python3"
  },
  "language_info": {
   "codemirror_mode": {
    "name": "ipython",
    "version": 3
   },
   "file_extension": ".py",
   "mimetype": "text/x-python",
   "name": "python",
   "nbconvert_exporter": "python",
   "pygments_lexer": "ipython3",
   "version": "3.9.7"
  }
 },
 "nbformat": 4,
 "nbformat_minor": 5
}
